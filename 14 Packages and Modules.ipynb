{
 "cells": [
  {
   "cell_type": "markdown",
   "id": "73889aa2-8621-4afa-8c37-14b0da6b690c",
   "metadata": {},
   "source": [
    "# PACKAGES and MODULES\n",
    "\n",
    "**Fundamentals of Modules**\n",
    "\n",
    "Scripts and modules have essentially identical structures in terms of creation and are the files with a .py extension, containing some Python codes, statements, operations, and functions. the difference between them depends on how and for what purpose you use this file with .py extension.\n",
    "\n",
    "what is Script?\n",
    "\n",
    "The file you created consisting of codes, definitions and a list of operations that can be read, edited and interpreted in the future is known as script.\n",
    "\n",
    "what is module?\n",
    "\n",
    "As your program gets longer, you may want to split it into several files for easier maintenance. You may also want to use a handy function that you’ve written in several programs without copying its definition into each program. To support this, Python has a way to put definitions in a file and use them in a script or in an interactive instance of the interpreter. Such a file is called a module. \n",
    "\n",
    "If you open and use this file (with a .py extension) directly, that is script, and\n",
    "If you load (import) this file (with a .py extension) and call any function from it, that's a module this time.\n",
    "\n",
    "**How to Load a Module?**\n",
    "\n",
    "For loading a module, we use keyword import and the name of the module. \n",
    "\n",
    "Syntax: import module_name\n",
    "\n"
   ]
  },
  {
   "cell_type": "code",
   "execution_count": 3,
   "id": "624a0aff-2096-4426-8c8d-36d29e3de298",
   "metadata": {},
   "outputs": [],
   "source": [
    "# For instance, suppose we have a module called my_module. Let's take a look at how we load it :\n",
    "\n",
    "# import my_module  # we've loaded my_module\n",
    "\n",
    "# my_module.my_function()  # we've called a function defined in my_module\n",
    "\n",
    "# print(my_module.my_variable)  # we've accessed a variable defined in my_module"
   ]
  },
  {
   "cell_type": "code",
   "execution_count": 4,
   "id": "60556ca3-8104-4c69-ae42-5fcec539d45f",
   "metadata": {},
   "outputs": [
    {
     "data": {
      "text/plain": [
       "'Modules can be imported using the import keyword. You can import modules in three ways. Example: \\nimport array           # importing using the original module name\\nimport array as arr    # importing using an alias name\\nfrom array import *    # imports everything present in the array module\\n'"
      ]
     },
     "execution_count": 4,
     "metadata": {},
     "output_type": "execute_result"
    }
   ],
   "source": [
    "\"\"\"Modules can be imported using the import keyword. You can import modules in three ways. Example: \n",
    "import array           # importing using the original module name\n",
    "import array as arr    # importing using an alias name\n",
    "from array import *    # imports everything present in the array module\n",
    "\"\"\""
   ]
  },
  {
   "cell_type": "code",
   "execution_count": null,
   "id": "17b5603d-4f8d-45a5-b268-741a8a11171b",
   "metadata": {},
   "outputs": [],
   "source": [
    "# When loading a module you can also use an abbreviated nickname for modules by using a keyword as.\n",
    "import my_module as mym # loads my_module, we give a nickname to it\n",
    "\n",
    "mym.my_function()  # we can use it the same way\n",
    "\n",
    "print(mym.my_variable) "
   ]
  },
  {
   "cell_type": "code",
   "execution_count": null,
   "id": "dab485d8-0df9-4efd-94fd-39387a598c10",
   "metadata": {},
   "outputs": [],
   "source": [
    "# Importing a function or variable defined in a module is a very common and useful method. \n",
    "# We use the keyword from to use this option.\n",
    "\n",
    "from my_module import my_function  # we've loaded only my_function from my_module\n",
    "\n",
    "my_function()  # my_function can be used directly now at the current module"
   ]
  },
  {
   "cell_type": "code",
   "execution_count": null,
   "id": "1161e042-c227-4882-a9c7-cf295dc69ff2",
   "metadata": {},
   "outputs": [],
   "source": [
    "# You can also use keyword as here the same way as well. \n",
    "\n",
    "from my_module import my_function as mfnc # we've imported my_function named mfnc\n",
    "\n",
    "mfnc()  # we use the my_function's alias directly"
   ]
  },
  {
   "cell_type": "code",
   "execution_count": null,
   "id": "a4540a1e-d84b-4e52-887f-395b396a4825",
   "metadata": {},
   "outputs": [],
   "source": [
    "# It is traditionally best to type each import syntax in separate lines \n",
    "# and put them all at the beginning of the current module.\n",
    "\n",
    "import module_1\n",
    "import module_2\n",
    "import module_3\n",
    "\n",
    "# The code stream of the current module starts here"
   ]
  },
  {
   "cell_type": "markdown",
   "id": "48b6f3a1-f83b-49d8-851d-6925246116d6",
   "metadata": {},
   "source": [
    "# Built-in Modules\n",
    "\n",
    "Python comes with a huge library of standard modules many of which are built into the interpreter. Officially published standard library list (Python Module Index) can be found here: https://docs.python.org/3/py-modindex.html .\n",
    "\n",
    "Some examples of modules:\n",
    "\n",
    "1. **math** is one of the most known and used modules. This module allows us to work with mathematical functions."
   ]
  },
  {
   "cell_type": "code",
   "execution_count": 5,
   "id": "d3885545-ee3c-4296-9959-75cbeecf6027",
   "metadata": {},
   "outputs": [
    {
     "name": "stdout",
     "output_type": "stream",
     "text": [
      "['__doc__', '__file__', '__loader__', '__name__', '__package__', '__spec__', 'acos', 'acosh', 'asin', 'asinh', 'atan', 'atan2', 'atanh', 'ceil', 'comb', 'copysign', 'cos', 'cosh', 'degrees', 'dist', 'e', 'erf', 'erfc', 'exp', 'expm1', 'fabs', 'factorial', 'floor', 'fmod', 'frexp', 'fsum', 'gamma', 'gcd', 'hypot', 'inf', 'isclose', 'isfinite', 'isinf', 'isnan', 'isqrt', 'lcm', 'ldexp', 'lgamma', 'log', 'log10', 'log1p', 'log2', 'modf', 'nan', 'nextafter', 'perm', 'pi', 'pow', 'prod', 'radians', 'remainder', 'sin', 'sinh', 'sqrt', 'tan', 'tanh', 'tau', 'trunc', 'ulp']\n"
     ]
    }
   ],
   "source": [
    "import math\n",
    "\n",
    "print(dir(math))  # you can find out all names defined in this module"
   ]
  },
  {
   "cell_type": "markdown",
   "id": "1f79d531-7ccc-4573-8525-5db37aa2b8b8",
   "metadata": {},
   "source": [
    "**The built-in function dir() is used to find out which names a module defines.** It returns a sorted list of strings."
   ]
  },
  {
   "cell_type": "code",
   "execution_count": 6,
   "id": "4eeb95aa-5740-441f-b66b-98e6d34c2148",
   "metadata": {},
   "outputs": [
    {
     "name": "stdout",
     "output_type": "stream",
     "text": [
      "3.141592653589793\n",
      "24\n",
      "3.0\n"
     ]
    }
   ],
   "source": [
    "# let's use some of these in examples:\n",
    "from math import pi, factorial, log10  # we'll use the functions directly\n",
    "\n",
    "print(pi)  # it also contains several arithmetic constants\n",
    "print(factorial(4))  # gives the value of 4!\n",
    "print(log10(1000))  # prints the common logarithm of 1000"
   ]
  },
  {
   "cell_type": "code",
   "execution_count": 12,
   "id": "5ed5341c-8a03-4bfa-a412-d6007e8cd164",
   "metadata": {},
   "outputs": [
    {
     "name": "stdout",
     "output_type": "stream",
     "text": [
      "120\n",
      "6\n"
     ]
    }
   ],
   "source": [
    "# Task: Define your own factorial function named factor using def.\n",
    "\n",
    "def factor(n):\n",
    "    result=1\n",
    "    for i in range(n):\n",
    "        result *= (i+1) \n",
    "    return print(result)\n",
    "factor(5)\n",
    "factor(3)"
   ]
  },
  {
   "cell_type": "markdown",
   "id": "35a51283-49c2-4c95-b8e0-ca7c62ce8ad9",
   "metadata": {},
   "source": [
    "2. **string is used for common string operations.**"
   ]
  },
  {
   "cell_type": "code",
   "execution_count": 3,
   "id": "5b48ae9f-2f9f-429f-be94-f09182964861",
   "metadata": {},
   "outputs": [
    {
     "name": "stdout",
     "output_type": "stream",
     "text": [
      "!\"#$%&'()*+,-./:;<=>?@[\\]^_`{|}~\n",
      "['!\"#$%&\\'()*+,-./:;<=>?@[\\\\]^_`{|}~']\n",
      "0123456789\n",
      "['0123456789']\n"
     ]
    }
   ],
   "source": [
    "import string as stg  # we've used alias for 'string' module\n",
    "\n",
    "print(stg.punctuation)  # prints all available punctuation marks\n",
    "list_punc= [stg.punctuation]\n",
    "print(list_punc)\n",
    "print(stg.digits)  # prints all the digits\n",
    "list_digits = [stg.digits]\n",
    "print(list_digits)"
   ]
  },
  {
   "cell_type": "markdown",
   "id": "79eb3be4-5c69-4d0b-b0cd-32b4c02bd85e",
   "metadata": {},
   "source": [
    "3. **datetime is commonly used when working with date and time types.**"
   ]
  },
  {
   "cell_type": "code",
   "execution_count": 14,
   "id": "edc17e4c-6a8f-48fc-bce8-27b2458e443b",
   "metadata": {},
   "outputs": [
    {
     "name": "stdout",
     "output_type": "stream",
     "text": [
      "2022-11-09\n",
      "2022-11-09 17:19:06.801471\n"
     ]
    }
   ],
   "source": [
    "import datetime\n",
    "\n",
    "print(datetime.date.today())  # prints today's date (yyyy-mm-dd)\n",
    "print(datetime.datetime.now())  # prints the current time in microseconds\n",
    "\n",
    "# In the example above, we used the functions (now() and today()) defined under the date and datetime \n",
    "# objects from the datetime module according to the dot notation."
   ]
  },
  {
   "cell_type": "markdown",
   "id": "a12b6394-3444-4b51-9084-c6ef1a3a13f1",
   "metadata": {},
   "source": [
    "4. **random is a module that contains functions that allow us to select randomly from various data types.**"
   ]
  },
  {
   "cell_type": "code",
   "execution_count": 17,
   "id": "59a701e5-30da-408a-8489-104fdf970d97",
   "metadata": {},
   "outputs": [
    {
     "name": "stdout",
     "output_type": "stream",
     "text": [
      "Cape Town\n"
     ]
    }
   ],
   "source": [
    "from random import choice\n",
    "\n",
    "city = ['Stockholm', 'Istanbul', 'Seul', 'Cape Town']\n",
    "print(choice(city))"
   ]
  },
  {
   "cell_type": "code",
   "execution_count": 20,
   "id": "f8fe5802-54e7-40b4-8b45-b1ccd9aacab9",
   "metadata": {},
   "outputs": [
    {
     "name": "stdout",
     "output_type": "stream",
     "text": [
      "0.43505086528113135\n"
     ]
    }
   ],
   "source": [
    "import random\n",
    "print(random.random())\n",
    "\n",
    "# The statement \"random.random()\" method return the floating point number that is in the range of (0, 1).\n",
    "# The function generates random float numbers.   "
   ]
  },
  {
   "cell_type": "markdown",
   "id": "629ab8f7-0c82-4a05-9987-d5f24e675957",
   "metadata": {},
   "source": [
    "# Packages\n",
    "In Python, module is the way to structure the program. Each Python program file is a module, which imports other modules like objects and attributes. The folder of Python program is a package of modules. A package can have modules or subfolders."
   ]
  },
  {
   "cell_type": "code",
   "execution_count": 21,
   "id": "ffc9079a-e1ab-4f48-a531-1348766ab14a",
   "metadata": {},
   "outputs": [
    {
     "ename": "SyntaxError",
     "evalue": "invalid syntax (3680242699.py, line 3)",
     "output_type": "error",
     "traceback": [
      "\u001b[0;36m  Input \u001b[0;32mIn [21]\u001b[0;36m\u001b[0m\n\u001b[0;31m    earth/                          # Top-level package\u001b[0m\n\u001b[0m                                    ^\u001b[0m\n\u001b[0;31mSyntaxError\u001b[0m\u001b[0;31m:\u001b[0m invalid syntax\n"
     ]
    }
   ],
   "source": [
    "# the basic structure of the package system:\n",
    "\n",
    "earth/                          # Top-level package\n",
    "      __init__.py               # Initialize the earth package\n",
    "      asia/                     # Subpackage for file asia\n",
    "              __init__.py\n",
    "              japan.py\n",
    "              mongolia.py       # A module under a subpackage\n",
    "              pakistan.py\n",
    "              taiwan.py\n",
    "              ...\n",
    "      europe/                   # Subpackage for file europe\n",
    "              __init__.py\n",
    "              germany.py        # A module under a subpackage\n",
    "              england.py\n",
    "              turkey.py\n",
    "              kosovo.py\n",
    "              ...\n",
    "      america/                  # Subpackage for file america\n",
    "              __init__.py\n",
    "              canada.py\n",
    "              ustates.py\n",
    "              mexico.py\n",
    "              peru.py           # A module under a subpackage\n",
    "              ..."
   ]
  },
  {
   "cell_type": "markdown",
   "id": "486a2b72-daf1-42cb-97a2-ecdd2ff5f073",
   "metadata": {},
   "source": [
    "The hierarchical model of dot notation used to access and work with a module works as follows. The importing syntax which shows the entire hierarchy is so-called absolute importing. It looks like :"
   ]
  },
  {
   "cell_type": "code",
   "execution_count": null,
   "id": "99fc8d7d-5738-466d-b810-b2fa018ca5b7",
   "metadata": {},
   "outputs": [],
   "source": [
    "import earth.europe.kosovo  # importing with naming package, subpackage and module\n",
    "\n",
    "earth.europe.kosovo.a_function()  # we want to access a function defined in kosovo module"
   ]
  },
  {
   "cell_type": "code",
   "execution_count": null,
   "id": "db9676c1-5a5f-493d-a94a-cbe8f1e45760",
   "metadata": {},
   "outputs": [],
   "source": [
    "from earth import europe.kosovo  # importing with naming subpackage and module\n",
    "\n",
    "europe.kosovo.a_function()  # we want to access a function defined in kosovo module"
   ]
  },
  {
   "cell_type": "code",
   "execution_count": null,
   "id": "39c1f4f1-b5f3-48f2-a98b-8244e8a3907b",
   "metadata": {},
   "outputs": [],
   "source": [
    "from earth.europe import kosovo  # importing without naming package and subpackage\n",
    "\n",
    "kosovo.a_function()  # we want to access a function defined in kosovo module"
   ]
  },
  {
   "cell_type": "code",
   "execution_count": null,
   "id": "36ee9f62-cd0f-4115-9269-d458d93654d4",
   "metadata": {},
   "outputs": [],
   "source": [
    "from earth.europe.kosovo import a_function  # importing without any naming\n",
    "\n",
    "a_function()  # we use directly the function's name"
   ]
  },
  {
   "cell_type": "markdown",
   "id": "f575b968-2ee0-45f3-b912-dd0d996ad79f",
   "metadata": {},
   "source": [
    "# Don't forget:\n",
    "\n",
    "**For Python to recognize the folders you created as packages / subpackages, you need to create an empty file named __init__.py in both the package and subpackage folders.**\n",
    "They are usually empty, but may contain some initialization code of the package."
   ]
  },
  {
   "cell_type": "markdown",
   "id": "d6f5ea2b-b714-46af-a039-470002dd31d8",
   "metadata": {},
   "source": [
    "**Importing * From a Package**\n",
    "\n",
    "There is another and practical way to import packages / subpackages / modules. Consider this method : \n",
    "\n",
    "from package.subpackage import * . \n",
    "\n",
    "This syntax allows us to import all modules that the subpackage has.\n",
    "\n",
    "Although this way of importing all content is not a highly preferred method, when you add __all__ = [list of content] statement into the __init__.py file, you can display the subpackages/modules under package / subpackage in a list without any mess.\n",
    "\n",
    "In order to display the list of subpackages/modules inside the package, we must add the following syntax into the __init__.py files:\n",
    "\n",
    "For the package : __all__ = ['subpackage1', 'subpackage2']\n",
    "\n",
    "For the subpackage : __all__ = ['module1', 'module2']"
   ]
  },
  {
   "cell_type": "code",
   "execution_count": 6,
   "id": "2cde6be6-a5c0-4087-bf93-3120f4aea9c2",
   "metadata": {},
   "outputs": [
    {
     "name": "stdout",
     "output_type": "stream",
     "text": [
      "4.0\n"
     ]
    }
   ],
   "source": [
    "def karekok(a):  # bunu kendimiz oluşturduk\n",
    "    return a**0.5\n",
    "print(karekok(16))"
   ]
  },
  {
   "cell_type": "code",
   "execution_count": 4,
   "id": "4c91a074-df80-4896-83c7-1ed481d30da3",
   "metadata": {},
   "outputs": [
    {
     "data": {
      "text/plain": [
       "4.0"
      ]
     },
     "execution_count": 4,
     "metadata": {},
     "output_type": "execute_result"
    }
   ],
   "source": [
    "import math\n",
    "# sqrt fonksiyonu karekok alir\n",
    "math.sqrt(16)  # bunu math  import ederek yaptik. Math modul degil, cunku c ile yazilmis"
   ]
  },
  {
   "cell_type": "code",
   "execution_count": 25,
   "id": "2ca38ab5-83fc-4bcd-b570-7336ad3db9c5",
   "metadata": {},
   "outputs": [
    {
     "data": {
      "text/plain": [
       "'/Users/kadiryildirim/Library/CloudStorage/GoogleDrive-yildirimkdata@gmail.com/My Drive/Colab Notebooks'"
      ]
     },
     "execution_count": 25,
     "metadata": {},
     "output_type": "execute_result"
    }
   ],
   "source": [
    "pwd"
   ]
  },
  {
   "cell_type": "code",
   "execution_count": 26,
   "id": "737bad27-65f6-49c1-91bd-1ad1d801b1ed",
   "metadata": {},
   "outputs": [
    {
     "name": "stdout",
     "output_type": "stream",
     "text": [
      "['__doc__', '__file__', '__loader__', '__name__', '__package__', '__spec__', 'acos', 'acosh', 'asin', 'asinh', 'atan', 'atan2', 'atanh', 'ceil', 'comb', 'copysign', 'cos', 'cosh', 'degrees', 'dist', 'e', 'erf', 'erfc', 'exp', 'expm1', 'fabs', 'factorial', 'floor', 'fmod', 'frexp', 'fsum', 'gamma', 'gcd', 'hypot', 'inf', 'isclose', 'isfinite', 'isinf', 'isnan', 'isqrt', 'lcm', 'ldexp', 'lgamma', 'log', 'log10', 'log1p', 'log2', 'modf', 'nan', 'nextafter', 'perm', 'pi', 'pow', 'prod', 'radians', 'remainder', 'sin', 'sinh', 'sqrt', 'tan', 'tanh', 'tau', 'trunc', 'ulp']\n"
     ]
    }
   ],
   "source": [
    "print(dir(math))"
   ]
  },
  {
   "cell_type": "code",
   "execution_count": 27,
   "id": "ddd409e3-763b-47a6-a0ba-d1d52243405b",
   "metadata": {},
   "outputs": [
    {
     "name": "stdout",
     "output_type": "stream",
     "text": [
      "ModuleSpec(name='math', loader=<_frozen_importlib_external.ExtensionFileLoader object at 0x7f847ae7b790>, origin='/Users/kadiryildirim/opt/anaconda3/lib/python3.9/lib-dynload/math.cpython-39-darwin.so')\n"
     ]
    }
   ],
   "source": [
    "print(math.__spec__)"
   ]
  },
  {
   "cell_type": "code",
   "execution_count": 28,
   "id": "3e984e65-d173-4258-94e6-308871f01b2f",
   "metadata": {},
   "outputs": [],
   "source": [
    "from math import pi"
   ]
  },
  {
   "cell_type": "code",
   "execution_count": 30,
   "id": "a953268f-0dd2-4646-b92f-6c1f179291aa",
   "metadata": {},
   "outputs": [
    {
     "data": {
      "text/plain": [
       "3.141592653589793"
      ]
     },
     "execution_count": 30,
     "metadata": {},
     "output_type": "execute_result"
    }
   ],
   "source": [
    "pi"
   ]
  },
  {
   "cell_type": "code",
   "execution_count": 33,
   "id": "39e3bd4a-95c8-48b4-a882-1444e606cc86",
   "metadata": {},
   "outputs": [],
   "source": [
    "from math import factorial"
   ]
  },
  {
   "cell_type": "code",
   "execution_count": 34,
   "id": "f6ceb685-73ae-4210-bada-3da4604414d4",
   "metadata": {},
   "outputs": [
    {
     "data": {
      "text/plain": [
       "24"
      ]
     },
     "execution_count": 34,
     "metadata": {},
     "output_type": "execute_result"
    }
   ],
   "source": [
    "factorial(4)"
   ]
  },
  {
   "cell_type": "code",
   "execution_count": 35,
   "id": "f434c28a-c0d2-4f51-9698-8ae4d210c0fe",
   "metadata": {},
   "outputs": [],
   "source": [
    "from math import log10"
   ]
  },
  {
   "cell_type": "code",
   "execution_count": 36,
   "id": "5fbc598d-82ec-42b6-81f1-233b8dec7c1c",
   "metadata": {},
   "outputs": [
    {
     "data": {
      "text/plain": [
       "3.0"
      ]
     },
     "execution_count": 36,
     "metadata": {},
     "output_type": "execute_result"
    }
   ],
   "source": [
    "log10(1000)"
   ]
  },
  {
   "cell_type": "code",
   "execution_count": 41,
   "id": "51cba3a0-55fc-47ab-868f-65493df9b85b",
   "metadata": {},
   "outputs": [
    {
     "name": "stdout",
     "output_type": "stream",
     "text": [
      "24\n",
      "3.0\n",
      "3.141592653589793\n"
     ]
    }
   ],
   "source": [
    "print(math.factorial(4), math.log10(1000), math.pi, sep=\"\\n\")"
   ]
  },
  {
   "cell_type": "code",
   "execution_count": 42,
   "id": "3fc033bc-904f-497c-a3aa-467921c44934",
   "metadata": {},
   "outputs": [],
   "source": [
    "# bir kere indirdikten sonra bir iki harfini yazıp tab'a basınca funksiyonlar cikiyor\n",
    "\n",
    "# math. yazdıktan sonra tab'a basarak tüm fonksiyonların listesini goruruz\n",
    "\n"
   ]
  },
  {
   "cell_type": "code",
   "execution_count": 43,
   "id": "486f734c-2350-48a3-9f90-ac101c330b7b",
   "metadata": {},
   "outputs": [],
   "source": [
    "# string modulunu getirip ondan punctuation ve digitsleri yazdırım\n",
    "from string import punctuation, digits"
   ]
  },
  {
   "cell_type": "code",
   "execution_count": 46,
   "id": "decb62fe-5fea-40b1-94c8-2459aef91eb6",
   "metadata": {},
   "outputs": [
    {
     "name": "stdout",
     "output_type": "stream",
     "text": [
      "!\"#$%&'()*+,-./:;<=>?@[\\]^_`{|}~\n",
      "0123456789\n"
     ]
    }
   ],
   "source": [
    "print(punctuation)\n",
    "print(digits)"
   ]
  },
  {
   "cell_type": "code",
   "execution_count": 47,
   "id": "8afc08f7-0fa8-4ac6-b922-06999a19b15e",
   "metadata": {},
   "outputs": [],
   "source": [
    "import string as str"
   ]
  },
  {
   "cell_type": "code",
   "execution_count": 48,
   "id": "a5cf278d-8e24-4518-a51a-83a0477335b2",
   "metadata": {},
   "outputs": [
    {
     "data": {
      "text/plain": [
       "'!\"#$%&\\'()*+,-./:;<=>?@[\\\\]^_`{|}~'"
      ]
     },
     "execution_count": 48,
     "metadata": {},
     "output_type": "execute_result"
    }
   ],
   "source": [
    "str.punctuation"
   ]
  },
  {
   "cell_type": "code",
   "execution_count": 49,
   "id": "99e3a9f4-0af8-433a-b068-981465902981",
   "metadata": {},
   "outputs": [
    {
     "data": {
      "text/plain": [
       "['Formatter',\n",
       " 'Template',\n",
       " '_ChainMap',\n",
       " '__all__',\n",
       " '__builtins__',\n",
       " '__cached__',\n",
       " '__doc__',\n",
       " '__file__',\n",
       " '__loader__',\n",
       " '__name__',\n",
       " '__package__',\n",
       " '__spec__',\n",
       " '_re',\n",
       " '_sentinel_dict',\n",
       " '_string',\n",
       " 'ascii_letters',\n",
       " 'ascii_lowercase',\n",
       " 'ascii_uppercase',\n",
       " 'capwords',\n",
       " 'digits',\n",
       " 'hexdigits',\n",
       " 'octdigits',\n",
       " 'printable',\n",
       " 'punctuation',\n",
       " 'whitespace']"
      ]
     },
     "execution_count": 49,
     "metadata": {},
     "output_type": "execute_result"
    }
   ],
   "source": [
    "dir(str)"
   ]
  },
  {
   "cell_type": "code",
   "execution_count": 13,
   "id": "d7cf27b1-f668-4741-af14-7bdb0654a34b",
   "metadata": {},
   "outputs": [],
   "source": [
    "import datetime as dt"
   ]
  },
  {
   "cell_type": "code",
   "execution_count": 60,
   "id": "90600e80-6c81-4e97-b112-84d6b670fa78",
   "metadata": {},
   "outputs": [
    {
     "name": "stdout",
     "output_type": "stream",
     "text": [
      "2022-11-10\n"
     ]
    }
   ],
   "source": [
    "print(dt.date.today())"
   ]
  },
  {
   "cell_type": "code",
   "execution_count": 62,
   "id": "e2faf952-549e-4c1a-9698-e467caa8a2cb",
   "metadata": {},
   "outputs": [
    {
     "data": {
      "text/plain": [
       "datetime.date(2022, 11, 10)"
      ]
     },
     "execution_count": 62,
     "metadata": {},
     "output_type": "execute_result"
    }
   ],
   "source": [
    "dt.date.today()"
   ]
  },
  {
   "cell_type": "code",
   "execution_count": 66,
   "id": "3993fcb9-5c9a-4ab4-b732-2762bd82e563",
   "metadata": {},
   "outputs": [
    {
     "name": "stdout",
     "output_type": "stream",
     "text": [
      "2022-11-10 19:27:45.676446\n"
     ]
    }
   ],
   "source": [
    "\n",
    "print(dt.datetime.now())"
   ]
  },
  {
   "cell_type": "code",
   "execution_count": 70,
   "id": "22648b3c-30ba-417f-9e10-9921c4ecaeb4",
   "metadata": {},
   "outputs": [
    {
     "name": "stdout",
     "output_type": "stream",
     "text": [
      "22327 days, 0:00:00\n"
     ]
    }
   ],
   "source": [
    "from datetime import date\n",
    "\n",
    "birth = (date(571, 4, 22))\n",
    "death = (date(632, 6, 8))\n",
    "print(death-birth)  # kac gun yasamis"
   ]
  },
  {
   "cell_type": "code",
   "execution_count": 14,
   "id": "dd01ef20-6bc1-41df-846a-17ea1534d4d3",
   "metadata": {},
   "outputs": [
    {
     "name": "stdout",
     "output_type": "stream",
     "text": [
      "15087 days, 0:00:00\n"
     ]
    }
   ],
   "source": [
    "from datetime import date\n",
    "\n",
    "birth = (date(1981, 7, 28))\n",
    "present = dt.date.today()\n",
    "print(present-birth)  # kac gun yasamisim"
   ]
  },
  {
   "cell_type": "code",
   "execution_count": 73,
   "id": "e0ae2a89-4e72-491e-b59c-9c45208ee0c4",
   "metadata": {},
   "outputs": [
    {
     "data": {
      "text/plain": [
       "15080"
      ]
     },
     "execution_count": 73,
     "metadata": {},
     "output_type": "execute_result"
    }
   ],
   "source": [
    "# toordinal fonksiyonu da kullanılabilir gun sayısı icin\n",
    "lifeday = date.toordinal(present) - date.toordinal(birth)\n",
    "lifeday"
   ]
  },
  {
   "cell_type": "code",
   "execution_count": 78,
   "id": "b85b1586-5ff3-4e77-b784-68ca34fe5df4",
   "metadata": {},
   "outputs": [],
   "source": [
    "# import random dersek hepsini indirir ama tam hangisini indirecegimizi biliyorsak tum module gerek yok. alttaki yeter"
   ]
  },
  {
   "cell_type": "code",
   "execution_count": 75,
   "id": "a6180992-7d9e-4fc6-be31-3392f730e574",
   "metadata": {},
   "outputs": [],
   "source": [
    "from random import choice"
   ]
  },
  {
   "cell_type": "code",
   "execution_count": 76,
   "id": "d68d4daf-091b-4622-90c6-eb81c7c483f3",
   "metadata": {},
   "outputs": [
    {
     "data": {
      "text/plain": [
       "'Istanbul'"
      ]
     },
     "execution_count": 76,
     "metadata": {},
     "output_type": "execute_result"
    }
   ],
   "source": [
    "city = [\"Stockholm\", \"Istanbul\", \"Seoul\", \"Cape Town\"]\n",
    "\n",
    "choice(city)"
   ]
  },
  {
   "cell_type": "code",
   "execution_count": 77,
   "id": "4c131564-ebae-45da-bd6f-58e5037341dd",
   "metadata": {},
   "outputs": [
    {
     "data": {
      "text/plain": [
       "'Seoul'"
      ]
     },
     "execution_count": 77,
     "metadata": {},
     "output_type": "execute_result"
    }
   ],
   "source": [
    "random.choice(city)"
   ]
  },
  {
   "cell_type": "markdown",
   "id": "00cdf626-05e6-414e-b2de-99de3fc92be7",
   "metadata": {},
   "source": [
    "# pip - The Package Manager for Python\n",
    "\n",
    "This rich package library is one of the factors that make Python programming language powerful. It stands for Pip Installs Packages.\n",
    "\n",
    "In fact, the package library we're talking about here isn't built-in and you need to install it externally. That's where the pip comes in. pip which is also a preinstalled program in Python is the standard package manager for Python. It allows you to install/uninstall, and manage additional packages that are not part of the Python standard modules. The acronym of Pip Installs Packages is mostly known as pip.\n",
    "\n",
    "Working with pip\n",
    "\n",
    "**The formula syntax is : pip command options**\n",
    "\n",
    "**install**\n",
    "\n",
    "The most common and essential command of pip is of course install. The most common syntax is :\n",
    "\n",
    "pip install my_package\n",
    "\n",
    "\n",
    "**list**\n",
    "\n",
    "Another important command you should learn is list. It lists all the packages you have installed on your computer in alphabetical order and in two columns.\n",
    "\n",
    "pip list\n",
    "\n",
    "**show**\n",
    "\n",
    "It's used to view some information about the packages. These information about a package will be : Name, Version, Summary, Home-page, Author, Author-email, License, Location on PC.\n",
    "\n",
    "pip show my_package\n",
    "\n",
    "\n",
    "**uninstall**\n",
    "\n",
    "It uninstalls the installed packages from your computer.\n",
    "\n",
    "pip uninstall my_package"
   ]
  },
  {
   "cell_type": "code",
   "execution_count": 79,
   "id": "e688c32c-8bae-47e8-a45c-91b9de117889",
   "metadata": {},
   "outputs": [
    {
     "name": "stdout",
     "output_type": "stream",
     "text": [
      "pip 21.2.4 from /Users/kadiryildirim/opt/anaconda3/lib/python3.9/site-packages/pip (python 3.9)\n",
      "Note: you may need to restart the kernel to use updated packages.\n"
     ]
    }
   ],
   "source": [
    "pip --version"
   ]
  },
  {
   "cell_type": "code",
   "execution_count": 81,
   "id": "85f098e8-5efa-47ce-99c1-3dcbe48b2946",
   "metadata": {},
   "outputs": [],
   "source": [
    "import numpy"
   ]
  },
  {
   "cell_type": "code",
   "execution_count": 1,
   "id": "b5122882-f39e-4412-b8f6-dbb66a184777",
   "metadata": {},
   "outputs": [
    {
     "name": "stdout",
     "output_type": "stream",
     "text": [
      "pip 21.2.4 from /Users/kadiryildirim/opt/anaconda3/lib/python3.9/site-packages/pip (python 3.9)\n",
      "Note: you may need to restart the kernel to use updated packages.\n"
     ]
    }
   ],
   "source": [
    "pip --version"
   ]
  },
  {
   "cell_type": "code",
   "execution_count": 3,
   "id": "35d17b1d-a662-45c8-92f2-02867d2b8610",
   "metadata": {},
   "outputs": [],
   "source": [
    "# !pip list hangi kütüphaneleri indirebilecegini gormek icin"
   ]
  },
  {
   "cell_type": "code",
   "execution_count": 4,
   "id": "3f985f33-af6e-4159-a525-aff12815c8be",
   "metadata": {},
   "outputs": [
    {
     "name": "stdout",
     "output_type": "stream",
     "text": [
      "Name: numpy\n",
      "Version: 1.21.5\n",
      "Summary: NumPy is the fundamental package for array computing with Python.\n",
      "Home-page: https://www.numpy.org\n",
      "Author: Travis E. Oliphant et al.\n",
      "Author-email: \n",
      "License: BSD\n",
      "Location: /Users/kadiryildirim/opt/anaconda3/lib/python3.9/site-packages\n",
      "Requires: \n",
      "Required-by: xarray, tifffile, tables, statsmodels, seaborn, scipy, scikit-learn, scikit-image, PyWavelets, pyerfa, patsy, pandas, numexpr, numba, mkl-random, mkl-fft, matplotlib, imageio, imagecodecs, hvplot, holoviews, h5py, gensim, datashape, datashader, daal4py, Bottleneck, bokeh, bkcharts, astropy\n",
      "Note: you may need to restart the kernel to use updated packages.\n"
     ]
    }
   ],
   "source": [
    "pip show numpy  # özelliklerini gösterir"
   ]
  },
  {
   "cell_type": "code",
   "execution_count": null,
   "id": "3221c044-4278-4774-b27d-7d14f76f5f32",
   "metadata": {},
   "outputs": [],
   "source": []
  },
  {
   "cell_type": "markdown",
   "id": "9d5ef8d4-36d4-4364-b2d6-d39738c4ef65",
   "metadata": {},
   "source": [
    "# Interpreter\n",
    "\n",
    "Python is an interpreted programming language. Python's default interpreter is a software written in the C programming language known as CPython. There are several other interpreters available such as :\n",
    "\n",
    "Jython is an interpreter that works with a Java-based algorithm and converts Python codes into Java-compatible byte code, which will be executed later by the Java Virtual Machine.\n",
    "PyPy is a replacement for CPython. It is built using the RPython language that was co-developed with it. The main reason to use it instead of CPython is speed: RPython (Restricted Python) provides some restrictions to the usual Python code.\n",
    "IronPython is an open-source implementation of the Python programming language which is tightly integrated with the .NET Framework."
   ]
  }
 ],
 "metadata": {
  "kernelspec": {
   "display_name": "Python 3 (ipykernel)",
   "language": "python",
   "name": "python3"
  },
  "language_info": {
   "codemirror_mode": {
    "name": "ipython",
    "version": 3
   },
   "file_extension": ".py",
   "mimetype": "text/x-python",
   "name": "python",
   "nbconvert_exporter": "python",
   "pygments_lexer": "ipython3",
   "version": "3.9.12"
  }
 },
 "nbformat": 4,
 "nbformat_minor": 5
}
