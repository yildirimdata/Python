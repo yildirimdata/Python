{
 "cells": [
  {
   "cell_type": "markdown",
   "id": "d0e68467-8fc5-4fd7-ad10-1d9b740da48b",
   "metadata": {},
   "source": [
    "# LAMBDA FUNCTIONS\n",
    "\n",
    "Another way to define functions in Python is lambda functions. Lambda functions are also called **anonymous functions** since they have no name. We use keyword lambda to define a function.\n",
    "\n",
    "The **formula syntax** is : lambda parameters : expression\n",
    "\n",
    "**Some useful sources:**\n",
    "\n",
    "\"Lambda expressions in Python official documents\"\n",
    "https://docs.python.org/3/tutorial/controlflow.html#lambda-expressions\n",
    "\n",
    "\"Lambda functions with practical examples\"\n",
    "https://towardsdatascience.com/lambda-functions-with-practical-examples-in-python-45934f3653a8\n",
    "\n",
    "If you need to use a one-time function, defining a lambda function is the best option. In some cases, you may need to define a function only once without having to use it later. For instance;"
   ]
  },
  {
   "cell_type": "code",
   "execution_count": 15,
   "id": "0bd51f72-f733-40f5-b81c-6a622a7e495e",
   "metadata": {},
   "outputs": [
    {
     "data": {
      "text/plain": [
       "25"
      ]
     },
     "execution_count": 15,
     "metadata": {},
     "output_type": "execute_result"
    }
   ],
   "source": [
    "# let's define a function to return the square of a number\n",
    "def square(x):\n",
    "    return x**2\n",
    "\n",
    "square(5)"
   ]
  },
  {
   "cell_type": "code",
   "execution_count": 16,
   "id": "ed612b28-48b5-4eba-8b69-8ca36aae6ed5",
   "metadata": {},
   "outputs": [
    {
     "data": {
      "text/plain": [
       "25"
      ]
     },
     "execution_count": 16,
     "metadata": {},
     "output_type": "execute_result"
    }
   ],
   "source": [
    "# simdi de lambda kullanalım\n",
    "(lambda x: x**2) (5)"
   ]
  },
  {
   "cell_type": "markdown",
   "id": "8a455d39-099d-4a90-a829-664af9f39058",
   "metadata": {},
   "source": [
    "A lambda function can take multiple arguments separated by commas, but it must be defined with a single expression. This expression is evaluated and the result is returned.\n",
    "\n",
    "Note that we do not need to use return statement in lambda functions."
   ]
  },
  {
   "cell_type": "code",
   "execution_count": 17,
   "id": "b2587f09-6ec6-49f2-b687-22c158b3e6d2",
   "metadata": {},
   "outputs": [
    {
     "data": {
      "text/plain": [
       "5.0"
      ]
     },
     "execution_count": 17,
     "metadata": {},
     "output_type": "execute_result"
    }
   ],
   "source": [
    "# lambda with multiple arguments\n",
    "# lambda x, y: (x+y)/2  # takes two numbers, returns the result\n",
    "(lambda x, y: (x+y)/2)(4,6)"
   ]
  },
  {
   "cell_type": "markdown",
   "id": "1f213d22-331f-45b2-80b4-93343e00a528",
   "metadata": {},
   "source": [
    "**Conditional Lambda Statement**\n",
    "\n",
    "syntax: lambda parameters : first_result if conditional statement else second_result"
   ]
  },
  {
   "cell_type": "code",
   "execution_count": 29,
   "id": "c2d9c3ce-e63d-4c61-9cf1-0f12035435b0",
   "metadata": {},
   "outputs": [
    {
     "data": {
      "text/plain": [
       "'odd'"
      ]
     },
     "execution_count": 29,
     "metadata": {},
     "output_type": "execute_result"
    }
   ],
   "source": [
    "# we can use conditional statements with lambda function\n",
    "\n",
    "(lambda x: 'odd' if x % 2 != 0 else 'even')(27)"
   ]
  },
  {
   "cell_type": "code",
   "execution_count": 31,
   "id": "32365f60-b2c4-4e93-8a1a-d6eaa3ec15fe",
   "metadata": {},
   "outputs": [
    {
     "data": {
      "text/plain": [
       "'even'"
      ]
     },
     "execution_count": 31,
     "metadata": {},
     "output_type": "execute_result"
    }
   ],
   "source": [
    "deneme = (lambda x: 'odd' if x % 2 != 0 else 'even')\n",
    "deneme(6)"
   ]
  },
  {
   "cell_type": "markdown",
   "id": "8646b8f0-a678-43f3-9631-6edbdacf19f9",
   "metadata": {},
   "source": [
    "# Lambda's most important advantages and uses are:\n",
    "\n",
    "1. You can use it with its own syntax using parentheses,\n",
    "\n",
    "2. You can also assign it to a variable,\n",
    "\n",
    "3. You can use it in several built-in functions,\n",
    "\n",
    "4. It can be useful inside user-defined functions (def)."
   ]
  },
  {
   "cell_type": "code",
   "execution_count": 23,
   "id": "de50beac-5ef1-4a9c-8588-dc9678694cf4",
   "metadata": {},
   "outputs": [
    {
     "name": "stdout",
     "output_type": "stream",
     "text": [
      "4\n"
     ]
    }
   ],
   "source": [
    "# 1. By enclosing the function in parentheses :\n",
    "(lambda x: x**2)(2)  # squares '2'\n",
    "# we can print output :\n",
    "print((lambda x: x**2)(2))\n",
    "# The formula syntax is : (lambda parameters : expression)(arguments)"
   ]
  },
  {
   "cell_type": "code",
   "execution_count": 24,
   "id": "c2218656-b5da-4402-a759-6979b1fb5828",
   "metadata": {},
   "outputs": [
    {
     "name": "stdout",
     "output_type": "stream",
     "text": [
      "4.0\n"
     ]
    }
   ],
   "source": [
    "# Or we can use multiple arguments using the same syntax :\n",
    "print((lambda x, y: (x+y)/2)(3, 5))  # takes two int, returns mean of them"
   ]
  },
  {
   "cell_type": "code",
   "execution_count": 28,
   "id": "f300c2d0-3dc1-475b-80f0-561872e93a3a",
   "metadata": {},
   "outputs": [
    {
     "data": {
      "text/plain": [
       "True"
      ]
     },
     "execution_count": 28,
     "metadata": {},
     "output_type": "execute_result"
    }
   ],
   "source": [
    "(lambda even : not even % 2)(4)"
   ]
  },
  {
   "cell_type": "code",
   "execution_count": 33,
   "id": "3add439f-b8f9-4e57-aa25-1d8670b6fbbe",
   "metadata": {},
   "outputs": [
    {
     "data": {
      "text/plain": [
       "range(0, 5)"
      ]
     },
     "execution_count": 33,
     "metadata": {},
     "output_type": "execute_result"
    }
   ],
   "source": [
    "(lambda a: range(a))(5)"
   ]
  },
  {
   "cell_type": "code",
   "execution_count": 38,
   "id": "de4a410b-c10a-41d2-b948-b6bd4828d08c",
   "metadata": {},
   "outputs": [
    {
     "name": "stdout",
     "output_type": "stream",
     "text": [
      "[0, 1, 2, 3, 4]\n"
     ]
    }
   ],
   "source": [
    "print((lambda a: list(range(a)))(5))"
   ]
  },
  {
   "cell_type": "code",
   "execution_count": 25,
   "id": "7e78b4d6-976a-4b62-9d43-42a02bf7fd0b",
   "metadata": {},
   "outputs": [
    {
     "name": "stdout",
     "output_type": "stream",
     "text": [
      "4.0\n"
     ]
    }
   ],
   "source": [
    "# 2.1. We can also assign the lambda statement in parentheses to a variable :\n",
    "average = (lambda x, y: (x+y)/2)(3, 5) \n",
    "print(average)"
   ]
  },
  {
   "cell_type": "code",
   "execution_count": 44,
   "id": "fdf5b1e3-b23f-46f7-8b24-9b7d36060ecf",
   "metadata": {
    "tags": []
   },
   "outputs": [
    {
     "data": {
      "text/plain": [
       "5.196"
      ]
     },
     "execution_count": 44,
     "metadata": {},
     "output_type": "execute_result"
    }
   ],
   "source": [
    "(lambda a,b : round((a * a**b)**0.5, 3))(3,2)"
   ]
  },
  {
   "cell_type": "code",
   "execution_count": 26,
   "id": "cadb1a30-cd6c-43f5-8332-af5b80677be2",
   "metadata": {},
   "outputs": [
    {
     "name": "stdout",
     "output_type": "stream",
     "text": [
      "4.0\n"
     ]
    }
   ],
   "source": [
    "# 2.2. By assigning a function object to a variable :\n",
    "# Alternatively, we can assign the lambda function definition to a variable then call it :\n",
    "average = lambda x, y: (x+y)/2\n",
    "print(average(3, 5))  # we call\n"
   ]
  },
  {
   "cell_type": "code",
   "execution_count": 49,
   "id": "2e1b8bc3-12a5-47f7-8b24-621cd62a206b",
   "metadata": {},
   "outputs": [
    {
     "name": "stdout",
     "output_type": "stream",
     "text": [
      "34\n",
      "34\n"
     ]
    }
   ],
   "source": [
    "karelerin_toplamı = (lambda a,b : a**2 + b**2)(3,5)\n",
    "print(karelerin_toplamı)\n",
    "# ya da valueları call esnasında tanımlarız\n",
    "karelerin_toplamı = lambda a,b : a**2 + b**2\n",
    "print(karelerin_toplamı(3,5))"
   ]
  },
  {
   "cell_type": "code",
   "execution_count": 50,
   "id": "f7c5559f-8536-4b13-a218-41bf5ff02efd",
   "metadata": {},
   "outputs": [
    {
     "name": "stdout",
     "output_type": "stream",
     "text": [
      "7\n"
     ]
    }
   ],
   "source": [
    "# a kare eksi b kare\n",
    "a2b2 = lambda a,b: (a-b)*(a+b)\n",
    "print(a2b2(4,3))"
   ]
  },
  {
   "cell_type": "markdown",
   "id": "e5fbad58-5664-491c-89dd-a7e80af9b2e0",
   "metadata": {},
   "source": [
    "**Main differences of def and lambda**\n",
    "\n",
    "- Def can hold multiple expressions while lambda is a uni-expression function. \n",
    "\n",
    "- Def generates a function and designates a name to call it later. Lambda forms a function object and returns it.\n",
    "\n",
    "- Def can have a return statement. Lambda can’t have return statements. \n",
    "\n",
    "- Lambda can be used inside a list and dictionary.\n"
   ]
  },
  {
   "cell_type": "code",
   "execution_count": 42,
   "id": "63e45482-3fb8-4752-befc-abaf4c83bc3f",
   "metadata": {},
   "outputs": [
    {
     "data": {
      "text/plain": [
       "[4, 3, 2, 1]"
      ]
     },
     "execution_count": 42,
     "metadata": {},
     "output_type": "execute_result"
    }
   ],
   "source": [
    "# bir sayı listesinin tersini getir\n",
    "(lambda x : x[::-1])([1,2,3,4])"
   ]
  },
  {
   "cell_type": "code",
   "execution_count": 1,
   "id": "0edd8607-fdd1-4e86-9a90-d5ccbaa6bd12",
   "metadata": {},
   "outputs": [
    {
     "data": {
      "text/plain": [
       "'nohtyp'"
      ]
     },
     "execution_count": 1,
     "metadata": {},
     "output_type": "execute_result"
    }
   ],
   "source": [
    "# bir stringin tersini getir\n",
    "(lambda x: x[::-1])(\"python\")"
   ]
  },
  {
   "cell_type": "code",
   "execution_count": 48,
   "id": "e4839e39-81f5-4c06-9431-7bab61e7b9c6",
   "metadata": {},
   "outputs": [
    {
     "name": "stdin",
     "output_type": "stream",
     "text": [
      "bir kelime giriniz: cumartesi\n"
     ]
    },
    {
     "data": {
      "text/plain": [
       "'isetramuc'"
      ]
     },
     "execution_count": 48,
     "metadata": {},
     "output_type": "execute_result"
    }
   ],
   "source": [
    "# kullanıcıdan aldığın bir str'nin tersini getir\n",
    "(lambda x : x[::-1])(input(\"bir kelime giriniz:\"))"
   ]
  },
  {
   "cell_type": "code",
   "execution_count": 47,
   "id": "1be5d70a-a7c9-446f-af4f-ff8d49746820",
   "metadata": {},
   "outputs": [
    {
     "name": "stdout",
     "output_type": "stream",
     "text": [
      "1 : odd\n",
      "2 : even\n",
      "3 : odd\n",
      "4 : even\n"
     ]
    }
   ],
   "source": [
    "# given listedeki sayıları odd veya even diye ayır, arada colon ile yaz\n",
    "liste=[1,2,3,4]\n",
    "for i in liste:\n",
    "    print(i, \":\", (lambda x: \"even\" if x %2==0 else \"odd\")(i))"
   ]
  },
  {
   "cell_type": "code",
   "execution_count": null,
   "id": "19e376e4-760b-4001-a8d0-319b096d907a",
   "metadata": {},
   "outputs": [],
   "source": []
  },
  {
   "cell_type": "markdown",
   "id": "1971be9a-fefa-4ed0-aa60-1687be122fcd",
   "metadata": {},
   "source": [
    "# Lambda within Built-in (map()) Functions-1\n",
    "\n"
   ]
  },
  {
   "cell_type": "markdown",
   "id": "82ed5cb8-d25f-46ae-8c3d-3d87be4c7cc2",
   "metadata": {},
   "source": [
    "When using some built-in functions we may need additional functions inside them. This can be done by using def, but when we do the same thing with lambda we save both time and additional lines of code and we make it clear to read.\n",
    "\n",
    "**Lambda within map() function** :\n",
    "\n",
    "map() returns a list of the outputs after applying the given function to each element of a given iterable object such as list, tuple, etc.\n",
    "\n",
    "**syntax: map(function, iterable)**\n",
    "\n",
    "**The map() function takes two parameters:**\n",
    "\n",
    "function - a function that perform some action to each element of an iterable\n",
    "iterable - an iterable like sets, lists, tuples, etc\n",
    "\n",
    "**The map() function returns an object of map class**. The returned value can be passed to functions like\n",
    "\n",
    "list() - to convert to list\n",
    "set() - to convert to a set, and so on."
   ]
  },
  {
   "cell_type": "code",
   "execution_count": 7,
   "id": "4fbf1ddc-cabc-455e-ba14-ce05e24cf023",
   "metadata": {},
   "outputs": [
    {
     "name": "stdout",
     "output_type": "stream",
     "text": [
      "1\n",
      "4\n",
      "9\n",
      "16\n"
     ]
    }
   ],
   "source": [
    "# map() işleyişi\n",
    "listem = [1,2,3,4]\n",
    "\n",
    "def kare(x):\n",
    "    return x **2\n",
    "for i in listem:\n",
    "    print(kare(i))\n"
   ]
  },
  {
   "cell_type": "code",
   "execution_count": 24,
   "id": "b655cf63-0649-498a-9bb1-8c52b7007ede",
   "metadata": {},
   "outputs": [
    {
     "name": "stdout",
     "output_type": "stream",
     "text": [
      "[1, 4, 9, 16]\n"
     ]
    }
   ],
   "source": [
    "# yukarıda tanıladığımız kare fonksiyonuyla traditional for döngüsü yontemle cozelim\n",
    "listem = [1,2,3,4]\n",
    "yeni_liste = []\n",
    "\n",
    "for i in listem:\n",
    "    yeni_liste.append(kare(i))\n",
    "\n",
    "print(yeni_liste)"
   ]
  },
  {
   "cell_type": "code",
   "execution_count": 27,
   "id": "5f5ccc82-6f52-4fa1-839b-17ddaf93b355",
   "metadata": {},
   "outputs": [
    {
     "name": "stdout",
     "output_type": "stream",
     "text": [
      "[1, 4, 9, 16]\n"
     ]
    }
   ],
   "source": [
    "# bun map() ile çözelim\n",
    "listem = [1,2,3,4]\n",
    "\n",
    "def kare(x):\n",
    "    return x **2\n",
    "map(kare, listem)  # on the air yapar, list ile görünür yaparız\n",
    "\n",
    "print(list(map(kare, listem)))"
   ]
  },
  {
   "cell_type": "code",
   "execution_count": 8,
   "id": "96c5bfd4-c16e-4bf5-9661-6f0dfcd2b0ce",
   "metadata": {},
   "outputs": [
    {
     "name": "stdout",
     "output_type": "stream",
     "text": [
      "1 4 9 16\n"
     ]
    }
   ],
   "source": [
    "# lambda-map\n",
    "kare = map(lambda x: x**2, listem)\n",
    "print(*kare)\n"
   ]
  },
  {
   "cell_type": "code",
   "execution_count": 50,
   "id": "15768728-7a8a-46c2-b4da-ef15bb1b18dd",
   "metadata": {},
   "outputs": [
    {
     "data": {
      "text/plain": [
       "[11, 5, 3]"
      ]
     },
     "execution_count": 50,
     "metadata": {},
     "output_type": "execute_result"
    }
   ],
   "source": [
    "# strinlerin uzunluklarını map ve len fonk ile bulalım\n",
    "\n",
    "words = [\"alideliveli\", \"ahmet\", \"sel\"]\n",
    "\n",
    "map(len, words)  # bu adresini gösterir. on the air\n",
    "list(map(len, words))\n"
   ]
  },
  {
   "cell_type": "code",
   "execution_count": 55,
   "id": "379b4c9a-f180-43e0-adff-46d7a76b6af8",
   "metadata": {},
   "outputs": [
    {
     "name": "stdout",
     "output_type": "stream",
     "text": [
      "11 5 3\n"
     ]
    }
   ],
   "source": [
    "length = map(len, words)\n",
    "print(*length)  # tek basina length on the air."
   ]
  },
  {
   "cell_type": "code",
   "execution_count": 58,
   "id": "5032350b-ae98-491a-9461-a70ed4228203",
   "metadata": {},
   "outputs": [
    {
     "name": "stdout",
     "output_type": "stream",
     "text": [
      "[11, 5, 3]\n"
     ]
    }
   ],
   "source": [
    "# elemanların uzunluklarına for loop ile bakalım:\n",
    "\n",
    "length = []\n",
    "for i in words:\n",
    "    length.append(len(i))\n",
    "print(length)"
   ]
  },
  {
   "cell_type": "code",
   "execution_count": 62,
   "id": "99eae0fc-f731-4543-8f75-22944571db54",
   "metadata": {},
   "outputs": [
    {
     "name": "stdout",
     "output_type": "stream",
     "text": [
      "<map object at 0x7ff76fed2eb0>\n",
      "<class 'map'>\n",
      "[1, 4, 9, 16, 25]\n",
      "[1, 4, 9, 16, 25]\n",
      "[1, 4, 9, 16, 25]\n"
     ]
    }
   ],
   "source": [
    "# square all the numbers in the list using map() and lambda. \n",
    "iterable = [1, 2, 3, 4, 5]\n",
    "map(lambda x:x**2, iterable)\n",
    "\n",
    "print(map(lambda x:x**2, iterable))  # bunun sonucu gosterdigi gibi on the air yapar\n",
    "\n",
    "result = map(lambda x:x**2, iterable)\n",
    "print(type(result))  # it's a map type\n",
    "\n",
    "print(list(result))  # we've converted it to list type to print\n",
    "\n",
    "print(list(map(lambda x:x**2, iterable)))  # you can print directly\n",
    "\n",
    "print(list(map(lambda x:x**2, [1, 2, 3, 4, 5]))) "
   ]
  },
  {
   "cell_type": "code",
   "execution_count": 55,
   "id": "390b2dce-6234-48ae-83b6-ed10b749da6a",
   "metadata": {},
   "outputs": [
    {
     "name": "stdout",
     "output_type": "stream",
     "text": [
      "(1, 4, 9, 16, 25)\n"
     ]
    }
   ],
   "source": [
    "iterable = [1, 2, 3, 4, 5]\n",
    "map(lambda x:x**2, iterable)\n",
    "tuple_iterable = tuple(map(lambda x:x**2, iterable))\n",
    "print(tuple_iterable)"
   ]
  },
  {
   "cell_type": "markdown",
   "id": "4e84246f-4602-472f-9c66-fa96bd91a6b6",
   "metadata": {},
   "source": [
    "If you try to do the same thing using def, it is likely that the lines of code similar to the following occur. As you can see below, there are at least two additional lines of code. Moreover, we will not use the square function again because we only need to use it inside the map() function."
   ]
  },
  {
   "cell_type": "code",
   "execution_count": 56,
   "id": "f01af5d3-5d4e-488a-9cf2-34421a62536e",
   "metadata": {},
   "outputs": [
    {
     "name": "stdout",
     "output_type": "stream",
     "text": [
      "[1, 4, 9, 16, 25]\n"
     ]
    }
   ],
   "source": [
    "# bir fonksiyon tanımlayıp kareleri o sekilde alalım\n",
    "\n",
    "def square(n):   # at least two additional lines of code\n",
    "    return n**2  \n",
    "  \n",
    "iterable = [1, 2, 3, 4, 5]\n",
    "result = map(square, iterable) \n",
    "print(list(result))"
   ]
  },
  {
   "cell_type": "code",
   "execution_count": 69,
   "id": "59800b9c-70b8-4985-95bb-f7e00dc8dd90",
   "metadata": {},
   "outputs": [
    {
     "data": {
      "text/plain": [
       "'ali'"
      ]
     },
     "execution_count": 69,
     "metadata": {},
     "output_type": "execute_result"
    }
   ],
   "source": [
    "# lambda ile a, l ve i harflerini toplayalım\n",
    "topla = lambda x,y,z : x+y+z\n",
    "\n",
    "topla(\"a\", \"l\", \"i\")"
   ]
  },
  {
   "cell_type": "code",
   "execution_count": 58,
   "id": "dff5bc9a-984c-44e7-8d6e-1195287c4ef6",
   "metadata": {},
   "outputs": [
    {
     "name": "stdout",
     "output_type": "stream",
     "text": [
      "['one', 'six', 'ten', 'two']\n"
     ]
    }
   ],
   "source": [
    "# an example with multiple arguments in lambda function using map() :\n",
    "letter1 = ['o', 's', 't', 't']\n",
    "letter2 = ['n', 'i', 'e', 'w']\n",
    "letter3 = ['e', 'x', 'n', 'o']\n",
    "numbers = map(lambda x, y, z: x+y+z, letter1, letter2, letter3)\n",
    "\n",
    "print(list(numbers))\n",
    "\n",
    "# we have combined three strings using 👉🏻+ operator in the lambda definition. \n",
    "# IMPORTANT: map() takes each element from iterable objects one by one and in order."
   ]
  },
  {
   "cell_type": "code",
   "execution_count": 73,
   "id": "0dd30dc4-abf2-4ec6-be22-467159f292e5",
   "metadata": {},
   "outputs": [
    {
     "name": "stdout",
     "output_type": "stream",
     "text": [
      "one six ten two\n"
     ]
    }
   ],
   "source": [
    "letter1 = ['o', 's', 't', 't', 'u', 'z', 'k']\n",
    "letter2 = ['n', 'i', 'e', 'w']\n",
    "letter3 = ['e', 'x', 'n', 'o', 'y']\n",
    "numbers = map(lambda x,y,z : x+y+z, letter1, letter2, letter3)  # dikkat etmemiz gereken: kac arguman varsa lambda icinde o kadar iterable olmalı\n",
    "print(*numbers)"
   ]
  },
  {
   "cell_type": "code",
   "execution_count": 62,
   "id": "949aa890-fbae-4c98-a379-61c9470a5580",
   "metadata": {},
   "outputs": [
    {
     "name": "stdout",
     "output_type": "stream",
     "text": [
      "[9, 11, 13]\n"
     ]
    }
   ],
   "source": [
    "# iki listedeki sayıları sırasıyla toplayarak yen bir listede gosterelim\n",
    "num1 = [4, 5, 6]\n",
    "num2 = [5, 6, 7]\n",
    "\n",
    "result = map(lambda n1, n2: n1+n2, num1, num2)  # 2 iterable var. dolayısıyla 2 arguman olmasına dikkat\n",
    "print(list(result))"
   ]
  },
  {
   "cell_type": "code",
   "execution_count": 9,
   "id": "e858a563-63a1-4a47-a3c1-3d31adeecf59",
   "metadata": {},
   "outputs": [
    {
     "name": "stdout",
     "output_type": "stream",
     "text": [
      "[6.0, 6.0, 6.0, 6.0]\n",
      "[6, 6, 6, 6]\n"
     ]
    }
   ],
   "source": [
    "# # iki listedeki sayıları sırasıyla toplayarak meanlerini yeni bir listede gosterelim\n",
    "num1 = [9, 6, 7, 4]\n",
    "num2 = [3, 6, 5, 8]\n",
    "\n",
    "result = map(lambda n1, n2: (n1+n2)/2, num1, num2)  \n",
    "print(list(result))\n",
    "print(list(map(lambda n1, n2: round((n1+n2)/2), num1, num2))) "
   ]
  },
  {
   "cell_type": "code",
   "execution_count": 80,
   "id": "ed185717-7441-4740-922a-028aed33bc66",
   "metadata": {},
   "outputs": [
    {
     "name": "stdout",
     "output_type": "stream",
     "text": [
      "[6.0, 6.0, 6.0, 6.0]\n"
     ]
    }
   ],
   "source": [
    "# yukarıdaki işlemde lambda kısmını bir değişkene (fonksyon halini alir bu degisken) atayarak da yapabiliriz\n",
    "num1 = [9, 6, 7, 4]\n",
    "num2 = [3, 6, 5, 8]\n",
    "\n",
    "func = lambda x,y: (x+y) / 2\n",
    "numbers = map(func, num1, num2)\n",
    "print(list(numbers))"
   ]
  },
  {
   "cell_type": "code",
   "execution_count": 59,
   "id": "f8ef7c48-08c9-42e3-94e3-8522a1abd46f",
   "metadata": {},
   "outputs": [
    {
     "name": "stdout",
     "output_type": "stream",
     "text": [
      "[3, 6, 9, 12, 15]\n"
     ]
    }
   ],
   "source": [
    "# listedeki sayıları product of 3\n",
    "number_list = [1, 2, 3, 4, 5]\n",
    "\n",
    "result = list(map(lambda a: a*3, number_list))\n",
    "print(result)"
   ]
  },
  {
   "cell_type": "code",
   "execution_count": 83,
   "id": "16f15bed-110d-405e-9bdd-337883ce009f",
   "metadata": {},
   "outputs": [
    {
     "name": "stdout",
     "output_type": "stream",
     "text": [
      "['i love you', 'you ate much', 'he works hard']\n",
      "i love you\n",
      "you ate much\n",
      "he works hard\n"
     ]
    }
   ],
   "source": [
    "# aşağıdaki 3 listeden anlamlı 3 cümle yapın\n",
    "words1 = [\"you\", \"much\", \"hard\"]\n",
    "words2 = [\"i\", \"you\", \"he\"]\n",
    "words3 = [\"love\", \"ate\", \"works\"]\n",
    "print(list(map(lambda x,y,z: x+\" \"+y+\" \"+z, words2, words3, words1)))  # positional arguments olduğu için sıralama önemli\n",
    "\n",
    "# ya da:\n",
    "\n",
    "sentence = list(map(lambda x,y,z: x+\" \"+y+\" \"+z, words2, words3, words1))\n",
    "for i in sentence:\n",
    "    print(i)"
   ]
  },
  {
   "cell_type": "code",
   "execution_count": null,
   "id": "6f4720db-60bd-47e7-9e93-f4865d6d5fae",
   "metadata": {},
   "outputs": [],
   "source": []
  },
  {
   "cell_type": "markdown",
   "id": "a456e4bb-30c8-4545-9670-fcc3e3cfdfff",
   "metadata": {},
   "source": [
    "# Lambda within filter() function :\n",
    "\n",
    "filter() filters the given sequence (iterable objects) with the help of a function (lambda) that tests each element in the sequence to be true or not.\n",
    "\n",
    "syntax: filter(function, sequence)"
   ]
  },
  {
   "cell_type": "code",
   "execution_count": 16,
   "id": "7aa747c6-33b1-49fe-a038-705954b67a7d",
   "metadata": {},
   "outputs": [
    {
     "name": "stdout",
     "output_type": "stream",
     "text": [
      "['e', 'i', 'e', 'e', 'a', 'a', 'ı', 'e', 'u', 'u', 'u', 'u', 'o', 'u', 'e', 'e', 'i', 'i', 'U', 'u', 'u', 'o', 'u']\n"
     ]
    }
   ],
   "source": [
    "# filter () çalışması: cümledeki sesli harfleri bulalım\n",
    "cümle = \"Ben size ders anlatırken huzur buluyorum. Dertlerimi Unutuyorum.\"\n",
    "\n",
    "def vowel(letter):\n",
    "    vowels = \"a e u i o ü ö ı\".split()  # listeye döndürdü\n",
    "    if letter.lower() in vowels:\n",
    "        return True\n",
    "    else:\n",
    "        return False\n",
    "    \n",
    "filter(vowel, cümle)  # on the air döndürür\n",
    "\n",
    "filtered_vowels = filter(vowel, cümle)\n",
    "print(list(filtered_vowels))"
   ]
  },
  {
   "cell_type": "code",
   "execution_count": 22,
   "id": "c50c618b-94ab-4ec8-ba9d-f96deec6fe78",
   "metadata": {},
   "outputs": [
    {
     "name": "stdout",
     "output_type": "stream",
     "text": [
      "e i e e a a ı e u u u u o u e e i i U u u o u\n"
     ]
    }
   ],
   "source": [
    "  # tekrar doldururuz \n",
    "print(*(filter(vowel, cümle)))"
   ]
  },
  {
   "cell_type": "code",
   "execution_count": 11,
   "id": "6eac4a36-7602-48c1-94fd-1f30a9c2b650",
   "metadata": {},
   "outputs": [
    {
     "name": "stdout",
     "output_type": "stream",
     "text": [
      "['e', 'i', 'e', 'e', 'a', 'a', 'e', 'u', 'u', 'u', 'u', 'o', 'u', 'e', 'e', 'i', 'i', 'U', 'u', 'u', 'o', 'u']\n"
     ]
    }
   ],
   "source": [
    "cümle = \"Ben size ders anlatırken huzur buluyorum. Dertlerimi Unutuyorum.\"\n",
    "vowels_list = [\"a\", \"e\", \"i\", \"o\", \"u\"]\n",
    "print(list(filter(lambda x: x if x.lower() in vowels_list else False, cümle)))"
   ]
  },
  {
   "cell_type": "code",
   "execution_count": 21,
   "id": "102ca004-6fae-4e06-bb2e-7c5aac4ccd12",
   "metadata": {},
   "outputs": [
    {
     "name": "stdout",
     "output_type": "stream",
     "text": [
      "B e n   s i z e   d e r s   a n l a t ı r k e n   h u z u r   b u l u y o r u m .   D e r t l e r i m i   U n u t u y o r u m .\n"
     ]
    }
   ],
   "source": [
    "print(*(filter(None, cümle)))  # None truthyleri döndürür, dolayısıyla boşluk dahil hersey döner\n"
   ]
  },
  {
   "cell_type": "code",
   "execution_count": 60,
   "id": "fd17e5a4-00e0-4d6d-8cad-85959c57b535",
   "metadata": {},
   "outputs": [
    {
     "name": "stdout",
     "output_type": "stream",
     "text": [
      "<class 'filter'>\n",
      "Even numbers are : [0, 2, 4, 6, 8]\n"
     ]
    }
   ],
   "source": [
    "# task: filter the even numbers in the given list\n",
    "first_ten = [0, 1, 2, 3, 4, 5, 6, 7, 8, 9] \n",
    "  \n",
    "even = filter(lambda x:x%2==0, first_ten) \n",
    "print(type(even))  # it's 'filter' type, \n",
    "                   # in order to print the result,\n",
    "                   # we'd better convert it into the list type\n",
    "\n",
    "print('Even numbers are :', list(even))\n",
    "\n",
    "# filter() filters each element in the iterable object, depending on whether the function's result is True or False."
   ]
  },
  {
   "cell_type": "code",
   "execution_count": 86,
   "id": "dcd60216-2536-4338-8ccf-9dcc655a72e6",
   "metadata": {},
   "outputs": [
    {
     "name": "stdout",
     "output_type": "stream",
     "text": [
      "1 3 5 7 9\n"
     ]
    }
   ],
   "source": [
    "first_ten = [0, 1, 2, 3, 4, 5, 6, 7, 8, 9] \n",
    "\n",
    "odd1 = filter(lambda x: x%2== 0, first_ten)\n",
    "odd2 = filter(lambda x: x%2==1, first_ten)\n",
    "odd3 = filter(lambda x: not x%2 == 0, first_ten)\n",
    "odd4 = filter(lambda x: x%2, first_ten)\n",
    "\n",
    "print(*odd3)"
   ]
  },
  {
   "cell_type": "code",
   "execution_count": 61,
   "id": "f92c7b61-6800-4395-abea-0cd89d895525",
   "metadata": {},
   "outputs": [
    {
     "name": "stdout",
     "output_type": "stream",
     "text": [
      "Vowels are : ['a', 'e', 'i']\n"
     ]
    }
   ],
   "source": [
    "# filter the vowels in a given list\n",
    "\n",
    "vowel_list = ['a', 'e', 'i', 'o', 'u']\n",
    "first_ten = ['a', 'b', 'c', 'd', 'e', 'f', 'g', 'h', 'i', 'j']\n",
    "  \n",
    "vowels = filter(lambda x: True if x in vowel_list else False, first_ten) \n",
    "\n",
    "print('Vowels are :', list(vowels))"
   ]
  },
  {
   "cell_type": "code",
   "execution_count": 101,
   "id": "4e63a6b3-854e-48e2-bf83-1249f9d467a9",
   "metadata": {},
   "outputs": [
    {
     "data": {
      "text/plain": [
       "['a', 'e', 'i']"
      ]
     },
     "execution_count": 101,
     "metadata": {},
     "output_type": "execute_result"
    }
   ],
   "source": [
    "vowel_list = ['a', 'e', 'i', 'o', 'u']\n",
    "first_ten = ['a', 'b', 'c', 'd', 'e', 'f', 'g', 'h', 'i', 'j']\n",
    "# function tanımlayarak yapalım\n",
    "func = lambda x: True if x in vowel_list else False\n",
    "vowels = filter(func, first_ten)\n",
    "list(vowels)"
   ]
  },
  {
   "cell_type": "code",
   "execution_count": 102,
   "id": "a7e9749e-e10e-4700-9816-5ff9e9a8563c",
   "metadata": {},
   "outputs": [
    {
     "data": {
      "text/plain": [
       "['a', 'e', 'i']"
      ]
     },
     "execution_count": 102,
     "metadata": {},
     "output_type": "execute_result"
    }
   ],
   "source": [
    "# daha kısa bir yazılısı\n",
    "vowel_list = ['a', 'e', 'i', 'o', 'u']\n",
    "first_ten = ['a', 'b', 'c', 'd', 'e', 'f', 'g', 'h', 'i', 'j']\n",
    "\n",
    "vowels2 = filter(lambda x: x in vowel_list, first_ten)\n",
    "list(vowels2)"
   ]
  },
  {
   "cell_type": "code",
   "execution_count": 12,
   "id": "4ff53300-a5ec-4fd7-99d8-62cd958bae64",
   "metadata": {},
   "outputs": [
    {
     "name": "stdout",
     "output_type": "stream",
     "text": [
      "a\n",
      "E\n",
      "i\n"
     ]
    }
   ],
   "source": [
    "# func define ile klasik cözüm\n",
    "vowel_list = ['a', 'e', 'i', 'o', 'u']\n",
    "first_ten = ['a', 'b', 'c', 'd', 'E', 'f', 'g', 'h', 'i', 'j']\n",
    "\n",
    "\n",
    "def vowels(n):\n",
    "    if n.lower() in vowel_list:\n",
    "        return True\n",
    "    else:\n",
    "        False\n",
    "for i in first_ten:\n",
    "    if vowels(i):\n",
    "        print(i)\n",
    "    else:\n",
    "        pass"
   ]
  },
  {
   "cell_type": "code",
   "execution_count": 89,
   "id": "faf211b1-96e3-418c-a171-f0d687490116",
   "metadata": {},
   "outputs": [
    {
     "name": "stdout",
     "output_type": "stream",
     "text": [
      "swim me kiwi\n"
     ]
    }
   ],
   "source": [
    "# uzunluğu 5ten kücük olan stringleri ayır\n",
    "\n",
    "\n",
    "words = [\"apple\", \"swim\", \"clock\", \"me\", \"kiwi\", \"banana\"]\n",
    "\n",
    "filtered_words = filter(lambda x: True if len(x) < 5 else False, words)\n",
    "\n",
    "print(*filtered_words)\n",
    "\n"
   ]
  },
  {
   "cell_type": "code",
   "execution_count": 90,
   "id": "e90030ff-78f0-403f-aa06-8651cfb23be0",
   "metadata": {},
   "outputs": [
    {
     "name": "stdout",
     "output_type": "stream",
     "text": [
      "swim\n",
      "me\n",
      "kiwi\n"
     ]
    }
   ],
   "source": [
    "\n",
    "words = [\"apple\", \"swim\", \"clock\", \"me\", \"kiwi\", \"banana\"]\n",
    "\n",
    "for i in filter(lambda x: len(x) < 5, words):\n",
    "    print(i)"
   ]
  },
  {
   "cell_type": "code",
   "execution_count": 14,
   "id": "fdcd98c1-c99d-4aa7-9c3c-913a9058f583",
   "metadata": {},
   "outputs": [
    {
     "name": "stdout",
     "output_type": "stream",
     "text": [
      "swim\n",
      "me\n",
      "kiwi\n"
     ]
    }
   ],
   "source": [
    "# func define ile klasik cozum\n",
    "words = [\"apple\", \"swim\", \"clock\", \"me\", \"kiwi\", \"banana\"]\n",
    "def shorty(n):\n",
    "    if len(n) < 5:\n",
    "        return True\n",
    "    else:\n",
    "        return False\n",
    "\n",
    "for i in words:\n",
    "    if shorty(i):\n",
    "        print(i)\n",
    "    else:\n",
    "        pass"
   ]
  },
  {
   "cell_type": "code",
   "execution_count": 97,
   "id": "96247741-1aaa-4bf0-baba-b32c74288a18",
   "metadata": {},
   "outputs": [
    {
     "name": "stdout",
     "output_type": "stream",
     "text": [
      "[('a', 'x'), ('b', 'y'), ('c', 'z')]\n",
      "[<zip object at 0x7ff7711e9ec0>, <zip object at 0x7ff7711e9300>, <zip object at 0x7ff7711e9880>]\n"
     ]
    }
   ],
   "source": [
    "# map() ile eşleşen elemanlardan tıple yapalım\n",
    "letter1 = [\"a\", \"b\", \"c\"]\n",
    "letter2 = [\"x\", \"y\", \"z\"]\n",
    "\n",
    "# yol 1\n",
    "\n",
    "print(list(zip(letter1, letter2)))\n",
    "\n",
    "# yol 2\n",
    "\n",
    "list(map(lambda x,y: (x,y), letter1, letter2))\n",
    "\n",
    "# yol3 asagida:  (gereksiz ama bilelim mantigini)"
   ]
  },
  {
   "cell_type": "code",
   "execution_count": 98,
   "id": "18fa1fee-c6f8-4c92-b7d0-565bbf76bffc",
   "metadata": {},
   "outputs": [
    {
     "name": "stdout",
     "output_type": "stream",
     "text": [
      "('a', 'x')\n",
      "('b', 'y')\n",
      "('c', 'z')\n"
     ]
    }
   ],
   "source": [
    "birlestir = map(zip, letter1, letter2)  # zip obje on the air oldugı icin print halinde ilk objeler cikar sadece. asagi cell\n",
    "for i in birlestir:  # bu map objenin elemanlarını verir. her i de ustteki zip objeler olacak sırasıyla.\n",
    "    for j in i:  # onun icindekilerini gormek icin\n",
    "        print(j)"
   ]
  },
  {
   "cell_type": "code",
   "execution_count": 100,
   "id": "26e3a5c0-cd10-4403-b329-21a68a90d117",
   "metadata": {},
   "outputs": [
    {
     "name": "stdout",
     "output_type": "stream",
     "text": [
      "<map object at 0x7ff770f92ac0>\n",
      "<map object at 0x7ff770f92520>\n"
     ]
    }
   ],
   "source": [
    "birlestir = map(zip, letter1, letter2)\n",
    "print(birlestir)\n",
    "print(map(zip, letter1, letter2))"
   ]
  },
  {
   "cell_type": "code",
   "execution_count": 2,
   "id": "461385de-d69f-49a9-a987-ca5fe0fa3355",
   "metadata": {},
   "outputs": [
    {
     "name": "stdout",
     "output_type": "stream",
     "text": [
      "Gone Girl\n",
      "The Silent Patient\n"
     ]
    }
   ],
   "source": [
    "# Task: filter out the names of books that are costlier than 500.\n",
    "\n",
    "books = [\n",
    "\n",
    "   {\"Title\":\"Angels and Demons\", \"Author\":\"Dan Brown\", \"Price\":500},\n",
    "\n",
    "   {\"Title\":\"Gone Girl\", \"Author\":\"Gillian Flynn\", \"Price\":730},\n",
    "\n",
    "   {\"Title\":\"The Silent Patient\", \"Author\":\"Alex Michaelidis\", \"Price\":945},\n",
    "\n",
    "   {\"Title\":\"Before I Go To Sleep\", \"Author\":\"S.J Watson\", \"Price\":400}\n",
    "\n",
    "   ]\n",
    "\n",
    "def func(book):\n",
    "    if book[\"Price\"] > 500:\n",
    "        return True\n",
    "    else:\n",
    "        return False\n",
    "\n",
    "filtered_object = filter(func, books)\n",
    "for d in filtered_object:\n",
    "    print(dict(d)[\"Title\"])  "
   ]
  },
  {
   "cell_type": "code",
   "execution_count": 40,
   "id": "c6deff1c-7611-467a-824f-88c0f7ea7478",
   "metadata": {},
   "outputs": [
    {
     "name": "stdout",
     "output_type": "stream",
     "text": [
      "Gone Girl\n",
      "The Silent Patient\n"
     ]
    }
   ],
   "source": [
    "books = [\n",
    "\n",
    "   {\"Title\":\"Angels and Demons\", \"Author\":\"Dan Brown\", \"Price\":500},\n",
    "\n",
    "   {\"Title\":\"Gone Girl\", \"Author\":\"Gillian Flynn\", \"Price\":730},\n",
    "\n",
    "   {\"Title\":\"The Silent Patient\", \"Author\":\"Alex Michaelidis\", \"Price\":945},\n",
    "\n",
    "   {\"Title\":\"Before I Go To Sleep\", \"Author\":\"S.J Watson\", \"Price\":400}\n",
    "\n",
    "   ]\n",
    "\n",
    "\n",
    "for book in books:\n",
    "    if book[\"Price\"] > 500:\n",
    "        print(book[\"Title\"])"
   ]
  },
  {
   "cell_type": "code",
   "execution_count": 45,
   "id": "8981c6af-2ab1-49ae-9bdf-c07a22fa357e",
   "metadata": {},
   "outputs": [
    {
     "data": {
      "text/plain": [
       "['Gone Girl', 'The Silent Patient']"
      ]
     },
     "execution_count": 45,
     "metadata": {},
     "output_type": "execute_result"
    }
   ],
   "source": [
    "books = [\n",
    "\n",
    "   {\"Title\":\"Angels and Demons\", \"Author\":\"Dan Brown\", \"Price\":500},\n",
    "\n",
    "   {\"Title\":\"Gone Girl\", \"Author\":\"Gillian Flynn\", \"Price\":730},\n",
    "\n",
    "   {\"Title\":\"The Silent Patient\", \"Author\":\"Alex Michaelidis\", \"Price\":945},\n",
    "\n",
    "   {\"Title\":\"Before I Go To Sleep\", \"Author\":\"S.J Watson\", \"Price\":400}\n",
    "\n",
    "   ]\n",
    "\n",
    "[book[\"Title\"] for book in books if book[\"Price\"]>500]"
   ]
  },
  {
   "cell_type": "code",
   "execution_count": 45,
   "id": "67c68796-6d75-410f-a7a2-d3ba64a51cbb",
   "metadata": {},
   "outputs": [
    {
     "name": "stdout",
     "output_type": "stream",
     "text": [
      "['oranges', 'and', 'loaf', 'st.', \"clement's.\", 'you', 'owe', 'me', 'three', 'farthings,', 'say', 'the', 'bells', 'of', 'st.', \"martin's\"]\n",
      "1\n"
     ]
    }
   ],
   "source": [
    "# asagidaki cümlede a ile baslyan kelime sayısını bulunuz.\n",
    "cumle = \"Oranges and loaf St. Clement's. You owe me three farthings, Say the bells of St. Martin's\"\n",
    "\n",
    "listem = cumle.lower().split()\n",
    "print(listem)\n",
    "\n",
    "\n",
    "def finder(a):\n",
    "    i=0\n",
    "    count= 0\n",
    "    while i < len(listem):\n",
    "        \n",
    "        if a[i].startswith(\"a\"):\n",
    "            count = count+1\n",
    "        i += 1\n",
    "    print(count)\n",
    "finder(listem)    "
   ]
  },
  {
   "cell_type": "code",
   "execution_count": 5,
   "id": "ee2ad3ca-c55b-47d8-a2aa-ab86bf5fbdc1",
   "metadata": {},
   "outputs": [
    {
     "data": {
      "text/plain": [
       "'Able was I ere I saw Elba. is a palindrome'"
      ]
     },
     "execution_count": 5,
     "metadata": {},
     "output_type": "execute_result"
    }
   ],
   "source": [
    "# Task : Write a function/functions that checks whether the sentence you get from the user is a palindrome. (Do not consider punctuation and special characters. Only consider \"alphanumeric\" characters.) input : \"ey edip adana'da, pide ye!\"\n",
    "# output : \"ey edip adana'da, pide ye!\" is a palindrome\n",
    "\n",
    "user_sent = \"Able was I ere I saw Elba.\"\n",
    "\n",
    "def is_palindrome(n):\n",
    "    n = list(filter(lambda x: x if x.isalpha() or x.isnumeric() else False, user_sent.lower().strip()))\n",
    "    if n == n[::-1]:\n",
    "        return (f\"{user_sent} is a palindrome\")\n",
    "    else:\n",
    "        return(f\"{user_sent} is not a palindrome\")\n",
    "\n",
    "is_palindrome(user_sent)\n"
   ]
  },
  {
   "cell_type": "code",
   "execution_count": 6,
   "id": "6f1b963d-ef54-4ed2-8e9b-a3adc08ea2b3",
   "metadata": {},
   "outputs": [
    {
     "data": {
      "text/plain": [
       "'Able was I ere I saw Elba. is a palindrome'"
      ]
     },
     "execution_count": 6,
     "metadata": {},
     "output_type": "execute_result"
    }
   ],
   "source": [
    "# traditional way:\n",
    "\n",
    "user_sent = \"Able was I ere I saw Elba.\"\n",
    "\n",
    "sent2 = []\n",
    "\n",
    "for i in user_sent.lower().split():\n",
    "    if i.isalpha() or i.isnumeric():\n",
    "        sent2.append(i)\n",
    "\n",
    "def is_palindrome(n):\n",
    "    \n",
    "    if n == n[::-1]:\n",
    "        return (f\"{user_sent} is a palindrome\")\n",
    "    else:\n",
    "        return(f\"{user_sent} is not a palindrome\")\n",
    "        \n",
    "status(sent2)"
   ]
  },
  {
   "cell_type": "markdown",
   "id": "fab2a3db-126c-4f55-8ef0-424efae4737e",
   "metadata": {},
   "source": [
    "# Lambda within User-Defined Functions\n",
    "\n",
    "**Lambda within def**\n",
    "\n",
    "Using a lambda statement in a user-defined function provides us useful opportunities. We can define a group of functions that we may use later in our program flow. Take a look at the following example :"
   ]
  },
  {
   "cell_type": "code",
   "execution_count": 63,
   "id": "b67fe3d5-5893-47ca-8b81-222c438d6a35",
   "metadata": {},
   "outputs": [
    {
     "name": "stdout",
     "output_type": "stream",
     "text": [
      "4\n",
      "8\n",
      "16\n"
     ]
    }
   ],
   "source": [
    "def modular_function(n):\n",
    "    return lambda x: x ** n  # burada return kisminda n'e yeni bir fonksiyon atamis oluyoruz\n",
    "    \n",
    "power_of_2 = modular_function(2)  # first sub-function derived from def\n",
    "power_of_3 = modular_function(3)  # second sub-function derived from def\n",
    "power_of_4 = modular_function(4)  # third sub-function derived from def\n",
    "\n",
    "print(power_of_2(2))  # 2 to the power of 2\n",
    "print(power_of_3(2))  # 2 to the power of 3\n",
    "print(power_of_4(2))  # 2 to the power of 4"
   ]
  },
  {
   "cell_type": "code",
   "execution_count": 5,
   "id": "679685bc-575c-4b43-8423-457c989bcfab",
   "metadata": {},
   "outputs": [
    {
     "name": "stdout",
     "output_type": "stream",
     "text": [
      "45\n"
     ]
    }
   ],
   "source": [
    "multiply = lambda x: x * 4\n",
    "add = lambda x, y: x + y\n",
    "print(add(multiply(10), 5))"
   ]
  },
  {
   "cell_type": "code",
   "execution_count": 106,
   "id": "b72a9fdc-8584-4bcd-b11b-276a8edfd4a6",
   "metadata": {},
   "outputs": [
    {
     "name": "stdout",
     "output_type": "stream",
     "text": [
      "zor zor \n",
      "çok zor çok zor çok zor \n",
      "konuymus konuymus konuymus konuymus \n"
     ]
    }
   ],
   "source": [
    "def repeater(n):\n",
    "    return lambda x: x*n\n",
    "\n",
    "repeat2 = repeater(2)\n",
    "repeat3 = repeater(3)\n",
    "repeat4 = repeater(4)\n",
    "\n",
    "print(repeat2(\"zor \"))\n",
    "print(repeat3(\"çok zor \"))\n",
    "print(repeat4(\"konuymus \"))"
   ]
  },
  {
   "cell_type": "code",
   "execution_count": 107,
   "id": "756aca39-8beb-488a-86dd-c9ee1c09056c",
   "metadata": {},
   "outputs": [
    {
     "name": "stdout",
     "output_type": "stream",
     "text": [
      "zor zor \n",
      "çok zor çok zor çok zor \n",
      "konuymus konuymus konuymus konuymus \n"
     ]
    }
   ],
   "source": [
    "def repeater(n):\n",
    "    return lambda x: x*n\n",
    "\n",
    "\n",
    "print(repeater(2)(\"zor \"))\n",
    "print(repeater(3)(\"çok zor \"))\n",
    "print(repeater(4)(\"konuymus \"))"
   ]
  },
  {
   "cell_type": "markdown",
   "id": "0f848c99-211e-4d1f-858b-4683f7f80c4c",
   "metadata": {},
   "source": [
    "The modular_function takes one argument, number n, and returns a function that takes the power of any given number x by that n. Alt fonksiyonlar oluşturarak cok daha hızlı sonuc aldık"
   ]
  },
  {
   "cell_type": "code",
   "execution_count": 111,
   "id": "26acde82-5d68-4daf-988e-20b4017bf1a7",
   "metadata": {},
   "outputs": [
    {
     "name": "stdout",
     "output_type": "stream",
     "text": [
      "hello :|\n",
      "None\n",
      "hello :)\n",
      "None\n"
     ]
    }
   ],
   "source": [
    "#stringleri emoji ile bitiren bir kod yaz\n",
    "\n",
    "def functioner(emoji = \"\"):  # herhangi bir değer girmediğimizde de çalışmasını istediğimiz için karşısına boş str ekledik. yani functioner() da calissin diye\n",
    "    return lambda message : print(message, emoji)  # emoji yukarıda tanımladığımız fonksiyonun parametresinden gelecek\n",
    "\n",
    "gulen_yuz = functioner(\":)\")  # bu lambda da emojinin yerine gececek\n",
    "uzgun_yuz = functioner(\":(\")\n",
    "donuk_yuz = functioner(\":|\")\n",
    "\n",
    "print(donuk_yuz(\"hello\"))\n",
    "print(gulen_yuz(\"hello\"))\n"
   ]
  },
  {
   "cell_type": "code",
   "execution_count": 112,
   "id": "c1205650-563a-48f0-bb8f-780446f30662",
   "metadata": {},
   "outputs": [
    {
     "name": "stdout",
     "output_type": "stream",
     "text": [
      "hello  :(\n"
     ]
    }
   ],
   "source": [
    "# su sekilde de olur\n",
    "(lambda x: print(x, \":(\"))(\"hello \")"
   ]
  },
  {
   "cell_type": "code",
   "execution_count": null,
   "id": "ce5e0d4c-9be0-4e74-81f9-c3bd52a8da97",
   "metadata": {},
   "outputs": [],
   "source": []
  },
  {
   "cell_type": "code",
   "execution_count": 4,
   "id": "920c36b5-4a9d-4f0a-8fb2-3f151db4b094",
   "metadata": {},
   "outputs": [
    {
     "name": "stdout",
     "output_type": "stream",
     "text": [
      "9\n",
      "sabredin, çalışın\n",
      "None\n",
      "True\n"
     ]
    }
   ],
   "source": [
    "# fonksiyon icinde max, print veya sorted gibi bir fonksiyon tanimlayan bir fonksiyon yaz. bunu ismimizle birlestirsin\n",
    "\n",
    "def function_generator(func_name):\n",
    "    return lambda x: func_name(x)\n",
    "\n",
    "edwin_max = function_generator(max)\n",
    "print(edwin_max([1,3,5,7,9]))\n",
    "\n",
    "edwin_print = function_generator(print)\n",
    "print(edwin_print(\"sabredin, çalışın\"))\n",
    "\n",
    "edwin_bool = function_generator(bool)\n",
    "print(edwin_bool(1))"
   ]
  },
  {
   "cell_type": "code",
   "execution_count": 120,
   "id": "0c05c893-f1c1-479f-a4f3-18477d519ddc",
   "metadata": {},
   "outputs": [
    {
     "name": "stdout",
     "output_type": "stream",
     "text": [
      "1 2 3 4\n"
     ]
    }
   ],
   "source": [
    "def x():\n",
    "    return 1,2,3,4\n",
    "\n",
    "a,b,c,d = x()  # bu sekilde atama yapabilirizyani a,b,c,d = 1,2,3,4 ile aynı\n",
    "print(a,b,c,d)"
   ]
  },
  {
   "cell_type": "code",
   "execution_count": 126,
   "id": "cefd680d-026f-4057-b09e-b4fd26656e09",
   "metadata": {},
   "outputs": [
    {
     "data": {
      "text/plain": [
       "2"
      ]
     },
     "execution_count": 126,
     "metadata": {},
     "output_type": "execute_result"
    }
   ],
   "source": [
    "# most frequent elemanı fonksyionla bulalım. syyılar farklıysa ve tekrar eden yoksa sıfır versin.\n",
    "# ilk tekrar eden var mi bakarız, sonra kac lkere tekrar\n",
    "num = [1,1,1,4,5,5]\n",
    "\n",
    "# yol 1\n",
    "# max(num, key = num.count) bu direkt 1i verir. en cok tekrar edeni\n",
    "# num.count(max(num, key=num.count))  bu da 3 kere tekrar ettiğini verir\n",
    "\n",
    "def equal(a,b,c):\n",
    "    num = [a,b,c] \n",
    "    sonuc = num.count(max(num, key=num.count))\n",
    "    \n",
    "    if sonuc > 1:\n",
    "        return sonuc\n",
    "    else:\n",
    "        return 0\n",
    "    \n",
    "equal(1,5,5)\n"
   ]
  },
  {
   "cell_type": "code",
   "execution_count": 129,
   "id": "5ab0581b-a51a-46a7-b4ae-31b29fc920b1",
   "metadata": {},
   "outputs": [
    {
     "data": {
      "text/plain": [
       "7"
      ]
     },
     "execution_count": 129,
     "metadata": {},
     "output_type": "execute_result"
    }
   ],
   "source": [
    "# eğer belirsiz sayıda arguman varsa(user-defined func ve arbitrary number of arg ile cozumu)\n",
    "def equal(*args):\n",
    "    num = list(args)  # *args tuple getirr, list ile gorelim diye cevirelim\n",
    "    sonuc = num.count(max(num, key=num.count))\n",
    "    \n",
    "    if sonuc > 1:\n",
    "        return sonuc\n",
    "    else:\n",
    "        return 0\n",
    "    \n",
    "equal(1,2,3,1,2,3,1,2,3,4,2,4,2,4,5,3,2,4,4,2) "
   ]
  },
  {
   "cell_type": "code",
   "execution_count": 33,
   "id": "4c96ad0a-8ae5-461c-868a-f2c1b475ece0",
   "metadata": {},
   "outputs": [],
   "source": [
    "# lambda ile cozumu\n",
    "\n",
    "# equalambda = lambda x, y, z : num.count(max(num, key = num.count))\n",
    "\n",
    "# DIKKAT! lambdada num yerine x, y ve z parametreleri gelmeli!!!"
   ]
  },
  {
   "cell_type": "code",
   "execution_count": 35,
   "id": "026425d7-6a82-4043-80f3-ac2fe16179b7",
   "metadata": {},
   "outputs": [],
   "source": [
    "# num yazan yerleri silip yerine [x, y, z] listesini koyacağım:\n",
    "\n",
    "equalambda = lambda x, y, z : [x, y, z].count(max([x, y, z], key = [x, y, z].count))"
   ]
  },
  {
   "cell_type": "code",
   "execution_count": 36,
   "id": "b4c908bf-a3a0-4cb5-a330-b553804ad505",
   "metadata": {},
   "outputs": [
    {
     "data": {
      "text/plain": [
       "2"
      ]
     },
     "execution_count": 36,
     "metadata": {},
     "output_type": "execute_result"
    }
   ],
   "source": [
    "equalambda(1, 5, 5)"
   ]
  },
  {
   "cell_type": "code",
   "execution_count": 37,
   "id": "53165f75-5cbb-42e2-9a11-c7ba7c47317d",
   "metadata": {},
   "outputs": [
    {
     "data": {
      "text/plain": [
       "1"
      ]
     },
     "execution_count": 37,
     "metadata": {},
     "output_type": "execute_result"
    }
   ],
   "source": [
    "equalambda(1,2,3)\n",
    "\n",
    "# bu durumda 0 vermesini istiyordum! \n",
    "# bunu lambdada sağlayabilmek için ternary yapısını kullanmalıyım:"
   ]
  },
  {
   "cell_type": "code",
   "execution_count": null,
   "id": "e2d9e301-2ec4-400d-9cef-4cc85bda51eb",
   "metadata": {},
   "outputs": [],
   "source": [
    "equalambda = lambda x, y, z : [x, y, z].count(max([x, y, z], key = [x, y, z].count))\\\n",
    "if [x, y, z].count(max([x, y, z], key = [x, y, z].count)) > 1  else 0\n",
    "\n",
    "# DİKKAT! Ternary operator yapısı gereği; if'den önce return edecek sonuç yazıldı. \n",
    "# return edecek değer : [x, y, z].count(max([x, y, z], key = [x, y, z].count))\n",
    "# sonra else'e kadar \"condition\" bölümü : [x, y, z].count(max([x, y, z], key = [x, y, z].count)) > 1\n",
    "# else'den sonrası ise tekrar eden elemanın sayısı 2'den küçük olması halinde return edecek olan değer: 0\n",
    "\n",
    "# GENEL ANLAMDA BUNU YAPMIŞ OLDUK: sonuç if sonuç > 1 else 0"
   ]
  },
  {
   "cell_type": "code",
   "execution_count": 38,
   "id": "1adf19e3-ccc2-4b70-ac17-64522da7342b",
   "metadata": {},
   "outputs": [
    {
     "name": "stdout",
     "output_type": "stream",
     "text": [
      "1\n",
      "2\n"
     ]
    }
   ],
   "source": [
    "print(equalambda(1,2,3))\n",
    "print(equalambda(1,5,5))"
   ]
  },
  {
   "cell_type": "code",
   "execution_count": null,
   "id": "9f12abd0-e6ec-4f5e-8577-1df0867bd2ae",
   "metadata": {},
   "outputs": [],
   "source": []
  },
  {
   "cell_type": "markdown",
   "id": "77504c0d-3773-4a0b-b5b7-af0c2c74e508",
   "metadata": {},
   "source": [
    "**Task** \n",
    "Using while loop and an if statement write a function named name_adder which appends all the elements in a list to a new list unless the element is an empty string: \"\"."
   ]
  },
  {
   "cell_type": "code",
   "execution_count": 31,
   "id": "456679d0-2a43-44e0-bcca-cac934d340d0",
   "metadata": {},
   "outputs": [
    {
     "name": "stdout",
     "output_type": "stream",
     "text": [
      "['Joe', 'Sarah', 'Mike', 'Jess', 'Matt', 'Greg']\n"
     ]
    }
   ],
   "source": [
    "lst1=[\"Joe\", \"Sarah\", \"Mike\", \"Jess\", \"\", \"Matt\", \"\", \"Greg\"]\n",
    "\n",
    "new_list = []\n",
    "def name_adder(a):\n",
    "    \n",
    "    i = 0\n",
    "    while i < len(a):\n",
    "        if a[i]:\n",
    "            new_list.append(a[i])\n",
    "        i += 1\n",
    "    return new_list\n",
    "\n",
    "name_adder(lst1)"
   ]
  },
  {
   "cell_type": "code",
   "execution_count": 8,
   "id": "53d3eb15-5e59-4082-99d1-568948a98ad7",
   "metadata": {},
   "outputs": [
    {
     "name": "stdout",
     "output_type": "stream",
     "text": [
      "['Joe', 'Sarah', 'Mike', 'Jess', 'Matt', 'Greg']\n"
     ]
    }
   ],
   "source": [
    "lst1=[\"Joe\", \"Sarah\", \"Mike\", \"Jess\", \"\", \"Matt\", \"\", \"Greg\"]\n",
    "print(list(filter(lambda x: True if x != \"\" else False, lst1)))"
   ]
  },
  {
   "cell_type": "code",
   "execution_count": 65,
   "id": "233dc1cb-fb4e-4c6e-87bc-d76e4d04086b",
   "metadata": {},
   "outputs": [
    {
     "name": "stdout",
     "output_type": "stream",
     "text": [
      "['LMS', 'yolu', 'bekleyenlere', 'gelsin']\n"
     ]
    }
   ],
   "source": [
    "lms =[\"LMS\", \"yolu\", \"\", \"bekleyenlere\", \"\", \"gelsin\", \"\"]\n",
    "print(list(filter(lambda x: True if x != \"\" else False, lms)))"
   ]
  },
  {
   "cell_type": "code",
   "execution_count": null,
   "id": "361f4bcf-ed05-4013-8b96-126e80a73a87",
   "metadata": {},
   "outputs": [],
   "source": []
  },
  {
   "cell_type": "code",
   "execution_count": null,
   "id": "69117bff-0134-4edd-b2b7-8dc8c3025f4f",
   "metadata": {},
   "outputs": [],
   "source": []
  },
  {
   "cell_type": "markdown",
   "id": "9a95bc1d-40a6-4a31-90b7-af4c03c8f222",
   "metadata": {},
   "source": [
    "**Task: Robot-show me my way please!**\n",
    "coordinates"
   ]
  },
  {
   "cell_type": "code",
   "execution_count": 1,
   "id": "38ed90d6-2ce6-45ad-87db-157b31f26f6a",
   "metadata": {},
   "outputs": [],
   "source": [
    "# aşağıdaki gibi commands verilen bir robotun yolu nerde sonlanır\n",
    "command = [\"right 20\", \"right 30\", \"left 50\", \"up 10\", \"down 20\"]\n",
    "\n",
    "x = y = 0  # baslangic npktasi 0. x ve y eksenli koordinat cizgisinde hareket ettiğini düşünerek biri yatay yolu digeri\n",
    "# dikey yolu kasteden iki degisken belirledik\n",
    "\n",
    "# ilk olarak listteki stringlerdeki alpha ve numeric ayrılmalı. biri yön biri de ne kadar. ayıralım ki right,\n",
    "# left up downları kendi aralarında toplayabilelim. o zaman bunları koşula bağlamalıyız. right ve left gorunce x ekseninde\n",
    "# up ve down da y ekseninde hareket edecegini bilsin. right + x left -x; up +y down -y\n",
    "\n",
    "# strlerde t veya f veren startswith kullanarak r-l-u-d ile baslayanlari gruplayabiliriz."
   ]
  },
  {
   "cell_type": "code",
   "execution_count": 8,
   "id": "5bec64b1-471a-4e45-affc-641b45637511",
   "metadata": {},
   "outputs": [
    {
     "data": {
      "text/plain": [
       "[0, -10]"
      ]
     },
     "execution_count": 8,
     "metadata": {},
     "output_type": "execute_result"
    }
   ],
   "source": [
    "# strlerdeki alpha ve numericleri nasıl ayıracağız\n",
    "command = [\"right 20\", \"right 30\", \"left 50\", \"up 10\", \"down 20\"]\n",
    "x = y = 0\n",
    "for i in range(len(command)):\n",
    "    if command[i].startswith(\"r\"): x = x + int(command[i].split()[1])  # son x kısmı strdeki sayıları xe almak icin. 0+20\n",
    "    elif command[i].startswith(\"l\"): x = x - int(command[i].split()[1])\n",
    "    elif command[i].startswith(\"u\"): y = y + int(command[i].split()[1])\n",
    "    elif command[i].startswith(\"d\"): y = y - int(command[i].split()[1])  # r l ve u degilse sadece d kaldigi icin else de yazılabilir burda\n",
    "\n",
    "[x,y]\n",
    "    "
   ]
  },
  {
   "cell_type": "code",
   "execution_count": null,
   "id": "8950bb80-6d6f-4e4f-b527-c9f7c1ca26c1",
   "metadata": {},
   "outputs": [],
   "source": []
  },
  {
   "cell_type": "markdown",
   "id": "172e51e0-d413-4097-9be8-48178228538a",
   "metadata": {},
   "source": [
    "# TASK : s == \"\" ?\n",
    "\n",
    "Valid Parantheses\n",
    "\n",
    "```\n",
    "Input        Output\n",
    "--------:    ------:\n",
    "\"()\"         True\n",
    "\"()[]{}\"     True\n",
    "\"(]\"         False\n",
    "\"([)]\"       False\n",
    "\"{[]}\"       True\n",
    "\"\"           True\n",
    "```"
   ]
  },
  {
   "cell_type": "code",
   "execution_count": 15,
   "id": "5fbc42fb-cfcf-4d8d-9884-0307f12b5354",
   "metadata": {},
   "outputs": [],
   "source": [
    "s = \"[([{({})}]({}))\""
   ]
  },
  {
   "cell_type": "code",
   "execution_count": 16,
   "id": "446eb009-b3e7-475d-b69b-c2d68e15483e",
   "metadata": {},
   "outputs": [],
   "source": [
    "def isValid(s) :\n",
    "    while \"()\" in s or \"[]\" in s or \"{}\" in s :\n",
    "        s = s.replace(\"()\", \"\").replace(\"[]\", \"\").replace(\"{}\", \"\")\n",
    "    return s == \"\""
   ]
  },
  {
   "cell_type": "code",
   "execution_count": 23,
   "id": "511ed906-98a9-44f5-a40c-ca16c92e2362",
   "metadata": {},
   "outputs": [
    {
     "data": {
      "text/plain": [
       "False"
      ]
     },
     "execution_count": 23,
     "metadata": {},
     "output_type": "execute_result"
    }
   ],
   "source": [
    "isValid(s)"
   ]
  },
  {
   "cell_type": "markdown",
   "id": "e20db546-cf68-43cf-a289-105631c535df",
   "metadata": {},
   "source": [
    "**Write a Python program to find the factorial of a number using recursive function**\n",
    "\n",
    "What is factorial?\n",
    "\n",
    "Factorial is a non-negative integer. It is the product of all positive integers less than or equal to that number you ask for factorial. It is denoted by an exclamation sign (!)"
   ]
  },
  {
   "cell_type": "code",
   "execution_count": 11,
   "id": "b0302d1d-6030-44a3-bfff-e7add387dd69",
   "metadata": {},
   "outputs": [
    {
     "name": "stdout",
     "output_type": "stream",
     "text": [
      "1\n",
      "2\n",
      "6\n",
      "24\n",
      "120\n",
      "\n",
      "120\n"
     ]
    }
   ],
   "source": [
    "# mesela sayı 5 olsun. faktöryel sayının 1den kendisine kadarki tüm rakmların çarpımı demek. f!\n",
    "sonuc = 1  # 0 olursa çarpmada sıfırlar\n",
    "for i in range(1, 6):\n",
    "    sonuc *= i\n",
    "    print(sonuc)  # bunu tek tek nasil gittigini gormek icin. asıl for seviyesinde olmalı\n",
    "print()\n",
    "print(sonuc)"
   ]
  },
  {
   "cell_type": "code",
   "execution_count": 14,
   "id": "31460cf3-f490-4d01-a1a2-135f34dfdbc5",
   "metadata": {},
   "outputs": [
    {
     "name": "stdout",
     "output_type": "stream",
     "text": [
      "120\n",
      "1\n",
      "6\n"
     ]
    }
   ],
   "source": [
    "# user-defined function ile çözelim\n",
    "def my_factorial(n):\n",
    "    sonuc = 1\n",
    "    for i in range(1,n+1):\n",
    "        sonuc *= i\n",
    "        \n",
    "    if n == 0 or n == 1:  # 0 ve 1 faktöryel 1 oldugu icin bunu da yazalım ki jenerik olsun\n",
    "        return 1\n",
    "    \n",
    "    else:\n",
    "        return sonuc\n",
    "    \n",
    "print(my_factorial(5))\n",
    "print(my_factorial(0))\n",
    "print(my_factorial(3))"
   ]
  },
  {
   "cell_type": "markdown",
   "id": "206b3193-98bb-44d0-b337-c8197c10e245",
   "metadata": {},
   "source": [
    "**recursive çözümü**"
   ]
  },
  {
   "cell_type": "code",
   "execution_count": 18,
   "id": "cb2def4e-720b-45d9-a7e8-de4f3a9d5701",
   "metadata": {},
   "outputs": [],
   "source": [
    "def factorial(n) :\n",
    "    if n == 1 or n == 0 :\n",
    "        return 1\n",
    "    else :\n",
    "        return n * factorial(n-1)"
   ]
  },
  {
   "cell_type": "code",
   "execution_count": 19,
   "id": "8b388873-3c97-461e-a50e-19dae8ae660a",
   "metadata": {},
   "outputs": [
    {
     "data": {
      "text/plain": [
       "1"
      ]
     },
     "execution_count": 19,
     "metadata": {},
     "output_type": "execute_result"
    }
   ],
   "source": [
    "factorial(1)"
   ]
  },
  {
   "cell_type": "code",
   "execution_count": 20,
   "id": "5833e46c-29ff-4212-acce-1f48de57627d",
   "metadata": {},
   "outputs": [
    {
     "data": {
      "text/plain": [
       "120"
      ]
     },
     "execution_count": 20,
     "metadata": {},
     "output_type": "execute_result"
    }
   ],
   "source": [
    "factorial(5)"
   ]
  },
  {
   "cell_type": "code",
   "execution_count": null,
   "id": "47a2ad51-ad58-4571-9e3a-7e30ff3d0701",
   "metadata": {},
   "outputs": [],
   "source": []
  },
  {
   "cell_type": "code",
   "execution_count": null,
   "id": "14cf7750-2267-41f5-b2d1-e403f576fb45",
   "metadata": {},
   "outputs": [],
   "source": []
  },
  {
   "cell_type": "code",
   "execution_count": null,
   "id": "6f560396-56e3-4f3b-b8dd-bdd5063d97ab",
   "metadata": {},
   "outputs": [],
   "source": []
  },
  {
   "cell_type": "code",
   "execution_count": null,
   "id": "94db156c-e9db-45de-8573-89ca13939102",
   "metadata": {},
   "outputs": [],
   "source": []
  }
 ],
 "metadata": {
  "kernelspec": {
   "display_name": "Python 3 (ipykernel)",
   "language": "python",
   "name": "python3"
  },
  "language_info": {
   "codemirror_mode": {
    "name": "ipython",
    "version": 3
   },
   "file_extension": ".py",
   "mimetype": "text/x-python",
   "name": "python",
   "nbconvert_exporter": "python",
   "pygments_lexer": "ipython3",
   "version": "3.9.12"
  }
 },
 "nbformat": 4,
 "nbformat_minor": 5
}
