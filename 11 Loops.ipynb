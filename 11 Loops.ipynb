{
 "cells": [
  {
   "cell_type": "markdown",
   "metadata": {
    "id": "QAJ97lLLEA7T"
   },
   "source": [
    "**LOOPS**\n",
    "\n",
    "When writing programs in Python, in some cases it is not enough to execute our block of code only once. **The loops are used to repeat (iterate) the execution of a block of code**.\n",
    "\n",
    "As one of the most main functions in programming, loops enable programmers to set certain sections of their code to repeat through a number of loops which are referred to as **iterations**.\n",
    "\n",
    "**Two main types of loops in python are : while Loop and for Loop**."
   ]
  },
  {
   "cell_type": "markdown",
   "metadata": {
    "id": "U2GhATMuFzrt"
   },
   "source": [
    "**'while' Loop**\n",
    "\n",
    "While loop is \"looping with a condition\".\n",
    "\n",
    "while loops have a **boolean logic, similar to if statements**. As long as the result of the condition returns **True, the code block under while loop runs.** When the condition returns to **False, the loop execution is terminated** and the program control moves further to the next operation.\n",
    "\n",
    "**3 important points:**\n",
    "\n",
    "- initialization (i = ?)\n",
    "- Condition (örn. while i<=5)\n",
    "- increment/decrement (örn i += 1) : Eğer increment-decrement değeri belirlemezsen infinite olur ve sürekli execute eder."
   ]
  },
  {
   "cell_type": "code",
   "execution_count": null,
   "metadata": {
    "colab": {
     "base_uri": "https://localhost:8080/"
    },
    "executionInfo": {
     "elapsed": 108,
     "status": "ok",
     "timestamp": 1667208110823,
     "user": {
      "displayName": "F4033-Kadir",
      "userId": "00693449641329635795"
     },
     "user_tz": -60
    },
    "id": "UwrVRL9QGBat",
    "outputId": "1ec2d8f3-204e-4fa0-ae20-06645e7bbd80"
   },
   "outputs": [
    {
     "name": "stdout",
     "output_type": "stream",
     "text": [
      "0\n",
      "now, number is bigger or equal to 6\n",
      "1\n",
      "now, number is bigger or equal to 6\n",
      "2\n",
      "now, number is bigger or equal to 6\n",
      "3\n",
      "now, number is bigger or equal to 6\n",
      "4\n",
      "now, number is bigger or equal to 6\n",
      "5\n",
      "now, number is bigger or equal to 6\n",
      "now, number is bigger or equal to 6\n"
     ]
    }
   ],
   "source": [
    "number = 0\n",
    "while number < 6:\n",
    "    print(number)\n",
    "    number += 1 \n",
    "    print('now, number is bigger or equal to 6')  # print indentationun etkisini gormek icin bu iki satir\n",
    "print('now, number is bigger or equal to 6')"
   ]
  },
  {
   "cell_type": "code",
   "execution_count": null,
   "metadata": {
    "colab": {
     "base_uri": "https://localhost:8080/"
    },
    "executionInfo": {
     "elapsed": 105,
     "status": "ok",
     "timestamp": 1667208110824,
     "user": {
      "displayName": "F4033-Kadir",
      "userId": "00693449641329635795"
     },
     "user_tz": -60
    },
    "id": "Mr-eMRWa29y3",
    "outputId": "bf882381-af9b-4883-f378-2deb3c312b77"
   },
   "outputs": [
    {
     "name": "stdout",
     "output_type": "stream",
     "text": [
      "0\n",
      "now, number is bigger or equal to 6\n"
     ]
    }
   ],
   "source": [
    "number = 0  # if'ten farkı\n",
    "if number < 6:\n",
    "    print(number)\n",
    "    number += 1 \n",
    "print('now, number is bigger or equal to 6')"
   ]
  },
  {
   "cell_type": "code",
   "execution_count": null,
   "metadata": {
    "colab": {
     "base_uri": "https://localhost:8080/"
    },
    "executionInfo": {
     "elapsed": 96,
     "status": "ok",
     "timestamp": 1667208110824,
     "user": {
      "displayName": "F4033-Kadir",
      "userId": "00693449641329635795"
     },
     "user_tz": -60
    },
    "id": "jDfhncMeGOKM",
    "outputId": "61d77bdb-83d3-4170-bb1f-8d0c9a41923e"
   },
   "outputs": [
    {
     "name": "stdout",
     "output_type": "stream",
     "text": [
      "5\n",
      "6\n",
      "7\n"
     ]
    }
   ],
   "source": [
    "number = 5\n",
    "while number < 8:\n",
    "  print(number)\n",
    "  number += 1\n",
    "# The variable number acts as a counter in this loop. This variable changes its value after each iteration. \n",
    "# When the value of a counter reaches 6, the program control moves to the next operation and prints the text above."
   ]
  },
  {
   "cell_type": "code",
   "execution_count": null,
   "metadata": {
    "colab": {
     "base_uri": "https://localhost:8080/"
    },
    "executionInfo": {
     "elapsed": 35,
     "status": "ok",
     "timestamp": 1667208110824,
     "user": {
      "displayName": "F4033-Kadir",
      "userId": "00693449641329635795"
     },
     "user_tz": -60
    },
    "id": "66pBIp6PLHKb",
    "outputId": "d79d7d99-b7ea-4e63-cccd-a8c7d6190f02"
   },
   "outputs": [
    {
     "name": "stdout",
     "output_type": "stream",
     "text": [
      "Hello 1\n",
      "Hello 2\n",
      "Hello 3\n",
      "Hello 4\n",
      "Hello 5\n"
     ]
    }
   ],
   "source": [
    "# increment\n",
    "i = 1\n",
    "while i<=5:\n",
    "  print(\"Hello\", i)\n",
    "  i += 1"
   ]
  },
  {
   "cell_type": "code",
   "execution_count": null,
   "metadata": {
    "colab": {
     "base_uri": "https://localhost:8080/"
    },
    "executionInfo": {
     "elapsed": 21,
     "status": "ok",
     "timestamp": 1667208110825,
     "user": {
      "displayName": "F4033-Kadir",
      "userId": "00693449641329635795"
     },
     "user_tz": -60
    },
    "id": "mpDmCZm1LhBw",
    "outputId": "b25f98d7-5626-4d2b-bdd1-4a180ae1faba"
   },
   "outputs": [
    {
     "name": "stdout",
     "output_type": "stream",
     "text": [
      "Hello 5\n",
      "Hello 4\n",
      "Hello 3\n",
      "Hello 2\n",
      "Hello 1\n"
     ]
    }
   ],
   "source": [
    "# decrement\n",
    "i = 5\n",
    "while i >=1:\n",
    "  print('Hello', i)\n",
    "  i -= 1"
   ]
  },
  {
   "cell_type": "markdown",
   "metadata": {
    "id": "TYoxcYkDGyM5"
   },
   "source": [
    "**Avoid !** :\n",
    "If we make a logical mistake in the loop variable (since you don’t increase your variable, a condition never becomes False and can work forever), we can start an infinite loop! For this reason, we have to specify a condition for the loop to give False to exit the loop."
   ]
  },
  {
   "cell_type": "markdown",
   "metadata": {
    "id": "R2wXNO8iBZTU"
   },
   "source": [
    "```\n",
    "True\\False output:\n",
    "1. Comparison op. (+, -, <, >...)\n",
    "2. Logical op. (and, or, not)\n",
    "3. Identity op. (is, is not)\n",
    "4. Membership op. (in, not in) \n",
    "```"
   ]
  },
  {
   "cell_type": "code",
   "execution_count": null,
   "metadata": {
    "colab": {
     "base_uri": "https://localhost:8080/"
    },
    "executionInfo": {
     "elapsed": 14,
     "status": "ok",
     "timestamp": 1667208110825,
     "user": {
      "displayName": "F4033-Kadir",
      "userId": "00693449641329635795"
     },
     "user_tz": -60
    },
    "id": "jNrZGBL7GfEj",
    "outputId": "b5450ef7-7c67-46a8-ea35-21387b76a071"
   },
   "outputs": [
    {
     "name": "stdout",
     "output_type": "stream",
     "text": [
      "square of 2 is : 4\n",
      "square of 3 is : 9\n",
      "square of 4 is : 16\n"
     ]
    }
   ],
   "source": [
    "my_list=[\"a\", \"b\", \"c\", \"d\", \"e\"]\n",
    "a = 2\n",
    "while a < len(my_list):\n",
    "    print('square of {} is : {}'.format(a, a**2))\n",
    "    a+=1"
   ]
  },
  {
   "cell_type": "code",
   "execution_count": null,
   "metadata": {
    "colab": {
     "base_uri": "https://localhost:8080/"
    },
    "executionInfo": {
     "elapsed": 13729,
     "status": "ok",
     "timestamp": 1667208124548,
     "user": {
      "displayName": "F4033-Kadir",
      "userId": "00693449641329635795"
     },
     "user_tz": -60
    },
    "id": "lOioJMY_CHFP",
    "outputId": "07099f6e-c77e-4f2b-e081-35a6874de547"
   },
   "outputs": [
    {
     "name": "stdout",
     "output_type": "stream",
     "text": [
      "Enter your age : 42\n",
      "Great! You entered a valid age and your age is : 42\n"
     ]
    }
   ],
   "source": [
    "# kullanıcı yasini girsin, numeric mi check eden ve degilse tekrar yas girmesini isteyen bir code yazalım\n",
    "age = input(\"Enter your age : \")\n",
    "\n",
    "while not age.isdigit() :   # burası T ise aşağıyı calistirir. ama yanlissa üstteki calissin istiyoruz. bu nedenle basina not koyariz\n",
    "  print(\"Enter a valid age\")  # 35i boşlukla  girdigim icin F yapti,  alttaki input cikti direkt\n",
    "  age = input(\"enter your age\")  # bunu tekrar yazmamızın nedeni enter a valid age dedikten sonra tekrar sorması icin\n",
    "\n",
    "print(\"Great! You entered a valid age and your age is :\", age)  "
   ]
  },
  {
   "cell_type": "code",
   "execution_count": null,
   "metadata": {
    "colab": {
     "base_uri": "https://localhost:8080/"
    },
    "executionInfo": {
     "elapsed": 6,
     "status": "ok",
     "timestamp": 1667298931892,
     "user": {
      "displayName": "F4033-Kadir",
      "userId": "00693449641329635795"
     },
     "user_tz": -60
    },
    "id": "efu4hQYLEAuc",
    "outputId": "331d5fc0-fa25-404d-c86a-4e178ebfc191"
   },
   "outputs": [
    {
     "name": "stdout",
     "output_type": "stream",
     "text": [
      "True\n",
      "False\n",
      "False\n"
     ]
    }
   ],
   "source": [
    "age = \"18\"\n",
    "print(age.isdigit())  # isdigt icerigi 0dan 9a mi degil mi bakar. stringde uygulanır\n",
    "\n",
    "age2 = \"16.5\"\n",
    "print(age2.isdigit())\n",
    "\n",
    "age3  = \"onaltı\"\n",
    "print(age3.isdigit())"
   ]
  },
  {
   "cell_type": "code",
   "execution_count": null,
   "metadata": {
    "colab": {
     "base_uri": "https://localhost:8080/"
    },
    "executionInfo": {
     "elapsed": 79,
     "status": "ok",
     "timestamp": 1667208124549,
     "user": {
      "displayName": "F4033-Kadir",
      "userId": "00693449641329635795"
     },
     "user_tz": -60
    },
    "id": "9iu-6SqzgaJC",
    "outputId": "9c7e92bc-f175-47d3-c7be-f537270aa7e3"
   },
   "outputs": [
    {
     "name": "stdout",
     "output_type": "stream",
     "text": [
      "Rose\n",
      "Orchid\n",
      "Tulip\n"
     ]
    }
   ],
   "source": [
    "flowers = ['Rose', 'Orchid', 'Tulip']\n",
    "count1 = len(flowers)\n",
    "count2 = 0  # birbirilerini etkileyecek iki initiator belirliyoruz burada\n",
    "\n",
    "while count1>0 :\n",
    "  print(flowers[count2])  # c1 3 ve c2 0 iken rose'u; c1 2 ve c2 1 iken orchidi ve c1 1 ve c2 2 iken tulipi yazdı.\n",
    "  count1 -= 1\n",
    "  count2 += 1"
   ]
  },
  {
   "cell_type": "code",
   "execution_count": null,
   "metadata": {
    "colab": {
     "base_uri": "https://localhost:8080/"
    },
    "executionInfo": {
     "elapsed": 71,
     "status": "ok",
     "timestamp": 1667208124550,
     "user": {
      "displayName": "F4033-Kadir",
      "userId": "00693449641329635795"
     },
     "user_tz": -60
    },
    "id": "9fbDxMu6QMsD",
    "outputId": "831ee5fe-9e9c-42db-93eb-6eedd31d7777"
   },
   "outputs": [
    {
     "name": "stdout",
     "output_type": "stream",
     "text": [
      "Ali\n",
      "Veli\n",
      "Ahmet\n",
      "\n",
      "Ali\n",
      "Veli\n",
      "Ahmet\n"
     ]
    }
   ],
   "source": [
    "names = [\"Ali\", \"Veli\", \"Ahmet\"]\n",
    "index = 0  # initialisation\n",
    "while index < len(names):  # condition\n",
    "  print(names[index])\n",
    "  index = index + 1  # increment-decrement\n",
    "  # do not forget to change the condition. otherwise: infinite loop...\n",
    "# bunu for loop ile yapalim:\n",
    "print()\n",
    "names = [\"Ali\", \"Veli\", \"Ahmet\"]\n",
    "for name in names:\n",
    "  print(name)\n"
   ]
  },
  {
   "cell_type": "code",
   "execution_count": null,
   "metadata": {
    "colab": {
     "base_uri": "https://localhost:8080/"
    },
    "executionInfo": {
     "elapsed": 39001,
     "status": "ok",
     "timestamp": 1667302479409,
     "user": {
      "displayName": "F4033-Kadir",
      "userId": "00693449641329635795"
     },
     "user_tz": -60
    },
    "id": "ONGK4M14GaI0",
    "outputId": "2dd8038a-e1fe-4215-f844-1692ed2a0a2f"
   },
   "outputs": [
    {
     "name": "stdout",
     "output_type": "stream",
     "text": [
      "Guess the number: 30\n",
      "A little higher\n",
      "Guess the number: 45\n",
      "A little lower\n",
      "Guess the number: 80\n",
      "A little lower\n",
      "Guess the number: 23\n",
      "A little higher\n",
      "Guess the number: 32\n",
      "A little higher\n",
      "Guess the number: 43\n",
      "A little lower\n",
      "Guess the number: 40\n",
      "You read my mind!\n"
     ]
    }
   ],
   "source": [
    "number = 40\n",
    "\n",
    "while True :\n",
    "  guess = int(input(\"Guess the number: \"))\n",
    "  if guess < number : \n",
    "    print(\"A little higher\")\n",
    "  elif guess > number :\n",
    "    print (\"A little lower\")\n",
    "  else :\n",
    "    print(\"You read my mind!\")\n",
    "    break  # burada doğruyu buldu. bu inner loopda eğer break olmasa tekrar \n",
    "    # while'a dönecek ve True olduğu için bir daha çalışacak. break olmadıkça bir daha bir daha.....\n"
   ]
  },
  {
   "cell_type": "markdown",
   "metadata": {
    "id": "4N8oj_aHHUPH"
   },
   "source": [
    "**In the example above;**\n",
    "\n",
    "We have written a program that does not exit the while loop until you find the correct number,\n",
    "\n",
    "We used **break keyword **in order to quit and exit the while loop,\n",
    "\n",
    "When the user knows the answer (40) and enters input, it takes the value of 40 and assigns to variable guess, in the end, else works and breaks the loop."
   ]
  },
  {
   "cell_type": "code",
   "execution_count": null,
   "metadata": {
    "colab": {
     "base_uri": "https://localhost:8080/"
    },
    "executionInfo": {
     "elapsed": 8899,
     "status": "ok",
     "timestamp": 1667303266936,
     "user": {
      "displayName": "F4033-Kadir",
      "userId": "00693449641329635795"
     },
     "user_tz": -60
    },
    "id": "V_xR7MqDJ_Z3",
    "outputId": "028b40c1-282b-4783-a2e9-251caecfea00"
   },
   "outputs": [
    {
     "name": "stdout",
     "output_type": "stream",
     "text": [
      "kaç hak istersiniz?5\n",
      "tahmininiz: 35\n",
      "aşağı\n",
      "tahmininiz: 25\n",
      "Tebrikler 2. defada bildiniz...\n"
     ]
    }
   ],
   "source": [
    "answer = 25\n",
    "hak = int(input(\"kaç hak istersiniz?\"))\n",
    "sayac = 0\n",
    "while hak > 0:\n",
    "  hak -= 1\n",
    "  sayac += 1\n",
    "  tahmin = int(input(\"tahmininiz: \"))\n",
    "  if answer == tahmin :\n",
    "    print(f\"Tebrikler {sayac}. defada bildiniz...\")\n",
    "    break\n",
    "  elif answer > tahmin :\n",
    "    print(\"yukarı\")\n",
    "  else :\n",
    "    print(\"aşağı\")\n",
    "  \n",
    "  if hak == 0 :\n",
    "    print(f\"hakkınız bitti. tutulan sayı : {answer}.\")\n"
   ]
  },
  {
   "cell_type": "code",
   "execution_count": 1,
   "metadata": {},
   "outputs": [
    {
     "name": "stdin",
     "output_type": "stream",
     "text": [
      "Enter a natural number to see the total of the squares of to natural numbers up to your number :  -3\n"
     ]
    },
    {
     "name": "stdout",
     "output_type": "stream",
     "text": [
      "You entered a wrong number. Try again!\n"
     ]
    },
    {
     "name": "stdin",
     "output_type": "stream",
     "text": [
      "Enter a natural number to see the total of the squares of to natural numbers up to your number :  5\n"
     ]
    },
    {
     "name": "stdout",
     "output_type": "stream",
     "text": [
      "55\n"
     ]
    }
   ],
   "source": [
    "# Write a function for Sum of squares of first n natural numbers. \n",
    "# If the no is not a natural onei ask the user to try again\n",
    "while True:\n",
    "    total = 0\n",
    "    n = int(input(\"Enter a natural number to see the total of the squares of to natural numbers up to your number : \"))\n",
    "    if n<0:\n",
    "        print(\"You entered a wrong number. Try again!\")\n",
    "        \n",
    "    else:\n",
    "        for i in range(n+1):\n",
    "            if n >= 0:\n",
    "                total += i**2\n",
    "        print(total)\n",
    "        break"
   ]
  },
  {
   "cell_type": "code",
   "execution_count": null,
   "metadata": {
    "colab": {
     "base_uri": "https://localhost:8080/"
    },
    "executionInfo": {
     "elapsed": 181,
     "status": "ok",
     "timestamp": 1667208170853,
     "user": {
      "displayName": "F4033-Kadir",
      "userId": "00693449641329635795"
     },
     "user_tz": -60
    },
    "id": "fTJBTqfbS2so",
    "outputId": "b246ab85-0e22-455f-8d4a-2badb41fb0b0"
   },
   "outputs": [
    {
     "name": "stdout",
     "output_type": "stream",
     "text": [
      "['Bugün', 'Cumartesi', 'olduğunu', 'bilmiyordum']\n",
      "The length of the longest sentence :  11\n"
     ]
    }
   ],
   "source": [
    "# task: cümlenin en uzun kelimesinin uzunluğunu bul\n",
    "aaa = \"Bugün Cumartesi olduğunu bilmiyordum\"\n",
    "aaa1 = aaa.split()\n",
    "print(aaa1)\n",
    "longest = 0\n",
    "i = 0\n",
    "while i < len(aaa1) :\n",
    "  if len(aaa1[i]) > longest :\n",
    "    longest = len(aaa1[i])\n",
    "\n",
    "  i += 1\n",
    "\n",
    "print(\"The length of the longest sentence : \", longest)\n",
    "# i 4 olduğunda çıkar artık. \n"
   ]
  },
  {
   "cell_type": "code",
   "execution_count": null,
   "metadata": {
    "colab": {
     "base_uri": "https://localhost:8080/"
    },
    "executionInfo": {
     "elapsed": 178,
     "status": "ok",
     "timestamp": 1667208170853,
     "user": {
      "displayName": "F4033-Kadir",
      "userId": "00693449641329635795"
     },
     "user_tz": -60
    },
    "id": "HvLPyx316sIc",
    "outputId": "3836e230-be82-48b3-df16-e5bc25b3d266"
   },
   "outputs": [
    {
     "name": "stdout",
     "output_type": "stream",
     "text": [
      "4\n",
      "3\n",
      "2\n",
      "1\n",
      "0\n"
     ]
    }
   ],
   "source": [
    "condition = 5\n",
    "while True :\n",
    "  condition -= 1\n",
    "  print(condition)  # böyle sonsuza kadar gider. break koyarız bir yere onun icin\n",
    "  if condition == 0:  # diekt burada break olsaydi 4 yazar ve bir daha tur yapmazdı.\n",
    "    break  # break false sinyali gonderir ve loop'tan cikmasini saglar"
   ]
  },
  {
   "cell_type": "code",
   "execution_count": null,
   "metadata": {
    "id": "7n-8gIST_qpF"
   },
   "outputs": [],
   "source": [
    "# while condition 1:   \n",
    "\n",
    "    # body\n",
    "\n",
    "    # while condition 2:\n",
    "        \n",
    "    #     body2\n",
    "        \n",
    "    #     break (bu inner looptan; alttaki ana looptan cikarir)\n",
    "   \n",
    "    # break "
   ]
  },
  {
   "cell_type": "markdown",
   "metadata": {
    "id": "kQcPR6HOBf9H"
   },
   "source": [
    "**nested while loop**: "
   ]
  },
  {
   "cell_type": "code",
   "execution_count": null,
   "metadata": {
    "colab": {
     "base_uri": "https://localhost:8080/"
    },
    "executionInfo": {
     "elapsed": 372,
     "status": "ok",
     "timestamp": 1667304272128,
     "user": {
      "displayName": "F4033-Kadir",
      "userId": "00693449641329635795"
     },
     "user_tz": -60
    },
    "id": "cIuaBxmnNLS9",
    "outputId": "56438a80-15a9-4b46-a713-a9bae186c0c8"
   },
   "outputs": [
    {
     "name": "stdout",
     "output_type": "stream",
     "text": [
      "Hello World World World World \n",
      "Hello World World World World \n",
      "Hello World World World World \n",
      "Hello World World World World \n",
      "Hello World World World World \n"
     ]
    }
   ],
   "source": [
    "# task: altalta 5 satır hello world world world world yaz\n",
    "i = 1\n",
    "while i <=5:\n",
    "  print('Hello', end=' ')\n",
    "  i += 1  # en altta da olabilir bu önemli değil\n",
    "  j = 1\n",
    "  while j<=4:\n",
    "    print('World', end=' ')\n",
    "    j += 1  # increment/decrement belirlemezsk sürekli devam eder unutma.\n",
    "  \n",
    "  print()"
   ]
  },
  {
   "cell_type": "code",
   "execution_count": null,
   "metadata": {
    "colab": {
     "base_uri": "https://localhost:8080/"
    },
    "executionInfo": {
     "elapsed": 35711,
     "status": "ok",
     "timestamp": 1667321060209,
     "user": {
      "displayName": "F4033-Kadir",
      "userId": "00693449641329635795"
     },
     "user_tz": -60
    },
    "id": "FsPxQ74mBEu2",
    "outputId": "1446ab6a-c2d6-4ad7-a1b2-b98bc511d34d"
   },
   "outputs": [
    {
     "name": "stdout",
     "output_type": "stream",
     "text": [
      "Enter number: 10\n",
      "do you want to add it to total:yes\n",
      "10\n",
      "Enter number: 20\n",
      "do you want to add it to total:yes\n",
      "30\n",
      "Enter number: 30\n",
      "do you want to add it to total:no\n",
      "it hasn't been add.\n",
      "Enter number: 20\n",
      "do you want to add it to total:yes\n",
      "50\n",
      "Enter number: 40\n",
      "do you want to add it to total:yes\n",
      "90\n",
      "90\n"
     ]
    }
   ],
   "source": [
    "# Set a variable called total to 0. Ask the user to enter  five numbers and after each input \n",
    "# ask them if they  want that number included. If they do, then add the  number to the total. \n",
    "# If they do not want it included,  don’t add it to the total. \n",
    "# After they have entered all five  numbers, display the total.\n",
    "i = 0\n",
    "total = 0\n",
    "while i <= 5:\n",
    "  aaa = int(input(\"Enter number: \"))\n",
    "  addition = input(\"Do you want to add it to total:\".lower())\n",
    "  if addition == \"yes\":\n",
    "    total = total + int(aaa)\n",
    "    print(total)\n",
    "  else:\n",
    "    print(\"it hasn't been add.\")\n",
    "  i += 1\n",
    "  if i == 5:\n",
    "    break\n",
    "print(total)\n"
   ]
  },
  {
   "cell_type": "code",
   "execution_count": null,
   "metadata": {
    "colab": {
     "base_uri": "https://localhost:8080/"
    },
    "executionInfo": {
     "elapsed": 39874,
     "status": "ok",
     "timestamp": 1667321271684,
     "user": {
      "displayName": "F4033-Kadir",
      "userId": "00693449641329635795"
     },
     "user_tz": -60
    },
    "id": "F_cSjGLdFjNL",
    "outputId": "add272b1-d5c0-45d7-da39-ed12e3de807f"
   },
   "outputs": [
    {
     "name": "stdout",
     "output_type": "stream",
     "text": [
      "Enter a number: 10\n",
      "do you want to add it to total:yes\n",
      "10\n",
      "Enter a number: 20\n",
      "do you want to add it to total:yes\n",
      "30\n",
      "Enter a number: 25\n",
      "do you want to add it to total:no\n",
      "it hasn't been add.\n",
      "Enter a number: 30\n",
      "do you want to add it to total:yes\n",
      "60\n",
      "Enter a number: 50\n",
      "do you want to add it to total:yes\n",
      "110\n",
      "110\n"
     ]
    }
   ],
   "source": [
    "# aynı soru for loopla daha kolay yapılıyor\n",
    "total = 0\n",
    "for i in range (5):\n",
    "  aaa = int(input(\"Enter a number: \"))\n",
    "  addition = input(\"Do you want to add it to total:\".lower())\n",
    "  if addition == \"yes\":\n",
    "    total = total + int(aaa)\n",
    "    print(total)\n",
    "  else:\n",
    "    print(\"it hasn't been add.\")\n",
    "print(total)"
   ]
  },
  {
   "cell_type": "code",
   "execution_count": null,
   "metadata": {
    "colab": {
     "base_uri": "https://localhost:8080/"
    },
    "executionInfo": {
     "elapsed": 16070,
     "status": "ok",
     "timestamp": 1667321682707,
     "user": {
      "displayName": "F4033-Kadir",
      "userId": "00693449641329635795"
     },
     "user_tz": -60
    },
    "id": "2YekqjoaGgSC",
    "outputId": "b9e1f2b1-74f1-423a-b1da-4c781f0deab6"
   },
   "outputs": [
    {
     "name": "stdout",
     "output_type": "stream",
     "text": [
      "Enter a number: 25\n",
      "25\n",
      "Enter a number: 15\n",
      "40\n",
      "Enter a number: 9\n",
      "49\n",
      "Enter a number: 2\n",
      "51\n",
      "The total is 51\n"
     ]
    }
   ],
   "source": [
    "# kullanıcıdan sayı grmesini iste ve bu sayıları topla, eger toplam 50den büyük olursa dur\n",
    "i = 0\n",
    "total = 0\n",
    "while total <= 50:\n",
    "  aaa = int(input(\"Enter a number: \"))\n",
    "  total = total + aaa\n",
    "  print(total)\n",
    "  i +=1\n",
    "  if total >= 50:\n",
    "    break\n",
    "print(\"The total is\", total)"
   ]
  },
  {
   "cell_type": "markdown",
   "metadata": {
    "id": "FACX0od0Jb2O"
   },
   "source": [
    "**'FOR' LOOP**\n",
    "\n",
    "One of the most used, very simple and useful syntaxes in Python is for loop. When you want to **iterate a block of code,** you should use **for loop**. **To create a for loop, you need a variable and an iterable object**. Here is the simple structure of a for loop :\n",
    "\n",
    "for variable in iterable :\n",
    "\n",
    "        code block"
   ]
  },
  {
   "cell_type": "code",
   "execution_count": null,
   "metadata": {
    "colab": {
     "base_uri": "https://localhost:8080/"
    },
    "executionInfo": {
     "elapsed": 160,
     "status": "ok",
     "timestamp": 1667208170854,
     "user": {
      "displayName": "F4033-Kadir",
      "userId": "00693449641329635795"
     },
     "user_tz": -60
    },
    "id": "JdN-OjfkHJfC",
    "outputId": "7ba3a047-5ca2-404a-b0c0-9d14b4aae27d"
   },
   "outputs": [
    {
     "name": "stdout",
     "output_type": "stream",
     "text": [
      "1\n",
      "2\n",
      "3\n",
      "4\n",
      "5\n"
     ]
    }
   ],
   "source": [
    "for i in [1, 2, 3, 4, 5] :\n",
    "    print(i)  # list icindeki elementleri teker teker i'ye alır ve listede 1 varsa 1 yaz, 2 varsa 2 yaz ....."
   ]
  },
  {
   "cell_type": "markdown",
   "metadata": {
    "id": "w2zrlb5yKOUO"
   },
   "source": [
    "**In the structure of the for loop, you can use also an iterable variable of course**.  "
   ]
  },
  {
   "cell_type": "code",
   "execution_count": null,
   "metadata": {
    "colab": {
     "base_uri": "https://localhost:8080/"
    },
    "executionInfo": {
     "elapsed": 152,
     "status": "ok",
     "timestamp": 1667208170854,
     "user": {
      "displayName": "F4033-Kadir",
      "userId": "00693449641329635795"
     },
     "user_tz": -60
    },
    "id": "lllT34x4JztX",
    "outputId": "32015f7b-4cdb-4537-a32c-1a0dca5bd70c"
   },
   "outputs": [
    {
     "name": "stdout",
     "output_type": "stream",
     "text": [
      "spring\n",
      "summer\n",
      "autumn\n",
      "winter\n",
      "\n",
      "spring\n",
      "summer\n",
      "autumn\n",
      "winter\n"
     ]
    }
   ],
   "source": [
    "seasons = ['spring', 'summer', 'autumn', 'winter']\n",
    "for season in seasons :\n",
    "    print(season)\n",
    "# ya da aynı şeyi şu şekilde yapalım:\n",
    "print()\n",
    "for season in ['spring', 'summer', 'autumn', 'winter'] :\n",
    "  print(season)"
   ]
  },
  {
   "cell_type": "code",
   "execution_count": null,
   "metadata": {
    "colab": {
     "base_uri": "https://localhost:8080/"
    },
    "executionInfo": {
     "elapsed": 144,
     "status": "ok",
     "timestamp": 1667208170855,
     "user": {
      "displayName": "F4033-Kadir",
      "userId": "00693449641329635795"
     },
     "user_tz": -60
    },
    "id": "RFidvS2rKY0H",
    "outputId": "3894d1e0-769b-4a80-ec63-45ee63ed7d48"
   },
   "outputs": [
    {
     "name": "stdout",
     "output_type": "stream",
     "text": [
      "n1\n",
      "n2\n"
     ]
    }
   ],
   "source": [
    "for i in {'n1' : 'one', 'n2' : 'two'} : \n",
    "  print(i)"
   ]
  },
  {
   "cell_type": "code",
   "execution_count": null,
   "metadata": {
    "colab": {
     "base_uri": "https://localhost:8080/"
    },
    "executionInfo": {
     "elapsed": 136,
     "status": "ok",
     "timestamp": 1667208170855,
     "user": {
      "displayName": "F4033-Kadir",
      "userId": "00693449641329635795"
     },
     "user_tz": -60
    },
    "id": "mi6SirNRKjLp",
    "outputId": "8a9ac7e5-01be-4f12-d011-54493da2c7fd"
   },
   "outputs": [
    {
     "name": "stdout",
     "output_type": "stream",
     "text": [
      "1\n",
      "4\n",
      "9\n",
      "16\n"
     ]
    }
   ],
   "source": [
    "iterable = [1, 2, 3, 4]\n",
    "for i in iterable:\n",
    "    print(i*i)"
   ]
  },
  {
   "cell_type": "code",
   "execution_count": null,
   "metadata": {
    "colab": {
     "base_uri": "https://localhost:8080/"
    },
    "executionInfo": {
     "elapsed": 128,
     "status": "ok",
     "timestamp": 1667208170855,
     "user": {
      "displayName": "F4033-Kadir",
      "userId": "00693449641329635795"
     },
     "user_tz": -60
    },
    "id": "kG-zmiyIQ-kL",
    "outputId": "82b8c23b-c602-40eb-dbbb-feff47e7e185"
   },
   "outputs": [
    {
     "name": "stdout",
     "output_type": "stream",
     "text": [
      "[5, 4, 3, 2, 1]\n",
      "[9, 8, 7, 6]\n",
      "[13, 12, 11, 10]\n",
      "[17, 16, 15, 14]\n"
     ]
    }
   ],
   "source": [
    "# liste = [[1, 2, 3, 4, 5], [6, 7, 8, 9], [10, 11, 12, 13], [14, 15, 16, 17]]\n",
    "# for i in variable kisminda variable yerine direkt listeyi de yazabiliriz\n",
    "for i in [[1, 2, 3, 4, 5], [6, 7, 8, 9], [10, 11, 12, 13], [14, 15, 16, 17]]:\n",
    "    print(i[::-1])\n"
   ]
  },
  {
   "cell_type": "code",
   "execution_count": null,
   "metadata": {
    "colab": {
     "base_uri": "https://localhost:8080/"
    },
    "executionInfo": {
     "elapsed": 121,
     "status": "ok",
     "timestamp": 1667208170856,
     "user": {
      "displayName": "F4033-Kadir",
      "userId": "00693449641329635795"
     },
     "user_tz": -60
    },
    "id": "2PM2MS1hUtHb",
    "outputId": "e48a0998-99e2-4cdd-de25-e41d2ea29425"
   },
   "outputs": [
    {
     "name": "stdout",
     "output_type": "stream",
     "text": [
      "4\n",
      "6\n",
      "8\n",
      "10\n",
      "\n",
      "0\n",
      "10\n",
      "20\n",
      "30\n",
      "40\n",
      "50\n"
     ]
    }
   ],
   "source": [
    "for i in range(4,11,2):  # burada method da calistirabiliriz. Örn: 4'ten 11'e kadarki çift sayıları yaz\n",
    "  print(i)\n",
    "print()\n",
    "for i in range(51):\n",
    "  if not i % 10:  # i % 10 == 0\n",
    "    print(i)\n"
   ]
  },
  {
   "cell_type": "code",
   "execution_count": null,
   "metadata": {
    "colab": {
     "base_uri": "https://localhost:8080/"
    },
    "executionInfo": {
     "elapsed": 113,
     "status": "ok",
     "timestamp": 1667208170856,
     "user": {
      "displayName": "F4033-Kadir",
      "userId": "00693449641329635795"
     },
     "user_tz": -60
    },
    "id": "Qu2XjiXuZuaI",
    "outputId": "63627a6d-5d12-4e4d-aabf-97490ce255dc"
   },
   "outputs": [
    {
     "name": "stdout",
     "output_type": "stream",
     "text": [
      "0\n",
      "2\n",
      "6\n",
      "12\n",
      "20\n",
      "30\n",
      "30\n"
     ]
    }
   ],
   "source": [
    "# 0'dan 10'a kadar olan çift sayıların toplamını bulalım\n",
    "total = 0\n",
    "for i in range(11):\n",
    "  if i %2 == 0:  # if i % 2:\n",
    "    total += i  \n",
    "    print(total)\n",
    "print(total)  # print total seviyesinde iken altalta2,6,12,20,30 verdi. indentation!!!!!"
   ]
  },
  {
   "cell_type": "code",
   "execution_count": null,
   "metadata": {
    "colab": {
     "base_uri": "https://localhost:8080/"
    },
    "executionInfo": {
     "elapsed": 5,
     "status": "ok",
     "timestamp": 1667237296335,
     "user": {
      "displayName": "F4033-Kadir",
      "userId": "00693449641329635795"
     },
     "user_tz": -60
    },
    "id": "E376SN1fB6eO",
    "outputId": "57e5673b-5374-43d7-e3d5-4956e3b493d8"
   },
   "outputs": [
    {
     "name": "stdout",
     "output_type": "stream",
     "text": [
      "C-l-a-r-u-s-w-a-y\n",
      "C-l-a-r-u-s-w-a-y"
     ]
    }
   ],
   "source": [
    "# \"Clarusway\" stringini harflerine ayır ve aralara tire olsun\n",
    "aaa = \"Clarusway\"\n",
    "for i in aaa:\n",
    "  print(* aaa, sep= \"-\", end = \"\")\n",
    "  if i==\"C\":\n",
    "    break\n",
    "# veya tireler icin sayac yapariz. kelime bilinemeyecegi icin bu yontem kullanılmalı\n",
    "print()\n",
    "aaa = \"Clarusway\"\n",
    "counter = 0\n",
    "for i in aaa:\n",
    "  counter += 1\n",
    "  if counter < len(aaa) :  # 9 degil de 8 tire olması icin burası. 8 kere true verince i güncellenecek hep\n",
    "    i += \"-\"\n",
    "  print(i, end = \"\")"
   ]
  },
  {
   "cell_type": "code",
   "execution_count": null,
   "metadata": {
    "colab": {
     "base_uri": "https://localhost:8080/"
    },
    "executionInfo": {
     "elapsed": 457,
     "status": "ok",
     "timestamp": 1667239542007,
     "user": {
      "displayName": "F4033-Kadir",
      "userId": "00693449641329635795"
     },
     "user_tz": -60
    },
    "id": "yqyRDe8DNsV3",
    "outputId": "cf1bc219-f7b9-49be-b66b-cf0933872030"
   },
   "outputs": [
    {
     "name": "stdout",
     "output_type": "stream",
     "text": [
      "K-a-d-i-r"
     ]
    }
   ],
   "source": [
    "aaa = \"Kadir\"\n",
    "counter = 0\n",
    "for i in aaa:\n",
    "  counter += 1\n",
    "  if counter < len(aaa):\n",
    "    i += \"-\"\n",
    "  print(i, end= \"\")\n"
   ]
  },
  {
   "cell_type": "code",
   "execution_count": null,
   "metadata": {
    "colab": {
     "base_uri": "https://localhost:8080/"
    },
    "executionInfo": {
     "elapsed": 276,
     "status": "ok",
     "timestamp": 1667465018391,
     "user": {
      "displayName": "F4033-Kadir",
      "userId": "00693449641329635795"
     },
     "user_tz": -60
    },
    "id": "fiQYtSiCc2_r",
    "outputId": "9b2193a3-09dc-4a3e-8e6f-c7f97f5f89c6"
   },
   "outputs": [
    {
     "name": "stdout",
     "output_type": "stream",
     "text": [
      "12000\n",
      "0\n",
      "20\n",
      "40\n",
      "2000\n"
     ]
    }
   ],
   "source": [
    "# 100'den küçük dogal sayılardan hem 10 hem 20 ye bölünenlerin karelerinin toplamı:\n",
    "total = 0\n",
    "for i in range(100):\n",
    "  if (i % 10 == 0) and (i % 20 == 0):\n",
    "    total += i*i\n",
    "print(total)\n",
    "\n",
    "total = 0\n",
    "for i in range(50):\n",
    "  if not i % 10 and not i % 20:\n",
    "    total += i*i\n",
    "    print(i)\n",
    "print(total)"
   ]
  },
  {
   "cell_type": "markdown",
   "metadata": {
    "id": "NsQNgYMssmQS"
   },
   "source": [
    "With the **BREAK** statement we can stop the loop before it has looped through all the items:"
   ]
  },
  {
   "cell_type": "code",
   "execution_count": null,
   "metadata": {
    "colab": {
     "base_uri": "https://localhost:8080/"
    },
    "executionInfo": {
     "elapsed": 97,
     "status": "ok",
     "timestamp": 1667208170856,
     "user": {
      "displayName": "F4033-Kadir",
      "userId": "00693449641329635795"
     },
     "user_tz": -60
    },
    "id": "z6EYBA7csg7h",
    "outputId": "16498173-1d3b-4242-8180-4ad56fef26ad"
   },
   "outputs": [
    {
     "name": "stdout",
     "output_type": "stream",
     "text": [
      "apple\n",
      "banana\n",
      "\n",
      "apple\n"
     ]
    }
   ],
   "source": [
    "fruits = [\"apple\", \"banana\", \"cherry\"]\n",
    "for x in fruits:\n",
    "  print(x) \n",
    "  if x == \"banana\":\n",
    "    break\n",
    "\n",
    "print()\n",
    "# break printten önce de yazılabilir. o zaman banana öncesi durur.\n",
    "fruits = [\"apple\", \"banana\", \"cherry\"]\n",
    "for x in fruits:\n",
    "  if x == \"banana\":\n",
    "    break\n",
    "  print(x)"
   ]
  },
  {
   "cell_type": "code",
   "execution_count": null,
   "metadata": {
    "colab": {
     "base_uri": "https://localhost:8080/"
    },
    "executionInfo": {
     "elapsed": 90,
     "status": "ok",
     "timestamp": 1667208170857,
     "user": {
      "displayName": "F4033-Kadir",
      "userId": "00693449641329635795"
     },
     "user_tz": -60
    },
    "id": "lpHTp7f-iyer",
    "outputId": "05fa3b6c-de59-4603-9d62-43dad757fe71"
   },
   "outputs": [
    {
     "name": "stdout",
     "output_type": "stream",
     "text": [
      "1\n",
      "2\n",
      "3\n",
      "4\n"
     ]
    }
   ],
   "source": [
    "aaa = [1,2,3,4,5,6,7,8,9]\n",
    "\n",
    "for i in aaa:\n",
    "  if i == 5:\n",
    "    break  # ilk önce 5i buluyor, bulduğunda duruyor. break aşağıda olsa ilk önce yazdrır sonra dururdu. Order matters!\n",
    "  print(i)    "
   ]
  },
  {
   "cell_type": "markdown",
   "metadata": {
    "id": "COXtfwfrtHMF"
   },
   "source": [
    "With the **CONTINUE** statement we can stop the current iteration of the loop, and continue with the next:"
   ]
  },
  {
   "cell_type": "code",
   "execution_count": null,
   "metadata": {
    "colab": {
     "base_uri": "https://localhost:8080/"
    },
    "executionInfo": {
     "elapsed": 302,
     "status": "ok",
     "timestamp": 1667465545117,
     "user": {
      "displayName": "F4033-Kadir",
      "userId": "00693449641329635795"
     },
     "user_tz": -60
    },
    "id": "LI4f4nIOtNUc",
    "outputId": "5598c8e9-5b08-4faa-94e7-ce924abc12d3"
   },
   "outputs": [
    {
     "name": "stdout",
     "output_type": "stream",
     "text": [
      "apple\n",
      "cherry\n"
     ]
    }
   ],
   "source": [
    "fruits = [\"apple\", \"banana\", \"cherry\"]\n",
    "for x in fruits:\n",
    "  if x == \"banana\":\n",
    "    continue  # BANANAyi atladi devam etti. print if öncesinde olsa normal hepsini yazdırır.\n",
    "  print(x)"
   ]
  },
  {
   "cell_type": "code",
   "execution_count": null,
   "metadata": {
    "colab": {
     "base_uri": "https://localhost:8080/"
    },
    "executionInfo": {
     "elapsed": 285,
     "status": "ok",
     "timestamp": 1667465716124,
     "user": {
      "displayName": "F4033-Kadir",
      "userId": "00693449641329635795"
     },
     "user_tz": -60
    },
    "id": "aTnfDHSs3jl6",
    "outputId": "8efbc97f-bbc1-487b-b6b3-5c1f147e32c8"
   },
   "outputs": [
    {
     "name": "stdout",
     "output_type": "stream",
     "text": [
      "1\n",
      "3\n",
      "5\n",
      "7\n",
      "9\n",
      "25\n",
      "[1, 3, 5, 7, 9]\n"
     ]
    }
   ],
   "source": [
    "# Print out only odd numbers - 1,3,5,7,9 and print the total and add them into a list.\n",
    "total = 0\n",
    "listee = []\n",
    "for x in range(10):\n",
    "    \n",
    "    if x % 2 == 0:\n",
    "        continue\n",
    "    total += x\n",
    "    listee.append(x)\n",
    "    print(x)\n",
    "print(total)\n",
    "print(listee)"
   ]
  },
  {
   "cell_type": "code",
   "execution_count": null,
   "metadata": {
    "colab": {
     "base_uri": "https://localhost:8080/"
    },
    "executionInfo": {
     "elapsed": 229,
     "status": "ok",
     "timestamp": 1667466128105,
     "user": {
      "displayName": "F4033-Kadir",
      "userId": "00693449641329635795"
     },
     "user_tz": -60
    },
    "id": "Vf1JUxMg4zhU",
    "outputId": "ad8a6e3e-8454-4b24-af5f-301d9524e3c7"
   },
   "outputs": [
    {
     "name": "stdout",
     "output_type": "stream",
     "text": [
      "402\n",
      "984\n",
      "360\n",
      "408\n",
      "980\n",
      "544\n",
      "\n",
      "951 651 69 319 601 485 507 725 547 615 83 165 141 \n",
      "5859\n",
      "[951, 651, 69, 319, 601, 485, 507, 725, 547, 615, 83, 165, 141]\n"
     ]
    }
   ],
   "source": [
    "numbers = [\n",
    "    951, 402, 984, 651, 360, 69, 408, 319, 601, 485, 980, 507, 725, 547, 544,\n",
    "    615, 83, 165, 141, 501, 263, 617, 865, 575\n",
    "    ]\n",
    "\n",
    "for number in numbers:\n",
    "  if number == 615:\n",
    "            break\n",
    "  if not number % 2:\n",
    "    print(number)\n",
    "print()\n",
    "total = 0\n",
    "listeee = [] \n",
    "for number in numbers:\n",
    "  if number == 501:\n",
    "    break\n",
    "  if number % 2:\n",
    "    listeee.append(number)\n",
    "    total += number\n",
    "    print(number, end=\" \")\n",
    "print()\n",
    "print(total)\n",
    "print(listeee)"
   ]
  },
  {
   "cell_type": "code",
   "execution_count": null,
   "metadata": {
    "colab": {
     "base_uri": "https://localhost:8080/"
    },
    "executionInfo": {
     "elapsed": 58,
     "status": "ok",
     "timestamp": 1667208170858,
     "user": {
      "displayName": "F4033-Kadir",
      "userId": "00693449641329635795"
     },
     "user_tz": -60
    },
    "id": "e429KMX26_Rv",
    "outputId": "971442e8-3703-4a23-abbd-08d359aa0981"
   },
   "outputs": [
    {
     "name": "stdout",
     "output_type": "stream",
     "text": [
      "2775\n"
     ]
    }
   ],
   "source": [
    "total = 0\n",
    "for i in range (1,75):\n",
    "  total += i\n",
    "print(total)  # sadece toplamını istiyorsak printin en basta olmasina dkkat"
   ]
  },
  {
   "cell_type": "code",
   "execution_count": null,
   "metadata": {
    "colab": {
     "base_uri": "https://localhost:8080/"
    },
    "executionInfo": {
     "elapsed": 2560,
     "status": "ok",
     "timestamp": 1667466880845,
     "user": {
      "displayName": "F4033-Kadir",
      "userId": "00693449641329635795"
     },
     "user_tz": -60
    },
    "id": "nR9btMmj8VsO",
    "outputId": "21977365-3472-4320-abe3-eaf16f8e5613"
   },
   "outputs": [
    {
     "name": "stdout",
     "output_type": "stream",
     "text": [
      "Enter a number to check if it is a prime number : 20\n",
      "20 is not a prime number\n"
     ]
    }
   ],
   "source": [
    "# Write a program that takes a number from the user and prints the result to check if it is a prime number.\n",
    "n=int(input('Enter a number to check if it is a prime number : '))\n",
    "count=0\n",
    "for i in range(1, n+1):\n",
    "    if n%i==0 : count += 1\n",
    "    else : count += 0\n",
    "if count < 3: print('{} is a prime number '.format(n))\n",
    "else : print('{} is not a prime number'.format(n))"
   ]
  },
  {
   "cell_type": "code",
   "execution_count": null,
   "metadata": {
    "colab": {
     "base_uri": "https://localhost:8080/"
    },
    "executionInfo": {
     "elapsed": 703,
     "status": "ok",
     "timestamp": 1667769058126,
     "user": {
      "displayName": "F4033-Kadir",
      "userId": "00693449641329635795"
     },
     "user_tz": -60
    },
    "id": "4PkX7nUExtJ_",
    "outputId": "df68ae44-2550-4164-db6c-02d783e66ea3"
   },
   "outputs": [
    {
     "data": {
      "text/plain": [
       "['Joe', 'Sarah', 'Mike', 'Jess', 'Matt', 'Greg']"
      ]
     },
     "execution_count": 9,
     "metadata": {},
     "output_type": "execute_result"
    }
   ],
   "source": [
    "lst1=[\"Joe\", \"Sarah\", \"Mike\", \"Jess\", \"\", \"Matt\", \"\", \"Greg\"]\n",
    "def name_adder(list):\n",
    "    i = 0\n",
    "    new_list = []\n",
    "    while i < len(list):\n",
    "        if list[i] != \"\":\n",
    "            new_list.append(list[i])\n",
    "        i = i+1\n",
    "    return new_list\n",
    "\n",
    "name_adder(lst1)"
   ]
  },
  {
   "cell_type": "code",
   "execution_count": null,
   "metadata": {
    "colab": {
     "base_uri": "https://localhost:8080/"
    },
    "executionInfo": {
     "elapsed": 808,
     "status": "ok",
     "timestamp": 1667769107297,
     "user": {
      "displayName": "F4033-Kadir",
      "userId": "00693449641329635795"
     },
     "user_tz": -60
    },
    "id": "qte18vBnyIxJ",
    "outputId": "d5a9607c-1951-46d5-8a86-d95bfac67d4f"
   },
   "outputs": [
    {
     "data": {
      "text/plain": [
       "['Kane', 'Sarah', 'Jim', 'Jess', 'Matt', 'Greg']"
      ]
     },
     "execution_count": 10,
     "metadata": {},
     "output_type": "execute_result"
    }
   ],
   "source": [
    "lst2=[\"Kane\", \"Sarah\", \"Jim\", \"Jess\", \"\", \"Matt\", \"\", \"Greg\"]\n",
    "\n",
    "name_adder(lst2)"
   ]
  },
  {
   "cell_type": "code",
   "execution_count": null,
   "metadata": {
    "colab": {
     "base_uri": "https://localhost:8080/"
    },
    "executionInfo": {
     "elapsed": 5,
     "status": "ok",
     "timestamp": 1667467297642,
     "user": {
      "displayName": "F4033-Kadir",
      "userId": "00693449641329635795"
     },
     "user_tz": -60
    },
    "id": "srsFX_Lm-rxK",
    "outputId": "3b104696-9ec1-40b1-e827-267080087ec3"
   },
   "outputs": [
    {
     "name": "stdout",
     "output_type": "stream",
     "text": [
      "[2, 3, 5, 7, 11, 13, 17, 19, 23, 29, 31, 37, 41, 43, 47, 53, 59, 61, 67, 71, 73, 79, 83, 89, 97]\n"
     ]
    }
   ],
   "source": [
    "# print prime numbers between 1 - 100. We will display prime numbers in a list form\n",
    "prime=[]  # created an empty list to collect prime numbers in it\n",
    "\n",
    "\n",
    "for num in range(2, 101):\n",
    "    status = True\n",
    "    for i in range(2, num):\n",
    "        if num % i == 0: # check if the only factors are 1 and itself\n",
    "            status = False\n",
    "    if status:\n",
    "        prime.append(num)  # collect prime numbers in the list\n",
    "\n",
    "print(prime)"
   ]
  },
  {
   "cell_type": "markdown",
   "metadata": {
    "id": "mfYZ7lpKLQH2"
   },
   "source": [
    "**Working with the Iterators**\n",
    "\n",
    "Iterable object can be anything for which items are received one by one, forward only. In Python, **the process of recurrent execution of a block of code is called an iteration**. **Iterators in Python are array-like objects which allow moving on the next element. We use them in traversing a loop, for example, in a for loop**.\n",
    "\n",
    "We can basically classify iterations as two headings :\n",
    "\n",
    "If the number of repetitions is predetermined, it is called **definite iteration**.\n",
    "\n",
    "The repetition structure that makes the code block run as long as the predetermined condition generates True is called **indefinite iteration**.\n",
    "\n",
    "For example; string, list, tuple, dictionary or set are the iterable types of data."
   ]
  },
  {
   "cell_type": "code",
   "execution_count": null,
   "metadata": {
    "colab": {
     "base_uri": "https://localhost:8080/"
    },
    "executionInfo": {
     "elapsed": 44,
     "status": "ok",
     "timestamp": 1667208183278,
     "user": {
      "displayName": "F4033-Kadir",
      "userId": "00693449641329635795"
     },
     "user_tz": -60
    },
    "id": "u_qcZ0OKLJCV",
    "outputId": "542ec16b-e1ed-4a7e-e094-a9c941af52a7"
   },
   "outputs": [
    {
     "name": "stdout",
     "output_type": "stream",
     "text": [
      "c l a r u s w a y \n",
      "l\n",
      "a\n",
      "r\n",
      "u\n",
      "s\n",
      "w\n",
      "a\n",
      "y\n"
     ]
    }
   ],
   "source": [
    "course = 'clarusway'\n",
    "for i in course :\n",
    "    print(i, end= \" \")\n",
    "# aşağı normal yazalım\n",
    "print()\n",
    "course = 'larusway'\n",
    "for i in course:\n",
    "  print(i)"
   ]
  },
  {
   "cell_type": "code",
   "execution_count": null,
   "metadata": {
    "colab": {
     "base_uri": "https://localhost:8080/"
    },
    "executionInfo": {
     "elapsed": 5,
     "status": "ok",
     "timestamp": 1667240098964,
     "user": {
      "displayName": "F4033-Kadir",
      "userId": "00693449641329635795"
     },
     "user_tz": -60
    },
    "id": "RIEJQq2GP4lK",
    "outputId": "086026ed-5255-44d0-c6f8-0c88ad3701d7"
   },
   "outputs": [
    {
     "name": "stdout",
     "output_type": "stream",
     "text": [
      "1 2\n",
      "\n",
      "1 2\n",
      "3 4\n",
      "5 6\n"
     ]
    }
   ],
   "source": [
    "test = [(1,2), (3,4), (5,6)]\n",
    "i,j = test[0]  \n",
    "print(i,j)\n",
    "print()  # ikisi aynı yöntem\n",
    "for i, j in test:  # dict varsa elimizde(örn user) onu list'e cevirip bu sekilde for i,j yapabilriz.\n",
    "  print(i,j)"
   ]
  },
  {
   "cell_type": "code",
   "execution_count": null,
   "metadata": {
    "colab": {
     "base_uri": "https://localhost:8080/"
    },
    "executionInfo": {
     "elapsed": 288,
     "status": "ok",
     "timestamp": 1667240555932,
     "user": {
      "displayName": "F4033-Kadir",
      "userId": "00693449641329635795"
     },
     "user_tz": -60
    },
    "id": "iLMm-JzMQjJD",
    "outputId": "7559aa85-901e-44eb-9d75-a359b7c047b1"
   },
   "outputs": [
    {
     "name": "stdout",
     "output_type": "stream",
     "text": [
      "22\n",
      "144\n",
      "390\n",
      "\n",
      "(1, 2, 11)\n",
      "(3, 4, 12)\n",
      "(5, 6, 13)\n",
      "\n"
     ]
    }
   ],
   "source": [
    "test2 = [(1,2,11), (3,4,12), (5,6,13)]\n",
    "for i,j,k in test2:\n",
    "  print(i*j*k)\n",
    "print()\n",
    "for i in test2:\n",
    "  print(i)\n",
    "print()"
   ]
  },
  {
   "cell_type": "markdown",
   "metadata": {
    "id": "9XmeubvqMbLB"
   },
   "source": [
    "**Operations with the 'for' Loop** \n",
    "\n",
    "1. **With input() function :**\n",
    "\n"
   ]
  },
  {
   "cell_type": "code",
   "execution_count": null,
   "metadata": {
    "colab": {
     "base_uri": "https://localhost:8080/"
    },
    "executionInfo": {
     "elapsed": 3315,
     "status": "ok",
     "timestamp": 1667208186558,
     "user": {
      "displayName": "F4033-Kadir",
      "userId": "00693449641329635795"
     },
     "user_tz": -60
    },
    "id": "bX91gfgFL2Rm",
    "outputId": "f9fe9b88-486e-429e-f8a1-e6725683aa9a"
   },
   "outputs": [
    {
     "name": "stdout",
     "output_type": "stream",
     "text": [
      "How many times should I say 'I love you'3\n",
      "I love you\n",
      "I love you\n",
      "I love you\n"
     ]
    }
   ],
   "source": [
    "times = int(input(\"How many times should I say 'I love you'\"))\n",
    "for i in range(times):\n",
    "    print('I love you')"
   ]
  },
  {
   "cell_type": "markdown",
   "metadata": {
    "id": "XoW0sasLM8Jg"
   },
   "source": [
    " let's write a code that asks the user a number between 1 and 10 and puts that number into the multiplication table:"
   ]
  },
  {
   "cell_type": "code",
   "execution_count": null,
   "metadata": {
    "colab": {
     "base_uri": "https://localhost:8080/"
    },
    "executionInfo": {
     "elapsed": 512,
     "status": "ok",
     "timestamp": 1667467934109,
     "user": {
      "displayName": "F4033-Kadir",
      "userId": "00693449641329635795"
     },
     "user_tz": -60
    },
    "id": "qvYUiT02M0LJ",
    "outputId": "c507c5fc-813a-4dfe-d1ad-e2d21426a442"
   },
   "outputs": [
    {
     "name": "stdout",
     "output_type": "stream",
     "text": [
      "5x0 =  0\n",
      "0\n",
      "5x1 =  5\n",
      "5\n",
      "5x2 =  10\n",
      "10\n",
      "5x3 =  15\n",
      "15\n",
      "5x4 =  20\n",
      "20\n",
      "5x5 =  25\n",
      "25\n",
      "5x6 =  30\n",
      "30\n",
      "5x7 =  35\n",
      "35\n",
      "5x8 =  40\n",
      "40\n",
      "5x9 =  45\n",
      "45\n",
      "5x10 =  50\n",
      "50\n"
     ]
    }
   ],
   "source": [
    "# n = int(input('enter a number between 1-10'))\n",
    "n = 5  #dedi user örneğin\n",
    "for i in range(11):\n",
    "    print('{}x{} = '.format(n, i), n*i)  # ya da print(f\"{n} x {i} =\", n*i)"
   ]
  },
  {
   "cell_type": "code",
   "execution_count": null,
   "metadata": {
    "colab": {
     "base_uri": "https://localhost:8080/"
    },
    "executionInfo": {
     "elapsed": 139,
     "status": "ok",
     "timestamp": 1667208189956,
     "user": {
      "displayName": "F4033-Kadir",
      "userId": "00693449641329635795"
     },
     "user_tz": -60
    },
    "id": "9LSAr8DCjr7f",
    "outputId": "b6ab8edb-7933-40e1-e23a-6bdf8edd1e9b"
   },
   "outputs": [
    {
     "name": "stdout",
     "output_type": "stream",
     "text": [
      "5 % 1 =  0\n",
      "5 % 2 =  1\n",
      "5 % 3 =  2\n",
      "5 % 4 =  1\n",
      "5 % 5 =  0\n",
      "5 % 6 =  5\n",
      "5 % 7 =  5\n",
      "5 % 8 =  5\n",
      "5 % 9 =  5\n",
      "5 % 10 =  5\n"
     ]
    }
   ],
   "source": [
    "# bunu % ile deneyelim\n",
    "for i in range(1,11):\n",
    "    print('{} % {} = '.format(n, i), n%i)"
   ]
  },
  {
   "cell_type": "code",
   "execution_count": null,
   "metadata": {
    "colab": {
     "base_uri": "https://localhost:8080/"
    },
    "executionInfo": {
     "elapsed": 135,
     "status": "ok",
     "timestamp": 1667208189956,
     "user": {
      "displayName": "F4033-Kadir",
      "userId": "00693449641329635795"
     },
     "user_tz": -60
    },
    "id": "eNJrc8eSYGxt",
    "outputId": "839affba-78dd-48ab-fc86-4a1b6c4250a2"
   },
   "outputs": [
    {
     "name": "stdout",
     "output_type": "stream",
     "text": [
      "[1]\n",
      "[1, 2]\n",
      "[1, 2, 3]\n",
      "[1, 2, 3, 4]\n",
      "[1, 2, 3, 4, 5]\n"
     ]
    }
   ],
   "source": [
    "# Task: 1'den 5'e kadar sayılardan oluşan bir liste oluşturun\n",
    "liste = []\n",
    "for i in range(1,6):\n",
    "  liste.append(i)\n",
    "  print(liste)\n"
   ]
  },
  {
   "cell_type": "code",
   "execution_count": null,
   "metadata": {
    "colab": {
     "base_uri": "https://localhost:8080/"
    },
    "executionInfo": {
     "elapsed": 126,
     "status": "ok",
     "timestamp": 1667208189956,
     "user": {
      "displayName": "F4033-Kadir",
      "userId": "00693449641329635795"
     },
     "user_tz": -60
    },
    "id": "ablBh-j1Y8qy",
    "outputId": "ad044698-1899-4aac-f1e4-b0adb7cb5fa0"
   },
   "outputs": [
    {
     "name": "stdout",
     "output_type": "stream",
     "text": [
      "[1, 2, 3, 4, 5]\n"
     ]
    }
   ],
   "source": [
    "liste2 = []\n",
    "for i in range(1,6):\n",
    "  liste2.append(i)\n",
    "print(liste2)"
   ]
  },
  {
   "cell_type": "code",
   "execution_count": null,
   "metadata": {
    "colab": {
     "base_uri": "https://localhost:8080/"
    },
    "executionInfo": {
     "elapsed": 118,
     "status": "ok",
     "timestamp": 1667208189957,
     "user": {
      "displayName": "F4033-Kadir",
      "userId": "00693449641329635795"
     },
     "user_tz": -60
    },
    "id": "0UlS5mkjADd_",
    "outputId": "63a5fcb1-02a3-41c3-de32-018273465d61"
   },
   "outputs": [
    {
     "name": "stdout",
     "output_type": "stream",
     "text": [
      "I will stop smoking\n",
      "I will stop smoking\n",
      "I will stop smoking\n",
      "I will stop smoking\n",
      "I will stop smoking\n"
     ]
    }
   ],
   "source": [
    "a = 3\n",
    "while a**2 < 299:\n",
    "    print('I will stop smoking')\n",
    "    a += 3"
   ]
  },
  {
   "cell_type": "markdown",
   "metadata": {
    "id": "gimHy1xJNd1t"
   },
   "source": [
    "**2. Range()**\n",
    "\n",
    "The range() function creates an iterable sequence of numbers. And it can be simply converted into an iterable object: list, set, and tuple.\n",
    "\n",
    "**The formula syntax is : range(start, stop, step)**"
   ]
  },
  {
   "cell_type": "code",
   "execution_count": null,
   "metadata": {
    "colab": {
     "base_uri": "https://localhost:8080/"
    },
    "executionInfo": {
     "elapsed": 109,
     "status": "ok",
     "timestamp": 1667208189957,
     "user": {
      "displayName": "F4033-Kadir",
      "userId": "00693449641329635795"
     },
     "user_tz": -60
    },
    "id": "UaHA2ScANGrj",
    "outputId": "933cfad9-4de0-4787-e822-df2d220fde8c"
   },
   "outputs": [
    {
     "name": "stdout",
     "output_type": "stream",
     "text": [
      "[0, 1, 2, 3, 4, 5, 6, 7, 8, 9, 10]\n",
      "{5, 6, 7, 8, 9}\n",
      "(0, 1, 2, 3, 4, 5, 6, 7, 8, 9, 10)\n"
     ]
    }
   ],
   "source": [
    "b = list(range(11))\n",
    "print(b)\n",
    "\n",
    "a = set(range(5,10))\n",
    "print(a)\n",
    "\n",
    "c = tuple(range(11))\n",
    "print(c)"
   ]
  },
  {
   "cell_type": "markdown",
   "metadata": {
    "id": "HAApfRY5N4SD"
   },
   "source": [
    "you can use **starred expression** 👉🏻* before range() function to separate its elements."
   ]
  },
  {
   "cell_type": "code",
   "execution_count": null,
   "metadata": {
    "colab": {
     "base_uri": "https://localhost:8080/"
    },
    "executionInfo": {
     "elapsed": 280,
     "status": "ok",
     "timestamp": 1667241326254,
     "user": {
      "displayName": "F4033-Kadir",
      "userId": "00693449641329635795"
     },
     "user_tz": -60
    },
    "id": "cpue3f2SNmMV",
    "outputId": "18511096-b4ae-46d8-b569-3fdab99b6b2a"
   },
   "outputs": [
    {
     "name": "stdout",
     "output_type": "stream",
     "text": [
      "range(0, 5)\n",
      "0 1 2 3 4\n",
      "[0, 1, 2, 3, 4]\n",
      "0\n",
      "1\n",
      "2\n",
      "3\n",
      "4\n"
     ]
    }
   ],
   "source": [
    "print(range(5))  # it will not print the numbers in sequence. \"On the air\" bir range object oluşturdu.\n",
    "# peki bunu naisl acariz\n",
    "print(*range(5))  # '*' separates its elements ve range objecti görünür yapar.\n",
    "# veya\n",
    "print(list(range(5)))\n",
    "# veya\n",
    "for i in range(5):\n",
    "  print(i)"
   ]
  },
  {
   "cell_type": "code",
   "execution_count": null,
   "metadata": {
    "colab": {
     "base_uri": "https://localhost:8080/"
    },
    "executionInfo": {
     "elapsed": 92,
     "status": "ok",
     "timestamp": 1667208189958,
     "user": {
      "displayName": "F4033-Kadir",
      "userId": "00693449641329635795"
     },
     "user_tz": -60
    },
    "id": "3g-Z1ZxwN-_s",
    "outputId": "5f29f9f1-1e7f-417d-99b7-957e190948b2"
   },
   "outputs": [
    {
     "name": "stdout",
     "output_type": "stream",
     "text": [
      "5 7 9 11 13 15 17 19 21 23\n"
     ]
    }
   ],
   "source": [
    "print(*range(5,25,2))"
   ]
  },
  {
   "cell_type": "markdown",
   "metadata": {
    "id": "eT3ITKMTOJXA"
   },
   "source": [
    "Starred expression 👉🏻* can separate other iterable objects. For example, you can separate a string:"
   ]
  },
  {
   "cell_type": "code",
   "execution_count": null,
   "metadata": {
    "colab": {
     "base_uri": "https://localhost:8080/"
    },
    "executionInfo": {
     "elapsed": 84,
     "status": "ok",
     "timestamp": 1667208189958,
     "user": {
      "displayName": "F4033-Kadir",
      "userId": "00693449641329635795"
     },
     "user_tz": -60
    },
    "id": "LH4n64CdOF-D",
    "outputId": "ea21889d-312d-4077-be59-7e96e3aae983"
   },
   "outputs": [
    {
     "name": "stdout",
     "output_type": "stream",
     "text": [
      "s e p a r a t e\n"
     ]
    }
   ],
   "source": [
    "print(*('separate'))"
   ]
  },
  {
   "cell_type": "markdown",
   "metadata": {
    "id": "HMLEIKKXOQvs"
   },
   "source": [
    "You can create reverse sequence numbers using a negative step."
   ]
  },
  {
   "cell_type": "code",
   "execution_count": null,
   "metadata": {
    "colab": {
     "base_uri": "https://localhost:8080/"
    },
    "executionInfo": {
     "elapsed": 76,
     "status": "ok",
     "timestamp": 1667208189958,
     "user": {
      "displayName": "F4033-Kadir",
      "userId": "00693449641329635795"
     },
     "user_tz": -60
    },
    "id": "vritqCINOM2I",
    "outputId": "d69bf5c0-b2c8-441c-e8bc-fac361d682c1"
   },
   "outputs": [
    {
     "name": "stdout",
     "output_type": "stream",
     "text": [
      "10 8 6 4 2\n"
     ]
    }
   ],
   "source": [
    "print(*range(10,0,-2))"
   ]
  },
  {
   "cell_type": "code",
   "execution_count": null,
   "metadata": {
    "colab": {
     "base_uri": "https://localhost:8080/"
    },
    "executionInfo": {
     "elapsed": 289,
     "status": "ok",
     "timestamp": 1667241804005,
     "user": {
      "displayName": "F4033-Kadir",
      "userId": "00693449641329635795"
     },
     "user_tz": -60
    },
    "id": "3Id6hX6bVdag",
    "outputId": "b0f2be8d-a8c2-46ff-d3de-e3395308bb14"
   },
   "outputs": [
    {
     "name": "stdout",
     "output_type": "stream",
     "text": [
      "1\n",
      "22\n",
      "333\n",
      "4444\n",
      "55555\n",
      "666666\n",
      "7777777\n",
      "88888888\n",
      "999999999\n",
      "1\n",
      "22\n",
      "333\n",
      "4444\n",
      "55555\n",
      "666666\n",
      "7777777\n",
      "88888888\n",
      "999999999\n"
     ]
    }
   ],
   "source": [
    "for i in range(1,10):\n",
    "  print(i * str(i))\n",
    "\n",
    "# veya\n",
    "a = 0\n",
    "for i in range(1,10):\n",
    "  a += 1\n",
    "  print(str(i) *a)"
   ]
  },
  {
   "cell_type": "markdown",
   "metadata": {
    "id": "ANT4ZCInOX8d"
   },
   "source": [
    "**We can set up the for loop with multiple variables and the iterables**.\n",
    "\n",
    "*** **zip() function** make an iterator that aggregates elements from each of the iterables."
   ]
  },
  {
   "cell_type": "code",
   "execution_count": null,
   "metadata": {
    "colab": {
     "base_uri": "https://localhost:8080/"
    },
    "executionInfo": {
     "elapsed": 68,
     "status": "ok",
     "timestamp": 1667208189959,
     "user": {
      "displayName": "F4033-Kadir",
      "userId": "00693449641329635795"
     },
     "user_tz": -60
    },
    "id": "faIu7PHVOTsY",
    "outputId": "9aedf03f-6ed1-4efe-f797-3bc6e9262d26"
   },
   "outputs": [
    {
     "name": "stdout",
     "output_type": "stream",
     "text": [
      "one : 1\n",
      "two : 2\n",
      "three : 3\n",
      "four : 4\n",
      "five : 5\n",
      "G : 0\n",
      "a : 1\n",
      "l : 2\n",
      "a : 3\n",
      "t : 4\n",
      "a : 5\n",
      "s : 6\n",
      "a : 7\n",
      "r : 8\n",
      "a : 9\n",
      "y : 10\n"
     ]
    }
   ],
   "source": [
    "text = ['one','two','three','four','five']\n",
    "numbers = [1, 2, 3, 4, 5]\n",
    "for x, y in zip(text, numbers):\n",
    "    print(x, ':', y)\n",
    "\n",
    "team = \"Galatasaray\"\n",
    "digits = range(len(team))\n",
    "for x, y in zip(team, digits):\n",
    "  print(x, \":\", y)"
   ]
  },
  {
   "cell_type": "code",
   "execution_count": null,
   "metadata": {
    "colab": {
     "base_uri": "https://localhost:8080/"
    },
    "executionInfo": {
     "elapsed": 5,
     "status": "ok",
     "timestamp": 1667243357130,
     "user": {
      "displayName": "F4033-Kadir",
      "userId": "00693449641329635795"
     },
     "user_tz": -60
    },
    "id": "YIM-6Jc6bnod",
    "outputId": "2da47c0e-07a3-46cf-9f11-829efafe34b9"
   },
   "outputs": [
    {
     "name": "stdout",
     "output_type": "stream",
     "text": [
      "one : 1\n",
      "two : 2\n",
      "three : 3\n",
      "four : 4\n",
      "five : 5\n",
      "\n",
      "\n",
      "[]\n",
      "('one', 1) ('two', 2) ('three', 3) ('four', 4) ('five', 5)\n",
      "\n",
      "{'one': 1, 'two': 2, 'three': 3, 'four': 4, 'five': 5}\n",
      "{('two', 2), ('five', 5), ('four', 4), ('one', 1), ('three', 3)}\n"
     ]
    }
   ],
   "source": [
    "text = ['one','two','three','four','five']\n",
    "numbers = [1, 2, 3, 4, 5]\n",
    "zipped = zip(text, numbers)\n",
    "\n",
    "for x,y in zipped:\n",
    "  print(x, \":\", y)\n",
    "\n",
    "print()\n",
    "print(* zipped)  # bu bosluk cikarir, birsey vermez\n",
    "print(list(zipped))  # bu da bos liste verir. cunku bu tarz generate edilen onjeler kullanıldıktan sonra boşalmış olur.\n",
    "# tekrar doldurursak olur\n",
    "zipped = zip(text, numbers)\n",
    "print(* zipped)\n",
    "print()\n",
    "# dict yapalım\n",
    "zipped = zip(text, numbers)\n",
    "print(dict(zipped))\n",
    "# set yapalım\n",
    "zipped = zip(text, numbers)\n",
    "print(set(zipped))"
   ]
  },
  {
   "cell_type": "code",
   "execution_count": null,
   "metadata": {
    "colab": {
     "base_uri": "https://localhost:8080/"
    },
    "executionInfo": {
     "elapsed": 344,
     "status": "ok",
     "timestamp": 1667242087997,
     "user": {
      "displayName": "F4033-Kadir",
      "userId": "00693449641329635795"
     },
     "user_tz": -60
    },
    "id": "qiqVhRESXGNm",
    "outputId": "488aff46-513f-4b43-a9c9-b7910560a868"
   },
   "outputs": [
    {
     "name": "stdout",
     "output_type": "stream",
     "text": [
      "(1, 'a', 10) (2, 'b', 20) (3, 'c', 30)\n",
      "\n",
      "1 a 10\n",
      "2 b 20\n",
      "3 c 30\n"
     ]
    }
   ],
   "source": [
    "aa = [1,2,3,4]  # bunda 4 eleman var, sonuncuyu dikkate almadi. yani liste len'leri farkli olabilir\n",
    "bb = [\"a\",\"b\",\"c\"]\n",
    "cc = [10,20,30]\n",
    "print(* zip(aa, bb, cc))\n",
    "print()\n",
    "for i, ii, iii in zip(aa, bb, cc):\n",
    "  print(i, ii, iii)"
   ]
  },
  {
   "cell_type": "code",
   "execution_count": null,
   "metadata": {
    "colab": {
     "base_uri": "https://localhost:8080/"
    },
    "executionInfo": {
     "elapsed": 8,
     "status": "ok",
     "timestamp": 1667244966630,
     "user": {
      "displayName": "F4033-Kadir",
      "userId": "00693449641329635795"
     },
     "user_tz": -60
    },
    "id": "UZrCNEaPiWIF",
    "outputId": "a7a97ca3-be9b-4ffd-c69b-eadb59667f98"
   },
   "outputs": [
    {
     "name": "stdout",
     "output_type": "stream",
     "text": [
      "[2, 4, 6, 8, 10] [1, 3, 5, 7, 9]\n"
     ]
    }
   ],
   "source": [
    "# 1den 10a sayıların listesini oluşturup even ve odd olmalarına göre 2 lsteye ayır\n",
    "list_even = []\n",
    "list_odd = []\n",
    "\n",
    "for i in range(1,11):\n",
    "  if i%2 == 0:\n",
    "    list_even.append(i)\n",
    "  else:\n",
    "    list_odd.append(i)\n",
    "print(list_even, list_odd)\n"
   ]
  },
  {
   "cell_type": "code",
   "execution_count": null,
   "metadata": {
    "colab": {
     "base_uri": "https://localhost:8080/"
    },
    "executionInfo": {
     "elapsed": 12,
     "status": "ok",
     "timestamp": 1667245903202,
     "user": {
      "displayName": "F4033-Kadir",
      "userId": "00693449641329635795"
     },
     "user_tz": -60
    },
    "id": "KFMXnUOFkNGQ",
    "outputId": "86217d81-df22-49f7-d4f3-4e432b24a2b0"
   },
   "outputs": [
    {
     "name": "stdout",
     "output_type": "stream",
     "text": [
      "events count : 3\n",
      "odds count : 4\n"
     ]
    }
   ],
   "source": [
    "liste = [11,2,24,61,48,33,3]\n",
    "evens = 0\n",
    "odds = 0\n",
    "for i in liste:\n",
    "  if i % 2 == 0:\n",
    "    evens += 1\n",
    "  else:\n",
    "    odds += 1\n",
    "\n",
    "print(\"events count :\", evens)\n",
    "print(\"odds count :\", odds)"
   ]
  },
  {
   "cell_type": "markdown",
   "metadata": {
    "id": "_tR7QdFrO1Nu"
   },
   "source": [
    "**Nested 'for' Loop**\n",
    "\n",
    "Sometimes we need to use a single element of an iterable data and all other elements simultaneously, that is, **our code block in a loop can also contain a loop**. These are called nested loops.\n",
    "\n",
    "In Python, we can easily place one loop inside another one. First outer loop then inner one runs. "
   ]
  },
  {
   "cell_type": "code",
   "execution_count": null,
   "metadata": {
    "colab": {
     "base_uri": "https://localhost:8080/"
    },
    "executionInfo": {
     "elapsed": 60,
     "status": "ok",
     "timestamp": 1667208189959,
     "user": {
      "displayName": "F4033-Kadir",
      "userId": "00693449641329635795"
     },
     "user_tz": -60
    },
    "id": "Cy5N0QBqOj08",
    "outputId": "82cc9e5a-1aff-4540-ce6f-f52bf379e601"
   },
   "outputs": [
    {
     "name": "stdout",
     "output_type": "stream",
     "text": [
      "I am happy\n",
      "I am confident\n",
      "You are happy\n",
      "You are confident\n"
     ]
    }
   ],
   "source": [
    "who = ['I am ', 'You are ']\n",
    "mood = ['happy', 'confident']\n",
    "for i in who:\n",
    "    for ii in mood:\n",
    "        print(i + ii)"
   ]
  },
  {
   "cell_type": "code",
   "execution_count": null,
   "metadata": {
    "colab": {
     "base_uri": "https://localhost:8080/"
    },
    "executionInfo": {
     "elapsed": 259,
     "status": "ok",
     "timestamp": 1667469263784,
     "user": {
      "displayName": "F4033-Kadir",
      "userId": "00693449641329635795"
     },
     "user_tz": -60
    },
    "id": "6CV6mxL83_SH",
    "outputId": "01d3c58a-5c0f-491d-c1d1-8cb3c5287af7"
   },
   "outputs": [
    {
     "name": "stdout",
     "output_type": "stream",
     "text": [
      "2 adet ekmek al gel\n",
      "2 adet deterjan al gel\n",
      "2 adet gazete al gel\n"
     ]
    }
   ],
   "source": [
    "evens = [2]\n",
    "odds = [\"ekmek\", \"deterjan\", \"gazete\"]\n",
    "\n",
    "for a in evens:\n",
    "  for b in odds:\n",
    "    print(a, \"adet\", b, \"al gel\")\n",
    "  "
   ]
  },
  {
   "cell_type": "code",
   "execution_count": null,
   "metadata": {
    "colab": {
     "base_uri": "https://localhost:8080/"
    },
    "executionInfo": {
     "elapsed": 308,
     "status": "ok",
     "timestamp": 1667246066503,
     "user": {
      "displayName": "F4033-Kadir",
      "userId": "00693449641329635795"
     },
     "user_tz": -60
    },
    "id": "dvGgQXygmtjX",
    "outputId": "de0fb853-0601-4303-d780-5cb7d3c511da"
   },
   "outputs": [
    {
     "name": "stdout",
     "output_type": "stream",
     "text": [
      "susan is happy\n",
      "susan is sad\n",
      "tom is happy\n",
      "tom is sad\n",
      "edward is happy\n",
      "edward is sad\n"
     ]
    }
   ],
   "source": [
    "names = ['susan', \"tom\", \"edward\"]\n",
    "mood = [\"happy\", \"sad\"]\n",
    "\n",
    "for i in names:\n",
    "  for ii in mood:\n",
    "    print(i + \" is \" + ii)"
   ]
  },
  {
   "cell_type": "code",
   "execution_count": null,
   "metadata": {
    "colab": {
     "base_uri": "https://localhost:8080/"
    },
    "executionInfo": {
     "elapsed": 5,
     "status": "ok",
     "timestamp": 1667338630484,
     "user": {
      "displayName": "F4033-Kadir",
      "userId": "00693449641329635795"
     },
     "user_tz": -60
    },
    "id": "_KUYrzuAPPlX",
    "outputId": "7b1c5882-64e7-4936-8a75-04ca29c33470"
   },
   "outputs": [
    {
     "name": "stdout",
     "output_type": "stream",
     "text": [
      "1\n",
      "3\n",
      "5\n",
      "7\n"
     ]
    }
   ],
   "source": [
    "# for loop if condition ile de loop edilebilir. \n",
    "# 1'den 8'e kadar sayıları alalım ama 2'ye bölünmeyenler\n",
    "for i in range(1,9):\n",
    "  if i%2 != 0:\n",
    "    print(i)"
   ]
  },
  {
   "cell_type": "markdown",
   "metadata": {
    "id": "S9RJ7c4dtiuz"
   },
   "source": [
    "**Else in For Loop**\n",
    "\n",
    "The else keyword in a for loop specifies a block of code to be executed when the loop is finished:\n",
    "\n",
    "Note: The else block will NOT be executed if the loop is stopped by a break statement."
   ]
  },
  {
   "cell_type": "code",
   "execution_count": null,
   "metadata": {
    "colab": {
     "base_uri": "https://localhost:8080/"
    },
    "executionInfo": {
     "elapsed": 44,
     "status": "ok",
     "timestamp": 1667208189959,
     "user": {
      "displayName": "F4033-Kadir",
      "userId": "00693449641329635795"
     },
     "user_tz": -60
    },
    "id": "s_JsIUmoWsbo",
    "outputId": "adeb76a1-9c97-421c-b0f5-442ffb81010b"
   },
   "outputs": [
    {
     "name": "stdout",
     "output_type": "stream",
     "text": [
      "0\n",
      "1\n",
      "2\n",
      "3\n",
      "4\n",
      "5\n",
      "Finally finished!\n"
     ]
    }
   ],
   "source": [
    "for x in range(6):\n",
    "  print(x)\n",
    "else:\n",
    "  print(\"Finally finished!\")"
   ]
  },
  {
   "cell_type": "code",
   "execution_count": null,
   "metadata": {
    "colab": {
     "base_uri": "https://localhost:8080/"
    },
    "executionInfo": {
     "elapsed": 37,
     "status": "ok",
     "timestamp": 1667208189960,
     "user": {
      "displayName": "F4033-Kadir",
      "userId": "00693449641329635795"
     },
     "user_tz": -60
    },
    "id": "R0h8A1n9tvbp",
    "outputId": "caab4a4e-b814-439b-bd4e-8b2dc8f36b9f"
   },
   "outputs": [
    {
     "name": "stdout",
     "output_type": "stream",
     "text": [
      "0\n",
      "1\n",
      "2\n"
     ]
    }
   ],
   "source": [
    "for x in range(6):\n",
    "  if x == 3: break\n",
    "  print(x)\n",
    "else:\n",
    "  print(\"Finally finished!\")"
   ]
  },
  {
   "cell_type": "code",
   "execution_count": null,
   "metadata": {
    "colab": {
     "base_uri": "https://localhost:8080/"
    },
    "executionInfo": {
     "elapsed": 29,
     "status": "ok",
     "timestamp": 1667208189960,
     "user": {
      "displayName": "F4033-Kadir",
      "userId": "00693449641329635795"
     },
     "user_tz": -60
    },
    "id": "-tl3cCpytnPA",
    "outputId": "cb284a40-3451-439d-86d5-2873f23af56a"
   },
   "outputs": [
    {
     "name": "stdout",
     "output_type": "stream",
     "text": [
      "5050\n",
      "\n",
      "5050\n",
      "\n",
      "2550\n"
     ]
    }
   ],
   "source": [
    "# 0'dan 100e kadar sayıları while ve for ile topla\n",
    "\n",
    "counter = 0\n",
    "total = 0\n",
    "\n",
    "while counter < 100:\n",
    "  counter += 1\n",
    "  total += counter\n",
    "\n",
    "print (total)\n",
    "\n",
    "print()\n",
    "counter = 0\n",
    "total = 0\n",
    "for counter in range (0, 100):\n",
    "  if counter % 2 != 0:  # bunu koyarsak sadece oddları toplar\n",
    "    counter += 1\n",
    "    total += counter\n",
    "print(total)\n"
   ]
  },
  {
   "cell_type": "code",
   "execution_count": null,
   "metadata": {
    "colab": {
     "base_uri": "https://localhost:8080/"
    },
    "executionInfo": {
     "elapsed": 20,
     "status": "ok",
     "timestamp": 1667208189960,
     "user": {
      "displayName": "F4033-Kadir",
      "userId": "00693449641329635795"
     },
     "user_tz": -60
    },
    "id": "x1F-yc80G2ZF",
    "outputId": "dea7c208-d32f-4c88-90a3-57574eb85514"
   },
   "outputs": [
    {
     "name": "stdout",
     "output_type": "stream",
     "text": [
      "There is a 100 at index no: 12\n"
     ]
    }
   ],
   "source": [
    "# Using while loop, if statement and str() function; iterate through the list and \n",
    "# if there is a 100, print it with its index number. i.e.: \"There is a 100 at index no: 5\"\n",
    "lst=[10, 99, 98, 85, 45, 59, 65, 66, 76, 12, 35, 13, 100, 80, 95]\n",
    "i = 0\n",
    "while i < len(lst):\n",
    "    if lst[i] == 100:\n",
    "        print(\"There is a 100 at index no: \" + str(i))\n",
    "    i = i+1"
   ]
  },
  {
   "cell_type": "code",
   "execution_count": null,
   "metadata": {
    "colab": {
     "base_uri": "https://localhost:8080/"
    },
    "executionInfo": {
     "elapsed": 5,
     "status": "ok",
     "timestamp": 1667470619129,
     "user": {
      "displayName": "F4033-Kadir",
      "userId": "00693449641329635795"
     },
     "user_tz": -60
    },
    "id": "w172dB1A--J6",
    "outputId": "e23b5f95-a1cc-451b-d635-e76cf540a287"
   },
   "outputs": [
    {
     "name": "stdout",
     "output_type": "stream",
     "text": [
      "FOUR SCORE AND SEVEN YEARS AGO \n",
      "FOUR SCORE AND SEVEN YEARS AGO "
     ]
    }
   ],
   "source": [
    "# Take a list of words, converts each one to all-uppercase, and print out the uppercase word.\n",
    "words = [\"Four\", \"score\", \"and\", \"seven\", \"years\", \"ago\"]\n",
    "for i in words:\n",
    "  print(i.upper(), end= \" \")\n",
    "print()\n",
    "i = 0\n",
    "while i < len(words):\n",
    "  print(words[i].upper(), end= \" \")\n",
    "  i+= 1"
   ]
  },
  {
   "cell_type": "code",
   "execution_count": null,
   "metadata": {
    "id": "ADPbjmrBnX0n"
   },
   "outputs": [],
   "source": []
  },
  {
   "cell_type": "code",
   "execution_count": null,
   "metadata": {
    "colab": {
     "base_uri": "https://localhost:8080/"
    },
    "executionInfo": {
     "elapsed": 16,
     "status": "ok",
     "timestamp": 1667208190199,
     "user": {
      "displayName": "F4033-Kadir",
      "userId": "00693449641329635795"
     },
     "user_tz": -60
    },
    "id": "zj9tdha7TQ8a",
    "outputId": "bb68c126-ca36-42d7-a4db-be208ebfb9cb"
   },
   "outputs": [
    {
     "name": "stdout",
     "output_type": "stream",
     "text": [
      "1\n",
      "2\n",
      "4\n",
      "5\n",
      "2\n"
     ]
    }
   ],
   "source": [
    "big_number_list = [1, 2, -1, 4, -5, 5, 2, -9]\n",
    "\n",
    "# Print only positive numbers:\n",
    "for i in big_number_list:\n",
    "  if i < 0:\n",
    "    continue\n",
    "  print(i)"
   ]
  },
  {
   "cell_type": "code",
   "execution_count": null,
   "metadata": {
    "id": "NO_vYU43V-bA"
   },
   "outputs": [],
   "source": []
  },
  {
   "cell_type": "markdown",
   "metadata": {
    "id": "FugqeOkpYkuZ"
   },
   "source": [
    "**SUMMARY**\n",
    "\n",
    "For loops are used when you have a block of code which you want to repeat **a fixed number of times**. **The for-loop is always used in combination with an iterable object, like a list or a range.** The Python for statement iterates over the members of a sequence in order, executing the block each time. Contrast the for statement with the ''while'' loop, used when a condition needs to be checked each iteration or to repeat a block of code forever. For example:"
   ]
  },
  {
   "cell_type": "code",
   "execution_count": null,
   "metadata": {
    "colab": {
     "base_uri": "https://localhost:8080/"
    },
    "executionInfo": {
     "elapsed": 322,
     "status": "ok",
     "timestamp": 1667208812921,
     "user": {
      "displayName": "F4033-Kadir",
      "userId": "00693449641329635795"
     },
     "user_tz": -60
    },
    "id": "5QF-YwBeYj_L",
    "outputId": "17c18794-30d0-40cc-9f6f-babbd644ad27"
   },
   "outputs": [
    {
     "name": "stdout",
     "output_type": "stream",
     "text": [
      "We're on time 0\n",
      "We're on time 1\n",
      "We're on time 2\n",
      "\n"
     ]
    }
   ],
   "source": [
    "for x in range(0, 3):\n",
    "    print(\"We're on time %d\" % (x))\n",
    "print()\n",
    "x = 1\n",
    "while True:\n",
    "    # print(\"To infinity and beyond! We're getting close, on %d now!\" % (x))\n",
    "    x += 1  # yazdırırsak infinite loop"
   ]
  },
  {
   "cell_type": "markdown",
   "metadata": {
    "id": "M82xC4FEZPQ4"
   },
   "source": [
    "**The for loop runs for a fixed amount of times, while the while loop runs until the loop condition changes**. In this example, the condition is the boolean True which will never change, so it will run forever.\n",
    "\n",
    "**Nested loops**\n",
    "\n",
    "When you have a block of code you want to run x number of times, then a block of code within that code which you want to run y number of times, you use what is known as a \"nested loop\". In Python, these are heavily used whenever someone has a list of lists - an iterable object within an iterable object.\n",
    "\n",
    "Like the while loop, the for loop can be made to exit before the given object is finished. This is done using the break statement, which will immediately drop out of the loop and continue execution at the first statement after the block. You can also have an optional else clause, which will run should the for loop exit cleanly - that is, without breaking."
   ]
  },
  {
   "cell_type": "code",
   "execution_count": null,
   "metadata": {
    "colab": {
     "base_uri": "https://localhost:8080/"
    },
    "executionInfo": {
     "elapsed": 310,
     "status": "ok",
     "timestamp": 1667209119506,
     "user": {
      "displayName": "F4033-Kadir",
      "userId": "00693449641329635795"
     },
     "user_tz": -60
    },
    "id": "UQ4HEycQY5Wi",
    "outputId": "fcaccfca-c31f-4d11-dd75-f2264ec62d5a"
   },
   "outputs": [
    {
     "name": "stdout",
     "output_type": "stream",
     "text": [
      "1 * 1 = 1\n",
      "1 * 2 = 2\n",
      "2 * 1 = 2\n",
      "2 * 2 = 4\n"
     ]
    }
   ],
   "source": [
    "for x in range(1,3):\n",
    "    for y in range(1, 3):\n",
    "        print('%d * %d = %d' % (x, y, x*y))"
   ]
  },
  {
   "cell_type": "code",
   "execution_count": null,
   "metadata": {
    "id": "Stj3NNAVZ-87"
   },
   "outputs": [],
   "source": [
    "for x in range(3):\n",
    "    if x == 1:\n",
    "        break"
   ]
  },
  {
   "cell_type": "code",
   "execution_count": null,
   "metadata": {
    "colab": {
     "base_uri": "https://localhost:8080/"
    },
    "executionInfo": {
     "elapsed": 8,
     "status": "ok",
     "timestamp": 1667209179162,
     "user": {
      "displayName": "F4033-Kadir",
      "userId": "00693449641329635795"
     },
     "user_tz": -60
    },
    "id": "sP5NJhZSaKEZ",
    "outputId": "94a341d8-2e90-45f8-d2e9-46ed1285e386"
   },
   "outputs": [
    {
     "name": "stdout",
     "output_type": "stream",
     "text": [
      "0\n",
      "1\n",
      "2\n",
      "Final x = 2\n"
     ]
    }
   ],
   "source": [
    "for x in range(3):\n",
    "    print(x)\n",
    "else:\n",
    "    print('Final x = %d' % (x))"
   ]
  },
  {
   "cell_type": "code",
   "execution_count": null,
   "metadata": {
    "colab": {
     "base_uri": "https://localhost:8080/"
    },
    "executionInfo": {
     "elapsed": 9,
     "status": "ok",
     "timestamp": 1667209212281,
     "user": {
      "displayName": "F4033-Kadir",
      "userId": "00693449641329635795"
     },
     "user_tz": -60
    },
    "id": "vmjhAO-taSw3",
    "outputId": "645df45e-0719-4db2-b254-260bb39e9f03"
   },
   "outputs": [
    {
     "name": "stdout",
     "output_type": "stream",
     "text": [
      "1\n",
      "2\n",
      "3\n",
      "4\n",
      "5\n",
      "6\n",
      "7\n",
      "8\n",
      "9\n"
     ]
    }
   ],
   "source": [
    "list_of_lists = [ [1, 2, 3], [4, 5, 6], [7, 8, 9]]\n",
    "for list in list_of_lists:\n",
    "    for x in list:\n",
    "        print(x)"
   ]
  },
  {
   "cell_type": "code",
   "execution_count": null,
   "metadata": {
    "colab": {
     "base_uri": "https://localhost:8080/"
    },
    "executionInfo": {
     "elapsed": 8,
     "status": "ok",
     "timestamp": 1667209426574,
     "user": {
      "displayName": "F4033-Kadir",
      "userId": "00693449641329635795"
     },
     "user_tz": -60
    },
    "id": "ENrfGtguaa2X",
    "outputId": "cbcefb38-37bc-4365-fa76-edc334c9b50c"
   },
   "outputs": [
    {
     "name": "stdout",
     "output_type": "stream",
     "text": [
      "Current fruit : banana\n",
      "Current fruit : apple\n",
      "Current fruit : mango\n",
      "\n",
      "Current fruit : banana\n",
      "Current fruit : apple\n",
      "Current fruit : mango\n"
     ]
    }
   ],
   "source": [
    "fruits = ['banana', 'apple',  'mango']\n",
    "for fruit in fruits:        # Second Example\n",
    "   print('Current fruit :', fruit)\n",
    "\n",
    "print()\n",
    "fruits = ['banana', 'apple',  'mango']\n",
    "for index in range(len(fruits)):\n",
    "   print('Current fruit :', fruits[index])"
   ]
  },
  {
   "cell_type": "code",
   "execution_count": null,
   "metadata": {
    "colab": {
     "base_uri": "https://localhost:8080/"
    },
    "executionInfo": {
     "elapsed": 348,
     "status": "ok",
     "timestamp": 1667211058834,
     "user": {
      "displayName": "F4033-Kadir",
      "userId": "00693449641329635795"
     },
     "user_tz": -60
    },
    "id": "hylom_x7bK8P",
    "outputId": "e96f72f0-706b-4e79-d722-2afdc8cc7894"
   },
   "outputs": [
    {
     "name": "stdout",
     "output_type": "stream",
     "text": [
      "Day 1 : Monday\n",
      "Day 2 : Tuesday\n",
      "Day 3 : Wednesday\n",
      "Day 4 : Thursday\n",
      "Day 5 : Friday\n"
     ]
    }
   ],
   "source": [
    "weekdays = ['Monday', 'Tuesday', 'Wednesday', 'Thursday', 'Friday']\n",
    "for day in range(len(weekdays)):\n",
    "  print('Day', day+1, ':', weekdays[day])"
   ]
  },
  {
   "cell_type": "code",
   "execution_count": null,
   "metadata": {
    "colab": {
     "base_uri": "https://localhost:8080/"
    },
    "executionInfo": {
     "elapsed": 6,
     "status": "ok",
     "timestamp": 1667471407516,
     "user": {
      "displayName": "F4033-Kadir",
      "userId": "00693449641329635795"
     },
     "user_tz": -60
    },
    "id": "XtDgqsT_iGeF",
    "outputId": "9cde5e57-120b-4a62-b011-cfced1bf33c1"
   },
   "outputs": [
    {
     "name": "stdout",
     "output_type": "stream",
     "text": [
      "The type of {'section': 5, 'topic': 2} is <class 'dict'>\n",
      "The type of clarusway is <class 'str'>\n",
      "The type of [1, 4] is <class 'list'>\n",
      "The type of 2020 is <class 'int'>\n",
      "The type of 3.14 is <class 'float'>\n",
      "The type of (1+618j) is <class 'complex'>\n",
      "The type of False is <class 'bool'>\n",
      "The type of (10, 20) is <class 'tuple'>\n"
     ]
    }
   ],
   "source": [
    "sample_list = [{\"section\":5, \"topic\":2}, 'clarusway', [1, 4], 2020, 3.14, 1+618j, False, (10, 20)]\n",
    "\n",
    "for i in range(len(sample_list)):\n",
    "  print(f\"The type of {sample_list[i]} is {type(sample_list[i])}\")\n",
    " \n"
   ]
  },
  {
   "cell_type": "markdown",
   "metadata": {
    "id": "WvQfHYGC1gNG"
   },
   "source": [
    "How to find if a number is prime number or not?\n"
   ]
  },
  {
   "cell_type": "code",
   "execution_count": null,
   "metadata": {
    "colab": {
     "base_uri": "https://localhost:8080/"
    },
    "executionInfo": {
     "elapsed": 5,
     "status": "ok",
     "timestamp": 1667471554441,
     "user": {
      "displayName": "F4033-Kadir",
      "userId": "00693449641329635795"
     },
     "user_tz": -60
    },
    "id": "OppDnSfStlip",
    "outputId": "3f102f11-647b-4388-b9e2-5a9af1f005a9"
   },
   "outputs": [
    {
     "name": "stdout",
     "output_type": "stream",
     "text": [
      "not prime\n"
     ]
    }
   ],
   "source": [
    "# simple-proper way\n",
    "\n",
    "num = 12\n",
    "for i in range(2, num):  # 2'den başlarız çünkü 1 ve kendisine bölünüyor. num'la biter cunku 7-1 olmalı. \n",
    "  if num % i == 0:  # num % i, cunku her biriyle kontrol etmesini istiyoruz.\n",
    "    print(\"not prime\")\n",
    "    break  # eğer prime değilse boşu boşuna hepsini check etmesin. mesela 10 olsa, daha 2de bölünür, ilerlemesine gerek yok.\n",
    "else:  # else indentli olursa for elde degil, if else olur. ic loop.\n",
    "  print(\"prime\")\n"
   ]
  },
  {
   "cell_type": "code",
   "execution_count": null,
   "metadata": {
    "colab": {
     "base_uri": "https://localhost:8080/"
    },
    "executionInfo": {
     "elapsed": 341,
     "status": "ok",
     "timestamp": 1667250873995,
     "user": {
      "displayName": "F4033-Kadir",
      "userId": "00693449641329635795"
     },
     "user_tz": -60
    },
    "id": "_6ippb-E49S6",
    "outputId": "0936018b-1744-4d6f-c023-8fc859f2d03e"
   },
   "outputs": [
    {
     "name": "stdout",
     "output_type": "stream",
     "text": [
      "21 is not a prime number\n"
     ]
    }
   ],
   "source": [
    "num = int(input(\"Enter a number to see if it's a prime number: \"))\n",
    "\n",
    "for i in range(2, num):\n",
    "  if num % i == 0:\n",
    "    print(num, \"is not a prime number\")\n",
    "    break\n",
    "else:\n",
    "  print(num, \"is a prime number\")"
   ]
  },
  {
   "cell_type": "code",
   "execution_count": null,
   "metadata": {
    "colab": {
     "base_uri": "https://localhost:8080/"
    },
    "executionInfo": {
     "elapsed": 676,
     "status": "ok",
     "timestamp": 1667471973603,
     "user": {
      "displayName": "F4033-Kadir",
      "userId": "00693449641329635795"
     },
     "user_tz": -60
    },
    "id": "g2ya63dP11Yq",
    "outputId": "74cc327f-5e28-4729-c042-b621ba1d98b6"
   },
   "outputs": [
    {
     "name": "stdout",
     "output_type": "stream",
     "text": [
      "11 is a prime number\n"
     ]
    }
   ],
   "source": [
    "num = 11\n",
    "# If given number is greater than 1\n",
    "if num > 1:\n",
    "    # Iterate from 2 to n / 2\n",
    "    for i in range(2, int(num/2)+1):\n",
    "        # If num is divisible by any number between\n",
    "        # 2 and n / 2, it is not prime\n",
    "        if (num % i) == 0:\n",
    "            print(num, \"is not a prime number\")\n",
    "            break\n",
    "    else:\n",
    "        print(num, \"is a prime number\")\n",
    "else:\n",
    "    print(num, \"is not a prime number\")"
   ]
  },
  {
   "cell_type": "code",
   "execution_count": null,
   "metadata": {
    "colab": {
     "base_uri": "https://localhost:8080/"
    },
    "executionInfo": {
     "elapsed": 311,
     "status": "ok",
     "timestamp": 1667252838327,
     "user": {
      "displayName": "F4033-Kadir",
      "userId": "00693449641329635795"
     },
     "user_tz": -60
    },
    "id": "TMPhRCkUwhUg",
    "outputId": "1bdb5523-cb45-45bc-a128-73923233dcb0"
   },
   "outputs": [
    {
     "name": "stdout",
     "output_type": "stream",
     "text": [
      "1 3 6 10 15 21 28 36 45 55 "
     ]
    }
   ],
   "source": [
    "i=0\n",
    "total = 0\n",
    "for i in range (1,56):\n",
    "    total += i\n",
    "    print(total, end = \" \")\n",
    "    if total == 55:\n",
    "      break\n",
    "    \n",
    "  "
   ]
  },
  {
   "cell_type": "markdown",
   "metadata": {
    "id": "0z5-M_ahFPh8"
   },
   "source": [
    "Write a Python program which iterates the integers from 1 to 50. For multiples of three print \"Fizz\" instead of the number and for multiples of five print \"Buzz\".\n",
    "\n",
    "For numbers which are multiples of both three and five print \"FizzBuzz\".\n",
    "\n",
    "*Easy level: Just solve it\n",
    "*Hard level : Don't use '=='"
   ]
  },
  {
   "cell_type": "code",
   "execution_count": null,
   "metadata": {
    "colab": {
     "base_uri": "https://localhost:8080/"
    },
    "executionInfo": {
     "elapsed": 674,
     "status": "ok",
     "timestamp": 1667472411070,
     "user": {
      "displayName": "F4033-Kadir",
      "userId": "00693449641329635795"
     },
     "user_tz": -60
    },
    "id": "zVzKXTXkFPDy",
    "outputId": "c9ae2927-83be-4c55-a8c2-24d74dc65417"
   },
   "outputs": [
    {
     "name": "stdout",
     "output_type": "stream",
     "text": [
      "1 2 Fizz\n",
      "4 Buzz\n",
      "Fizz\n",
      "7 8 Fizz\n",
      "Buzz\n",
      "11 Fizz\n",
      "13 14 FizzBuzz\n",
      "16 17 Fizz\n",
      "19 Buzz\n",
      "Fizz\n",
      "22 23 Fizz\n",
      "Buzz\n",
      "26 Fizz\n",
      "28 29 FizzBuzz\n",
      "31 32 Fizz\n",
      "34 Buzz\n",
      "Fizz\n",
      "37 38 Fizz\n",
      "Buzz\n",
      "41 Fizz\n",
      "43 44 FizzBuzz\n",
      "46 47 Fizz\n",
      "49 Buzz\n"
     ]
    }
   ],
   "source": [
    "for i in range(1,51):\n",
    "  if not i%3 and not i%5:\n",
    "    print(\"FizzBuzz\")\n",
    "  elif not i % 3:\n",
    "    print(\"Fizz\")\n",
    "  elif not i % 5:\n",
    "    print(\"Buzz\")\n",
    "  else:\n",
    "    print(i, end= \" \")"
   ]
  },
  {
   "cell_type": "code",
   "execution_count": null,
   "metadata": {
    "colab": {
     "base_uri": "https://localhost:8080/"
    },
    "executionInfo": {
     "elapsed": 11,
     "status": "ok",
     "timestamp": 1667861443507,
     "user": {
      "displayName": "F4033-Kadir",
      "userId": "00693449641329635795"
     },
     "user_tz": -60
    },
    "id": "Yz_Cq4h1HCZO",
    "outputId": "764ff6d6-ae08-4372-aa6b-1a64bf8f2dfb"
   },
   "outputs": [
    {
     "name": "stdout",
     "output_type": "stream",
     "text": [
      "6\n"
     ]
    }
   ],
   "source": [
    "# kullanıcı 15 girmis olsun\n",
    "num = \"15\"\n",
    "total = 0\n",
    "for i in num:\n",
    "  total +=int(i)\n",
    "print(total)"
   ]
  },
  {
   "cell_type": "markdown",
   "metadata": {
    "id": "oAGRvw7abyNb"
   },
   "source": [
    "**Video for how to print patterns in Python**:\n",
    "\n",
    "https://www.youtube.com/watch?v=fX64q6sYom0 "
   ]
  },
  {
   "cell_type": "code",
   "execution_count": null,
   "metadata": {
    "colab": {
     "base_uri": "https://localhost:8080/"
    },
    "executionInfo": {
     "elapsed": 6,
     "status": "ok",
     "timestamp": 1667310382264,
     "user": {
      "displayName": "F4033-Kadir",
      "userId": "00693449641329635795"
     },
     "user_tz": -60
    },
    "id": "L9j-vUy3cWAC",
    "outputId": "f44424aa-e22d-4fe6-a174-13b85d233256"
   },
   "outputs": [
    {
     "name": "stdout",
     "output_type": "stream",
     "text": [
      "# # # # \n",
      "# # # # \n",
      "# # # # \n",
      "# # # # \n",
      "\n",
      "# \n",
      "# # \n",
      "# # # \n",
      "# # # # \n"
     ]
    }
   ],
   "source": [
    "# task: 4 hashtagten oluşan altalta 4 satır yaz.\n",
    "for i in range(4):\n",
    "  for j in range(4):\n",
    "    print(\"#\", end= \" \")\n",
    "  print()\n",
    "print()\n",
    "for i in range(4):\n",
    "  for j in range(i+1):\n",
    "    print(\"#\", end= \" \")\n",
    "  print()"
   ]
  },
  {
   "cell_type": "code",
   "execution_count": null,
   "metadata": {
    "colab": {
     "base_uri": "https://localhost:8080/"
    },
    "executionInfo": {
     "elapsed": 5,
     "status": "ok",
     "timestamp": 1667861883215,
     "user": {
      "displayName": "F4033-Kadir",
      "userId": "00693449641329635795"
     },
     "user_tz": -60
    },
    "id": "BVLhvf8hTZxc",
    "outputId": "05c458ae-0e85-4c78-8997-383d8657008d"
   },
   "outputs": [
    {
     "name": "stdout",
     "output_type": "stream",
     "text": [
      "*\n",
      "**\n",
      "***\n",
      "****\n",
      "*****\n",
      "****\n",
      "***\n",
      "**\n",
      "*\n"
     ]
    }
   ],
   "source": [
    "for i in range(5):\n",
    "  for j in range(i+1):\n",
    "    print(\"*\", end= \"\")\n",
    "  print()\n",
    "for a in range(4):\n",
    "  for b in range(a,4):\n",
    "    print(\"*\", end=\"\")\n",
    "  print()\n"
   ]
  },
  {
   "cell_type": "code",
   "execution_count": null,
   "metadata": {
    "id": "5SfUZ8DfUT_7"
   },
   "outputs": [],
   "source": [
    "for i in range():\n",
    "  for j in range(i+1):\n",
    "    print(\"*\", end= \"\")\n",
    "  print()\n",
    "for a in range(4):\n",
    "  for b in range(a,4):\n",
    "    print(\"*\", end=\"\")\n",
    "  print()"
   ]
  },
  {
   "cell_type": "code",
   "execution_count": null,
   "metadata": {
    "colab": {
     "base_uri": "https://localhost:8080/"
    },
    "executionInfo": {
     "elapsed": 6,
     "status": "ok",
     "timestamp": 1667310346948,
     "user": {
      "displayName": "F4033-Kadir",
      "userId": "00693449641329635795"
     },
     "user_tz": -60
    },
    "id": "_7LumrJocNai",
    "outputId": "f0f9eb3b-c6ed-4afb-d518-0a79400d98d5"
   },
   "outputs": [
    {
     "name": "stdout",
     "output_type": "stream",
     "text": [
      "* \n",
      "* * \n",
      "* * * \n",
      "* * * * \n",
      "* * * * * \n",
      "\n",
      "* * * * * \n",
      "* * * * \n",
      "* * * \n",
      "* * \n",
      "* \n",
      "\n",
      "1 \n",
      "1 2 \n",
      "1 2 3 \n",
      "1 2 3 4 \n",
      "1 2 3 4 5 \n"
     ]
    }
   ],
   "source": [
    "# return a 5 rows of increasing triangle\n",
    "user_num = 5\n",
    "for i in range(user_num):\n",
    "  for j in range(i+1):\n",
    "    print(\"*\", end= \" \")\n",
    "  print()\n",
    "print()\n",
    "# return a 5 rows of decreasing triangle\n",
    "for i in range(user_num):\n",
    "  for j in range(i, user_num):  # burayı 0dan 4e yaptık ama user_number - i de aynı sonuc\n",
    "    print(\"*\", end= \" \")\n",
    "  print()\n",
    "print()\n",
    "# task: 1den 5e sayıları artan satırlarda göster\n",
    "for i in range(1,6):\n",
    "    for j in range(1, i+1):\n",
    "        print(j, end=\" \")\n",
    "    print()"
   ]
  },
  {
   "cell_type": "code",
   "execution_count": null,
   "metadata": {
    "colab": {
     "base_uri": "https://localhost:8080/"
    },
    "executionInfo": {
     "elapsed": 13,
     "status": "ok",
     "timestamp": 1667308669560,
     "user": {
      "displayName": "F4033-Kadir",
      "userId": "00693449641329635795"
     },
     "user_tz": -60
    },
    "id": "Jte8Lx6bByKi",
    "outputId": "e7197f67-82cb-4908-b717-36ea673817ff"
   },
   "outputs": [
    {
     "name": "stdout",
     "output_type": "stream",
     "text": [
      "# * * * * * \n",
      "# # * * * * \n",
      "# # # * * * \n",
      "# # # # * * \n",
      "# # # # # * \n",
      "\n",
      "# # # # # * \n",
      "# # # # * * \n",
      "# # # * * * \n",
      "# # * * * * \n",
      "# * * * * * \n"
     ]
    }
   ],
   "source": [
    "user_num = 5\n",
    "for i in range(user_num):\n",
    "  for j in range(i+1):\n",
    "    print(\"#\", end= \" \")\n",
    "  for j in range(i, user_num):\n",
    "    print(\"*\", end= \" \")\n",
    "  print()\n",
    "print()\n",
    "user_num = 5\n",
    "for i in range(user_num):\n",
    "  for j in range(i, user_num):\n",
    "    print(\"#\", end= \" \")\n",
    "  for j in range(i+1):\n",
    "    print(\"*\", end= \" \")\n",
    "  print()\n",
    "print()\n"
   ]
  },
  {
   "cell_type": "code",
   "execution_count": null,
   "metadata": {
    "colab": {
     "base_uri": "https://localhost:8080/"
    },
    "executionInfo": {
     "elapsed": 5,
     "status": "ok",
     "timestamp": 1667308820590,
     "user": {
      "displayName": "F4033-Kadir",
      "userId": "00693449641329635795"
     },
     "user_tz": -60
    },
    "id": "wxx4BntcV_FZ",
    "outputId": "15290d85-d987-4192-8ff1-11b07760f348"
   },
   "outputs": [
    {
     "name": "stdout",
     "output_type": "stream",
     "text": [
      "0 * * * * * \n",
      "0 1 * * * * \n",
      "0 1 2 * * * \n",
      "0 1 2 3 * * \n",
      "0 1 2 3 4 * \n",
      "\n",
      "# # # # # 0 \n",
      "# # # # 0 1 \n",
      "# # # 0 1 2 \n",
      "# # 0 1 2 3 \n",
      "# 0 1 2 3 4 \n"
     ]
    }
   ],
   "source": [
    "user_num = 5\n",
    "for i in range(user_num):\n",
    "  for j in range(i+1):\n",
    "    print(j, end= \" \")\n",
    "  for j in range(i, user_num):\n",
    "    print(\"*\", end= \" \")\n",
    "  print()\n",
    "print()\n",
    "user_num = 5\n",
    "for i in range(user_num):\n",
    "  for j in range(i, user_num):\n",
    "    print(\"#\", end= \" \")\n",
    "  for j in range(i+1):\n",
    "    print(j, end= \" \")\n",
    "  print()"
   ]
  },
  {
   "cell_type": "code",
   "execution_count": null,
   "metadata": {
    "colab": {
     "base_uri": "https://localhost:8080/"
    },
    "executionInfo": {
     "elapsed": 408,
     "status": "ok",
     "timestamp": 1667310033509,
     "user": {
      "displayName": "F4033-Kadir",
      "userId": "00693449641329635795"
     },
     "user_tz": -60
    },
    "id": "XgwRAQr4VOcx",
    "outputId": "313e937f-9868-4b09-f3a3-f038f249f26e"
   },
   "outputs": [
    {
     "name": "stdout",
     "output_type": "stream",
     "text": [
      "          * \n",
      "        * * * \n",
      "      * * * * * \n",
      "    * * * * * * * \n",
      "  * * * * * * * * * \n"
     ]
    }
   ],
   "source": [
    "n = 5\n",
    "for i in range(n):\n",
    "  for j in range(i, n):\n",
    "    print(\" \", end=\" \")\n",
    "  for j in range(i):\n",
    "    print(\"*\", end=\" \")\n",
    "  for j in range(i+1):\n",
    "    print(\"*\", end = \" \")\n",
    "  print()"
   ]
  },
  {
   "cell_type": "code",
   "execution_count": null,
   "metadata": {
    "colab": {
     "base_uri": "https://localhost:8080/"
    },
    "executionInfo": {
     "elapsed": 323,
     "status": "ok",
     "timestamp": 1667309641172,
     "user": {
      "displayName": "F4033-Kadir",
      "userId": "00693449641329635795"
     },
     "user_tz": -60
    },
    "id": "Fh7bxKjmZeRv",
    "outputId": "8b4112fd-7f2e-4119-cb94-4de14c060c9d"
   },
   "outputs": [
    {
     "name": "stdout",
     "output_type": "stream",
     "text": [
      "    1 \n",
      "   1 2 \n",
      "  1 2 3 \n",
      " 1 2 3 4 \n",
      "1 2 3 4 5 \n"
     ]
    }
   ],
   "source": [
    "n = 5\n",
    "for i in range(1, n+1):\n",
    "  for j in range(n - i):\n",
    "    print(\"\", end=\" \")\n",
    "  for j in range(i):\n",
    "    print(j+1, end=\" \")\n",
    "  print()"
   ]
  },
  {
   "cell_type": "markdown",
   "metadata": {
    "id": "qiOzd3pM7XU-"
   },
   "source": [
    "ANAGRAM"
   ]
  },
  {
   "cell_type": "code",
   "execution_count": null,
   "metadata": {
    "colab": {
     "base_uri": "https://localhost:8080/"
    },
    "executionInfo": {
     "elapsed": 10,
     "status": "ok",
     "timestamp": 1667553426746,
     "user": {
      "displayName": "F4033-Kadir",
      "userId": "00693449641329635795"
     },
     "user_tz": -60
    },
    "id": "uQou4Rw7XVc-",
    "outputId": "77bef786-10c4-407d-8e77-a58ed2366add"
   },
   "outputs": [
    {
     "name": "stdout",
     "output_type": "stream",
     "text": [
      "['a', 'e', 't']\n",
      "['a', 'e', 't']\n",
      "['a', 'n', 't']\n",
      "['a', 'e', 't']\n",
      "['a', 'n', 't']\n",
      "['a', 'b', 't']\n",
      "[['eat', 'tea', 'ate'], ['tan', 'nat'], ['bat']]\n"
     ]
    }
   ],
   "source": [
    "# Tek bir list icindeki stringlerin anagramlarını gruplama\n",
    "anagrams = [\"eat\", \"tea\", \"tan\", \"ate\", \"nat\", \"bat\"]\n",
    "# boş bir dict oluşturalım\n",
    "grouped_anagrams = {}\n",
    "# listedeki tüm stringleri tek tek itere edip sort edelim\n",
    "for string in anagrams:\n",
    "  \n",
    "    sorted_string = str(sorted(string))\n",
    "    print(sorted_string)\n",
    "   # anagram olup olmamalarına göre listelere append edelim\n",
    "    if sorted_string in grouped_anagrams:\n",
    "        grouped_anagrams[sorted_string].append(string)\n",
    "    else:\n",
    "         # anagram olmayanları listeleyelim\n",
    "        grouped_anagrams[sorted_string] = [string]\n",
    "\n",
    "print(list(grouped_anagrams.values()))"
   ]
  },
  {
   "cell_type": "code",
   "execution_count": null,
   "metadata": {
    "id": "_aZMRIu37feT"
   },
   "outputs": [],
   "source": []
  }
 ],
 "metadata": {
  "accelerator": "GPU",
  "colab": {
   "authorship_tag": "ABX9TyPlyjn/Q4LgzkSeDY+8T65/",
   "collapsed_sections": [],
   "provenance": []
  },
  "kernelspec": {
   "display_name": "Python 3 (ipykernel)",
   "language": "python",
   "name": "python3"
  },
  "language_info": {
   "codemirror_mode": {
    "name": "ipython",
    "version": 3
   },
   "file_extension": ".py",
   "mimetype": "text/x-python",
   "name": "python",
   "nbconvert_exporter": "python",
   "pygments_lexer": "ipython3",
   "version": "3.9.12"
  }
 },
 "nbformat": 4,
 "nbformat_minor": 4
}
