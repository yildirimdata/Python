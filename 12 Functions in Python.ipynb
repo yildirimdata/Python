{
 "cells": [
  {
   "cell_type": "markdown",
   "metadata": {
    "id": "J0gMxmvE4jcU"
   },
   "source": [
    "**FUNCTIONS in PYTHON**\n",
    "\n",
    "Basically, a function is **a block of code that executes some logic for you**, e.g. prints a text, deletes some data or square a number. In other words, a function is a piece of code that only runs when it is called. \n",
    "\n",
    "Functions simplify the coding process, prevent redundant logic, and make the code easier to follow.\n",
    "\n",
    "Python provides several built-in functions to complete tasks and also allows a user to create new functions as well. **There are two types of functions: Built-In Functions: copy(), len(), count() are the some built-in functions. User-defined Functions: Functions which are defined by a user known as user-defined functions**."
   ]
  },
  {
   "cell_type": "markdown",
   "metadata": {},
   "source": [
    "**Python official documentation 1 - Functions: https://docs.python.org/3/library/stdtypes.html#functions**\n",
    "\n",
    "**Python official documentation 2 - Function Definition: https://docs.python.org/3/reference/compound_stmts.html#function**\n",
    "\n",
    "**Python official documentation 3 - Build-in Functions: https://docs.python.org/3/library/functions.html**\n",
    "\n",
    "**Link 1 - Python Functions: https://www.w3schools.com/python/python_functions.asp**\n",
    "\n",
    "**Link 2 - Python Functions: https://www.programiz.com/python-programming/function**\n",
    "\n",
    "**Link 3 - Python Functions: https://www.geeksforgeeks.org/python-functions/**"
   ]
  },
  {
   "cell_type": "markdown",
   "metadata": {
    "id": "DdPJfW-G70BU"
   },
   "source": [
    "**Calling a Functio**n\n",
    "\n",
    "**Calling a Function Means Using It**\n",
    "\n",
    "Reading a function is very easy in Python. For example; multiply(2, 5) or multiply(no1, no2). In this example, **multiply is the name of the function**, **2 and 5 are its arguments** **that we passed into the parameters which are the variables (no1 and no2**). This function multiplies two numbers.\n",
    "\n",
    "**syntax : my_function()** : function name between round parantheses. FE print function : print()"
   ]
  },
  {
   "cell_type": "code",
   "execution_count": null,
   "metadata": {
    "colab": {
     "base_uri": "https://localhost:8080/"
    },
    "executionInfo": {
     "elapsed": 7,
     "status": "ok",
     "timestamp": 1667220310410,
     "user": {
      "displayName": "F4033-Kadir",
      "userId": "00693449641329635795"
     },
     "user_tz": -60
    },
    "id": "fOyskJEED9MH",
    "outputId": "87df4ee6-d0cf-4c90-fb13-5eae975a494b"
   },
   "outputs": [
    {
     "name": "stdout",
     "output_type": "stream",
     "text": [
      "çok geç oldu.. bugün çalışma bitti artık\n",
      "task is completed\n",
      "2022-10-31 12:45:09.853359\n",
      "\n",
      "bugün de çok çalıştım. kaçta bırakıyorum\n",
      "task is completed\n",
      "2022-10-31 12:45:09.853593\n",
      "\n"
     ]
    }
   ],
   "source": [
    "import datetime\n",
    "\n",
    "def print_time():  # her seferinde saat için 3-5 satır yazmaktansa kısaca print_time() diye bir fonk belirledim.\n",
    "  print(\"task is completed\")\n",
    "  print(datetime.datetime.now())\n",
    "  print()\n",
    "\n",
    "durum = \"çok geç oldu.. bugün çalışma bitti artık\"\n",
    "print(durum)\n",
    "print_time()\n",
    "\n",
    "next_day = \"bugün de çok çalıştım. kaçta bırakıyorum\"\n",
    "print(next_day)\n",
    "print_time()"
   ]
  },
  {
   "cell_type": "markdown",
   "metadata": {
    "id": "4dqM8SY8JgYh"
   },
   "source": [
    "**DEFINING A FUNCTION**\n",
    "\n",
    "Sometimes when we write a program, built-in functions may not be enough for us. Or sometimes we may need to use a block of code in our program repeatedly. Then we can write our own function. That is called the **user-defined function** in Python.\n",
    "\n",
    "**The keyword def** introduces the name of the function. It must be **followed by the function name and the parenthesized list of formal arguments**. The statements that form the **body of the function start at the next line and must be indented** (leave four spaces)."
   ]
  },
  {
   "cell_type": "code",
   "execution_count": 137,
   "metadata": {
    "colab": {
     "base_uri": "https://localhost:8080/"
    },
    "executionInfo": {
     "elapsed": 456,
     "status": "ok",
     "timestamp": 1667223431094,
     "user": {
      "displayName": "F4033-Kadir",
      "userId": "00693449641329635795"
     },
     "user_tz": -60
    },
    "id": "H5y9qUBjCnMo",
    "outputId": "5a116d6b-4119-44c7-807c-f3ca6c99c168"
   },
   "outputs": [
    {
     "name": "stdout",
     "output_type": "stream",
     "text": [
      "13 bunu da ben ekledim\n"
     ]
    }
   ],
   "source": [
    "def first_function(argument_1, argument_2) :\n",
    "    print(argument_1**2 + argument_2**2, \"bunu da ben ekledim\")\n",
    "\n",
    "first_function(2, 3)  # here, the values (2 and 3) are allocated to the arguments"
   ]
  },
  {
   "cell_type": "code",
   "execution_count": null,
   "metadata": {
    "colab": {
     "base_uri": "https://localhost:8080/"
    },
    "executionInfo": {
     "elapsed": 6,
     "status": "ok",
     "timestamp": 1667223469746,
     "user": {
      "displayName": "F4033-Kadir",
      "userId": "00693449641329635795"
     },
     "user_tz": -60
    },
    "id": "QqJtToJLQw73",
    "outputId": "e58d4b97-e642-4454-bc7f-179ca0b64327"
   },
   "outputs": [
    {
     "name": "stdout",
     "output_type": "stream",
     "text": [
      "15\n",
      "-2.5\n",
      "amazing amazing amazing \n"
     ]
    }
   ],
   "source": [
    "def multiply(a, b) :\n",
    "    print(a * b)\n",
    "\n",
    "multiply(3, 5)\n",
    "multiply(-1, 2.5)\n",
    "multiply('amazing ', 3)"
   ]
  },
  {
   "cell_type": "code",
   "execution_count": null,
   "metadata": {
    "colab": {
     "base_uri": "https://localhost:8080/"
    },
    "executionInfo": {
     "elapsed": 931,
     "status": "ok",
     "timestamp": 1667223513590,
     "user": {
      "displayName": "F4033-Kadir",
      "userId": "00693449641329635795"
     },
     "user_tz": -60
    },
    "id": "PNSWVsXrQ6xO",
    "outputId": "4425af46-380d-41db-b320-abd07f1fea29"
   },
   "outputs": [
    {
     "name": "stdout",
     "output_type": "stream",
     "text": [
      "Don't hesitate to reinvent yourself!\n"
     ]
    }
   ],
   "source": [
    "# example of function without any argument\n",
    "def motto() :\n",
    "    print(\"Don't hesitate to reinvent yourself!\")\n",
    "\n",
    "motto()  # it takes no argument"
   ]
  },
  {
   "cell_type": "code",
   "execution_count": 3,
   "metadata": {
    "colab": {
     "base_uri": "https://localhost:8080/"
    },
    "executionInfo": {
     "elapsed": 529,
     "status": "ok",
     "timestamp": 1667223797775,
     "user": {
      "displayName": "F4033-Kadir",
      "userId": "00693449641329635795"
     },
     "user_tz": -60
    },
    "id": "mL3FbtqUR1El",
    "outputId": "664eb67a-ecf2-43b7-fa60-b9d0e7fcac8d"
   },
   "outputs": [
    {
     "name": "stdout",
     "output_type": "stream",
     "text": [
      "9\n"
     ]
    }
   ],
   "source": [
    "def abc_fun(a,b,c):\n",
    "  print(a+ b**c)\n",
    "  \n",
    "liste = [1,2,3]\n",
    "abc_fun(liste[0], liste[1], liste[2])\n"
   ]
  },
  {
   "cell_type": "code",
   "execution_count": 138,
   "metadata": {},
   "outputs": [
    {
     "name": "stdout",
     "output_type": "stream",
     "text": [
      "(12, 2)\n",
      "12 2\n"
     ]
    }
   ],
   "source": [
    "def add_sub(a,b):\n",
    "    c = a+b\n",
    "    d = a-b\n",
    "    return c,d\n",
    "\n",
    "x,y= 7,5\n",
    "print(add_sub(x,y))\n",
    "result1, result2 = add_sub(x,y)\n",
    "print(result1, result2)"
   ]
  },
  {
   "cell_type": "code",
   "execution_count": 45,
   "metadata": {},
   "outputs": [
    {
     "name": "stdout",
     "output_type": "stream",
     "text": [
      "5.0\n",
      "None\n",
      "\n"
     ]
    },
    {
     "data": {
      "text/plain": [
       "5.0"
      ]
     },
     "execution_count": 45,
     "metadata": {},
     "output_type": "execute_result"
    }
   ],
   "source": [
    "def hypotenuse(a, b):\n",
    "    print((a**2 + b**2)**0.5)  # sonraki **0.5 karekök demek. 1/2nci kuvveti\n",
    "print(hypotenuse(3,4))  # Nonetype olduğu için none yazdırdı bir de\n",
    "\n",
    "print()\n",
    "def hypotenuse(a, b):\n",
    "    hypotenuse = (a**2 + b**2)**0.5\n",
    "    return hypotenuse\n",
    "\n",
    "hypotenuse(3, 4)  # print yok, return direkt numeric type verdi"
   ]
  },
  {
   "cell_type": "code",
   "execution_count": 51,
   "metadata": {},
   "outputs": [
    {
     "name": "stdout",
     "output_type": "stream",
     "text": [
      "30\n",
      "None\n",
      "11\n",
      "None\n"
     ]
    }
   ],
   "source": [
    "def calculator(a,b,c):\n",
    "    if c == \"+\":\n",
    "       print(a+b)\n",
    "    elif c == \"-\":\n",
    "        print(a-b)\n",
    "    elif c == \"x\":\n",
    "        print(a*b)\n",
    "    elif c == \"/\":\n",
    "        print(a/b)\n",
    "    else :\n",
    "       print(\"Enter a valid value\")\n",
    "        \n",
    "print(calculator(5,6, \"x\"))\n",
    "print(calculator(5,6, \"+\"))    "
   ]
  },
  {
   "cell_type": "code",
   "execution_count": 53,
   "metadata": {},
   "outputs": [
    {
     "name": "stdout",
     "output_type": "stream",
     "text": [
      "30\n",
      "11\n",
      "-2\n"
     ]
    }
   ],
   "source": [
    "# aynı soruyu return ile yapalım\n",
    "def calculator(a,b,c):\n",
    "    if c == \"+\":\n",
    "        return a+b\n",
    "    elif c == \"-\":\n",
    "        return a-b\n",
    "    elif c == \"x\":\n",
    "        return a*b\n",
    "    elif c == \"/\":\n",
    "        return a/b\n",
    "    else :\n",
    "        return \"Enter a valid value\"\n",
    "        \n",
    "print(calculator(5,6, \"x\"))\n",
    "print(calculator(5,6, \"+\")) \n",
    "sonuc = calculator(3,5, \"-\")\n",
    "print(sonuc)"
   ]
  },
  {
   "cell_type": "code",
   "execution_count": 62,
   "metadata": {},
   "outputs": [
    {
     "name": "stdout",
     "output_type": "stream",
     "text": [
      "3.3\n",
      "4\n",
      "Return the absolute value of the argument.\n"
     ]
    }
   ],
   "source": [
    "# define a function  to return absolute value of a number\n",
    "def absolute_value(a):\n",
    "    \"\"\" this function returns the absolute \n",
    "    value of any given number\"\"\"\n",
    "    return abs(a)\n",
    "\n",
    "print(absolute_value(3.3))\n",
    "print(absolute_value(-4))\n",
    "print(abs.__doc__)"
   ]
  },
  {
   "cell_type": "code",
   "execution_count": 2,
   "metadata": {},
   "outputs": [
    {
     "data": {
      "text/plain": [
       "7"
      ]
     },
     "execution_count": 2,
     "metadata": {},
     "output_type": "execute_result"
    }
   ],
   "source": [
    "# ya da\n",
    "def absolute_val(a):\n",
    "    return a if a > 0 else - a\n",
    "\n",
    "absolute_val(7)"
   ]
  },
  {
   "cell_type": "code",
   "execution_count": 61,
   "metadata": {},
   "outputs": [
    {
     "name": "stdout",
     "output_type": "stream",
     "text": [
      " this function returns the absolute \n",
      "    value of any given number\n"
     ]
    }
   ],
   "source": [
    "print(absolute_value.__doc__)\n",
    "# print(fonksiyonismi.__doc__) yaparsak icine girdiğimiz attribute'u, yani docstr.i getirir"
   ]
  },
  {
   "cell_type": "code",
   "execution_count": 139,
   "metadata": {},
   "outputs": [
    {
     "name": "stdout",
     "output_type": "stream",
     "text": [
      "3.3\n",
      "4\n"
     ]
    }
   ],
   "source": [
    "# traditional solution\n",
    "def abs_value(num):\n",
    "    if num >= 0:\n",
    "        return num\n",
    "    else:\n",
    "        return -num\n",
    "print(abs_value(3.3))\n",
    "print(abs_value(-4))"
   ]
  },
  {
   "cell_type": "code",
   "execution_count": 15,
   "metadata": {},
   "outputs": [
    {
     "name": "stdout",
     "output_type": "stream",
     "text": [
      "W is the first letter of Weather\n"
     ]
    }
   ],
   "source": [
    "# write a function that brings the capitalized first letter of a given word\n",
    "aaa = \"Weather\"\n",
    "\n",
    "def get_initial(a):\n",
    "    \"\"\"get_initial () returns the initials of given strings\n",
    "   \"\"\" \n",
    "    return a[0].upper()\n",
    "get_initial(aaa)\n",
    "\n",
    "print(f\"{get_initial(aaa)} is the first letter of {aaa}\")"
   ]
  },
  {
   "cell_type": "code",
   "execution_count": 158,
   "metadata": {
    "colab": {
     "base_uri": "https://localhost:8080/"
    },
    "executionInfo": {
     "elapsed": 594,
     "status": "ok",
     "timestamp": 1667222163937,
     "user": {
      "displayName": "F4033-Kadir",
      "userId": "00693449641329635795"
     },
     "user_tz": -60
    },
    "id": "8S3SdEtlLQj1",
    "outputId": "39dd12c0-22d8-4882-be6a-78325aa0ee41"
   },
   "outputs": [
    {
     "name": "stdout",
     "output_type": "stream",
     "text": [
      "0 1 1 2 3 5 8 13 21 34 55 89 144 233 377 610 987 1597 \n"
     ]
    }
   ],
   "source": [
    "# write Fibonacci series up to n\n",
    "def fib(n):    \n",
    "    \"\"\"Print a Fibonacci series up to n.\"\"\"  # The first statement of the function body (optionally string) is  docstring.\n",
    "    a, b = 0, 1\n",
    "    while a < n:\n",
    "        print(a, end=' ')\n",
    "        a, b = b, a+b  \n",
    "    print()  # buraya kadarki tüm işlem fib fonksiyonunu tanımlamak içindi.\n",
    "# Now call the function we just defined:\n",
    "fib(2000)"
   ]
  },
  {
   "cell_type": "code",
   "execution_count": 159,
   "metadata": {},
   "outputs": [
    {
     "name": "stdout",
     "output_type": "stream",
     "text": [
      "Print a Fibonacci series up to n.\n"
     ]
    }
   ],
   "source": [
    "print(fib.__doc__)"
   ]
  },
  {
   "cell_type": "code",
   "execution_count": null,
   "metadata": {
    "colab": {
     "base_uri": "https://localhost:8080/"
    },
    "executionInfo": {
     "elapsed": 311,
     "status": "ok",
     "timestamp": 1667385864345,
     "user": {
      "displayName": "F4033-Kadir",
      "userId": "00693449641329635795"
     },
     "user_tz": -60
    },
    "id": "1Mjy_Brw6y5H",
    "outputId": "669cf805-399f-4927-f20e-dcc0892c75ef"
   },
   "outputs": [
    {
     "name": "stdout",
     "output_type": "stream",
     "text": [
      "0 1 1 2 3 5 8 13 21 34 55 "
     ]
    }
   ],
   "source": [
    "n = 56\n",
    "a = 0\n",
    "b = 1\n",
    "while a < n:\n",
    "  print(a, end=' ')\n",
    "  a, b = b, a+b  \n",
    "  if a > 55:\n",
    "    break\n"
   ]
  },
  {
   "cell_type": "code",
   "execution_count": null,
   "metadata": {
    "colab": {
     "base_uri": "https://localhost:8080/"
    },
    "executionInfo": {
     "elapsed": 5,
     "status": "ok",
     "timestamp": 1667222434729,
     "user": {
      "displayName": "F4033-Kadir",
      "userId": "00693449641329635795"
     },
     "user_tz": -60
    },
    "id": "O98AnhpJMu5L",
    "outputId": "6226cbd1-cc8b-4f90-8e96-f72cf14672d5"
   },
   "outputs": [
    {
     "name": "stdout",
     "output_type": "stream",
     "text": [
      "0 1 1 2 3 5 8 13 21 34 55 89 \n"
     ]
    }
   ],
   "source": [
    "# bir kere fib tanimlandi. daha sonra istersek yeni variablesa atayip kullanabilirz\n",
    "f = fib\n",
    "f(100)"
   ]
  },
  {
   "cell_type": "code",
   "execution_count": null,
   "metadata": {
    "colab": {
     "base_uri": "https://localhost:8080/"
    },
    "executionInfo": {
     "elapsed": 5,
     "status": "ok",
     "timestamp": 1667222584752,
     "user": {
      "displayName": "F4033-Kadir",
      "userId": "00693449641329635795"
     },
     "user_tz": -60
    },
    "id": "6IC9MLufLeus",
    "outputId": "35c8edfe-1897-4562-8671-ab1e198eba4b"
   },
   "outputs": [
    {
     "data": {
      "text/plain": [
       "[0, 1, 1, 2, 3, 5, 8, 13, 21, 34, 55, 89]"
      ]
     },
     "execution_count": 18,
     "metadata": {},
     "output_type": "execute_result"
    }
   ],
   "source": [
    "def fib2(n):  # return Fibonacci series up to n\n",
    "     \"\"\"Return a list containing the Fibonacci series up to n.\"\"\"\n",
    "     result = []\n",
    "     a, b = 0, 1\n",
    "     while a < n:\n",
    "         result.append(a)    # see below\n",
    "         a, b = b, a+b\n",
    "     return result  # : fib2() diye bir fonk def et ve call halinde result list'ini return et.\n",
    "\n",
    "f100 = fib2(100)    # call it\n",
    "f100                # write the result"
   ]
  },
  {
   "cell_type": "code",
   "execution_count": null,
   "metadata": {
    "colab": {
     "base_uri": "https://localhost:8080/"
    },
    "executionInfo": {
     "elapsed": 7,
     "status": "ok",
     "timestamp": 1667222835167,
     "user": {
      "displayName": "F4033-Kadir",
      "userId": "00693449641329635795"
     },
     "user_tz": -60
    },
    "id": "z8NFMcO3Nbgo",
    "outputId": "8df83dc8-4cbf-4b16-b093-b174a20b662d"
   },
   "outputs": [
    {
     "name": "stdout",
     "output_type": "stream",
     "text": [
      "[0, 1, 1, 2, 3, 5, 8, 13, 21, 34]\n"
     ]
    }
   ],
   "source": [
    "def fib5(n):\n",
    "  \"\"\"Return a list containing the Fibonacci numbers up to n.\"\"\"\n",
    "  fib_list = []\n",
    "  a, b = 0, 1\n",
    "  while a < n:\n",
    "    fib_list.append(a)\n",
    "    a, b = b, a+b\n",
    "  return fib_list\n",
    "\n",
    "# user input n'i 50 verdi. ya direkt fib5(50) deriz; ya da f50 = fib5(50) diye variable tanimlar oyle print aliriz.\n",
    "f50 = fib5(50)\n",
    "print(f50)\n"
   ]
  },
  {
   "cell_type": "markdown",
   "metadata": {
    "id": "ymvixAkkTBgn"
   },
   "source": [
    "# **Execution of a Function** : **RETURN**\n",
    "\n",
    "In order to use later the output and data types generated by the functions in our program flow, we need to define our function using **the keyword return** in addition to def."
   ]
  },
  {
   "cell_type": "code",
   "execution_count": 18,
   "metadata": {
    "colab": {
     "base_uri": "https://localhost:8080/"
    },
    "executionInfo": {
     "elapsed": 10,
     "status": "ok",
     "timestamp": 1667224092108,
     "user": {
      "displayName": "F4033-Kadir",
      "userId": "00693449641329635795"
     },
     "user_tz": -60
    },
    "id": "t41YbFR8OYqc",
    "outputId": "244c87c5-1850-4329-9a19-f86020f29bac"
   },
   "outputs": [
    {
     "name": "stdout",
     "output_type": "stream",
     "text": [
      "15\n",
      "15\n"
     ]
    }
   ],
   "source": [
    "def multiply_1(a, b) :\n",
    "    print(a + b)  # it prints something\n",
    "\n",
    "def multiply_2(a, b) :\n",
    "    return a + b  # returns any numeric data type value\n",
    "\n",
    "multiply_1(10, 5)\n",
    "print(multiply_2(10, 5))\n",
    "\n"
   ]
  },
  {
   "cell_type": "markdown",
   "metadata": {
    "id": "2Qke8pePTSBE"
   },
   "source": [
    "the outputs are the same. Then what is the difference? **Well, the first function just prints some data that we passed into. The second one generates a numeric type value. If we check their types we will see** :"
   ]
  },
  {
   "cell_type": "code",
   "execution_count": 10,
   "metadata": {
    "colab": {
     "base_uri": "https://localhost:8080/"
    },
    "executionInfo": {
     "elapsed": 7,
     "status": "ok",
     "timestamp": 1667224155773,
     "user": {
      "displayName": "F4033-Kadir",
      "userId": "00693449641329635795"
     },
     "user_tz": -60
    },
    "id": "lTxKQpikTLkH",
    "outputId": "be45d24f-e6a4-4e49-9420-c2ead4bb7967"
   },
   "outputs": [
    {
     "name": "stdout",
     "output_type": "stream",
     "text": [
      "12\n",
      "<class 'NoneType'>\n",
      "<class 'int'>\n",
      "16\n"
     ]
    }
   ],
   "source": [
    "print(type(multiply_1(10, 2)))\n",
    "print(type(multiply_2(10, 5)))\n",
    "# print(multiply_1(3,5) * 2) TypeError: unsupported operand type(s) for *: 'function' and 'int'\n",
    "print(multiply_2(3,5) * 2)"
   ]
  },
  {
   "cell_type": "markdown",
   "metadata": {
    "id": "eYvELXXETiBL"
   },
   "source": [
    "So, when we need it in our program, we can't use the result of the first function since it is NoneType data. But, the second one is integer data that we can use it in the future when we need it.\n",
    "\n",
    "Note that, if there are more than one keyword return in a function, then the execution of that function will end after the first return."
   ]
  },
  {
   "cell_type": "code",
   "execution_count": null,
   "metadata": {
    "colab": {
     "base_uri": "https://localhost:8080/"
    },
    "executionInfo": {
     "elapsed": 7,
     "status": "ok",
     "timestamp": 1667224247337,
     "user": {
      "displayName": "F4033-Kadir",
      "userId": "00693449641329635795"
     },
     "user_tz": -60
    },
    "id": "jUanJcWUTbAW",
    "outputId": "2528c02f-d821-41a4-9bf0-799e9e52c6c7"
   },
   "outputs": [
    {
     "name": "stdout",
     "output_type": "stream",
     "text": [
      "50\n"
     ]
    }
   ],
   "source": [
    "def multiply_2(a, b) :\n",
    "    return a * b  # returns any numeric data type value\n",
    "    return a + b  # ikinciyi return etmez.\n",
    "\n",
    "print(multiply_2(10, 5))"
   ]
  },
  {
   "cell_type": "code",
   "execution_count": 44,
   "metadata": {},
   "outputs": [
    {
     "name": "stdout",
     "output_type": "stream",
     "text": [
      "[29, 31, 33]\n"
     ]
    }
   ],
   "source": [
    "def add(a,b):\n",
    "    return a+b\n",
    "\n",
    "listem = []\n",
    "for i in range(5):\n",
    "    if not i%2:\n",
    "        listem.append(i+add(21,8))\n",
    "    \n",
    "print(listem)"
   ]
  },
  {
   "cell_type": "code",
   "execution_count": 45,
   "metadata": {},
   "outputs": [],
   "source": [
    "# tanımladığımız bir fonksiyonu del keyword ile silebiliriz\n",
    "del add  # paranteze gerek yok sadece ismi yazılır\n",
    "# çalıştırdım silindi artık"
   ]
  },
  {
   "cell_type": "code",
   "execution_count": 22,
   "metadata": {},
   "outputs": [
    {
     "data": {
      "text/plain": [
       "\"\\na = print(4+5)\\ntype(a)  # a print() 'in typeına bakıyoruz biz 4+5in değil. bu nedenle nonetype\\nprint(a*3)  # error verir cunku nonetype ve int carpilmaz.\\n\""
      ]
     },
     "execution_count": 22,
     "metadata": {},
     "output_type": "execute_result"
    }
   ],
   "source": [
    "\"\"\"\n",
    "a = print(4+5)\n",
    "type(a)  # a print() 'in typeına bakıyoruz biz 4+5in değil. bu nedenle nonetype\n",
    "print(a*3)  # error verir cunku nonetype ve int carpilmaz.\n",
    "\"\"\""
   ]
  },
  {
   "cell_type": "code",
   "execution_count": 25,
   "metadata": {},
   "outputs": [
    {
     "name": "stdout",
     "output_type": "stream",
     "text": [
      "29\n"
     ]
    },
    {
     "ename": "TypeError",
     "evalue": "unsupported operand type(s) for +: 'int' and 'NoneType'",
     "output_type": "error",
     "traceback": [
      "\u001b[0;31m---------------------------------------------------------------------------\u001b[0m",
      "\u001b[0;31mTypeError\u001b[0m                                 Traceback (most recent call last)",
      "Input \u001b[0;32mIn [25]\u001b[0m, in \u001b[0;36m<cell line: 6>\u001b[0;34m()\u001b[0m\n\u001b[1;32m      4\u001b[0m listem2 \u001b[38;5;241m=\u001b[39m []\n\u001b[1;32m      6\u001b[0m \u001b[38;5;28;01mfor\u001b[39;00m i \u001b[38;5;129;01min\u001b[39;00m \u001b[38;5;28mrange\u001b[39m(\u001b[38;5;241m5\u001b[39m):\n\u001b[0;32m----> 7\u001b[0m     listem2\u001b[38;5;241m.\u001b[39mappend(\u001b[43mi\u001b[49m\u001b[38;5;241;43m+\u001b[39;49m\u001b[43madd2\u001b[49m\u001b[43m(\u001b[49m\u001b[38;5;241;43m21\u001b[39;49m\u001b[43m,\u001b[49m\u001b[38;5;241;43m8\u001b[39;49m\u001b[43m)\u001b[49m)\n",
      "\u001b[0;31mTypeError\u001b[0m: unsupported operand type(s) for +: 'int' and 'NoneType'"
     ]
    }
   ],
   "source": [
    "def add2(s1, s2):\n",
    "    print(s1+s2)\n",
    "\n",
    "listem2 = []\n",
    "\n",
    "for i in range(5):\n",
    "    listem2.append(i+add2(21,8))  # burada calistirinca error verdi. cunku fonk.da return değil s1+s2 print tanimladık ve NOnetype oldu"
   ]
  },
  {
   "cell_type": "code",
   "execution_count": 12,
   "metadata": {},
   "outputs": [
    {
     "data": {
      "text/plain": [
       "[29, 30, 31, 32, 33]"
      ]
     },
     "execution_count": 12,
     "metadata": {},
     "output_type": "execute_result"
    }
   ],
   "source": [
    "def add2(s1, s2):\n",
    "    return s1+s2\n",
    "\n",
    "listem2 = []\n",
    "\n",
    "for i in range(5):\n",
    "    listem2.append(i+add2(21,8))\n",
    "listem2"
   ]
  },
  {
   "cell_type": "code",
   "execution_count": 26,
   "metadata": {},
   "outputs": [
    {
     "data": {
      "text/plain": [
       "int"
      ]
     },
     "execution_count": 26,
     "metadata": {},
     "output_type": "execute_result"
    }
   ],
   "source": [
    "def topla(x,y):\n",
    "    return (x+y)  # return olunca yukardakinden farklı artık. print nonetype idi bu normal int verir.\n",
    "\n",
    "type(topla(4,5))"
   ]
  },
  {
   "cell_type": "code",
   "execution_count": 46,
   "metadata": {},
   "outputs": [
    {
     "data": {
      "text/plain": [
       "3"
      ]
     },
     "execution_count": 46,
     "metadata": {},
     "output_type": "execute_result"
    }
   ],
   "source": [
    "def listem():\n",
    "    return [1,2,3,4,5]\n",
    "\n",
    "listem()[2]  # fonksiyonun sadece belli bir indexini cagirabiliriz."
   ]
  },
  {
   "cell_type": "code",
   "execution_count": 47,
   "metadata": {
    "colab": {
     "base_uri": "https://localhost:8080/"
    },
    "executionInfo": {
     "elapsed": 5,
     "status": "ok",
     "timestamp": 1667386670327,
     "user": {
      "displayName": "F4033-Kadir",
      "userId": "00693449641329635795"
     },
     "user_tz": -60
    },
    "id": "yU5_DVKK9e5a",
    "outputId": "6e3c186f-4cb9-47d0-a4f4-60fe5ae267ba"
   },
   "outputs": [
    {
     "name": "stdout",
     "output_type": "stream",
     "text": [
      "['4', '0', '7']\n"
     ]
    },
    {
     "data": {
      "text/plain": [
       "True"
      ]
     },
     "execution_count": 47,
     "metadata": {},
     "output_type": "execute_result"
    }
   ],
   "source": [
    "# is \"407\" an armstrong number?\n",
    "aaa = \"407\"\n",
    "aaa.split()\n",
    "bbb = list(aaa)\n",
    "print(bbb)\n",
    "\n",
    "def multiply_2(a, b, c) :\n",
    "    return a**3 + b**3 + c**3\n",
    "\n",
    "multiply_2(int(bbb[0]), int(bbb[1]), int(bbb[2])) == 407"
   ]
  },
  {
   "cell_type": "code",
   "execution_count": 22,
   "metadata": {
    "colab": {
     "base_uri": "https://localhost:8080/"
    },
    "executionInfo": {
     "elapsed": 421,
     "status": "ok",
     "timestamp": 1667224735581,
     "user": {
      "displayName": "F4033-Kadir",
      "userId": "00693449641329635795"
     },
     "user_tz": -60
    },
    "id": "bzvNiovMUiAi",
    "outputId": "a8be6e98-f6b2-429b-b5fc-221d2e0e34b8"
   },
   "outputs": [
    {
     "name": "stdout",
     "output_type": "stream",
     "text": [
      "30\n"
     ]
    }
   ],
   "source": [
    "# define a function to calculate the area of rectangle. get the width and height from the user.\n",
    "def area(width, height):\n",
    "    area = width * height\n",
    "    return area\n",
    "user_width = 5\n",
    "user_height = 6\n",
    "print(area(user_width, user_height))"
   ]
  },
  {
   "cell_type": "code",
   "execution_count": 49,
   "metadata": {
    "colab": {
     "base_uri": "https://localhost:8080/"
    },
    "executionInfo": {
     "elapsed": 936,
     "status": "ok",
     "timestamp": 1667235218481,
     "user": {
      "displayName": "F4033-Kadir",
      "userId": "00693449641329635795"
     },
     "user_tz": -60
    },
    "id": "1mzDgXp_9nAc",
    "outputId": "57ee90a3-2b3a-43a2-db5a-24dc22c9390c"
   },
   "outputs": [
    {
     "name": "stdout",
     "output_type": "stream",
     "text": [
      "Richard\n"
     ]
    }
   ],
   "source": [
    "# iki stringden hangisinin daha uzun olduğunu gösteren bir kod yaz:\n",
    "def longer(a, b):\n",
    "    if len(a) >= len(b):\n",
    "        return a\n",
    "    else:\n",
    "        return b\n",
    "\n",
    "print(longer('Richard', 'John'))"
   ]
  },
  {
   "cell_type": "code",
   "execution_count": 165,
   "metadata": {},
   "outputs": [
    {
     "data": {
      "text/plain": [
       "30"
      ]
     },
     "execution_count": 165,
     "metadata": {},
     "output_type": "execute_result"
    }
   ],
   "source": [
    "# Daha önce tanımlamış olduğumuz fonksyonları değişkenlere atayabiliriz\n",
    "a = my_function(5,6)\n",
    "a"
   ]
  },
  {
   "cell_type": "markdown",
   "metadata": {
    "id": "w6tv2Zm8A9Vf"
   },
   "source": [
    "**ARGUMENTS**\n",
    "\n",
    "**Arguments vs Parameters**\n",
    "\n",
    "Arguments are some kind of variable. So you can think of them as aliases for variables. This is exactly what we call the parameters. That is, **the values ​​you assign to the parameters defined in a function are arguments**. \n",
    "\n",
    "(Parameters variables, arguments values)\n",
    "\n",
    "Parameters are the variables in the definition of a function. In other words, they exist in the function signature and will be used as variables in the function body.\n",
    "\n",
    "Arguments are the actual values that were passed to the function when we call it. In other words, an argument could be an integer, a string, or any object.\n"
   ]
  },
  {
   "cell_type": "code",
   "execution_count": 166,
   "metadata": {
    "colab": {
     "base_uri": "https://localhost:8080/"
    },
    "executionInfo": {
     "elapsed": 9,
     "status": "ok",
     "timestamp": 1667387291179,
     "user": {
      "displayName": "F4033-Kadir",
      "userId": "00693449641329635795"
     },
     "user_tz": -60
    },
    "id": "nCEKORT--Qjf",
    "outputId": "6d0a3bfb-de94-4498-92bb-e5b64e5ef891"
   },
   "outputs": [
    {
     "name": "stdout",
     "output_type": "stream",
     "text": [
      "Your first name is : Guido\n",
      "Your last name is : van Rossum\n"
     ]
    }
   ],
   "source": [
    "def who(first, last) :  # 'first' and 'last' are the parameters(or variables)\n",
    "    print('Your first name is :', first)\n",
    "    print('Your last name is :', last)\n",
    "\n",
    "who('Guido', 'van Rossum')  # 'Guido' and 'van Rossum' are the arguments\n",
    "# If we pass only one argument into the parameter of the  who() function, it gives an error."
   ]
  },
  {
   "cell_type": "code",
   "execution_count": 23,
   "metadata": {},
   "outputs": [
    {
     "data": {
      "text/plain": [
       "11"
      ]
     },
     "execution_count": 23,
     "metadata": {},
     "output_type": "execute_result"
    }
   ],
   "source": [
    "def add(a,b):  # a and b are called formal arguments\n",
    "    c = a+b\n",
    "    return c\n",
    "\n",
    "add(5,6)  # 5 and 6 are called actual arguments"
   ]
  },
  {
   "cell_type": "markdown",
   "metadata": {},
   "source": [
    "Actual arguments have 4 types:\n",
    "\n",
    "1. Position\n",
    "2. keyword\n",
    "3. default\n",
    "4. variable length"
   ]
  },
  {
   "cell_type": "markdown",
   "metadata": {
    "id": "Xmb2qS_bCkaz"
   },
   "source": [
    "**Correct Use of Arguments**\n",
    "\n",
    "**Positional Arguments**\n",
    "\n",
    "Positions (sequence) of the arguments matter. When calling a function with positional arguments, they must be passed in order from left to right. (mandatory parameters.)"
   ]
  },
  {
   "cell_type": "code",
   "execution_count": 52,
   "metadata": {
    "colab": {
     "base_uri": "https://localhost:8080/"
    },
    "executionInfo": {
     "elapsed": 6,
     "status": "ok",
     "timestamp": 1667388334896,
     "user": {
      "displayName": "F4033-Kadir",
      "userId": "00693449641329635795"
     },
     "user_tz": -60
    },
    "id": "EHWfvUlWFq2X",
    "outputId": "99ece49d-1ed2-4a72-dfdb-6a457d0d5c08"
   },
   "outputs": [
    {
     "name": "stdout",
     "output_type": "stream",
     "text": [
      "first is the first argument\n",
      "second is the second argument\n",
      "\n",
      "second is the first argument\n",
      "first is the second argument\n"
     ]
    }
   ],
   "source": [
    "def pos_args(a, b):  # a ve b positional arguments. alttaki first ve secondları poziyon sıralamasına göre alırlar.\n",
    "                    # they are set according to their sequences. = ile değer atanmamışsa pos arg'dir.\n",
    "    print(a, 'is the first argument')\n",
    "    print(b, 'is the second argument')\n",
    "\n",
    "pos_args('first','second')\n",
    "print()\n",
    "pos_args('second', 'first')"
   ]
  },
  {
   "cell_type": "code",
   "execution_count": 167,
   "metadata": {},
   "outputs": [
    {
     "name": "stdout",
     "output_type": "stream",
     "text": [
      "I love you\n"
     ]
    }
   ],
   "source": [
    "c = \"I\"\n",
    "a = \"love\"\n",
    "b = \"you\"\n",
    "def texter(text2, text3, text1):\n",
    "    print(text2,text3,text1)\n",
    "\n",
    "texter(c,a,b)  # c text1e a text2ye ve b text 3 e atandi"
   ]
  },
  {
   "cell_type": "code",
   "execution_count": 78,
   "metadata": {},
   "outputs": [
    {
     "name": "stdout",
     "output_type": "stream",
     "text": [
      "I love you\n",
      "None\n"
     ]
    }
   ],
   "source": [
    "# bunu kw args ile yapalım\n",
    "def texter(text1, text2, text3):\n",
    "       print(f\"{text2} {text3} {text1}\")\n",
    "\n",
    "print(texter(text1 = \"you\", text2 = \"I\", text3 = \"love\"))"
   ]
  },
  {
   "cell_type": "markdown",
   "metadata": {
    "id": "Zzk5z4PXFzc_"
   },
   "source": [
    "**Keyword Arguments**\n",
    "\n",
    "**If you do not want to allow the sequences/positions of the arguments to restrict you when you call a function, you can also call these arguments by keywords.** kwargs is used as an abbreviation of keyword arguments.\n",
    "\n",
    "**The formula syntax is : kwargs=values**.\n"
   ]
  },
  {
   "cell_type": "code",
   "execution_count": 53,
   "metadata": {
    "colab": {
     "base_uri": "https://localhost:8080/"
    },
    "executionInfo": {
     "elapsed": 8,
     "status": "ok",
     "timestamp": 1667388419484,
     "user": {
      "displayName": "F4033-Kadir",
      "userId": "00693449641329635795"
     },
     "user_tz": -60
    },
    "id": "tkhpWnalFy8q",
    "outputId": "0e912b2a-3766-4a75-9cff-0c545a674182"
   },
   "outputs": [
    {
     "name": "stdout",
     "output_type": "stream",
     "text": [
      "Your first name is : Guido\n",
      "Your last name is : van Rossum\n"
     ]
    }
   ],
   "source": [
    "def who(first, last) :  # same structure as the previous one\n",
    "    print('Your first name is :', first)\n",
    "    print('Your last name is :', last)\n",
    "\n",
    "who(last='van Rossum', first='Guido', )  # calling the function is different\n",
    "# we used kwargs to pass the values into the function"
   ]
  },
  {
   "cell_type": "code",
   "execution_count": 73,
   "metadata": {
    "colab": {
     "base_uri": "https://localhost:8080/"
    },
    "executionInfo": {
     "elapsed": 227,
     "status": "ok",
     "timestamp": 1667393771359,
     "user": {
      "displayName": "F4033-Kadir",
      "userId": "00693449641329635795"
     },
     "user_tz": -60
    },
    "id": "-MI1m_nFZ4Rs",
    "outputId": "8e008806-2f70-4907-b6a6-fc7674290d55"
   },
   "outputs": [
    {
     "name": "stdout",
     "output_type": "stream",
     "text": [
      "Harvey , David\n"
     ]
    }
   ],
   "source": [
    "def participants(first, last):\n",
    "    print(last, \",\", first)\n",
    "\n",
    "participants(first = 'David', last = 'Harvey')"
   ]
  },
  {
   "cell_type": "code",
   "execution_count": 86,
   "metadata": {},
   "outputs": [
    {
     "name": "stdout",
     "output_type": "stream",
     "text": [
      "David\n",
      "23\n"
     ]
    }
   ],
   "source": [
    "def person(name, age):\n",
    "    print(name)\n",
    "    print(age -5)\n",
    "\n",
    "# person(28, \"David\")  # positions are wrong, so it gives error: unsupported operand type(s) for -: 'str' and 'int'\n",
    "# we can solve it with keyword arguments\n",
    "person(age=28, name=\"David\")\n"
   ]
  },
  {
   "cell_type": "markdown",
   "metadata": {
    "id": "Jhj3crkiccLF"
   },
   "source": [
    "**Special Arguments**\n",
    "\n",
    "By default, arguments may be passed to a Python function either by position or explicitly by keyword. For readability and performance, it makes sense to restrict the way arguments can be passed so that a developer need only look at the function definition to determine if items are passed by position, by position or keyword, or by keyword.\n",
    "\n",
    "def a_function(pos1, pos2, /, pos_or_kwd, *, kwd1, kwd2)\n",
    "\n",
    "where 👉🏻/ and 👉🏻* are optional. If used, these symbols indicate the kind of parameter by how the arguments may be passed to the function: positional-only, positional-or-keyword, and keyword-only. Keyword arguments are also referred to as named arguments or named parameters.\n",
    "\n",
    "**Positional-or-Keyword Arguments**\n",
    "\n",
    "If 👉🏻/ and 👉🏻* are not present in the function definition, arguments may be passed to a function by position or by keyword. These are the arguments that we have already mentioned previously.\n",
    "\n",
    "**Positional-Only Arguments**\n",
    "\n",
    "Looking at this in a bit more detail, it is possible to mark certain parameters as positional-only. If positional-only, the parameters’ order matters and the parameters cannot be passed by keyword. Positional-only parameters are placed before a 👉🏻/ (forward-slash). The 👉🏻/ is used to logically separate the positional-only parameters from the rest of the parameters. If there is no 👉🏻/ in the function definition, there are no positional-only parameters.\n",
    "\n",
    "Parameters following the 👉🏻/ may be positional-or-keyword or keyword-only.\n",
    "\n",
    "**Keyword-Only Arguments**\n",
    "\n",
    "To mark parameters as keyword-only, indicating the parameters must be passed by keyword argument, place an 👉🏻* in the arguments list just before the first keyword-only parameter."
   ]
  },
  {
   "cell_type": "markdown",
   "metadata": {
    "id": "g9tbandLbpMI"
   },
   "source": [
    "\n",
    "# **Arbitrary Number of Arguments**\n",
    "\n",
    "**Default Arguments**\n",
    "\n",
    "The most useful form is to specify a default value for one or more arguments. This creates a function that can be called with fewer arguments than it is defined to allow. When calling a function defined by parameters with default values, there is no obligation to pass any arguments into the function.\n",
    "\n",
    "New values can be assigned to parameters either by name or by position."
   ]
  },
  {
   "cell_type": "code",
   "execution_count": 90,
   "metadata": {},
   "outputs": [
    {
     "name": "stdout",
     "output_type": "stream",
     "text": [
      "David\n",
      "18\n",
      "None\n",
      "David\n",
      "28\n",
      "None\n"
     ]
    }
   ],
   "source": [
    "def person(name,age):\n",
    "    print(name)\n",
    "    print(age)\n",
    "\n",
    "# person(\"David\") # position erroru verir: TypeError: person() missing 1 required positional argument: 'age'\n",
    "# yine de tek variable yazdırmak istiyorsak defaul argument kullanırız. Orn Facebooka girmek için \n",
    "# yas 18 kabul edilsin, yani zaten default olsun\n",
    "def person(name,age=18):  #age parametresi artık default valueya sahip default bir argument\n",
    "    print(name)\n",
    "    print(age)\n",
    "print(person(\"David\"))\n",
    "\n",
    "# default argumentin valuesu guncellenebilir\n",
    "print(person(\"David\", 28))"
   ]
  },
  {
   "cell_type": "code",
   "execution_count": 24,
   "metadata": {},
   "outputs": [
    {
     "name": "stdout",
     "output_type": "stream",
     "text": [
      "ali 22 yaşındadır\n"
     ]
    }
   ],
   "source": [
    "def aaa(x = \"ali\", y = \"22\"):\n",
    "    print(x,y, \"yaşındadır\")\n",
    "aaa()  # zaten default olduğu için artık içine yazmamıza gerek yok"
   ]
  },
  {
   "cell_type": "code",
   "execution_count": 80,
   "metadata": {},
   "outputs": [
    {
     "name": "stdout",
     "output_type": "stream",
     "text": [
      "veli 33 yaşıdnadır\n"
     ]
    }
   ],
   "source": [
    "aaa(y = 33, x = \"veli\")  # ama valueları değiştirmek istersek girebiliriz"
   ]
  },
  {
   "cell_type": "code",
   "execution_count": 82,
   "metadata": {},
   "outputs": [
    {
     "name": "stdout",
     "output_type": "stream",
     "text": [
      "veli 40 yaşıdnadır\n"
     ]
    }
   ],
   "source": [
    "aaa(\"veli\", 40)  #bu da çalışır. keywords tanımlandıysa bir kere pos olarak da gider"
   ]
  },
  {
   "cell_type": "code",
   "execution_count": 83,
   "metadata": {},
   "outputs": [
    {
     "name": "stdout",
     "output_type": "stream",
     "text": [
      "gamze 22 yaşıdnadır\n"
     ]
    }
   ],
   "source": [
    "aaa(\"gamze\")  # bir tane de versek çalışır. 22yi defaul alır."
   ]
  },
  {
   "cell_type": "code",
   "execution_count": 84,
   "metadata": {},
   "outputs": [
    {
     "name": "stdout",
     "output_type": "stream",
     "text": [
      "40 veli yaşıdnadır\n"
     ]
    }
   ],
   "source": [
    "aaa(40, \"veli\")  # pos arg olmasına dikkat. yerleri doğru yazmazsak ters çıkarır."
   ]
  },
  {
   "cell_type": "code",
   "execution_count": 85,
   "metadata": {},
   "outputs": [
    {
     "name": "stdout",
     "output_type": "stream",
     "text": [
      "33 22 yaşıdnadır\n"
     ]
    }
   ],
   "source": [
    "aaa(33)  # positions matter!!!"
   ]
  },
  {
   "cell_type": "code",
   "execution_count": 3,
   "metadata": {},
   "outputs": [],
   "source": [
    "# aşağıda *args ama burada da kısaca değinelim ilk 3 arg typedan hemen sonra sonuncu olduğu için.\n",
    "# 4. Variable length argument: bunun özelliği arguments sayısının sabit olmaması. diyelim kullanıcı function belirlerken\n",
    "# yazdığımız 2 parametreye takili kalmamak, ikiden cok daha fazla argüma işlemek istiyor.\n",
    "# o zaman bunu kullanırız. Örneğin\n",
    "\n",
    "def sum(a, *b):  # başta bu a,b idi. 2 sayının toplamı. altta da 5,6 vardi. oraya daha fazla value eklemek için *\n",
    "    c = a+b\n",
    "    print(c)\n",
    " # sum(5,6,38,79)  # a,b 2 tane value alır. * sonrasındaysa a yine ilkini (5), b de kalanları alır.\n",
    "\n",
    "# AMAAAAA bunu çallıştırınca error verir: int ve tuple toplanamaz erroru. çünkü *b valuelarını (6,38,79) \n",
    "# tupleı yapar. a ve b yi print ederek gorelim\n",
    "# print(a, type(a))  sum'ı # yaptığım için a'yı bulamadı. ama output: 5, int\n",
    "# print(b, type(b))  output(6,38,79), tuple\n",
    "\n",
    "# peki bunu nasıl çözeceğiz: for loop ile; aşağı cell\n",
    "\n"
   ]
  },
  {
   "cell_type": "code",
   "execution_count": 5,
   "metadata": {},
   "outputs": [
    {
     "name": "stdout",
     "output_type": "stream",
     "text": [
      "128\n"
     ]
    }
   ],
   "source": [
    "def sum(a, *b):\n",
    "    c = a\n",
    "    for i in b:  # for loop ile byi itere edip 3 elemanını tek tek c'ye ekledik. zaten a içindeydi\n",
    "        c = i + c\n",
    "    print(c)\n",
    "    \n",
    "sum(5,6,38,79)\n",
    "\n",
    "# peki sadece tek parameter ile nasıl yaparız: aşağıda"
   ]
  },
  {
   "cell_type": "code",
   "execution_count": 6,
   "metadata": {},
   "outputs": [
    {
     "name": "stdout",
     "output_type": "stream",
     "text": [
      "128\n"
     ]
    }
   ],
   "source": [
    "def sum(*b):\n",
    "    c = 0  # c'yi loopslardaki total örneği gibi düşün\n",
    "    for i in b:\n",
    "        c = i +c\n",
    "    print(c)\n",
    "sum(5,6,38,79)"
   ]
  },
  {
   "cell_type": "code",
   "execution_count": 91,
   "metadata": {
    "colab": {
     "base_uri": "https://localhost:8080/"
    },
    "executionInfo": {
     "elapsed": 246,
     "status": "ok",
     "timestamp": 1667478078131,
     "user": {
      "displayName": "F4033-Kadir",
      "userId": "00693449641329635795"
     },
     "user_tz": -60
    },
    "id": "H4oaHAkcb0ov",
    "outputId": "3ac89e65-2f36-409a-dda4-4464ccc5066a"
   },
   "outputs": [
    {
     "name": "stdout",
     "output_type": "stream",
     "text": [
      "Athens in Europe\n",
      "Ulaanbaatar in Asia\n",
      "Cape Town in Africa\n",
      "Paris in Europe\n"
     ]
    }
   ],
   "source": [
    "def city(capital, continent='Europe'):\n",
    "    print(capital, 'in', continent)\n",
    "\n",
    "city('Athens')  # we don't have to pass any arguments into 'continent'\n",
    "city('Ulaanbaatar', continent='Asia')  # we can change the default value by kwargs\n",
    "city('Cape Town', 'Africa')  # we can change the default value by positional args.\n",
    "city(\"Paris\")  # en baştakine dönersek:"
   ]
  },
  {
   "cell_type": "code",
   "execution_count": 66,
   "metadata": {},
   "outputs": [
    {
     "name": "stdout",
     "output_type": "stream",
     "text": [
      "Cumartesi 12.00 de G2 grubuyla functions konusunda pratik yapacağız ve 100 soru çözeceğiz\n",
      "Cumartesi 15.00 de G2 grubuyla loops konusunda pratik yapacağız ve 50 soru çözeceğiz\n",
      "Cumartesi 12.00 de G2 grubuyla functions konusunda beyin fırtınası yapacağız ve bir miktar soru çözeceğiz\n",
      "Cumartesi 12.00 de G2 grubuyla 17.00 konusunda bahçe çalışması yapacağız ve 75 soru çözeceğiz\n"
     ]
    }
   ],
   "source": [
    "def calisma(soru, konu=\"functions\", metod=\"pratik\", saat = \"12.00\"):\n",
    "    print(\"Cumartesi\", saat,\"de G2 grubuyla\", konu,\"konusunda\", metod,\"yapacağız ve\", soru, \"soru çözeceğiz\")\n",
    "calisma(100)\n",
    "calisma(soru = 50, konu=\"loops\", saat = \"15.00\")\n",
    "calisma(\"bir miktar\", metod = \"beyin fırtınası\")\n",
    "calisma(75, \"17.00\", \"bahçe çalışması\")  # ilki direkt soruya, diğerleri positional keywordsler olarak sırasıyla funksiyon içine atandı.\n",
    "# calisma(konu=\"loops\", 50, saat = \"15.00\") bu error verir: SyntaxError: positional argument follows keyword argument"
   ]
  },
  {
   "cell_type": "code",
   "execution_count": 92,
   "metadata": {
    "colab": {
     "base_uri": "https://localhost:8080/"
    },
    "executionInfo": {
     "elapsed": 224,
     "status": "ok",
     "timestamp": 1667388067159,
     "user": {
      "displayName": "F4033-Kadir",
      "userId": "00693449641329635795"
     },
     "user_tz": -60
    },
    "id": "E9ZZZ796BvGG",
    "outputId": "9c1ad9a8-aa65-4139-ace5-387867acb313"
   },
   "outputs": [
    {
     "name": "stdout",
     "output_type": "stream",
     "text": [
      "-- This parrot wouldn't talk if you put 1000 volts through it.\n",
      "-- Lovely plumage, the Norwegian Blue\n",
      "-- It's funny !\n"
     ]
    }
   ],
   "source": [
    "def parrot(voltage, state='funny', action='talk', type='Norwegian Blue'):\n",
    "    print(\"-- This parrot wouldn't\", action, end=' ')\n",
    "    print(\"if you put\", voltage, \"volts through it.\")\n",
    "    print(\"-- Lovely plumage, the\", type)\n",
    "    print(\"-- It's\", state, \"!\")\n",
    "\n",
    "parrot(1000)  # 1 positional argument"
   ]
  },
  {
   "cell_type": "code",
   "execution_count": 87,
   "metadata": {},
   "outputs": [
    {
     "name": "stdout",
     "output_type": "stream",
     "text": [
      "-- This parrot wouldn't talk if you put 1000 volts through it.\n",
      "-- Lovely plumage, the Norwegian Blue\n",
      "-- It's funny !\n"
     ]
    }
   ],
   "source": [
    "parrot(voltage=1000)  # 1 keyword argument"
   ]
  },
  {
   "cell_type": "code",
   "execution_count": 88,
   "metadata": {},
   "outputs": [
    {
     "name": "stdout",
     "output_type": "stream",
     "text": [
      "-- This parrot wouldn't VOOOOOM if you put 1000000 volts through it.\n",
      "-- Lovely plumage, the Norwegian Blue\n",
      "-- It's funny !\n"
     ]
    }
   ],
   "source": [
    "parrot(voltage=1000000, action='VOOOOOM')  # 2 keyword arguments\n"
   ]
  },
  {
   "cell_type": "code",
   "execution_count": 89,
   "metadata": {},
   "outputs": [
    {
     "name": "stdout",
     "output_type": "stream",
     "text": [
      "-- This parrot wouldn't VOOOOOM if you put 1000000 volts through it.\n",
      "-- Lovely plumage, the Norwegian Blue\n",
      "-- It's funny !\n"
     ]
    }
   ],
   "source": [
    "parrot(action='VOOOOOM', voltage=1000000)  # 2 keyword arguments"
   ]
  },
  {
   "cell_type": "code",
   "execution_count": 90,
   "metadata": {},
   "outputs": [
    {
     "name": "stdout",
     "output_type": "stream",
     "text": [
      "-- This parrot wouldn't jump if you put a million volts through it.\n",
      "-- Lovely plumage, the Norwegian Blue\n",
      "-- It's bereft of life !\n"
     ]
    }
   ],
   "source": [
    "parrot('a million', 'bereft of life', 'jump')   # 3 positional arguments\n"
   ]
  },
  {
   "cell_type": "code",
   "execution_count": 91,
   "metadata": {},
   "outputs": [
    {
     "name": "stdout",
     "output_type": "stream",
     "text": [
      "-- This parrot wouldn't talk if you put a thousand volts through it.\n",
      "-- Lovely plumage, the Norwegian Blue\n",
      "-- It's pushing up the daisies !\n"
     ]
    }
   ],
   "source": [
    "parrot('a thousand', state='pushing up the daisies')  # 1 positional, 1 keyword"
   ]
  },
  {
   "cell_type": "code",
   "execution_count": 94,
   "metadata": {},
   "outputs": [],
   "source": [
    "# parrot()  böyle cagirirsak error: TypeError: parrot() missing 1 required positional argument: 'voltage'"
   ]
  },
  {
   "cell_type": "markdown",
   "metadata": {
    "id": "B7Pw7UvVE9Hm"
   },
   "source": [
    "Considering the defined functions, all the following calls would be invalid:\n",
    "\n",
    "```\n",
    "parrot()                     # required argument missing\n",
    "parrot(voltage=5.0, 'dead')  # non-keyword argument after a keyword argument\n",
    "parrot(110, voltage=220)     # duplicate value for the same argument\n",
    "parrot(actor='John Cleese')  # unknown keyword argument\n",
    "```\n",
    "\n",
    "**In a function call, keyword arguments must follow positional arguments**. All the keyword arguments passed must match one of the arguments accepted by the function (e.g. actor is not a valid argument for the parrot function), and their order is not important. This also includes non-optional arguments (e.g. parrot(voltage=1000) is valid too). **No argument may receive a value more than once**."
   ]
  },
  {
   "cell_type": "code",
   "execution_count": 96,
   "metadata": {},
   "outputs": [
    {
     "ename": "SyntaxError",
     "evalue": "non-default argument follows default argument (1565486648.py, line 1)",
     "output_type": "error",
     "traceback": [
      "\u001b[0;36m  Input \u001b[0;32mIn [96]\u001b[0;36m\u001b[0m\n\u001b[0;31m    def argu(a, b = \"dünya\", c, s = \"saturn\"):\u001b[0m\n\u001b[0m                                ^\u001b[0m\n\u001b[0;31mSyntaxError\u001b[0m\u001b[0;31m:\u001b[0m non-default argument follows default argument\n"
     ]
    }
   ],
   "source": [
    "def argu(a, b = \"dünya\", c, d = \"saturn\"):\n",
    "    print(a,b,c,d, sep = \"\\n\")\n",
    "# çalışmaz, çünkü fonksiyonu tanımlarken de once pos arg sonra kwargs tanımlanmalı. \n",
    "# SyntaxError: non-default argument follows default argument\n",
    "# dogrusu asagida\n"
   ]
  },
  {
   "cell_type": "code",
   "execution_count": 102,
   "metadata": {},
   "outputs": [
    {
     "name": "stdout",
     "output_type": "stream",
     "text": [
      "uranüs\n",
      "dünya\n",
      "jupiter\n",
      "saturn\n"
     ]
    }
   ],
   "source": [
    "def argu(a, c, d = \"saturn\", b = \"dünya\"):\n",
    "\n",
    "    print(a,b,c,d, sep = \"\\n\")\n",
    "\n",
    "# argu() dersek pos argumnları yazmadigimiz icin error verir\n",
    "argu(\"uranüs\", \"jupiter\")"
   ]
  },
  {
   "cell_type": "code",
   "execution_count": 103,
   "metadata": {},
   "outputs": [
    {
     "name": "stdout",
     "output_type": "stream",
     "text": [
      "uranüs\n",
      "dünya\n",
      "jupiter\n",
      "saturn\n"
     ]
    }
   ],
   "source": [
    "argu(a = \"uranüs\", c = \"jupiter\")"
   ]
  },
  {
   "cell_type": "code",
   "execution_count": 104,
   "metadata": {},
   "outputs": [
    {
     "name": "stdout",
     "output_type": "stream",
     "text": [
      "jupiter\n",
      "dünya\n",
      "uranüs\n",
      "saturn\n"
     ]
    }
   ],
   "source": [
    "argu(c = \"uranüs\", a = \"jupiter\")  # funk tanimlarken pos olarak a c den ondeydi ama keyword olarak atama yapinca onemi kalmaz"
   ]
  },
  {
   "cell_type": "markdown",
   "metadata": {},
   "source": [
    "# KURAL : POSITIONAL ARGUMENTS KEYWORDS ARGUMENTS SONRASI OLMAZ!!!!!"
   ]
  },
  {
   "cell_type": "code",
   "execution_count": 29,
   "metadata": {},
   "outputs": [],
   "source": [
    " # argu(\"pluto\", c = \"venüs\", \"Mars\")  calismaz Marstan dolayı\n",
    "# SyntaxError: positional argument follows keyword argument"
   ]
  },
  {
   "cell_type": "code",
   "execution_count": 30,
   "metadata": {},
   "outputs": [],
   "source": [
    "# argu(\"pluto\", \"mars\", c = \"venüs\") bu da calismaz cunku cye zaten marsi atadi 2.yi, sonra tekrar value atiyoruz!!"
   ]
  },
  {
   "cell_type": "code",
   "execution_count": 107,
   "metadata": {},
   "outputs": [
    {
     "name": "stdout",
     "output_type": "stream",
     "text": [
      "dünya\n",
      "venüs\n",
      "pluto\n",
      "güneş\n"
     ]
    }
   ],
   "source": [
    "argu(d = \"güneş\", a = \"dünya\", c = \"pluto\", b = \"venüs\")"
   ]
  },
  {
   "cell_type": "code",
   "execution_count": 111,
   "metadata": {},
   "outputs": [
    {
     "name": "stdout",
     "output_type": "stream",
     "text": [
      "güneş\n",
      "venüs\n",
      "dünya\n",
      "plüto\n"
     ]
    }
   ],
   "source": [
    "def argu(a, c, d = \"saturn\", b = \"dünya\"):\n",
    "\n",
    "    print(a,b,c,d, sep = \"\\n\")\n",
    "    \n",
    "argu(\"güneş\", \"dünya\", \"plüto\", \"venüs\")  # bu da çalışır. pos ilk ikisi ok. 3 ve 4 noya da keywordlu olanların valuelar guncellendi\n",
    "# ama aşağıda cıktı sıralamasına dikkat. venüs en sonda oldugu icin fonk() icinde en sondaki bye atadi ve printte be 2 olunca 2 cikardi "
   ]
  },
  {
   "cell_type": "code",
   "execution_count": 112,
   "metadata": {},
   "outputs": [],
   "source": [
    "def fonksiyon(x,y):\n",
    "    print(x,y, \"yaşındadır\")"
   ]
  },
  {
   "cell_type": "code",
   "execution_count": 113,
   "metadata": {},
   "outputs": [
    {
     "name": "stdout",
     "output_type": "stream",
     "text": [
      "ali 33 yaşındadır\n"
     ]
    }
   ],
   "source": [
    "fonksiyon(x = \"ali\", y=33 )  # positinlarla tanımlayıp kw'lerle cagirdik "
   ]
  },
  {
   "cell_type": "markdown",
   "metadata": {
    "id": "y9SYEUt-cOHL"
   },
   "source": [
    "# *args and **kwargs\n",
    "\n",
    "We use *args when we aren’t sure how many arguments are going to be passed into a function, or if we want to pass a stored list or tuple of arguments to a function. (variable length arguments)\n",
    "\n",
    "**kwargs (keyworded variable length arguments) is used when we don’t know how many keyword arguments will be passed to a function, or it can be used to pass the values of a dictionary as keyword arguments. \n",
    "\n",
    "*args and **kwargs enable us to assign **arbitrary number of arguments** and keywords.\n",
    "\n",
    "syntax: *args - **kwargs\n",
    "\n",
    "Any formal parameters which occur after the *args parameter are ‘keyword-only’ arguments, meaning that they can only be used as keywords rather than positional arguments.\n",
    "\n",
    "In Python, the parameters like *args are called **variadic parameters**. Functions that have variadic parameters are called **variadic functions** (değişken sayıda argüman alabilen fonsiyon).\n",
    "\n",
    "Note that you don’t need to name args for a variadic parameter. For example, you can use any meaningful names like *numbers, *strings, *lists, etc.\n",
    "\n",
    "However, by convention, Python uses the *args for a variadic parameter."
   ]
  },
  {
   "cell_type": "code",
   "execution_count": 122,
   "metadata": {},
   "outputs": [
    {
     "name": "stdout",
     "output_type": "stream",
     "text": [
      "<class 'tuple'>\n",
      "()\n"
     ]
    }
   ],
   "source": [
    "def add(*args):\n",
    "    print(type(args))\n",
    "    print(args)\n",
    "\n",
    "add()"
   ]
  },
  {
   "cell_type": "code",
   "execution_count": 15,
   "metadata": {
    "colab": {
     "base_uri": "https://localhost:8080/"
    },
    "executionInfo": {
     "elapsed": 296,
     "status": "ok",
     "timestamp": 1667478472983,
     "user": {
      "displayName": "F4033-Kadir",
      "userId": "00693449641329635795"
     },
     "user_tz": -60
    },
    "id": "vGrtALXedK5n",
    "outputId": "745aea4d-cb48-4ae6-d353-741e11aa660a"
   },
   "outputs": [
    {
     "name": "stdout",
     "output_type": "stream",
     "text": [
      "I want to get orange and banana\n",
      "I want to get :\n",
      "- orange\n",
      "- banana\n",
      "- melon\n",
      "- ananas\n"
     ]
    }
   ],
   "source": [
    "# args\n",
    "# For example, define a function which takes two kinds of fruit and prints them.  \n",
    "def fruiterer(fruit1, fruit2) :\n",
    "    print('I want to get', fruit1, 'and', fruit2)\n",
    "        \n",
    "fruiterer('orange', 'banana')\n",
    "\n",
    "# What if the user wants to get more than two kinds of fruit? \n",
    "# Since we don't know how many kinds of fruit each user will enter, \n",
    "# using 'arbitrary numbers of arguments' is the most intelligent method.\n",
    "\n",
    "def fruiterer(*fruit) :\n",
    "    print('I want to get :')\n",
    "    for i in fruit :\n",
    "        print('-', i)\n",
    "        \n",
    "fruiterer('orange', 'banana', 'melon', 'ananas')"
   ]
  },
  {
   "cell_type": "code",
   "execution_count": 121,
   "metadata": {},
   "outputs": [
    {
     "name": "stdout",
     "output_type": "stream",
     "text": [
      "10 20 [30, 40, 50]\n",
      "(10, 20, (30, 40, 50))\n"
     ]
    }
   ],
   "source": [
    "# tuple unpacking ile aynı mantık bu\n",
    "x,y,*z = 10, 20, 30, 40, 50\n",
    "print(x,y,z)\n",
    "# bunu function ile yapalim\n",
    "def add(x, y, *kalan_sayilar):\n",
    "    for sayi in kalan_sayilar:\n",
    "        return (x,y, kalan_sayilar)\n",
    "\n",
    "result = add(10, 20, 30, 40, 50)\n",
    "print(result)\n",
    "\n",
    "# fark: It’s like tuple unpacking except that the kalan_sayilar is a tuple, not a list.."
   ]
  },
  {
   "cell_type": "code",
   "execution_count": 34,
   "metadata": {},
   "outputs": [
    {
     "name": "stdout",
     "output_type": "stream",
     "text": [
      "the best model of 2022 is, respectively \n",
      "* mercedes\n",
      "* volvo\n",
      "* tesla\n",
      "* bmw\n"
     ]
    }
   ],
   "source": [
    "# args\n",
    "def best_auto(*model):\n",
    "    print(\"the best model of 2022 is, respectively \")\n",
    "    for i in model:\n",
    "        print(\"*\", i)\n",
    "best_auto(\"mercedes\", \"volvo\", \"tesla\", \"bmw\")"
   ]
  },
  {
   "cell_type": "code",
   "execution_count": 17,
   "metadata": {},
   "outputs": [
    {
     "name": "stdout",
     "output_type": "stream",
     "text": [
      "evens list : [2, 4, 6, 8]\n",
      "odds list : [1, 3, 5, 7, 9]\n"
     ]
    }
   ],
   "source": [
    "# task 1den 9a sayılrarı *args le even ve odd listelerine al\n",
    "\n",
    "def slicer(*num):\n",
    "    evens = []\n",
    "    odds = []\n",
    "    for i in num:\n",
    "        if i %2==0:\n",
    "            evens.append(i)\n",
    "        else:\n",
    "            odds.append(i)\n",
    "    \n",
    "    print(\"evens list :\", evens)    \n",
    "    print(\"odds list :\", odds)    \n",
    "\n",
    "slicer(1,2,3,4,5,6,7,8,9)"
   ]
  },
  {
   "cell_type": "code",
   "execution_count": 19,
   "metadata": {},
   "outputs": [
    {
     "name": "stdout",
     "output_type": "stream",
     "text": [
      "evens list : [(2, 4, 6, 8)]\n",
      "odds list : [(1, 3, 5, 7, 9)]\n"
     ]
    }
   ],
   "source": [
    "# indexleme ile yapalım bir de bunu\n",
    "def slicer(*numbers):\n",
    "    evens= [numbers[1::2]]\n",
    "    odds= [numbers[0::2]]\n",
    "    print(\"evens list :\", evens)    \n",
    "    print(\"odds list :\", odds)\n",
    "    \n",
    "slicer(1,2,3,4,5,6,7,8,9)  # sonucu tuple verdi, list icinde bir tuple. cunku neyi indexler slicelarsan o tipi alırsın"
   ]
  },
  {
   "cell_type": "code",
   "execution_count": 22,
   "metadata": {},
   "outputs": [
    {
     "name": "stdout",
     "output_type": "stream",
     "text": [
      "odds : [1, 3, 5, 7, 9]\n",
      "evens :  [2, 4, 6, 8]\n"
     ]
    }
   ],
   "source": [
    "# list comp yontemiyle yapalım bunu simdi:\n",
    "def slicer(*num):\n",
    "    print(\"odds :\", [i for i in num if i%2])\n",
    "    print(\"evens : \", [i for i in num if not i%2])\n",
    "    \n",
    "slicer(1,2,3,4,5,6,7,8,9)"
   ]
  },
  {
   "cell_type": "code",
   "execution_count": 25,
   "metadata": {},
   "outputs": [
    {
     "data": {
      "text/plain": [
       "([[2, 4, 6, 8]], [[1, 3, 5, 7, 9]])"
      ]
     },
     "execution_count": 25,
     "metadata": {},
     "output_type": "execute_result"
    }
   ],
   "source": [
    "# list comp ile alternatif bir yol:\n",
    "evens = []\n",
    "odds = []\n",
    "def status(*args):\n",
    "    evens.append([i for i in args if not i%2])\n",
    "    odds.append([i for i in args if i%2])\n",
    "    return evens, odds\n",
    "\n",
    "status(*range(1,10))"
   ]
  },
  {
   "cell_type": "code",
   "execution_count": 134,
   "metadata": {},
   "outputs": [
    {
     "data": {
      "text/plain": [
       "(10, 20, (30, 40), 50)"
      ]
     },
     "execution_count": 134,
     "metadata": {},
     "output_type": "execute_result"
    }
   ],
   "source": [
    "# If you use the *args argument, you cannot add more positional arguments. However, you can use keyword arguments.\n",
    "# The following example results in an error because it uses a positional argument after the *arg argument:\n",
    "\n",
    "def add(x, y, *args, z):\n",
    "    return (x,y, args, z)\n",
    "# add(10, 20, 30, 40, 50) error verdi\n",
    "add(10, 20, 30, 40, z = 50)  # zyi keyword arg yaparak cozebiliriz"
   ]
  },
  {
   "cell_type": "markdown",
   "metadata": {},
   "source": [
    "# (**kwargs) works in accordance with the dict principals\n"
   ]
  },
  {
   "cell_type": "code",
   "execution_count": 8,
   "metadata": {},
   "outputs": [],
   "source": [
    "# kwargs\n",
    "# diyelim ki person() diye bir fonksiyon tanımladık. bir kişinin bilgi valuelarını istiyoruz.\n",
    "# person(name, *data) dedik. data icine dolayısıyla yasadigi sehir, yasi, tel nosunu eklemis olalım.\n",
    "# örn: def person(name, *data):\n",
    "#.          print(name, *data)\n",
    "# person(\"David\", 0012345423, 35, \"Cambridge\")\n",
    "# Ama burda bir sorun var. David isim o belli, ilk arguman. peki 2. tel mi degil mi nasıl emin olacagiz\n",
    "# belki id nosu. ya da 35 ne, yas mi, ya baska birseyse. Cambridge hangi cambridge, ABD'deki mi İngiltere'deki mi?\n",
    "# tüm bu belirsizlikleri aşmak için *data (yani *args) yetersiz olduğu için bunu keyworded args yaparız (**kwargs)\n",
    "# yani args artık kw ile yazılır ve **kwargs hepsini içerir\n",
    "# örn def person(name, **kwargs)  person(\"David\", mobile = 0012345423, age = 35, work_city = \"Cambridge\"). "
   ]
  },
  {
   "cell_type": "code",
   "execution_count": 20,
   "metadata": {},
   "outputs": [
    {
     "name": "stdout",
     "output_type": "stream",
     "text": [
      "David\n",
      "{'age': 35, 'mob': 2738963, 'work_city': 'Cambridge'}\n"
     ]
    }
   ],
   "source": [
    "def person(name, **kwargs):\n",
    "    print(name)\n",
    "    print(kwargs)  # burada ne yazacaksan ** koyulmaz. bir str ve bir tuple cikti\n",
    "    \n",
    "person(\"David\", age = 35, mob = 0o12345423, work_city = \"Cambridge\")\n",
    "\n",
    "# bunu for loop ile de yazdırabiliriz"
   ]
  },
  {
   "cell_type": "code",
   "execution_count": 23,
   "metadata": {},
   "outputs": [
    {
     "name": "stdout",
     "output_type": "stream",
     "text": [
      "name David\n",
      "age 35\n",
      "mob 2738963\n",
      "work_city Cambridge\n"
     ]
    }
   ],
   "source": [
    "def person(**kwargs):  # name de olmasın hepsi kwyworded olsun bu sefer\n",
    "    # loopda neden i,j. cünkü bunlar artik key-value pairs: items.\n",
    "    for i,j in kwargs.items():  #  for i,j in kwargs dedim ve error: ValueError: too many values to unpack (expected 2)\n",
    "                        # çünkü eksik yazdım. kwargs.items() olmalı. paranteze dikkat.\n",
    "        print(i,j)\n",
    "    \n",
    "person(name= \"David\", age = 35, mob = 0o12345423, work_city = \"Cambridge\")\n",
    "    "
   ]
  },
  {
   "cell_type": "code",
   "execution_count": 26,
   "metadata": {
    "colab": {
     "base_uri": "https://localhost:8080/"
    },
    "executionInfo": {
     "elapsed": 428,
     "status": "ok",
     "timestamp": 1667478525727,
     "user": {
      "displayName": "F4033-Kadir",
      "userId": "00693449641329635795"
     },
     "user_tz": -60
    },
    "id": "zTWBI3d5dUZZ",
    "outputId": "efb54130-2a3b-46ce-d4dd-78cb7260432f"
   },
   "outputs": [
    {
     "name": "stdout",
     "output_type": "stream",
     "text": [
      "Lions are Carnivores\n",
      "Bears are Omnivores\n",
      "Deers are Herbivores\n",
      "Human are Nomnivores\n"
     ]
    }
   ],
   "source": [
    "# sarı aslan, siya kedi, beyaz kuş ve userın gireceği diğer hayvanların renk ve cinsini yazıracak bir fonk tanımla\n",
    "def animals(**kwargs):\n",
    "    for key, value in kwargs.items():\n",
    "        print(value, \"are\", key)\n",
    " \n",
    "animals(Carnivores=\"Lions\", Omnivores=\"Bears\", Herbivores=\"Deers\", Nomnivores=\"Human\")"
   ]
  },
  {
   "cell_type": "code",
   "execution_count": 34,
   "metadata": {},
   "outputs": [
    {
     "name": "stdout",
     "output_type": "stream",
     "text": [
      "['Han', 'Selim', 'Mustafa', 'Ali']\n",
      "[34, 28, 40, 33]\n"
     ]
    }
   ],
   "source": [
    "# isimlerinden oluşan parametrelere yaşları atanan 5 kişinin isim ve yaşlarını ayrı listelerde göster\n",
    "def organizer(**people):\n",
    "    names = []\n",
    "    ages= []\n",
    "    for keys, values in people.items():\n",
    "        \n",
    "        names.append(keys)\n",
    "        ages.append(values)\n",
    "\n",
    "    print(names, ages, sep = \"\\n\")\n",
    "\n",
    "organizer(Han = 34, Selim = 28, Mustafa = 40, Ali = 33)\n",
    "        "
   ]
  },
  {
   "cell_type": "code",
   "execution_count": 35,
   "metadata": {},
   "outputs": [
    {
     "data": {
      "text/plain": [
       "{'Han': 34, 'Selim': 28, 'Mustafa': 40, 'Ali': 33}"
      ]
     },
     "execution_count": 35,
     "metadata": {},
     "output_type": "execute_result"
    }
   ],
   "source": [
    "dict(Han = 34, Selim = 28, Mustafa = 40, Ali = 33)"
   ]
  },
  {
   "cell_type": "code",
   "execution_count": 36,
   "metadata": {},
   "outputs": [
    {
     "name": "stdout",
     "output_type": "stream",
     "text": [
      "names :  ['Han', 'Selim', 'Mustafa', 'Ali']\n",
      "ages :  [34, 28, 40, 33]\n"
     ]
    }
   ],
   "source": [
    "# list comp\n",
    "def organizer(**data):\n",
    "    names = [i for i in data.keys()]\n",
    "    ages = [i for i in data.values()]\n",
    "    \n",
    "    print(\"names : \", names)\n",
    "    print(\"ages : \", ages)\n",
    "\n",
    "organizer(Han = 34, Selim = 28, Mustafa = 40, Ali = 33)    "
   ]
  },
  {
   "cell_type": "code",
   "execution_count": null,
   "metadata": {},
   "outputs": [],
   "source": []
  },
  {
   "cell_type": "markdown",
   "metadata": {
    "id": "hbFxurs5d4mX"
   },
   "source": [
    "people in the world of computer programming use (*args) for the arbitrary number of positional arguments and (**kwargs) for the arbitrary number of keyword arguments."
   ]
  },
  {
   "cell_type": "code",
   "execution_count": 82,
   "metadata": {
    "colab": {
     "base_uri": "https://localhost:8080/"
    },
    "executionInfo": {
     "elapsed": 7,
     "status": "ok",
     "timestamp": 1667478619234,
     "user": {
      "displayName": "F4033-Kadir",
      "userId": "00693449641329635795"
     },
     "user_tz": -60
    },
    "id": "vI6196Q8dxMQ",
    "outputId": "e566f11f-c657-4002-848b-b40972f66a74"
   },
   "outputs": [
    {
     "name": "stdout",
     "output_type": "stream",
     "text": [
      "Here are the names of brothers :\n",
      "tom\n",
      "sue\n",
      "tim\n"
     ]
    }
   ],
   "source": [
    "# bu ise tersi. parametrelere değil de *ı argümana koyuyoruz. çok sayıda arguman tek variable'a * ile eklenmis oluyor\n",
    "def brothers(bro1, bro2, bro3):\n",
    "    print('Here are the names of brothers :')\n",
    "    print(bro1, bro2, bro3, sep='\\n')\n",
    "\n",
    "family = ['tom', 'sue', 'tim']\n",
    "brothers(*family)"
   ]
  },
  {
   "cell_type": "code",
   "execution_count": 37,
   "metadata": {
    "colab": {
     "base_uri": "https://localhost:8080/"
    },
    "executionInfo": {
     "elapsed": 5,
     "status": "ok",
     "timestamp": 1667478643842,
     "user": {
      "displayName": "F4033-Kadir",
      "userId": "00693449641329635795"
     },
     "user_tz": -60
    },
    "id": "ZPmBkSW3eIBG",
    "outputId": "0f81d0fc-f44e-403b-c4c2-7b784d1aa2ac"
   },
   "outputs": [
    {
     "name": "stdout",
     "output_type": "stream",
     "text": [
      "Fred belongs to Generation X\n",
      "Marry belongs to Generation Y\n"
     ]
    }
   ],
   "source": [
    "def gene(x, y):  # defined by positional args\n",
    "    print(x, \"belongs to Generation X\")\n",
    "    print(y, \"belongs to Generation Y\")\n",
    " \n",
    "dict_gene = {\"y\" : \"Marry\", \"x\" : \"Fred\"}\n",
    "gene(**dict_gene)  # we call the function by a single argument(variable)"
   ]
  },
  {
   "cell_type": "code",
   "execution_count": 19,
   "metadata": {
    "colab": {
     "base_uri": "https://localhost:8080/"
    },
    "executionInfo": {
     "elapsed": 236,
     "status": "ok",
     "timestamp": 1667478666402,
     "user": {
      "displayName": "F4033-Kadir",
      "userId": "00693449641329635795"
     },
     "user_tz": -60
    },
    "id": "zONNVQ-jeOEb",
    "outputId": "df134e2c-4654-4803-a3b4-c140fcd09e51"
   },
   "outputs": [
    {
     "name": "stdout",
     "output_type": "stream",
     "text": [
      "Fred belongs to Generation X\n",
      "Marry belongs to Generation Y\n"
     ]
    }
   ],
   "source": [
    "def gene(x='Solomon', y='David'):  # defined by kwargs (default values assigned to x and y)\n",
    "    print(x, \"belongs to Generation X\")\n",
    "    print(y, \"belongs to Generation Y\")\n",
    " \n",
    "dict_gene = {'y' : \"Marry\", 'x' : \"Fred\"}  # valueları güncelledik\n",
    "gene(**dict_gene)"
   ]
  },
  {
   "cell_type": "code",
   "execution_count": 38,
   "metadata": {},
   "outputs": [
    {
     "name": "stdout",
     "output_type": "stream",
     "text": [
      "('a', 'b', 'c')\n",
      "{'name': 'Chris', 'age': 33}\n",
      "('a', 'b', 'c') {'name': 'Chris', 'age': 33}\n"
     ]
    }
   ],
   "source": [
    "# the \"*args\" and \"*kwargs\" can be renamed\n",
    "def my_func(*whatever, **does_not_matter):\n",
    "    print(whatever)  # tuple\n",
    "    print(does_not_matter)  # dict\n",
    "    print(whatever, does_not_matter)\n",
    "my_func('a', 'b', 'c', name='Chris', age=33)"
   ]
  },
  {
   "cell_type": "markdown",
   "metadata": {
    "id": "TQzDDhySl5ke"
   },
   "source": [
    "# Examples on Arguments"
   ]
  },
  {
   "cell_type": "code",
   "execution_count": 21,
   "metadata": {
    "colab": {
     "base_uri": "https://localhost:8080/",
     "height": 54
    },
    "executionInfo": {
     "elapsed": 482,
     "status": "ok",
     "timestamp": 1667480803070,
     "user": {
      "displayName": "F4033-Kadir",
      "userId": "00693449641329635795"
     },
     "user_tz": -60
    },
    "id": "zUbp67SeeTjZ",
    "outputId": "b79b614a-d06f-48e2-c1dc-a88e06313d44"
   },
   "outputs": [
    {
     "data": {
      "application/vnd.google.colaboratory.intrinsic+json": {
       "type": "string"
      },
      "text/plain": [
       "'\\ndef standard_arg(arg):\\n    print(arg)\\n\\ndef pos_only_arg(arg, /):\\n    print(arg)\\n\\ndef kwd_only_arg(*, arg):\\n    print(arg)\\n\\ndef combined_example(pos_only, /, standard, *, kwd_only):\\n    print(pos_only, standard, kwd_only)\\n    '"
      ]
     },
     "execution_count": 21,
     "metadata": {},
     "output_type": "execute_result"
    }
   ],
   "source": [
    "\"\"\"\n",
    "def standard_arg(arg):\n",
    "    print(arg)\n",
    "\n",
    "def pos_only_arg(arg, /):\n",
    "    print(arg)\n",
    "\n",
    "def kwd_only_arg(*, arg):\n",
    "    print(arg)\n",
    "\n",
    "def combined_example(pos_only, /, standard, *, kwd_only):\n",
    "    print(pos_only, standard, kwd_only)\n",
    "    \"\"\""
   ]
  },
  {
   "cell_type": "markdown",
   "metadata": {
    "id": "tZDn7ETMmovG"
   },
   "source": [
    "The first function definition, standard_arg, the most familiar form, places no restrictions on the calling convention and arguments may be passed by position or keyword:\n",
    "\n",
    "def standard_arg(2):\n",
    "\n",
    "def standard_arg(arg=2)"
   ]
  },
  {
   "cell_type": "code",
   "execution_count": 18,
   "metadata": {
    "colab": {
     "base_uri": "https://localhost:8080/"
    },
    "executionInfo": {
     "elapsed": 468,
     "status": "ok",
     "timestamp": 1667481016641,
     "user": {
      "displayName": "F4033-Kadir",
      "userId": "00693449641329635795"
     },
     "user_tz": -60
    },
    "id": "aXebLqQhmrM0",
    "outputId": "832b7ef7-8242-46ca-8590-93d85dbe942b"
   },
   "outputs": [
    {
     "name": "stdout",
     "output_type": "stream",
     "text": [
      "David\n",
      "Julia\n"
     ]
    }
   ],
   "source": [
    "def standard_arg(name):\n",
    "      print(name)\n",
    "standard_arg(\"David\")\n",
    "# or\n",
    "def standard_arg(name = \"David\"):\n",
    "      print(name)\n",
    "standard_arg(\"Julia\")\n"
   ]
  },
  {
   "cell_type": "markdown",
   "metadata": {
    "id": "dC8A3KL-nVpE"
   },
   "source": [
    "The second function **pos_only_arg** is restricted to only use **positional parameters** as there is a 👉/ in the function definition:\n",
    "\n",
    "def pos_only_arg(1)  # works\n",
    "\n",
    "def pos_only_arg(arg=1)  # raises TypeError\n",
    "\n",
    "The third function **kwd_only_args only allows keyword arguments** as indicated by a 👉* in the function definition:\n",
    "\n",
    "def kwd_only_arg(3)  # raises TypeError\n",
    "\n",
    "def kwd_only_arg(arg=3)  # works\n",
    "\n",
    "And **the last uses all three calling conventions in the same function** definition:\n",
    "\n",
    "combined_example(1, 2, 3)  # raises TypeError\n",
    "\n",
    "combined_example(1, 2, kwd_only=3)  # works\n",
    "\n",
    "combined_example(1, standard=2, kwd_only=3)  # works\n",
    "\n",
    "combined_example(pos_only=1, standard=2, kwd_only=3)  # raises TypeError\n"
   ]
  },
  {
   "cell_type": "code",
   "execution_count": 27,
   "metadata": {
    "colab": {
     "base_uri": "https://localhost:8080/",
     "height": 198
    },
    "executionInfo": {
     "elapsed": 312,
     "status": "error",
     "timestamp": 1667481321231,
     "user": {
      "displayName": "F4033-Kadir",
      "userId": "00693449641329635795"
     },
     "user_tz": -60
    },
    "id": "L-SqPtIInFFL",
    "outputId": "d9aaa38b-d988-4234-c060-160f445c9ecc"
   },
   "outputs": [
    {
     "ename": "TypeError",
     "evalue": "ignored",
     "output_type": "error",
     "traceback": [
      "\u001b[0;31m---------------------------------------------------------------------------\u001b[0m",
      "\u001b[0;31mTypeError\u001b[0m                                 Traceback (most recent call last)",
      "\u001b[0;32m<ipython-input-27-be767428df1f>\u001b[0m in \u001b[0;36m<module>\u001b[0;34m\u001b[0m\n\u001b[1;32m      7\u001b[0m \u001b[0;31m# as the keyword 'name' will always to bind to the first parameter. For example:\u001b[0m\u001b[0;34m\u001b[0m\u001b[0;34m\u001b[0m\u001b[0;34m\u001b[0m\u001b[0m\n\u001b[1;32m      8\u001b[0m \u001b[0;34m\u001b[0m\u001b[0m\n\u001b[0;32m----> 9\u001b[0;31m \u001b[0mfoo\u001b[0m\u001b[0;34m(\u001b[0m\u001b[0;36m1\u001b[0m\u001b[0;34m,\u001b[0m \u001b[0;34m**\u001b[0m\u001b[0;34m{\u001b[0m\u001b[0;34m'name'\u001b[0m\u001b[0;34m:\u001b[0m \u001b[0;36m2\u001b[0m\u001b[0;34m}\u001b[0m\u001b[0;34m)\u001b[0m\u001b[0;34m\u001b[0m\u001b[0;34m\u001b[0m\u001b[0m\n\u001b[0m",
      "\u001b[0;31mTypeError\u001b[0m: foo() got multiple values for argument 'name'"
     ]
    }
   ],
   "source": [
    "# Consider this function definition which has a potential conflict \n",
    "# between the positional argument name and **kwds which has name as a key:\n",
    "def foo(name, **kwds):\n",
    "    return 'name' in kwds\n",
    "\n",
    "# There is no possible call that will make it return True \n",
    "# as the keyword 'name' will always to bind to the first parameter. For example:\n",
    "\n",
    "foo(1, **{'name': 2})  # TypeError: foo() got multiple values for argument 'name'"
   ]
  },
  {
   "cell_type": "code",
   "execution_count": 1,
   "metadata": {
    "colab": {
     "base_uri": "https://localhost:8080/",
     "height": 130
    },
    "executionInfo": {
     "elapsed": 626,
     "status": "error",
     "timestamp": 1667481430197,
     "user": {
      "displayName": "F4033-Kadir",
      "userId": "00693449641329635795"
     },
     "user_tz": -60
    },
    "id": "yC_q_QiYol0_",
    "outputId": "e4c8e85b-843e-4c78-95a8-6663f8aec4e0"
   },
   "outputs": [
    {
     "data": {
      "text/plain": [
       "True"
      ]
     },
     "execution_count": 1,
     "metadata": {},
     "output_type": "execute_result"
    }
   ],
   "source": [
    "# But using 👉/ (positional only arguments), it is possible since it allows \n",
    "# name as a positional argument and 'name' as a key in the keyword arguments:\n",
    "def foo(name, / , **kwds):\n",
    "    return 'name' in kwds\n",
    "\n",
    "foo(1, **{'name': 2})\n",
    "\n",
    "# In other words, the names of positional-only parameters can be used in **kwds without ambiguity."
   ]
  },
  {
   "cell_type": "code",
   "execution_count": 2,
   "metadata": {
    "id": "bPNkKykIoNtS"
   },
   "outputs": [
    {
     "name": "stdout",
     "output_type": "stream",
     "text": [
      "cows\n",
      "horses\n",
      "pigs\n",
      "\n",
      "insufficient for more than three species\n"
     ]
    }
   ],
   "source": [
    "# task: Let's have a farm that is sufficient for up to 3 animal species. \n",
    "# we need to pass the animal species you want to have on this farm into my_function.\n",
    "def my_function(*iterable):  # which animal species will be on this farm?\n",
    "    for variable in iterable:\n",
    "        if len(iterable)<=3:\n",
    "            print(variable)\n",
    "        else :\n",
    "            print(\"insufficient for more than three species\")\n",
    "            break\n",
    "\n",
    "my_function('cows', 'horses', 'pigs')\n",
    "print()\n",
    "my_function('cows', 'horses', 'pigs', 'chickens')"
   ]
  },
  {
   "cell_type": "code",
   "execution_count": 44,
   "metadata": {},
   "outputs": [
    {
     "data": {
      "text/plain": [
       "['Joe', 'Sarah', 'Mike', 'Jess', 'Matt', 'Greg']"
      ]
     },
     "execution_count": 44,
     "metadata": {},
     "output_type": "execute_result"
    }
   ],
   "source": [
    "# Bu soruda yaptığım hatalar: While döngüsünde whle i <len(lst1\"), new_lst.append(lst1[i]) vesaire\n",
    "# hep lst1 kullandım. bu nedenle de fonksiyonum sadece lst1 icin gecerli oldu.\n",
    "# bir alt hücreye aaa = [1,2,3,4,5,6,0,7] listesi yaptım name_adder diye print edince yine joe sarah vs vs verdi\n",
    "# dolayısıyla fonksiyon tanimlarken kalıcılığa dikkat.\n",
    "\n",
    "lst1=[\"Joe\", \"Sarah\", \"Mike\", \"Jess\", \"\", \"Matt\", \"\", \"Greg\"]\n",
    "\n",
    "new_list = []\n",
    "def name_adder(whatever):\n",
    "    \n",
    "    i = 0\n",
    "    while i < len(whatever):\n",
    "        if whatever[i]:\n",
    "            new_list.append(whatever[i])\n",
    "        i += 1\n",
    "    return new_list\n",
    "\n",
    "name_adder(lst1)"
   ]
  },
  {
   "cell_type": "code",
   "execution_count": null,
   "metadata": {},
   "outputs": [],
   "source": [
    "lst1=[\"Joe\", \"Sarah\", \"Mike\", \"Jess\", \"\", \"Matt\", \"\", \"Greg\"]\n",
    "def name_adder(whatever):\n",
    "    "
   ]
  },
  {
   "cell_type": "code",
   "execution_count": 1,
   "metadata": {},
   "outputs": [
    {
     "data": {
      "text/plain": [
       "0.8899999999999997"
      ]
     },
     "execution_count": 1,
     "metadata": {},
     "output_type": "execute_result"
    }
   ],
   "source": [
    "def thedecim(number):\n",
    "    return number - int(number) if number - int(number) else \"integer\"\n",
    "thedecim(5.89)"
   ]
  },
  {
   "cell_type": "code",
   "execution_count": 13,
   "metadata": {},
   "outputs": [
    {
     "data": {
      "text/plain": [
       "120"
      ]
     },
     "execution_count": 13,
     "metadata": {},
     "output_type": "execute_result"
    }
   ],
   "source": [
    "# verilen sayının factoryelini bul\n",
    "def my_fact(n):\n",
    "    factorial = 1\n",
    "\n",
    "    for i in range(1, n+1):\n",
    "        factorial *= i\n",
    "    return factorial\n",
    "\n",
    "    if i == 0 and i == 1:\n",
    "        return 1\n",
    "\n",
    "my_fact(5)"
   ]
  },
  {
   "cell_type": "code",
   "execution_count": 14,
   "metadata": {},
   "outputs": [
    {
     "data": {
      "text/plain": [
       "60"
      ]
     },
     "execution_count": 14,
     "metadata": {},
     "output_type": "execute_result"
    }
   ],
   "source": [
    "# verilen integerların toplamını bulacak my_sum isimli bir fonksyion yaz\n",
    "def my_sum(*n):\n",
    "    total = 0\n",
    "    for i in n:\n",
    "        total += i\n",
    "    return total\n",
    "\n",
    "my_sum(10, -20, 30, 40)"
   ]
  },
  {
   "cell_type": "code",
   "execution_count": 15,
   "metadata": {},
   "outputs": [
    {
     "data": {
      "text/plain": [
       "-9"
      ]
     },
     "execution_count": 15,
     "metadata": {},
     "output_type": "execute_result"
    }
   ],
   "source": [
    "# my_min isimli bir fonksyion tanimla ve verilen sayıların minimumunu bul\n",
    "def my_min(*n):\n",
    "    for i in n:\n",
    "        return min(n)\n",
    "my_min(3,8,-9,0,12,1.2)"
   ]
  },
  {
   "cell_type": "code",
   "execution_count": 16,
   "metadata": {},
   "outputs": [
    {
     "data": {
      "text/plain": [
       "'ylaruswac'"
      ]
     },
     "execution_count": 16,
     "metadata": {},
     "output_type": "execute_result"
    }
   ],
   "source": [
    "# Clarusway stringini ylaruswaC yapan bir fonksiyon tanımla. ilk ve son harfi değiştiren.\n",
    "\n",
    "\n",
    "def front_back(word):\n",
    "    front = word[0]\n",
    "    back = word[-1]\n",
    "    front_back = back + word[1:-1] + front\n",
    "    if len(word) > 1:\n",
    "        return front_back\n",
    "    else:\n",
    "        return back+front\n",
    "\n",
    "front_back(\"clarusway\")"
   ]
  },
  {
   "cell_type": "code",
   "execution_count": 17,
   "metadata": {},
   "outputs": [
    {
     "data": {
      "text/plain": [
       "'uokk'"
      ]
     },
     "execution_count": 17,
     "metadata": {},
     "output_type": "execute_result"
    }
   ],
   "source": [
    "word = \"koku\"\n",
    "def front_back(word):\n",
    "    for i in word:\n",
    "        word_list = list(word)\n",
    "        word_list[0], word_list[-1] = word_list[-1], word_list[0]\n",
    "        new_word = (\"\").join(word_list)\n",
    "        return new_word\n",
    "    \n",
    "front_back(word)"
   ]
  },
  {
   "cell_type": "code",
   "execution_count": null,
   "metadata": {},
   "outputs": [],
   "source": []
  }
 ],
 "metadata": {
  "accelerator": "GPU",
  "colab": {
   "authorship_tag": "ABX9TyOLBTt9y0qvVXpzAgiNUo09",
   "collapsed_sections": [],
   "provenance": []
  },
  "gpuClass": "standard",
  "kernelspec": {
   "display_name": "Python 3 (ipykernel)",
   "language": "python",
   "name": "python3"
  },
  "language_info": {
   "codemirror_mode": {
    "name": "ipython",
    "version": 3
   },
   "file_extension": ".py",
   "mimetype": "text/x-python",
   "name": "python",
   "nbconvert_exporter": "python",
   "pygments_lexer": "ipython3",
   "version": "3.9.12"
  }
 },
 "nbformat": 4,
 "nbformat_minor": 4
}
