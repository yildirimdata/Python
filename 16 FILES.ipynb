{
 "cells": [
  {
   "cell_type": "markdown",
   "id": "f15414ff-86bc-4b7d-a000-d702e617e8a6",
   "metadata": {},
   "source": [
    "# FILES\n",
    "\n",
    "**File Components**\n",
    "\n",
    "**Metadata**\n",
    "\n",
    "All the detailed information about a file stored on the computer is called the metadata of that file. For instance, in Windows10, you can right-click on a file and then click properties then choose details to display the metadata.\n",
    "\n",
    "**File Attributes**\n",
    "read only files-system files-hidden files "
   ]
  },
  {
   "cell_type": "markdown",
   "id": "11982e7d-b50a-4a46-8ba5-46e05424796f",
   "metadata": {},
   "source": [
    "# Reading Files\n",
    "\n"
   ]
  },
  {
   "cell_type": "markdown",
   "id": "6863b8be-0eea-4a66-a377-75df62254428",
   "metadata": {},
   "source": [
    "**'open()' Function**\n",
    "\n",
    "When we work on a project, the data we need for our Program that we plan to write usually comes from outside in a file format. To start working with these files, we first need to open it by using a built-in function open(). This function has the following parameters :\n",
    "\n",
    "open (file, mode='r', buffering=-1, encoding=None, errors=None, newline=None, closefd=True, opener=None)\n",
    "\n",
    "File is the only required parameter of the open() function. This parameter is a path-like object which is a str or bytes that represents a path in the file directory. In other words, path-like object giving the pathname (absolute or relative to the current working directory) of the file to be opened or an integer file descriptor of the file to be wrapped.\n",
    "\n",
    "This parameter takes the name of the file that you want to open which is stored in the directory where the Anaconda3 or the Python installed. In other words, the file should be stored in the current working directory."
   ]
  },
  {
   "cell_type": "code",
   "execution_count": 127,
   "id": "765a67f7-025e-43f8-956d-7656ccecc657",
   "metadata": {},
   "outputs": [
    {
     "data": {
      "text/plain": [
       "'/Users/kadiryildirim/Library/CloudStorage/GoogleDrive-yildirimkdata@gmail.com/My Drive/Colab Notebooks'"
      ]
     },
     "execution_count": 127,
     "metadata": {},
     "output_type": "execute_result"
    }
   ],
   "source": [
    "pwd"
   ]
  },
  {
   "cell_type": "code",
   "execution_count": 128,
   "id": "d0c81502-d83f-4482-9136-06a6ca6e4f97",
   "metadata": {},
   "outputs": [
    {
     "name": "stdout",
     "output_type": "stream",
     "text": [
      "<class '_io.TextIOWrapper'>\n"
     ]
    }
   ],
   "source": [
    "my_file = open(\"Fishes.txt\")  # Fishes.txt diye bir dosya olusturup su ankli directory \n",
    "# olan Colab notebboksa aldim ve open() dedim\n",
    "\n",
    "print(type(my_file))"
   ]
  },
  {
   "cell_type": "markdown",
   "id": "f7e32c2a-1362-4a68-9c4d-e7ef5541908f",
   "metadata": {},
   "source": [
    "It opens the file and returns a corresponding file-like object. If the file cannot be opened, an OSError is raised. Pay attention to the type of my_file. We have created a file-like object. So we can apply different kinds of methods to my_file."
   ]
  },
  {
   "cell_type": "markdown",
   "id": "5e693935-9200-4dee-9a88-85a193817404",
   "metadata": {},
   "source": [
    "let's examine the function step by step. We will only focus on the most commonly used parameters : mode and encoding. Since we need to examine mode in detail, we'll leave it to the next lesson. Let's take a look at encoding for the time being.\n",
    "\n",
    "The encoding parameter indicates the encoding that needs to be used to decode or encode a file. The default value depends on the platform you use and its language. UTF-8 is one of the most preferred used encodings, and Python generally defaults to using it. UTF stands for “Unicode Transformation Format”, and the ‘8’ means that 8-bit values are used in the encoding. We can open a file in the same way by using the following syntax :"
   ]
  },
  {
   "cell_type": "code",
   "execution_count": 19,
   "id": "8ebb689e-9ff0-41bd-bf8a-093359b9be89",
   "metadata": {},
   "outputs": [
    {
     "data": {
      "text/plain": [
       "<_io.TextIOWrapper name='Fishes.txt' mode='r' encoding='utf-8'>"
      ]
     },
     "execution_count": 19,
     "metadata": {},
     "output_type": "execute_result"
    }
   ],
   "source": [
    "my_file = open(\"Fishes.txt\", encoding=\"utf-8\")\n",
    "# we've used 'utf8' encoding format just the same as the previous one\n",
    "my_file"
   ]
  },
  {
   "cell_type": "markdown",
   "id": "7ebc649b-f628-4f78-bb82-ff29a40401c0",
   "metadata": {},
   "source": [
    "**'mode' Parameter**\n",
    "\n",
    "Let's start by examining the most important parameters of the open() function, mode. This parameter has several options that regulate how or for what purpose we open the file. These options are as follows :\n",
    "\n",
    "'mode' Parameter Attributes\n",
    "\n",
    "Character\tWhat it's used for?\n",
    "\n",
    "'r'\t--- Open for reading (default). If the file doesn't exist, FileNotFoundError will raise.\n",
    "\n",
    "'a'\t--- Open for writing. It will append to the end of the file if it already exists. If there is no file, it will create it.\n",
    "\n",
    "'w'\t----Open for writing. It will be overwritten if the file already exists. If there is no file, it will create it.\n",
    "\n",
    "'x'\t----Open for exclusive creation, it will fail if the file already exists.\n",
    "\n",
    "'b'\t----Open in binary mode.\n",
    "\n",
    "'t'\t----Open as a text file (default).\n",
    "\n",
    "'+'\t----Open for updating (reading and writing).\n",
    "\n",
    "Note that, as you can see above, depending on what you are going to do with the file, you can combine the modes according to your needs.\n",
    "If you want to open and be able to read, modify, and update the existing file you should set the mode as 'r+'.\n",
    "\n",
    "By default, open() function executes opening the file for reading ('r') as a text ('t'). In other words, it defaults to 'r' or 'rt' which means open for reading in text mode."
   ]
  },
  {
   "cell_type": "markdown",
   "id": "ee4c9b4e-f4e7-455a-8f8f-256e19b9fe9d",
   "metadata": {},
   "source": [
    "Another important point is that we can choose the format in which we want to open the file as text ('t') or binary ('b'). According to the official related Python documentation, files opened in 'binary' mode return contents as bytes objects without any decoding. In 'text' mode, the contents of the file are returned as str, the bytes having been first decoded using a platform-dependent encoding or using the specified encoding if given.\n",
    "\n",
    "In this case, if we want to open a binary file for writing we should set the mode as 'wb'. On the other hand, if we want to work with a text file we don't need to specify 't' since the default value of mode is already set as 't'. So, when opening and writing a text file it's enough to set the mode as 'w'."
   ]
  },
  {
   "cell_type": "markdown",
   "id": "cc17af0a-e940-4a57-b94f-7921d6810a5e",
   "metadata": {},
   "source": [
    "Finally, let us examine the differences between the use of 'w' and 'a'. Both options are used to modify the file or to write new data to the file. However, when you use 'a', the data you want to write will be added at the bottom of the file and combined with existing content, whereas using 'w' will delete the existing content and add new content each time. "
   ]
  },
  {
   "cell_type": "markdown",
   "id": "f8d75271-9be8-4978-9458-0da5282e9490",
   "metadata": {},
   "source": [
    "**Reading the Files with '.read()' Method**\n",
    "\n",
    "Suppose we have a file named Untitled.txt. We can use the following methods for reading this file :\n",
    "\n",
    ".read(size)\n",
    "\n",
    ".readline(size)\n",
    "\n",
    ".readlines()\n",
    "\n",
    "using loops\n",
    "\n",
    "**1. .read(size) :**\n",
    "\n",
    "**This method is generally the most preferred method for reading files, although it depends on the need. This method reads the size bytes (characters) of the file. (Be sure to close the file you opened using the .close() method.)**"
   ]
  },
  {
   "cell_type": "code",
   "execution_count": 20,
   "id": "f8745260-9b8c-4fba-a64a-f77220544983",
   "metadata": {},
   "outputs": [
    {
     "name": "stdout",
     "output_type": "stream",
     "text": [
      "Orca is a kind of Dolphin.\n",
      "Blue Whale is the largest animal known on earth.\n",
      "Sharks are the sister group to the Rays (batoids).\n",
      "The Tuna Fish can weigh up to 260 kg.\n",
      "Squid and Octopus are in the same class.\n"
     ]
    }
   ],
   "source": [
    "sea = open(\"Fishes.txt\", 'r')   \n",
    "\n",
    "print(sea.read())  # displays the entire text content\n",
    "\n",
    "sea.close()  # be sure to close the file"
   ]
  },
  {
   "cell_type": "code",
   "execution_count": 21,
   "id": "b58fd9d9-787d-47a3-8090-74eeda671a58",
   "metadata": {},
   "outputs": [
    {
     "name": "stdout",
     "output_type": "stream",
     "text": [
      "Orca is a kind of Dolphin.\n",
      "Blue W\n",
      "-----\n",
      "hale is the largest anima\n",
      "-----\n",
      "Orca is a kind of Dolphin.\n",
      "Blue W\n",
      "------\n",
      "33\n"
     ]
    }
   ],
   "source": [
    "sea = open(\"Fishes.txt\", 'r')   \n",
    "\n",
    "print(sea.read(33))  # displays the first 33 chars of the text\n",
    "print(\"-----\")\n",
    "print(sea.read(25))  # displays the next 25 chars of the text\n",
    "print(\"-----\")\n",
    "sea.seek(0)  # changes the stream (cursor) position to zero\n",
    "print(sea.read(33))  # displays the first 33 chars again\n",
    "print(\"------\")\n",
    "print(sea.tell())  # returns the current stream (cursor) position\n",
    "\n",
    "sea.close()"
   ]
  },
  {
   "cell_type": "markdown",
   "id": "e7734218-3ab4-4413-ae00-70b6fbc71cd8",
   "metadata": {},
   "source": [
    "Note that; while .read(33) counting the first 33 bytes, it covers newline \\n and space character of the file text.\n",
    "The offset= 0 indicating the first character of the text, '.seek(offset) method' changes the stream (cursor) position to a given offset."
   ]
  },
  {
   "cell_type": "markdown",
   "id": "55b6f0ed-96f9-4f31-8302-ccf0b8b636a7",
   "metadata": {},
   "source": [
    "**2. .readline(size) :**\n",
    "\n",
    "This method reads only size bytes from a single line of the text."
   ]
  },
  {
   "cell_type": "code",
   "execution_count": 22,
   "id": "382076ba-8b37-4c63-8d6d-c0a56a505a13",
   "metadata": {},
   "outputs": [
    {
     "name": "stdout",
     "output_type": "stream",
     "text": [
      "Orca is a kind of Dolphin.\n",
      "\n",
      "Blue Whale is the largest animal known on earth.\n",
      "\n",
      "Sharks are the sister group to the Rays (batoids).\n",
      "\n"
     ]
    }
   ],
   "source": [
    "sea = open(\"Fishes.txt\", 'r')   \n",
    "\n",
    "print(sea.readline())  # displays the first line of the text\n",
    "print(sea.readline())  # displays the second line\n",
    "print(sea.readline())  # each time it goes to the new line\n",
    "\n",
    "sea.close()\n",
    "\n",
    "# Pay attention to the output that there are empty lines between each line."
   ]
  },
  {
   "cell_type": "markdown",
   "id": "a8238b77-ad43-4fcc-8c73-e618e6b307a1",
   "metadata": {},
   "source": [
    "Now, let's take a look at an example using the size parameter. The first line of the text contains 26 bytes (characters) except the newline char (\\n). But, note that the newline character (\\n) is considered as a part of each line. Then the first line of text consists of 27 characters. Let's choose 13 as the size parameter and see what happens :"
   ]
  },
  {
   "cell_type": "code",
   "execution_count": 95,
   "id": "b07fc077-33aa-4af6-8613-71b8b03617d7",
   "metadata": {},
   "outputs": [
    {
     "name": "stdout",
     "output_type": "stream",
     "text": [
      "Orca is a kin\n",
      "d of Dolphin.\n",
      "\n",
      "\n",
      "\n",
      "\n",
      "Blue Whale is\n",
      " the largest \n"
     ]
    }
   ],
   "source": [
    "sea = open(\"fishes.txt\", 'r')   \n",
    "\n",
    "print(sea.readline(13))  # o stırda 13 okur. \n",
    "print(sea.readline(13))  # kaldigi yerden devam eder.\n",
    "print(sea.readline(13))  # burada newline var \n",
    "print(sea.readline(13))  # burada da new line var\n",
    "print(sea.readline(13))\n",
    "print(sea.readline(13))"
   ]
  },
  {
   "cell_type": "code",
   "execution_count": 96,
   "id": "9850a610-c652-4b0e-8da8-44b6709c06c8",
   "metadata": {},
   "outputs": [],
   "source": [
    "import os"
   ]
  },
  {
   "cell_type": "code",
   "execution_count": 97,
   "id": "d7bd16f0-4b35-4359-a85b-7e40c6c91ea5",
   "metadata": {},
   "outputs": [
    {
     "data": {
      "text/plain": [
       "['4 Arithmetic_Operations.ipynb',\n",
       " 'new_file.txt',\n",
       " '12.1 Various Built-in Functions.ipynb',\n",
       " '7 Main String Operations.ipynb',\n",
       " 'Untitled1.ipynb',\n",
       " 'TASK-Letter and Number Counter Function.ipynb',\n",
       " '.DS_Store',\n",
       " '14 Packages and Modules.ipynb',\n",
       " '12.2 Scope of the Variables - Global-Local.ipynb',\n",
       " '18 Python Environment.ipynb',\n",
       " 'Untitled.ipynb',\n",
       " 'BooleanOperators - KadayıfDolması.ipynb',\n",
       " 'fruits.txt',\n",
       " 'Assignment14-F4033.ipynb',\n",
       " '17 Working with the CSV Files.ipynb',\n",
       " 'dummy_file.txt',\n",
       " '10_Python_Session 11_26 Oct 2022_Student.ipynb',\n",
       " 'Fishes.txt',\n",
       " 'Assignment9 - F4033.ipynb',\n",
       " 'Assignments and Tasks.ipynb',\n",
       " 'Python_Session 16_3 Nov 2022_Functions_Student.ipynb',\n",
       " '9 Tuples, Dictionaries and Sets.ipynb',\n",
       " 'Assignment11-F4033.ipynb',\n",
       " 'Untitled0.ipynb',\n",
       " '10.1 Iter-Next-List Comprehension.ipynb',\n",
       " '12 Functions in Python.ipynb',\n",
       " '10 Control Flow Statements.ipynb',\n",
       " '2 DataTypes-Conversion-Math.ipynb',\n",
       " '13 Lambda Functions.ipynb',\n",
       " 'rumi.txt',\n",
       " '3 Print function-EscapeSequences-Boolean.ipynb',\n",
       " '1 October5.ipynb',\n",
       " '.ipynb_checkpoints',\n",
       " '8 Collections1- Lists.ipynb',\n",
       " 'Task - Functions.ipynb',\n",
       " 'Assignment10-F4033.ipynb',\n",
       " 'fruits.csv',\n",
       " '6 string formatting.ipynb',\n",
       " 'Untitled',\n",
       " 'aaa.txt',\n",
       " 'AradaBak.ipynb',\n",
       " '11 Loops.ipynb',\n",
       " 'Lab1 - 7Oct.ipynb',\n",
       " '15 Errors and Handling Errors.ipynb',\n",
       " '5 Input-DomainKnowledge.ipynb',\n",
       " '16 FILES.ipynb',\n",
       " 'Lab1_7Oct22_Student.ipynb']"
      ]
     },
     "execution_count": 97,
     "metadata": {},
     "output_type": "execute_result"
    }
   ],
   "source": [
    "os.listdir()  # working directorydeki herseyi list olarak getirdi.\n",
    "\n",
    "files = os.listdir()"
   ]
  },
  {
   "cell_type": "code",
   "execution_count": 98,
   "id": "534ec72d-d997-4fad-bdce-0cb8e38e4bf4",
   "metadata": {},
   "outputs": [],
   "source": [
    "import shutil"
   ]
  },
  {
   "cell_type": "code",
   "execution_count": 100,
   "id": "3d5f919e-6579-4b7d-b05d-8801610f3e76",
   "metadata": {},
   "outputs": [
    {
     "data": {
      "text/plain": [
       "'/Users/kadiryildirim/Library/CloudStorage/GoogleDrive-yildirimkdata@gmail.com/My Drive/Colab Notebooks/hedef_zip.zip'"
      ]
     },
     "execution_count": 100,
     "metadata": {},
     "output_type": "execute_result"
    }
   ],
   "source": [
    "shutil.make_archive(\"hedef_zip\", \"zip\", \"dosyalar\")"
   ]
  },
  {
   "cell_type": "code",
   "execution_count": 101,
   "id": "9b611182-298e-4ea0-8b37-494d3bfe13bc",
   "metadata": {},
   "outputs": [
    {
     "data": {
      "text/plain": [
       "'/Users/kadiryildirim/Library/CloudStorage/GoogleDrive-yildirimkdata@gmail.com/My Drive/Colab Notebooks/dosyalar_zip).zip'"
      ]
     },
     "execution_count": 101,
     "metadata": {},
     "output_type": "execute_result"
    }
   ],
   "source": [
    "shutil.make_archive(\"dosyalar_zip)\", \"zip\", \"dosyalar\")"
   ]
  },
  {
   "cell_type": "markdown",
   "id": "4d7517f4-1178-43f9-a5e9-6c7627e83887",
   "metadata": {},
   "source": [
    "As you can see, the .readline(13) reads 13 chars through the line and it continues to read 13 chars each until the line ends, and only then passes to the next line. In this example, considering the first line consists of 27 characters, the print(sea.readline(13)) syntax can read the entire line in a total of three repetitions. The output has two empty lines. One of them is caused by the last character (\\n) of the first line and the other is because of the default empty line that the .readline() method puts between each line."
   ]
  },
  {
   "cell_type": "markdown",
   "id": "a92e13f1-3528-4f20-b36f-5e3593cddf3e",
   "metadata": {},
   "source": [
    "**3. .readlines() :**\n",
    "\n",
    "And the third method in reading the files in Python is .readlines(). It reads the entire file line by line in the list form."
   ]
  },
  {
   "cell_type": "code",
   "execution_count": 24,
   "id": "0483ab9b-44f7-4289-9872-9a9209b4eaf7",
   "metadata": {},
   "outputs": [
    {
     "name": "stdout",
     "output_type": "stream",
     "text": [
      "['Orca is a kind of Dolphin.\\n', 'Blue Whale is the largest animal known on earth.\\n', 'Sharks are the sister group to the Rays (batoids).\\n', 'The Tuna Fish can weigh up to 260 kg.\\n', 'Squid and Octopus are in the same class.']\n"
     ]
    }
   ],
   "source": [
    "sea = open(\"fishes.txt\", 'r')   \n",
    "\n",
    "print(sea.readlines())\n",
    "\n",
    "sea.close()\n",
    "\n",
    "#  all lines are displayed as separate elements of a list. "
   ]
  },
  {
   "cell_type": "markdown",
   "id": "3d62a1ce-4361-4da1-8b6d-ac49b2f16dfd",
   "metadata": {},
   "source": [
    "The position of the stream (cursor) makes sense when using these methods. If we make the file read using one of these methods, each time we use the print(method) syntax it continues reading from where the cursor is. Let's take a look at the following example where .readline() and .readlines() are used together."
   ]
  },
  {
   "cell_type": "code",
   "execution_count": 103,
   "id": "c3ee939f-e457-4587-9077-7487f7b4ef67",
   "metadata": {},
   "outputs": [
    {
     "name": "stdout",
     "output_type": "stream",
     "text": [
      "Orca is a kind of Dolphin.\n",
      "\n",
      "['\\n', 'Blue Whale is the largest animal known on earth.\\n', '\\n', 'Sharks are the sister group to the Rays (batoids).\\n', '\\n', 'The Tuna Fish can weigh up to 260 kg.\\n', '\\n', 'Squid and Octopus are in the same class.\\n']\n"
     ]
    }
   ],
   "source": [
    "sea = open(\"fishes.txt\", 'r')   \n",
    "\n",
    "print(sea.readline())  # first line\n",
    "print(sea.readlines())  # the rest of the lines\n",
    "\n",
    "sea.close()"
   ]
  },
  {
   "cell_type": "code",
   "execution_count": 27,
   "id": "fc0c551f-3f11-4959-90f1-a15fb30a39d6",
   "metadata": {},
   "outputs": [
    {
     "name": "stdout",
     "output_type": "stream",
     "text": [
      "<class 'list'>\n"
     ]
    }
   ],
   "source": [
    "# the type of the sea.readlines() object is the list.\n",
    "\n",
    "sea = open(\"fishes.txt\", 'r')   \n",
    "\n",
    "print(type(sea.readlines()))\n",
    "\n",
    "sea.close()"
   ]
  },
  {
   "cell_type": "markdown",
   "id": "76d070ac-1338-4ab4-aa50-85547f7b49c6",
   "metadata": {},
   "source": [
    "Although it is very good to read relatively small files with this method, but when large files are involved, this method can be inefficient."
   ]
  },
  {
   "cell_type": "markdown",
   "id": "4c99d389-9f97-478e-afac-212445cc6211",
   "metadata": {},
   "source": [
    "**4. Using Loops :**\n",
    "\n",
    "As we stated before that we can apply different kinds of methods to the file-like object. Accordingly, the last method for reading a file is using the lines of the file-like object as an iterator. So the most efficient way to read the contents of a file is using the for loop. "
   ]
  },
  {
   "cell_type": "code",
   "execution_count": 28,
   "id": "dc0cade3-66db-47e4-89ba-0e2507ed9d71",
   "metadata": {},
   "outputs": [
    {
     "name": "stdout",
     "output_type": "stream",
     "text": [
      "Orca is a kind of Dolphin.\n",
      "\n",
      "Blue Whale is the largest animal known on earth.\n",
      "\n",
      "Sharks are the sister group to the Rays (batoids).\n",
      "\n",
      "The Tuna Fish can weigh up to 260 kg.\n",
      "\n",
      "Squid and Octopus are in the same class.\n"
     ]
    }
   ],
   "source": [
    "sea = open(\"fishes.txt\", 'r')   \n",
    "\n",
    "for line in sea:\n",
    "    print(line)\n",
    "\n",
    "sea.close()"
   ]
  },
  {
   "cell_type": "markdown",
   "id": "b0238062-df30-4923-a22e-7e9c759442a2",
   "metadata": {},
   "source": [
    "In this way, especially large text files can be read easily and practically. This method gives us the opportunity to read the line we want, as well as freeing us from syntax repetition.\n",
    "\n",
    "Since the type of sea.readlines() object is a list, we can use it as an iterator and read the whole file in the same way."
   ]
  },
  {
   "cell_type": "markdown",
   "id": "975880fb-ee15-4d96-928a-077739f217fb",
   "metadata": {},
   "source": [
    "# ⚠️Attention ! :\n",
    "**Do not leave the file open.**\n",
    "\n",
    "**Keep in mind that closing the file is paramount.**\n",
    "\n",
    "**file_name.close()**"
   ]
  },
  {
   "cell_type": "markdown",
   "id": "a4f7fa93-7e05-431f-a08f-c2792ddeecf1",
   "metadata": {},
   "source": [
    "# we can do the closing process with the close() method, but there is a slightly easier way to do this. Using the with .... as ... block. In fact, the actual use of the with ... as ... block is to make sure that all the necessary functions are called. \n",
    " \n",
    "  in this case, we don't need to use the close() method to close the file. It does this on its own."
   ]
  },
  {
   "cell_type": "code",
   "execution_count": 104,
   "id": "4a838f52-3b84-4997-a253-23dd4e252522",
   "metadata": {},
   "outputs": [
    {
     "name": "stdout",
     "output_type": "stream",
     "text": [
      "Orca is a kind of Dolphin.\n",
      "\n",
      "\n",
      "\n",
      "Blue Whale is the largest animal known on earth.\n",
      "\n",
      "\n",
      "\n",
      "Sharks are the sister group to the Rays (batoids).\n",
      "\n",
      "\n",
      "\n",
      "The Tuna Fish can weigh up to 260 kg.\n",
      "\n",
      "\n",
      "\n",
      "Squid and Octopus are in the same class.\n",
      "\n"
     ]
    }
   ],
   "source": [
    "# sea = open(\"fishes.txt\", 'r')  ya da with as ile yapalim\n",
    "\n",
    "with open(\"fishes.txt\", \"r\", encoding = \"utf-8\") as sea:\n",
    "\n",
    "    for line in sea.readlines():\n",
    "        print(line)\n",
    "\n",
    "# sea.close() with as oldugu icin gerek kalmaz buna"
   ]
  },
  {
   "cell_type": "code",
   "execution_count": 30,
   "id": "d16f4299-8aa9-44bd-bf5c-0b038e6ec456",
   "metadata": {},
   "outputs": [
    {
     "name": "stdout",
     "output_type": "stream",
     "text": [
      "Orca is a kind of Dolphin.\n",
      "Blue Whale is the largest animal known on earth.\n",
      "Sharks are the sister group to the Rays (batoids).\n",
      "The Tuna Fish can weigh up to 260 kg.\n",
      "Squid and Octopus are in the same class.\n"
     ]
    }
   ],
   "source": [
    "with open(\"fishes.txt\", \"r\") as sea:\n",
    "    print(sea.read())  # needs indented code block"
   ]
  },
  {
   "cell_type": "code",
   "execution_count": 68,
   "id": "b62d5bbc-3441-4433-96a9-52d4c7d5e870",
   "metadata": {},
   "outputs": [
    {
     "name": "stdout",
     "output_type": "stream",
     "text": [
      "Orca is a kind of Dolphin.\n",
      "\n",
      "Blue \n"
     ]
    }
   ],
   "source": [
    "with open(\"fishes.txt\", \"r\") as sea:\n",
    "    print(sea.read(33))  # needs indented code block\n",
    "    content_33 = sea.read(33)"
   ]
  },
  {
   "cell_type": "code",
   "execution_count": 70,
   "id": "93cd927f-f1d2-4b67-8203-68ea04ba02a8",
   "metadata": {},
   "outputs": [
    {
     "name": "stdout",
     "output_type": "stream",
     "text": [
      "Whale is the largest animal known\n"
     ]
    },
    {
     "data": {
      "text/plain": [
       "['Whale', 'is', 'the', 'largest', 'animal', 'known']"
      ]
     },
     "execution_count": 70,
     "metadata": {},
     "output_type": "execute_result"
    }
   ],
   "source": [
    "print(content_33)  # content_33 sonraki 33ü yazdırdı. cunku imlec/cursor 33 te kaldi, o da 34ten basladi\n",
    "content_33.split()"
   ]
  },
  {
   "cell_type": "code",
   "execution_count": 74,
   "id": "224f6f43-fc10-4af9-a83c-bf74c23339c6",
   "metadata": {},
   "outputs": [
    {
     "name": "stdout",
     "output_type": "stream",
     "text": [
      "Orca is a kind of Dolphin.\n",
      "\n",
      "Blue \n"
     ]
    }
   ],
   "source": [
    "with open(\"fishes.txt\", \"r\", encoding= \"utf-8\") as sea:\n",
    "    content = sea.read()\n",
    "print(content[:33])\n",
    "# istersek bu ornekte oldugu gibi bir variablea atayabilriz. content variable'ın içerigi bir string. dolayısıyla \n",
    "# stringle yapabildigimiz her islemi burda uygulayabilriz. DAta ile ugrasirken sıkça kullanılacak bu."
   ]
  },
  {
   "cell_type": "markdown",
   "id": "72c1aa26-5971-4f8c-b969-f5b5494f26fa",
   "metadata": {},
   "source": [
    "**Seek() methodu file objectlere dair bir metod. Cursoru istedigimiz yere goturmek icin kullanılır. Tell de cursorun nerede oldugunu soyler**"
   ]
  },
  {
   "cell_type": "code",
   "execution_count": 75,
   "id": "8216d333-f841-42ce-91f0-6d08a11032e7",
   "metadata": {},
   "outputs": [
    {
     "name": "stdout",
     "output_type": "stream",
     "text": [
      "Orca is a kind of Dolphin.\n",
      "\n",
      "Blue \n"
     ]
    }
   ],
   "source": [
    "with open(\"fishes.txt\", \"r\") as sea:\n",
    "    print(sea.read(33))"
   ]
  },
  {
   "cell_type": "code",
   "execution_count": 84,
   "id": "ff5ddd76-0ddf-4f66-95c4-ecb7d264b36b",
   "metadata": {},
   "outputs": [
    {
     "name": "stdout",
     "output_type": "stream",
     "text": [
      "Orca is a kind of Dolphin.\n",
      "\n",
      "Blue \n",
      "Whale is the la\n",
      "48\n",
      "Orca is a kind \n",
      "15\n"
     ]
    }
   ],
   "source": [
    "with open(\"fishes.txt\", \"r\") as sea:\n",
    "    sea.seek(0)  # başa alıyoruz\n",
    "    print(sea.read(33))\n",
    "    print(sea.read(15))\n",
    "    print(sea.tell())\n",
    "    sea.seek(0)\n",
    "    print(sea.read(15))\n",
    "    print(sea.tell())"
   ]
  },
  {
   "cell_type": "code",
   "execution_count": 87,
   "id": "be8de3ab-91f7-4424-9065-dd1bddd578a6",
   "metadata": {},
   "outputs": [
    {
     "name": "stdout",
     "output_type": "stream",
     "text": [
      "I want to sing\n",
      "Like the birds sin\n",
      "33\n"
     ]
    }
   ],
   "source": [
    "with open(\"rumi.txt\", \"r\", encoding = \"utf-8\") as rumi:\n",
    "    print(rumi.read(33))\n",
    "    print(rumi.tell())"
   ]
  },
  {
   "cell_type": "markdown",
   "id": "c7461aca-26c2-4b9f-b476-7dae4e5dbf14",
   "metadata": {},
   "source": [
    "# Writing Files\n",
    "\n",
    "**Writing to File with '.write()' Method**\n",
    "\n",
    "we have two most commonly used modes ('w' and 'a') that allow us to modify the files.\n",
    "\n",
    "**.write() Method :**\n",
    "\n",
    "\n",
    "As we mentioned earlier, we can overwrite a text to a file using 'w' mode, which means that every time we use 'w', the content of the file is deleted and new content is written. If there isn't any file then it will be created automatically.\n",
    "\n",
    "Note that;\n",
    "\n",
    "**Data in the other type that we intend to write to the file must be converted to string type before the writing process.**"
   ]
  },
  {
   "cell_type": "code",
   "execution_count": 31,
   "id": "4796de06-f019-4472-b9ec-bd7953e86991",
   "metadata": {},
   "outputs": [
    {
     "name": "stdout",
     "output_type": "stream",
     "text": [
      "This is the first line of my text file\n"
     ]
    }
   ],
   "source": [
    "# Let's create and write string data to a file. We're going to use .write() method for writing :\n",
    "\n",
    "with open(\"dummy_file.txt\", 'w', encoding=\"utf-8\") as file:  \n",
    "# we create and open the file\n",
    "\n",
    "    file.write('This is the first line of my text file')  \n",
    "    # writes str data into file\n",
    "\n",
    "with open(\"dummy_file.txt\", 'r', encoding=\"utf-8\") as file:\n",
    "    print(file.read())  # reads the content of the 'dummy_file'"
   ]
  },
  {
   "cell_type": "code",
   "execution_count": 42,
   "id": "95231607-65f7-4899-a2eb-de7b1c3aa982",
   "metadata": {},
   "outputs": [
    {
     "name": "stdout",
     "output_type": "stream",
     "text": [
      "yeni actim bu dosyayı ve write() uyguluyorum\n"
     ]
    }
   ],
   "source": [
    "with open(\"aaa.txt\", \"w\", encoding=\"utf-8\") as file:\n",
    "    \n",
    "    file.write(\"yeni actim bu dosyayı ve write() uyguluyorum\")\n",
    "\n",
    "with open(\"aaa.txt\", \"r\", encoding=\"utf-8\") as file:  # w kalmis r yapmamisim sürekli not readable erroru verdi\n",
    "    print(file.read())\n",
    "    "
   ]
  },
  {
   "cell_type": "markdown",
   "id": "c4073bbd-1b4c-4e1b-87dd-99a6360944ba",
   "metadata": {},
   "source": [
    "**When you write strings to a file using the .write() method, the string data is written exactly as it is. Whenever you use .write() method, each string joined together into one. Therefore you have to put newline characters (\\n), separators or spaces, etc. manually if you want.**"
   ]
  },
  {
   "cell_type": "code",
   "execution_count": 43,
   "id": "40c6a719-f937-4abd-93fc-7e63e23e0efa",
   "metadata": {},
   "outputs": [
    {
     "name": "stdout",
     "output_type": "stream",
     "text": [
      "My first sentenceMy second sentence,My third sentence\n",
      "My fourth sentence My last sentence\n"
     ]
    }
   ],
   "source": [
    "with open(\"dummy_file.txt\", 'w', encoding=\"utf-8\") as file:\n",
    "    file.write('My first sentence')\n",
    "    file.write('My second sentence,')\n",
    "    file.write('My third sentence\\n')\n",
    "    file.write('My fourth sentence ')\n",
    "    file.write('My last sentence')\n",
    "\n",
    "with open(\"dummy_file.txt\", 'r', encoding=\"utf-8\") as file:\n",
    "    print(file.read())"
   ]
  },
  {
   "cell_type": "code",
   "execution_count": 107,
   "id": "45778504-cd90-47a3-a6a3-51ae03367fac",
   "metadata": {},
   "outputs": [
    {
     "name": "stdout",
     "output_type": "stream",
     "text": [
      "7\n",
      "7\n",
      "6\n",
      "11\n",
      "7\n"
     ]
    }
   ],
   "source": [
    "fruits = ['Banana', 'Orange', 'Apple', 'Strawberry', 'Cherry']\n",
    "\n",
    "with open(\"fruitsss.txt\", \"w\", encoding = \"utf-8\") as delicious:\n",
    "    for meyve in fruits:\n",
    "        print(delicious.write(meyve + \"\\n\"))  # boyle yazdirinca length verdi."
   ]
  },
  {
   "cell_type": "code",
   "execution_count": 108,
   "id": "b3c0629c-9a2c-4284-8dc7-d8a3610096be",
   "metadata": {},
   "outputs": [
    {
     "name": "stdout",
     "output_type": "stream",
     "text": [
      "Banana\n",
      "Orange\n",
      "Apple\n",
      "Strawberry\n",
      "Cherry\n",
      "\n"
     ]
    }
   ],
   "source": [
    "with open(\"fruitsss.txt\", \"r\", encoding = \"utf-8\") as delicious:\n",
    "    print(delicious.read())"
   ]
  },
  {
   "cell_type": "code",
   "execution_count": 106,
   "id": "784a8ad6-45a7-484e-8693-65e4226daf87",
   "metadata": {},
   "outputs": [
    {
     "name": "stdout",
     "output_type": "stream",
     "text": [
      "38\n",
      "Banana\n",
      "Orange\n",
      "Apple\n",
      "Strawberry\n",
      "Cherry\n",
      "\n"
     ]
    }
   ],
   "source": [
    "fruits = ['Banana', 'Orange', 'Apple', 'Strawberry', 'Cherry']\n",
    "\n",
    "with open(\"fruitsss.txt\", \"w\", encoding = \"utf-8\") as delicious:\n",
    "    delicious.write(\"Banana\\nOrange\\nApple\\nStrawberry\\nCherry\\n\")  # print deyince len verir.\n",
    "\n",
    "with open(\"fruitsss.txt\", \"r\", encoding = \"utf-8\") as delicious:\n",
    "    print(delicious.read())"
   ]
  },
  {
   "cell_type": "code",
   "execution_count": 44,
   "id": "b3bfde8d-c892-4926-b9e0-c5ab8d43a78e",
   "metadata": {},
   "outputs": [
    {
     "name": "stdout",
     "output_type": "stream",
     "text": [
      "Banana\n",
      "Orange\n",
      "Apple\n",
      "Strawberry\n",
      "Cherry\n",
      "\n",
      "['Banana\\n', 'Orange\\n', 'Apple\\n', 'Strawberry\\n', 'Cherry\\n']\n"
     ]
    }
   ],
   "source": [
    "# Task: think of that we have a list of fruit names. \n",
    "# Let's write them to a file each on separate lines one after another.\n",
    "\n",
    "fruits = ['Banana', 'Orange', 'Apple', 'Strawberry', 'Cherry']\n",
    "\n",
    "with open(\"fruits.txt\", 'w', encoding=\"utf-8\") as file:\n",
    "    for basket in fruits:\n",
    "        file.write(basket + '\\n')  # adds a newline character to each string\n",
    "   \n",
    "with open(\"fruits.txt\", 'r', encoding=\"utf-8\") as file:\n",
    "    print(file.read())\n",
    "\n",
    "with open(\"fruits.txt\", 'r', encoding=\"utf-8\") as file:\n",
    "    print(file.readlines())  # reads and displays entire lines in a list"
   ]
  },
  {
   "cell_type": "markdown",
   "id": "8425e83b-ddf3-4bd9-b014-a5034c170bdb",
   "metadata": {},
   "source": [
    "# Writing to File with '.writelines' Method\n",
    "\n",
    "\n",
    "There is another method for writing data to the files. It is .writelines() method. Unlike .write() method, .writelines() takes the iterable sequence of strings and writes them to the file. The difference between these two methods is just similar to the logic of difference between .read() and .readlines()."
   ]
  },
  {
   "cell_type": "code",
   "execution_count": 45,
   "id": "87661b08-024d-48d2-838d-8d7867686458",
   "metadata": {},
   "outputs": [
    {
     "name": "stdout",
     "output_type": "stream",
     "text": [
      "Banana\n",
      "Orange\n",
      "Apple\n",
      "Strawberry\n",
      "Cherry\n",
      "\n",
      "['Banana\\n', 'Orange\\n', 'Apple\\n', 'Strawberry\\n', 'Cherry\\n']\n"
     ]
    }
   ],
   "source": [
    "fruits = ['Banana\\n', 'Orange\\n', 'Apple\\n', 'Strawberry\\n', 'Cherry\\n']\n",
    "\n",
    "with open(\"fruits.txt\", 'w', encoding=\"utf-8\") as file:\n",
    "    file.writelines(fruits)  # takes an iterator for writing\n",
    "   \n",
    "with open(\"fruits.txt\", 'r', encoding=\"utf-8\") as file:\n",
    "    print(file.read())\n",
    "\n",
    "with open(\"fruits.txt\", 'r', encoding=\"utf-8\") as file:\n",
    "    print(file.readlines())"
   ]
  },
  {
   "cell_type": "code",
   "execution_count": 132,
   "id": "38508402-a90d-42d7-84d1-95ea7eb63a43",
   "metadata": {},
   "outputs": [
    {
     "name": "stdout",
     "output_type": "stream",
     "text": [
      "red\n",
      "green\n",
      "yellow\n",
      "white\n",
      "black\n",
      "\n"
     ]
    }
   ],
   "source": [
    "# Task: write the colors in the list of colors to a file (new_file.txt) each on separate lines one after another.\n",
    "# colors = ['red', 'green', 'yellow', 'white', 'black']\n",
    "\n",
    "colors = ['red\\n', 'green\\n', 'yellow\\n', 'white\\n', 'black\\n']\n",
    "\n",
    "with open(\"new_file.txt\", \"w\", encoding = \"utf-8\") as file:\n",
    "    file.writelines(colors)  # writes each of the elements in a separate line\n",
    "\n",
    "with open(\"new_file.txt\", \"r\", encoding = \"utf-8\") as file:\n",
    "    print(file.read())\n"
   ]
  },
  {
   "cell_type": "markdown",
   "id": "443cc2cb-8ca3-4f45-9ad5-0188dbbde65d",
   "metadata": {},
   "source": [
    "In this writing method, which we do without using the for loop, the strings in the list must also include the separator chars such as \\n, \\t, space."
   ]
  },
  {
   "cell_type": "code",
   "execution_count": 49,
   "id": "ea59607e-d7e2-4ef5-b772-66d2cb50b005",
   "metadata": {},
   "outputs": [
    {
     "name": "stdout",
     "output_type": "stream",
     "text": [
      "Orca is a kind of Dolphin.\n",
      "\n",
      "Blue Whale is the largest animal known on earth.\n",
      "\n",
      "Sharks are the sister group to the Rays (batoids).\n",
      "\n",
      "The Tuna Fish can weigh up to 260 kg.\n",
      "\n",
      "Squid and Octopus are in the same class.\n",
      "\n"
     ]
    }
   ],
   "source": [
    "# Write a code that inserts a newline char \\n to between \n",
    "#lines of the text of the 'fishes.txt' file and reads the new content of that file. \n",
    "\n",
    "with open('fishes.txt', 'r', encoding = \"utf-8\") as sea:\n",
    "    fish_lines = sea.readlines()\n",
    "\n",
    "with open('fishes.txt', 'w', encoding = \"utf-8\") as sea:\n",
    "    for reef in fish_lines:\n",
    "        sea.write(reef + '\\n')\n",
    "        \n",
    "with open('fishes.txt', 'r', encoding = \"utf-8\") as sea:\n",
    "    print(sea.read())"
   ]
  },
  {
   "cell_type": "code",
   "execution_count": 52,
   "id": "77633cfc-c67e-4434-be6b-80500659a409",
   "metadata": {},
   "outputs": [
    {
     "name": "stdout",
     "output_type": "stream",
     "text": [
      "red\n",
      "green\n",
      "yellow\n",
      "white\n",
      "black\n",
      "\n"
     ]
    }
   ],
   "source": [
    "# listedeki strinleri aralarına \\n ekleyerek lines halinde gösterelim\n",
    "colors = ['red', 'green', 'yellow', 'white', 'black']\n",
    "\n",
    "with open(\"new_file.txt\", 'w', encoding=\"utf-8\") as file:\n",
    "    for line in colors:\n",
    "        file.write(line + \"\\n\")  # adds a newline character\n",
    "\n",
    "with open(\"new_file.txt\", \"r\", encoding = \"utf-8\") as file:\n",
    "    print(file.read())\n"
   ]
  },
  {
   "cell_type": "markdown",
   "id": "c745cc4e-5b29-41a5-a54d-cbff52a41909",
   "metadata": {},
   "source": [
    "# Appending to File using 'a' Mode\n",
    "\n",
    "Unlike the previous writing mode ('w'), in most cases when we want to add new content to a file, deleting the existing content is undesirable. Therefore, there is a need for another mode that both keeps the existing content of the file and saves the new content to the continuation of the file. In Python, we meet this need with 'a' mode which stands for append."
   ]
  },
  {
   "cell_type": "code",
   "execution_count": 53,
   "id": "8a2b3b10-f3fa-43f3-845e-3bf4f7984efb",
   "metadata": {},
   "outputs": [
    {
     "name": "stdout",
     "output_type": "stream",
     "text": [
      "Banana\n",
      "Orange\n",
      "Apple\n",
      "Strawberry\n",
      "Cherry\n",
      "\n",
      "Banana\n",
      "Orange\n",
      "Apple\n",
      "Strawberry\n",
      "Cherry\n",
      "Melon\n",
      "\n",
      "['Banana\\n', 'Orange\\n', 'Apple\\n', 'Strawberry\\n', 'Cherry\\n', 'Melon\\n']\n"
     ]
    }
   ],
   "source": [
    "# task: add melon to the fruits.txt file\n",
    "\n",
    "fruits = ['Banana\\n', 'Orange\\n', 'Apple\\n', 'Strawberry\\n', 'Cherry\\n']\n",
    "\n",
    "with open(\"fruits.txt\", 'w', encoding=\"utf-8\") as file:\n",
    "    file.writelines(fruits)  # creates a file containing the elements of the list\n",
    "\n",
    "with open(\"fruits.txt\", 'r', encoding=\"utf-8\") as file:\n",
    "    print(file.read())  # reads the content of the file\n",
    "\n",
    "with open(\"fruits.txt\", 'a', encoding=\"utf-8\") as file:\n",
    "    file.write('Melon\\n')  # adds \"Melon\" to the end of the existing file\n",
    "   \n",
    "with open(\"fruits.txt\", 'r', encoding=\"utf-8\") as file:\n",
    "    print(file.read())  # reads the last content of the file\n",
    "\n",
    "with open(\"fruits.txt\", 'r', encoding=\"utf-8\") as file:\n",
    "    print(file.readlines())"
   ]
  },
  {
   "cell_type": "code",
   "execution_count": 61,
   "id": "e7c429f4-08a8-4e11-9ed9-44524ac315c1",
   "metadata": {},
   "outputs": [
    {
     "name": "stdout",
     "output_type": "stream",
     "text": [
      "red\n",
      "green\n",
      "yellow\n",
      "white\n",
      "black\n",
      "blue\n"
     ]
    }
   ],
   "source": [
    "# Task: create a file named \"new_file.txt\" from the elements of the list of colors which displays in separate lines\n",
    "# and then add blue to this existing list without deleting its content and then display it..\n",
    "\n",
    "colors = ['red', 'green', 'yellow', 'white', 'black']\n",
    "\n",
    "with open(\"new_file.txt\", 'w', encoding=\"utf-8\") as file:\n",
    "    for i in colors:\n",
    "        file.write(i + '\\n')  # we create \"new_file.txt\" for you \n",
    "        \n",
    "with open(\"new_file.txt\", 'a', encoding=\"utf-8\") as file:\n",
    "    file.write(\"blue\")  # add \"blue\" to the end of the text\n",
    "\n",
    "\n",
    "with open(\"new_file.txt\", \"r\", encoding = \"utf-8\") as file:\n",
    "    print(file.read())"
   ]
  },
  {
   "cell_type": "code",
   "execution_count": null,
   "id": "9a002b15-7b26-4ff0-9794-4d65deed189f",
   "metadata": {},
   "outputs": [],
   "source": []
  },
  {
   "cell_type": "code",
   "execution_count": 57,
   "id": "71326bec-467a-42b5-864b-8b6de9d715c5",
   "metadata": {},
   "outputs": [
    {
     "name": "stdout",
     "output_type": "stream",
     "text": [
      "Hello Richard. This is my file.\n"
     ]
    }
   ],
   "source": [
    "# TASK:Create a file and write string data in it. Name your file new_file.txt  \n",
    "# The file should give the following output when read and printed as in the example box below. \n",
    "# Hello Richard. This is my file.\n",
    "\n",
    "with open(\"new_file.txt\", 'w', encoding=\"utf-8\") as my_file:  \n",
    "# create and open the file\n",
    "\n",
    "    my_file.write('Hello Richard. This is my file.')  \n",
    "    # write str data into the file\n",
    "\n",
    "with open(\"new_file.txt\", \"r\", encoding = \"utf-8\") as my_file:\n",
    "    print(my_file.read())"
   ]
  },
  {
   "cell_type": "code",
   "execution_count": null,
   "id": "8edd6bc2-a8ae-41b9-abcc-a4991912bf42",
   "metadata": {},
   "outputs": [],
   "source": []
  },
  {
   "cell_type": "code",
   "execution_count": 113,
   "id": "a33f5e76-b0a2-47e8-8cae-3881fc0d14f6",
   "metadata": {},
   "outputs": [],
   "source": [
    "with open(\"mars.txt\", \"w\", encoding = \"utf-8\") as file :\n",
    "    file.write(\"Korkma, sönmez bu şafaklarda yüzen al sancak;\\nSönmeden yurdumun üstünde tüten en son ocak.\\nO benim milletimin yıldızıdır, parlayacak;\\nKorkma, sönmez bu şafaklarda yüzen al sancak;\\nSönmeden yurdumun üstünde tüten en son ocak.\\nO benim milletimin yıldızıdır, parlayacak;\\nO benimdir, o benim milletimindir ancak.\\nÇatma, kurban olayım, çehreni ey nazlı hilal!\\nKahraman ırkıma bir gül! Ne bu şiddet, bu celal?\\nSana olmaz dökülen kanlarımız sonra helal...\\nHakkıdır, hakk'a tapan, milletimin istiklal!\\nBen ezelden beridir hür yaşadım, hür yaşarım.\\nHangi çılgın bana zincir vuracakmış? Şaşarım!\\nKükremiş sel gibiyim, bendimi çiğner, aşarım.\\nYırtarım dağları, enginlere sığmam, taşarım.\\nGarbın afakını sarmışsa çelik zırhlı duvar,\\nBenim iman dolu göğsüm gibi serhaddim var.\\nUlusun, korkma! Nasıl böyle bir imanı boğar,\\n'Medeniyet!' dediğin tek dişi kalmış canavar?\\nArkadaş! Yurduma alçakları uğratma, sakın.\\nSiper et gövdeni, dursun bu hayasızca akın.\\nDoğacaktır sana va'dettigi günler hakk'ın...\\nKim bilir, belki yarın, belki yarından da yakın.\\nBastığın yerleri 'toprak!' diyerek geçme, tanı:\\nDüşün altında binlerce kefensiz yatanı.\\nSen şehit oğlusun, incitme, yazıktır, atanı:\\nVerme, dünyaları alsan da, bu cennet vatanı.\\nKim bu cennet vatanın uğruna olmaz ki feda?\\nŞuheda fışkıracak toprağı sıksan, şuheda!\\nCanı, cananı, bütün varımı alsın da hüda,\\nEtmesin tek vatanımdan beni dünyada cüda.\\nRuhumun senden, ilahi, şudur ancak emeli:\\nDeğmesin mabedimin göğsüne namahrem eli.\\nBu ezanlar-ki şahadetleri dinin temeli,\\nEbedi yurdumun üstünde benim inlemeli.\")"
   ]
  },
  {
   "cell_type": "code",
   "execution_count": 114,
   "id": "d8ef0c82-c756-4101-afde-98694be31dd5",
   "metadata": {},
   "outputs": [
    {
     "name": "stdout",
     "output_type": "stream",
     "text": [
      "Korkma, sönmez bu şafaklarda yüzen al sancak;\n",
      "Sönmeden yurdumun üstünde tüten en son ocak.\n",
      "O benim milletimin yıldızıdır, parlayacak;\n",
      "Korkma, sönmez bu şafaklarda yüzen al sancak;\n",
      "Sönmeden yurdumun üstünde tüten en son ocak.\n",
      "O benim milletimin yıldızıdır, parlayacak;\n",
      "O benimdir, o benim milletimindir ancak.\n",
      "Çatma, kurban olayım, çehreni ey nazlı hilal!\n",
      "Kahraman ırkıma bir gül! Ne bu şiddet, bu celal?\n",
      "Sana olmaz dökülen kanlarımız sonra helal...\n",
      "Hakkıdır, hakk'a tapan, milletimin istiklal!\n",
      "Ben ezelden beridir hür yaşadım, hür yaşarım.\n",
      "Hangi çılgın bana zincir vuracakmış? Şaşarım!\n",
      "Kükremiş sel gibiyim, bendimi çiğner, aşarım.\n",
      "Yırtarım dağları, enginlere sığmam, taşarım.\n",
      "Garbın afakını sarmışsa çelik zırhlı duvar,\n",
      "Benim iman dolu göğsüm gibi serhaddim var.\n",
      "Ulusun, korkma! Nasıl böyle bir imanı boğar,\n",
      "'Medeniyet!' dediğin tek dişi kalmış canavar?\n",
      "Arkadaş! Yurduma alçakları uğratma, sakın.\n",
      "Siper et gövdeni, dursun bu hayasızca akın.\n",
      "Doğacaktır sana va'dettigi günler hakk'ın...\n",
      "Kim bilir, belki yarın, belki yarından da yakın.\n",
      "Bastığın yerleri 'toprak!' diyerek geçme, tanı:\n",
      "Düşün altında binlerce kefensiz yatanı.\n",
      "Sen şehit oğlusun, incitme, yazıktır, atanı:\n",
      "Verme, dünyaları alsan da, bu cennet vatanı.\n",
      "Kim bu cennet vatanın uğruna olmaz ki feda?\n",
      "Şuheda fışkıracak toprağı sıksan, şuheda!\n",
      "Canı, cananı, bütün varımı alsın da hüda,\n",
      "Etmesin tek vatanımdan beni dünyada cüda.\n",
      "Ruhumun senden, ilahi, şudur ancak emeli:\n",
      "Değmesin mabedimin göğsüne namahrem eli.\n",
      "Bu ezanlar-ki şahadetleri dinin temeli,\n",
      "Ebedi yurdumun üstünde benim inlemeli.\n"
     ]
    }
   ],
   "source": [
    "with open(\"mars.txt\", \"r\", encoding = \"utf-8\") as file:\n",
    "    print(file.read())"
   ]
  },
  {
   "cell_type": "code",
   "execution_count": 117,
   "id": "8dcb45ee-6e04-4529-abc3-d08395e8cdf9",
   "metadata": {},
   "outputs": [
    {
     "data": {
      "text/plain": [
       "['Korkma, sönmez bu şafaklarda yüzen al sancak;\\n',\n",
       " 'Sönmeden yurdumun üstünde tüten en son ocak.\\n',\n",
       " 'O benim milletimin yıldızıdır, parlayacak;\\n',\n",
       " 'Korkma, sönmez bu şafaklarda yüzen al sancak;\\n',\n",
       " 'Sönmeden yurdumun üstünde tüten en son ocak.\\n',\n",
       " 'O benim milletimin yıldızıdır, parlayacak;\\n',\n",
       " 'O benimdir, o benim milletimindir ancak.\\n',\n",
       " 'Çatma, kurban olayım, çehreni ey nazlı hilal!\\n',\n",
       " 'Kahraman ırkıma bir gül! Ne bu şiddet, bu celal?\\n',\n",
       " 'Sana olmaz dökülen kanlarımız sonra helal...\\n',\n",
       " \"Hakkıdır, hakk'a tapan, milletimin istiklal!\\n\",\n",
       " 'Ben ezelden beridir hür yaşadım, hür yaşarım.\\n',\n",
       " 'Hangi çılgın bana zincir vuracakmış? Şaşarım!\\n',\n",
       " 'Kükremiş sel gibiyim, bendimi çiğner, aşarım.\\n',\n",
       " 'Yırtarım dağları, enginlere sığmam, taşarım.\\n',\n",
       " 'Garbın afakını sarmışsa çelik zırhlı duvar,\\n',\n",
       " 'Benim iman dolu göğsüm gibi serhaddim var.\\n',\n",
       " 'Ulusun, korkma! Nasıl böyle bir imanı boğar,\\n',\n",
       " \"'Medeniyet!' dediğin tek dişi kalmış canavar?\\n\",\n",
       " 'Arkadaş! Yurduma alçakları uğratma, sakın.\\n',\n",
       " 'Siper et gövdeni, dursun bu hayasızca akın.\\n',\n",
       " \"Doğacaktır sana va'dettigi günler hakk'ın...\\n\",\n",
       " 'Kim bilir, belki yarın, belki yarından da yakın.\\n',\n",
       " \"Bastığın yerleri 'toprak!' diyerek geçme, tanı:\\n\",\n",
       " 'Düşün altında binlerce kefensiz yatanı.\\n',\n",
       " 'Sen şehit oğlusun, incitme, yazıktır, atanı:\\n',\n",
       " 'Verme, dünyaları alsan da, bu cennet vatanı.\\n',\n",
       " 'Kim bu cennet vatanın uğruna olmaz ki feda?\\n',\n",
       " 'Şuheda fışkıracak toprağı sıksan, şuheda!\\n',\n",
       " 'Canı, cananı, bütün varımı alsın da hüda,\\n',\n",
       " 'Etmesin tek vatanımdan beni dünyada cüda.\\n',\n",
       " 'Ruhumun senden, ilahi, şudur ancak emeli:\\n',\n",
       " 'Değmesin mabedimin göğsüne namahrem eli.\\n',\n",
       " 'Bu ezanlar-ki şahadetleri dinin temeli,\\n',\n",
       " 'Ebedi yurdumun üstünde benim inlemeli.']"
      ]
     },
     "execution_count": 117,
     "metadata": {},
     "output_type": "execute_result"
    }
   ],
   "source": [
    "with open(\"mars.txt\", \"r\", encoding = \"utf-8\") as file :\n",
    "    lines = file.readlines()\n",
    "\n",
    "lines"
   ]
  },
  {
   "cell_type": "code",
   "execution_count": 120,
   "id": "37a71ff5-22c9-445c-9abe-7e493a7c2ffb",
   "metadata": {},
   "outputs": [],
   "source": [
    "# Task: Put a space between the stanzas of the poem\n",
    "\n",
    "counter = 0\n",
    "\n",
    "with open(\"mars.txt\", \"w\", encoding=\"utf-8\") as file:\n",
    "    \n",
    "    for i in lines:\n",
    "        counter +=1\n",
    "        if counter % 4 == 0 :\n",
    "            file.write(i + \"\\n\")\n",
    "            \n",
    "        else:\n",
    "            file.write(i)"
   ]
  },
  {
   "cell_type": "code",
   "execution_count": 121,
   "id": "e2275821-d906-4d78-87fd-8fd814a1bcef",
   "metadata": {},
   "outputs": [
    {
     "name": "stdout",
     "output_type": "stream",
     "text": [
      "Korkma, sönmez bu şafaklarda yüzen al sancak;\n",
      "Sönmeden yurdumun üstünde tüten en son ocak.\n",
      "O benim milletimin yıldızıdır, parlayacak;\n",
      "Korkma, sönmez bu şafaklarda yüzen al sancak;\n",
      "\n",
      "Sönmeden yurdumun üstünde tüten en son ocak.\n",
      "O benim milletimin yıldızıdır, parlayacak;\n",
      "O benimdir, o benim milletimindir ancak.\n",
      "Çatma, kurban olayım, çehreni ey nazlı hilal!\n",
      "\n",
      "Kahraman ırkıma bir gül! Ne bu şiddet, bu celal?\n",
      "Sana olmaz dökülen kanlarımız sonra helal...\n",
      "Hakkıdır, hakk'a tapan, milletimin istiklal!\n",
      "Ben ezelden beridir hür yaşadım, hür yaşarım.\n",
      "\n",
      "Hangi çılgın bana zincir vuracakmış? Şaşarım!\n",
      "Kükremiş sel gibiyim, bendimi çiğner, aşarım.\n",
      "Yırtarım dağları, enginlere sığmam, taşarım.\n",
      "Garbın afakını sarmışsa çelik zırhlı duvar,\n",
      "\n",
      "Benim iman dolu göğsüm gibi serhaddim var.\n",
      "Ulusun, korkma! Nasıl böyle bir imanı boğar,\n",
      "'Medeniyet!' dediğin tek dişi kalmış canavar?\n",
      "Arkadaş! Yurduma alçakları uğratma, sakın.\n",
      "\n",
      "Siper et gövdeni, dursun bu hayasızca akın.\n",
      "Doğacaktır sana va'dettigi günler hakk'ın...\n",
      "Kim bilir, belki yarın, belki yarından da yakın.\n",
      "Bastığın yerleri 'toprak!' diyerek geçme, tanı:\n",
      "\n",
      "Düşün altında binlerce kefensiz yatanı.\n",
      "Sen şehit oğlusun, incitme, yazıktır, atanı:\n",
      "Verme, dünyaları alsan da, bu cennet vatanı.\n",
      "Kim bu cennet vatanın uğruna olmaz ki feda?\n",
      "\n",
      "Şuheda fışkıracak toprağı sıksan, şuheda!\n",
      "Canı, cananı, bütün varımı alsın da hüda,\n",
      "Etmesin tek vatanımdan beni dünyada cüda.\n",
      "Ruhumun senden, ilahi, şudur ancak emeli:\n",
      "\n",
      "Değmesin mabedimin göğsüne namahrem eli.\n",
      "Bu ezanlar-ki şahadetleri dinin temeli,\n",
      "Ebedi yurdumun üstünde benim inlemeli.\n"
     ]
    }
   ],
   "source": [
    "with open(\"mars.txt\", \"r\", encoding = \"utf-8\") as file :\n",
    "    print(file.read())"
   ]
  },
  {
   "cell_type": "code",
   "execution_count": 123,
   "id": "a1c0bca5-e1eb-410f-8543-2184e6ce4f6f",
   "metadata": {},
   "outputs": [
    {
     "data": {
      "text/plain": [
       "['Korkma, sönmez bu şafaklarda yüzen al sancak;\\n',\n",
       " 'Sönmeden yurdumun üstünde tüten en son ocak.\\n',\n",
       " 'O benim milletimin yıldızıdır, parlayacak;\\n',\n",
       " 'Korkma, sönmez bu şafaklarda yüzen al sancak;\\n',\n",
       " '\\n',\n",
       " 'Sönmeden yurdumun üstünde tüten en son ocak.\\n',\n",
       " 'O benim milletimin yıldızıdır, parlayacak;\\n',\n",
       " 'O benimdir, o benim milletimindir ancak.\\n',\n",
       " 'Çatma, kurban olayım, çehreni ey nazlı hilal!\\n',\n",
       " '\\n',\n",
       " 'Kahraman ırkıma bir gül! Ne bu şiddet, bu celal?\\n',\n",
       " 'Sana olmaz dökülen kanlarımız sonra helal...\\n',\n",
       " \"Hakkıdır, hakk'a tapan, milletimin istiklal!\\n\",\n",
       " 'Ben ezelden beridir hür yaşadım, hür yaşarım.\\n',\n",
       " '\\n',\n",
       " 'Hangi çılgın bana zincir vuracakmış? Şaşarım!\\n',\n",
       " 'Kükremiş sel gibiyim, bendimi çiğner, aşarım.\\n',\n",
       " 'Yırtarım dağları, enginlere sığmam, taşarım.\\n',\n",
       " 'Garbın afakını sarmışsa çelik zırhlı duvar,\\n',\n",
       " '\\n',\n",
       " 'Benim iman dolu göğsüm gibi serhaddim var.\\n',\n",
       " 'Ulusun, korkma! Nasıl böyle bir imanı boğar,\\n',\n",
       " \"'Medeniyet!' dediğin tek dişi kalmış canavar?\\n\",\n",
       " 'Arkadaş! Yurduma alçakları uğratma, sakın.\\n',\n",
       " '\\n',\n",
       " 'Siper et gövdeni, dursun bu hayasızca akın.\\n',\n",
       " \"Doğacaktır sana va'dettigi günler hakk'ın...\\n\",\n",
       " 'Kim bilir, belki yarın, belki yarından da yakın.\\n',\n",
       " \"Bastığın yerleri 'toprak!' diyerek geçme, tanı:\\n\",\n",
       " '\\n',\n",
       " 'Düşün altında binlerce kefensiz yatanı.\\n',\n",
       " 'Sen şehit oğlusun, incitme, yazıktır, atanı:\\n',\n",
       " 'Verme, dünyaları alsan da, bu cennet vatanı.\\n',\n",
       " 'Kim bu cennet vatanın uğruna olmaz ki feda?\\n',\n",
       " '\\n',\n",
       " 'Şuheda fışkıracak toprağı sıksan, şuheda!\\n',\n",
       " 'Canı, cananı, bütün varımı alsın da hüda,\\n',\n",
       " 'Etmesin tek vatanımdan beni dünyada cüda.\\n',\n",
       " 'Ruhumun senden, ilahi, şudur ancak emeli:\\n',\n",
       " '\\n',\n",
       " 'Değmesin mabedimin göğsüne namahrem eli.\\n',\n",
       " 'Bu ezanlar-ki şahadetleri dinin temeli,\\n',\n",
       " 'Ebedi yurdumun üstünde benim inlemeli.']"
      ]
     },
     "execution_count": 123,
     "metadata": {},
     "output_type": "execute_result"
    }
   ],
   "source": [
    "with open(\"mars.txt\", \"r\", encoding = \"utf-8\") as file :\n",
    "    lines_new = file.readlines()\n",
    "lines_new"
   ]
  },
  {
   "cell_type": "code",
   "execution_count": 126,
   "id": "c05480e6-fe4b-4549-a813-a516706d2af9",
   "metadata": {},
   "outputs": [
    {
     "name": "stdout",
     "output_type": "stream",
     "text": [
      "Korkma, sönmez bu şafaklarda yüzen al sancak;\n",
      "Sönmeden yurdumun üstünde tüten en son ocak.\n",
      "O benim milletimin yıldızıdır, parlayacak;\n",
      "Korkma, sönmez bu şafaklarda yüzen al sancak;\n",
      "\n",
      "Sönmeden yurdumun üstünde tüten en son ocak.\n",
      "O benim milletimin yıldızıdır, parlayacak;\n",
      "O benimdir, o benim milletimindir ancak.\n",
      "Çatma, kurban olayım, çehreni ey nazlı hilal!\n",
      "\n",
      "Kahraman ırkıma bir gül! Ne bu şiddet, bu celal?\n",
      "Sana olmaz dökülen kanlarımız sonra helal...\n",
      "Hakkıdır, hakk'a tapan, milletimin istiklal!\n",
      "Ben ezelden beridir hür yaşadım, hür yaşarım.\n",
      "\n",
      "Hangi çılgın bana zincir vuracakmış? Şaşarım!\n",
      "Kükremiş sel gibiyim, bendimi çiğner, aşarım.\n",
      "Yırtarım dağları, enginlere sığmam, taşarım.\n",
      "Garbın afakını sarmışsa çelik zırhlı duvar,\n",
      "\n",
      "Benim iman dolu göğsüm gibi serhaddim var.\n",
      "Ulusun, korkma! Nasıl böyle bir imanı boğar,\n",
      "'Medeniyet!' dediğin tek dişi kalmış canavar?\n",
      "Arkadaş! Yurduma alçakları uğratma, sakın.\n",
      "\n",
      "Siper et gövdeni, dursun bu hayasızca akın.\n",
      "Doğacaktır sana va'dettigi günler hakk'ın...\n",
      "Kim bilir, belki yarın, belki yarından da yakın.\n",
      "Bastığın yerleri 'toprak!' diyerek geçme, tanı:\n",
      "\n",
      "Düşün altında binlerce kefensiz yatanı.\n",
      "Sen şehit oğlusun, incitme, yazıktır, atanı:\n",
      "Verme, dünyaları alsan da, bu cennet vatanı.\n",
      "Kim bu cennet vatanın uğruna olmaz ki feda?\n",
      "\n",
      "Şuheda fışkıracak toprağı sıksan, şuheda!\n",
      "Canı, cananı, bütün varımı alsın da hüda,\n",
      "Etmesin tek vatanımdan beni dünyada cüda.\n",
      "Ruhumun senden, ilahi, şudur ancak emeli:\n",
      "\n",
      "Değmesin mabedimin göğsüne namahrem eli.\n",
      "Bu ezanlar-ki şahadetleri dinin temeli,\n",
      "Ebedi yurdumun üstünde benim inlemeli.Korkma, sönmez bu şafaklarda yüzen al sancak;\n",
      "Sönmeden yurdumun üstünde tüten en son ocak.\n",
      "O benim milletimin yıldızıdır, parlayacak;\n",
      "Korkma, sönmez bu şafaklarda yüzen al sancak;\n",
      "Sönmeden yurdumun üstünde tüten en son ocak.\n",
      "O benim milletimin yıldızıdır, parlayacak;\n",
      "O benimdir, o benim milletimindir ancak.\n",
      "Çatma, kurban olayım, çehreni ey nazlı hilal!\n",
      "Kahraman ırkıma bir gül! Ne bu şiddet, bu celal?\n",
      "Sana olmaz dökülen kanlarımız sonra helal...\n",
      "Hakkıdır, hakk'a tapan, milletimin istiklal!\n",
      "Ben ezelden beridir hür yaşadım, hür yaşarım.\n",
      "Hangi çılgın bana zincir vuracakmış? Şaşarım!\n",
      "Kükremiş sel gibiyim, bendimi çiğner, aşarım.\n",
      "Yırtarım dağları, enginlere sığmam, taşarım.\n",
      "Garbın afakını sarmışsa çelik zırhlı duvar,\n",
      "Benim iman dolu göğsüm gibi serhaddim var.\n",
      "Ulusun, korkma! Nasıl böyle bir imanı boğar,\n",
      "'Medeniyet!' dediğin tek dişi kalmış canavar?\n",
      "Arkadaş! Yurduma alçakları uğratma, sakın.\n",
      "Siper et gövdeni, dursun bu hayasızca akın.\n",
      "Doğacaktır sana va'dettigi günler hakk'ın...\n",
      "Kim bilir, belki yarın, belki yarından da yakın.\n",
      "Bastığın yerleri 'toprak!' diyerek geçme, tanı:\n",
      "Düşün altında binlerce kefensiz yatanı.\n",
      "Sen şehit oğlusun, incitme, yazıktır, atanı:\n",
      "Verme, dünyaları alsan da, bu cennet vatanı.\n",
      "Kim bu cennet vatanın uğruna olmaz ki feda?\n",
      "Şuheda fışkıracak toprağı sıksan, şuheda!\n",
      "Canı, cananı, bütün varımı alsın da hüda,\n",
      "Etmesin tek vatanımdan beni dünyada cüda.\n",
      "Ruhumun senden, ilahi, şudur ancak emeli:\n",
      "Değmesin mabedimin göğsüne namahrem eli.\n",
      "Bu ezanlar-ki şahadetleri dinin temeli,\n",
      "Ebedi yurdumun üstünde benim inlemeli.Korkma, sönmez bu şafaklarda yüzen al sancak;\n",
      "Sönmeden yurdumun üstünde tüten en son ocak.\n",
      "O benim milletimin yıldızıdır, parlayacak;\n",
      "Korkma, sönmez bu şafaklarda yüzen al sancak;\n",
      "Sönmeden yurdumun üstünde tüten en son ocak.\n",
      "O benim milletimin yıldızıdır, parlayacak;\n",
      "O benimdir, o benim milletimindir ancak.\n",
      "Çatma, kurban olayım, çehreni ey nazlı hilal!\n",
      "Kahraman ırkıma bir gül! Ne bu şiddet, bu celal?\n",
      "Sana olmaz dökülen kanlarımız sonra helal...\n",
      "Hakkıdır, hakk'a tapan, milletimin istiklal!\n",
      "Ben ezelden beridir hür yaşadım, hür yaşarım.\n",
      "Hangi çılgın bana zincir vuracakmış? Şaşarım!\n",
      "Kükremiş sel gibiyim, bendimi çiğner, aşarım.\n",
      "Yırtarım dağları, enginlere sığmam, taşarım.\n",
      "Garbın afakını sarmışsa çelik zırhlı duvar,\n",
      "Benim iman dolu göğsüm gibi serhaddim var.\n",
      "Ulusun, korkma! Nasıl böyle bir imanı boğar,\n",
      "'Medeniyet!' dediğin tek dişi kalmış canavar?\n",
      "Arkadaş! Yurduma alçakları uğratma, sakın.\n",
      "Siper et gövdeni, dursun bu hayasızca akın.\n",
      "Doğacaktır sana va'dettigi günler hakk'ın...\n",
      "Kim bilir, belki yarın, belki yarından da yakın.\n",
      "Bastığın yerleri 'toprak!' diyerek geçme, tanı:\n",
      "Düşün altında binlerce kefensiz yatanı.\n",
      "Sen şehit oğlusun, incitme, yazıktır, atanı:\n",
      "Verme, dünyaları alsan da, bu cennet vatanı.\n",
      "Kim bu cennet vatanın uğruna olmaz ki feda?\n",
      "Şuheda fışkıracak toprağı sıksan, şuheda!\n",
      "Canı, cananı, bütün varımı alsın da hüda,\n",
      "Etmesin tek vatanımdan beni dünyada cüda.\n",
      "Ruhumun senden, ilahi, şudur ancak emeli:\n",
      "Değmesin mabedimin göğsüne namahrem eli.\n",
      "Bu ezanlar-ki şahadetleri dinin temeli,\n",
      "Ebedi yurdumun üstünde benim inlemeli.\n"
     ]
    }
   ],
   "source": [
    "# en sonuna bir de normal new linessız append edelim\n",
    "with open(\"mars.txt\", \"a\", encoding=\"utf-8\") as f:\n",
    "    \n",
    "    for i in lines_new:\n",
    "        if i == \"\\n\" :\n",
    "            pass\n",
    "        else :\n",
    "            f.write(i)\n",
    "            \n",
    "with open(\"mars.txt\", \"r\", encoding = \"utf-8\") as file :\n",
    "    print(file.read())"
   ]
  },
  {
   "cell_type": "code",
   "execution_count": null,
   "id": "9cda2c9b-f368-4356-af68-0b59a56b1346",
   "metadata": {},
   "outputs": [],
   "source": []
  },
  {
   "cell_type": "code",
   "execution_count": null,
   "id": "95c65cf3-16b1-4a16-b7b2-e26f934577e8",
   "metadata": {},
   "outputs": [],
   "source": []
  }
 ],
 "metadata": {
  "kernelspec": {
   "display_name": "Python 3 (ipykernel)",
   "language": "python",
   "name": "python3"
  },
  "language_info": {
   "codemirror_mode": {
    "name": "ipython",
    "version": 3
   },
   "file_extension": ".py",
   "mimetype": "text/x-python",
   "name": "python",
   "nbconvert_exporter": "python",
   "pygments_lexer": "ipython3",
   "version": "3.9.12"
  }
 },
 "nbformat": 4,
 "nbformat_minor": 5
}
