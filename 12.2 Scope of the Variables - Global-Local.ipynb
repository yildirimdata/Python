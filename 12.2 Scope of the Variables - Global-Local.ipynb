{
 "cells": [
  {
   "cell_type": "markdown",
   "id": "1ff57f5d-5110-4ff9-86c1-714b79966ae2",
   "metadata": {},
   "source": [
    "# Scope of the Variables\n",
    "\n",
    "**What is Namespace?**\n",
    "\n",
    "A namespace is a system in which each object in Python has a separate name. An object could be a method or a variable. In other words, a namespace is a mapping from names to objects. Most namespaces are currently implemented as Python dictionaries.\n",
    "\n",
    "**What is Scope?**\n",
    "\n",
    "A scope is a concept describes where or in which space the variables are defined in the program stream. This concept has a significant place in programming. In other words, a scope is a textual region of a Python program where a namespace is directly accessible. \n",
    "The term scope is mostly related to nested functions, modules, and the main program flow in accordance with the use of variables. It describes the accessibility and the existence of a variable.\n",
    "\n",
    "A scope defines the hierarchical order in which the names of the variables have to exist in order to match names with the objects (variables)."
   ]
  },
  {
   "cell_type": "code",
   "execution_count": 5,
   "id": "f34e4a2c-1590-4805-bea2-4f6f4eacc732",
   "metadata": {},
   "outputs": [
    {
     "name": "stdout",
     "output_type": "stream",
     "text": [
      "inner variable\n",
      "outer variable\n"
     ]
    }
   ],
   "source": [
    "my_var = 'outer variable'\n",
    "\n",
    "def func_var(): \n",
    "\n",
    "\tmy_var= 'inner variable'\n",
    "\tprint(my_var) \n",
    "\n",
    "func_var() \n",
    "print(my_var)"
   ]
  },
  {
   "cell_type": "markdown",
   "id": "6a460e66-2303-4177-a385-e7fd2b1a079e",
   "metadata": {},
   "source": [
    "As you can see in the example, the name of the variable (my_var) has been used both in the function (func_var) and at the top of the main program stream. When you call the function (func_var) or print directly the variable (my_var), you were probably noticed that the same variable produces different outputs. This is because of the location (space) of that variable, that is, where or in which space it is defined in the program flow.\n",
    "\n",
    "When you define a variable in the Python program stream it is global or local, depending on in which space it is defined. \n",
    "\n",
    "**Global Variable**\n",
    "\n",
    "If the variable you define is at the highest level of a module, that variable becomes global. So you have the freedom to use this global variable in a block of code anywhere in your program.\n",
    "\n",
    "**Local Variable**\n",
    "\n",
    "The variables you have defined in a function body are local. The name of this variable is therefore only valid in the function body to which it is located."
   ]
  },
  {
   "cell_type": "code",
   "execution_count": 2,
   "id": "5faca552-679c-44c0-b628-5da69a71a0c8",
   "metadata": {},
   "outputs": [
    {
     "name": "stdout",
     "output_type": "stream",
     "text": [
      "I am the global one\n",
      "I am the global one\n",
      "The globals are valid everywhere \n",
      "I am the local one\n"
     ]
    }
   ],
   "source": [
    "text = \"I am the global one\"\n",
    " \n",
    "def global_func():\n",
    "    print(text)  # we can use 'text' in a function\n",
    "                 # because it's a global variable\n",
    "\n",
    "global_func()  # 'I am the global one' will be printed\n",
    "print(text)  # it can also be printed outside of the function\n",
    " \n",
    "text = \"The globals are valid everywhere \"\n",
    " \n",
    "global_func()  # we changed the value of 'text'\n",
    "# 'The globals are valid everywhere' will be printed\n",
    " \n",
    "def local_func():\n",
    "    local_text = \"I am the local one\"\n",
    "    print(local_text)  # local_text is a local variable\n",
    "\n",
    "local_func()  # 'I am the local one' will be printed as expected"
   ]
  },
  {
   "cell_type": "code",
   "execution_count": 3,
   "id": "6a794098-7d66-4e45-b9f5-5bf9f061304a",
   "metadata": {},
   "outputs": [
    {
     "ename": "NameError",
     "evalue": "name 'local_text' is not defined",
     "output_type": "error",
     "traceback": [
      "\u001b[0;31m---------------------------------------------------------------------------\u001b[0m",
      "\u001b[0;31mNameError\u001b[0m                                 Traceback (most recent call last)",
      "Input \u001b[0;32mIn [3]\u001b[0m, in \u001b[0;36m<cell line: 1>\u001b[0;34m()\u001b[0m\n\u001b[0;32m----> 1\u001b[0m \u001b[38;5;28mprint\u001b[39m(\u001b[43mlocal_text\u001b[49m)\n",
      "\u001b[0;31mNameError\u001b[0m: name 'local_text' is not defined"
     ]
    }
   ],
   "source": [
    "print(local_text)  # NameError will be raised\n",
    "# because we can't use local variable outside of its function"
   ]
  },
  {
   "cell_type": "markdown",
   "id": "169a1d53-84dd-4c6a-b09e-ebde57946cb7",
   "metadata": {},
   "source": [
    "In the above example, we have seen that a global variable can be accessed not only from the top-level of the module but also from the body of the function. On the other hand, a local variable is valid only in the function's body it is defined. So, it is accessible from inside the nearest scope level and can not be accessed from the outside."
   ]
  },
  {
   "cell_type": "markdown",
   "id": "ee7c42e8-2d6e-4ac6-9b68-3b299130a138",
   "metadata": {},
   "source": [
    "# LEGB Ranking Rule\n",
    "\n",
    "When you call an object (method or variable), the interpreter looks for its name in the following order:\n",
    "\n",
    "1-Locals. The space which is searched first, contains the local names defined in a function body.\n",
    "\n",
    "2-Enclosing. The scopes of any enclosing functions, which are searched starting with the nearest enclosing scope (from inner to outer), contains non-local, but also non-global names.\n",
    "\n",
    "3-Globals. It contains the current module’s global names. The variables defined at the top-level of its module.\n",
    "\n",
    "4- Built-in. The outermost scope (searched last) is the namespace containing built-in names."
   ]
  },
  {
   "cell_type": "code",
   "execution_count": 4,
   "id": "0b295693-dbdf-4b72-98a5-9dba11f011f4",
   "metadata": {},
   "outputs": [
    {
     "name": "stdout",
     "output_type": "stream",
     "text": [
      "local\n",
      "global\n"
     ]
    }
   ],
   "source": [
    "variable = \"global\"\n",
    "\n",
    "def func_outer():\n",
    "    variable = \"enclosing outer local\"\n",
    "    def func_inner():\n",
    "        variable = \"enclosing inner local\"\n",
    "        def func_local():\n",
    "            variable = \"local\"\n",
    "            print(variable)\n",
    "        func_local()\n",
    "    func_inner()\n",
    " \n",
    "func_outer()  # prints 'local' defined in the innermost function\n",
    "print(variable)  # 'global' level variable holds its value"
   ]
  },
  {
   "cell_type": "markdown",
   "id": "156825cb-4a58-43d3-88d0-394fa61d64c3",
   "metadata": {},
   "source": [
    "In this example, during the execution of the code lines, the interpreter has to resolve the name 'variable'.  The searching order of the variable names will be as follows : 'local' in func_local, 'enclosing inner local' in func_inner, 'enclosing outer local' in func_outer, globals and built-in names.\n"
   ]
  },
  {
   "cell_type": "markdown",
   "id": "390761c7-6c76-46a7-a31e-21b69b1e0404",
   "metadata": {},
   "source": [
    "# 'global' and 'nonlocal'\n",
    "\n",
    "\n",
    "We know that a variable defined in a function body becomes local. In some cases, we want to work with the variables defined as a global scope in the function body. Normally they are perceived globally and processed accordingly.\n",
    "\n",
    "Or we may need to work with the nonlocal variables in the function body. The keywords global and nonlocal save us from these restrictions. \n",
    "\n",
    "**Keyword 'global'**\n",
    "\n",
    "We can not change the value assigned to a globally defined variable within a function. To do this we use the keyword global."
   ]
  },
  {
   "cell_type": "code",
   "execution_count": 5,
   "id": "efef2988-943f-4f00-9efa-2964b3ec9a9b",
   "metadata": {},
   "outputs": [
    {
     "name": "stdout",
     "output_type": "stream",
     "text": [
      "1\n",
      "\n"
     ]
    },
    {
     "ename": "UnboundLocalError",
     "evalue": "local variable 'count' referenced before assignment",
     "output_type": "error",
     "traceback": [
      "\u001b[0;31m---------------------------------------------------------------------------\u001b[0m",
      "\u001b[0;31mUnboundLocalError\u001b[0m                         Traceback (most recent call last)",
      "Input \u001b[0;32mIn [5]\u001b[0m, in \u001b[0;36m<cell line: 13>\u001b[0;34m()\u001b[0m\n\u001b[1;32m     10\u001b[0m     count \u001b[38;5;241m+\u001b[39m\u001b[38;5;241m=\u001b[39m \u001b[38;5;241m1\u001b[39m  \u001b[38;5;66;03m# we're trying to change its value\u001b[39;00m\n\u001b[1;32m     12\u001b[0m \u001b[38;5;28mprint\u001b[39m()  \u001b[38;5;66;03m# just empty line\u001b[39;00m\n\u001b[0;32m---> 13\u001b[0m \u001b[43mcounter\u001b[49m\u001b[43m(\u001b[49m\u001b[43m)\u001b[49m\n",
      "Input \u001b[0;32mIn [5]\u001b[0m, in \u001b[0;36mcounter\u001b[0;34m()\u001b[0m\n\u001b[1;32m      8\u001b[0m \u001b[38;5;28;01mdef\u001b[39;00m \u001b[38;5;21mcounter\u001b[39m():\n\u001b[0;32m----> 9\u001b[0m     \u001b[38;5;28mprint\u001b[39m(\u001b[43mcount\u001b[49m)\n\u001b[1;32m     10\u001b[0m     count \u001b[38;5;241m+\u001b[39m\u001b[38;5;241m=\u001b[39m \u001b[38;5;241m1\u001b[39m\n",
      "\u001b[0;31mUnboundLocalError\u001b[0m: local variable 'count' referenced before assignment"
     ]
    }
   ],
   "source": [
    "count = 1\n",
    "\n",
    "def print_global():\n",
    "    print(count)\n",
    " \n",
    "print_global()\n",
    " \n",
    "def counter():\n",
    "    print(count)\n",
    "    count += 1  # we're trying to change its value\n",
    " \n",
    "print()  # just empty line\n",
    "counter() "
   ]
  },
  {
   "cell_type": "markdown",
   "id": "e35c0531-48fd-48d1-85d9-d6272f2c884f",
   "metadata": {},
   "source": [
    "As you can see in the example above, if you try to assign a value contains local variable expressions to a global variable within a function, UnboundLocalError will raise. We've tried to assign a value to the count variable using an expression that contains the count variable. This is because the interpreter can't find this variable in the local scope. So, let's use the keyword global to solve this problem."
   ]
  },
  {
   "cell_type": "code",
   "execution_count": 6,
   "id": "dabe4c29-13f1-4daa-9e62-76dba50d15a3",
   "metadata": {},
   "outputs": [
    {
     "name": "stdout",
     "output_type": "stream",
     "text": [
      "1\n",
      "2\n",
      "3\n"
     ]
    }
   ],
   "source": [
    "count = 1\n",
    "\n",
    "def counter():\n",
    "    global count  # we've changed its scope\n",
    "    print(count)  # it's global anymore\n",
    "    count += 1\n",
    " \n",
    "counter() \n",
    "counter()\n",
    "counter()"
   ]
  },
  {
   "cell_type": "markdown",
   "id": "66d6a73f-023c-465a-bad0-e8da73b9a819",
   "metadata": {},
   "source": [
    "**Keyword 'nonlocal'**\n",
    "\n",
    "On the other hand, you can use the keyword nonlocal to extend the scope of the local variable to an upper scope. Consider the examples of nonlocalization :"
   ]
  },
  {
   "cell_type": "code",
   "execution_count": 6,
   "id": "9f8caece-1a4a-402c-86c0-f51467a93f7e",
   "metadata": {},
   "outputs": [
    {
     "name": "stdout",
     "output_type": "stream",
     "text": [
      "inner: inner variable 2\n",
      "outer: outer variable 1\n"
     ]
    }
   ],
   "source": [
    "def func_enclosing1():\n",
    "    x = 'outer variable'\n",
    "    def func_enclosing2():\n",
    "        x = 'inner variable'\n",
    "        print(\"inner:\", x)\n",
    "    func_enclosing2()\n",
    "    print(\"outer:\", x)\n",
    "\n",
    "func_enclosing1() "
   ]
  },
  {
   "cell_type": "code",
   "execution_count": 8,
   "id": "c1e2ca84-05e6-4bf2-8022-549446d9e66c",
   "metadata": {},
   "outputs": [
    {
     "name": "stdout",
     "output_type": "stream",
     "text": [
      "inner: inner variable\n",
      "outer: inner variable\n"
     ]
    }
   ],
   "source": [
    "# We will make the variable x nonlocal so we can use its inner-value in the outer function (scope). Let's see.\n",
    "def enclosing_func1():\n",
    "    x = 'outer variable'\n",
    "    def enclosing_func2():\n",
    "        nonlocal x  # its inner-value can be used in the outer scope\n",
    "        x = 'inner variable'\n",
    "        print(\"inner:\", x)\n",
    "    enclosing_func2()\n",
    "    print(\"outer:\", x)\n",
    "\n",
    "enclosing_func1() "
   ]
  },
  {
   "cell_type": "code",
   "execution_count": null,
   "id": "adc2aef0-abea-4cdd-bf04-c87010eae9a5",
   "metadata": {},
   "outputs": [],
   "source": []
  }
 ],
 "metadata": {
  "kernelspec": {
   "display_name": "Python 3 (ipykernel)",
   "language": "python",
   "name": "python3"
  },
  "language_info": {
   "codemirror_mode": {
    "name": "ipython",
    "version": 3
   },
   "file_extension": ".py",
   "mimetype": "text/x-python",
   "name": "python",
   "nbconvert_exporter": "python",
   "pygments_lexer": "ipython3",
   "version": "3.9.12"
  }
 },
 "nbformat": 4,
 "nbformat_minor": 5
}
