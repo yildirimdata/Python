{
 "cells": [
  {
   "cell_type": "markdown",
   "id": "d30baefc-23b9-4645-a7b4-e0d8d937ad60",
   "metadata": {},
   "source": [
    "**Built-in Functions**\n",
    "\n",
    "In the latest version of Python there are 71 built-in functions: \n",
    "\n",
    "- **Some of them return bool type according to the conditional algorithm in it.** For example; all(iterable), any(iterable), and callable(object).\n",
    "\n",
    "- **Some of them help you convert data types into each other**. For example; bool(), float(), int(), and str().\n",
    "\n",
    "- **Some others allow you to create and process the collection types**. Such as : dict(), list(), tuple(), set(), len(), frozenset(), zip(), filter(function, iterable), and enumerate(iterable).\n",
    "\n",
    "- **Some others tackle numbers**. Such as : max(), min(), sum(), and round().\n",
    "\n",
    "- **The others are built for special purposes. They do some complicated implementations**. For example : map(function, iterable, ...), eval(expression[, globals[, locals]]), sorted(iterable), open(), dir([object]), hash(), and help([object])."
   ]
  },
  {
   "cell_type": "markdown",
   "id": "d4219b0c-c9ef-4a5b-802c-0803af5e902b",
   "metadata": {},
   "source": [
    "**all()**\n",
    "\n",
    "The all() function returns True if all items in an iterable are true, otherwise it returns False.\n",
    "\n",
    "If the iterable object is empty, the all() function also returns True.\n",
    "\n",
    "syntax: **all(iterable)**"
   ]
  },
  {
   "cell_type": "code",
   "execution_count": null,
   "id": "369cca1e-4420-405c-a968-d627669d6432",
   "metadata": {},
   "outputs": [],
   "source": []
  },
  {
   "cell_type": "code",
   "execution_count": 2,
   "id": "5e7bb5c0-12c8-4d5c-829e-790e3c5c8049",
   "metadata": {},
   "outputs": [
    {
     "data": {
      "text/plain": [
       "True"
      ]
     },
     "execution_count": 2,
     "metadata": {},
     "output_type": "execute_result"
    }
   ],
   "source": [
    "# Empty iterable returns true. for ex. empty = {}\n",
    "liste = [\"a\", \"b\", \"c\"]\n",
    "all(liste)"
   ]
  },
  {
   "cell_type": "code",
   "execution_count": 3,
   "id": "a4bf8941-f941-4da9-b199-7386a879a5e7",
   "metadata": {},
   "outputs": [
    {
     "name": "stdout",
     "output_type": "stream",
     "text": [
      "False\n",
      "False\n",
      "False\n"
     ]
    }
   ],
   "source": [
    "mytuple = (0, True, False)\n",
    "x = all(mytuple)\n",
    "print(x)\n",
    "mydict = {0 : \"Apple\", 1 : \"Orange\"}\n",
    "x = all(mydict)\n",
    "print(x)\n",
    "myset = {0, 1, 0}\n",
    "x = all(myset)\n",
    "print(x)"
   ]
  },
  {
   "cell_type": "markdown",
   "id": "8496ef68-95c3-4787-ab88-0ff0b32a8857",
   "metadata": {},
   "source": [
    "**any()**\n",
    "\n",
    "The any() function returns True if any item in an iterable are true, otherwise it returns False.\n",
    "\n",
    "If the iterable object is empty, the any() function will return False."
   ]
  },
  {
   "cell_type": "code",
   "execution_count": 4,
   "id": "d6765b87-3517-41d9-8f7c-0a3c300fe827",
   "metadata": {},
   "outputs": [
    {
     "name": "stdout",
     "output_type": "stream",
     "text": [
      "True\n",
      "True\n",
      "True\n"
     ]
    }
   ],
   "source": [
    "mytuple = (0, 1, False)\n",
    "x = any(mytuple)\n",
    "print(x)\n",
    "mydict = {0 : \"Apple\", 1 : \"Orange\"}\n",
    "x = any(mydict)\n",
    "print(x)\n",
    "myset = {0, 1, 0}\n",
    "x = any(myset)\n",
    "print(x)"
   ]
  },
  {
   "cell_type": "markdown",
   "id": "e413bfed-0c5a-41d6-9b77-6771c9d13618",
   "metadata": {},
   "source": [
    "**filter()**\n",
    "\n",
    "The filter() function extracts elements from an iterable (list, tuple etc.) for which a function returns True.\n",
    "\n",
    "syntax : filter(function, iterable)\n",
    "\n",
    "The filter() function takes two arguments:\n",
    "\n",
    "function - a function\n",
    "iterable - an iterable like sets, lists, tuples etc.\n",
    "\n",
    "You can easily convert iterators to sequences like lists, tuples, strings etc."
   ]
  },
  {
   "cell_type": "code",
   "execution_count": 5,
   "id": "52ee0c65-bb97-459f-b607-3300c856117e",
   "metadata": {},
   "outputs": [
    {
     "name": "stdout",
     "output_type": "stream",
     "text": [
      "the filtered elements are : \n",
      "susan\n",
      "tom\n",
      "0\n"
     ]
    }
   ],
   "source": [
    "listA = [\"susan\", \"tom\", False, 0, \"0\"]\n",
    "filter(None, listA)  # böyle çalıştırınca on the air object oluşturur\n",
    "filtered_list = filter(None, listA)\n",
    "print(\"the filtered elements are : \")\n",
    "for i in filtered_list:\n",
    "  print(i)"
   ]
  },
  {
   "cell_type": "code",
   "execution_count": 1,
   "id": "dd7185a9-a42f-4d25-aa2f-99340c5934a1",
   "metadata": {},
   "outputs": [
    {
     "name": "stdout",
     "output_type": "stream",
     "text": [
      "[2, 4, 6, 8, 10]\n",
      "[1, 3, 5, 7, 9]\n"
     ]
    }
   ],
   "source": [
    "numbers = [1, 2, 3, 4, 5, 6, 7, 8, 9, 10]\n",
    "# returns True if number is even\n",
    "def check_even(number):\n",
    "    if number % 2 == 0:\n",
    "          return True  \n",
    "    return False\n",
    "\n",
    "# Extract elements from the numbers list for which check_even() returns True\n",
    "even_numbers_iterator = filter(check_even, numbers)\n",
    "\n",
    "# converting to list\n",
    "even_numbers = list(even_numbers_iterator)\n",
    "\n",
    "print(even_numbers)\n",
    "\n",
    "def check_odd(number):\n",
    "  if number%2 == 1:\n",
    "    return True\n",
    "  return False\n",
    "\n",
    "odd_numbers_iterator = filter(check_odd, numbers)\n",
    "odd_numbers = list(odd_numbers_iterator)\n",
    "print(odd_numbers)"
   ]
  },
  {
   "cell_type": "markdown",
   "id": "17db46db-1c2f-4f55-872c-885a2dd3f9ed",
   "metadata": {},
   "source": [
    "**If you use the None as a function argument,** the filter method will **remove any element from the iterable that it considers to be false**. Some examples of such elements are empty strings, 0, empty braces, boolean False, etc. Let’s check out the below example."
   ]
  },
  {
   "cell_type": "code",
   "execution_count": 3,
   "id": "2c30b8a9-5fe3-4663-b2b9-50e419af7fe4",
   "metadata": {},
   "outputs": [
    {
     "name": "stdout",
     "output_type": "stream",
     "text": [
      "5 -23 True "
     ]
    }
   ],
   "source": [
    "# sadece true olanları filtreleyin\n",
    "\n",
    "my_list = [5, -23, \"\", True, False, 0, 0.0, {}, []]\n",
    "\n",
    "filtered_object = filter(None, my_list)\n",
    "\n",
    "for element in filtered_object:\n",
    "    print(element, end = \" \")"
   ]
  },
  {
   "cell_type": "code",
   "execution_count": 27,
   "id": "c48d31ca-da2f-4240-b3c7-8ebe6074697c",
   "metadata": {},
   "outputs": [
    {
     "name": "stdout",
     "output_type": "stream",
     "text": [
      "[{'Title': 'Gone Girl', 'Author': 'Gillian Flynn', 'Price': 730}, {'Title': 'The Silent Patient', 'Author': 'Alex Michaelidis', 'Price': 945}]\n"
     ]
    }
   ],
   "source": [
    "# Task: filter out the names of books that are costlier than 500.\n",
    "\n",
    "books = [\n",
    "\n",
    "   {\"Title\":\"Angels and Demons\", \"Author\":\"Dan Brown\", \"Price\":500},\n",
    "\n",
    "   {\"Title\":\"Gone Girl\", \"Author\":\"Gillian Flynn\", \"Price\":730},\n",
    "\n",
    "   {\"Title\":\"The Silent Patient\", \"Author\":\"Alex Michaelidis\", \"Price\":945},\n",
    "\n",
    "   {\"Title\":\"Before I Go To Sleep\", \"Author\":\"S.J Watson\", \"Price\":400}\n",
    "\n",
    "   ]\n",
    "\n",
    "def func(book):\n",
    "    if book[\"Price\"] > 500:\n",
    "        return True\n",
    "    else:\n",
    "        return False\n",
    "\n",
    "filtered_object = filter(func, books)\n",
    "for i in filtered_object:\n",
    "    print(i[\"Title\"])     "
   ]
  },
  {
   "cell_type": "code",
   "execution_count": 25,
   "id": "3deef67c-fa02-4759-b0fe-da80eda8ed31",
   "metadata": {},
   "outputs": [
    {
     "ename": "TypeError",
     "evalue": "list indices must be integers or slices, not str",
     "output_type": "error",
     "traceback": [
      "\u001b[0;31m---------------------------------------------------------------------------\u001b[0m",
      "\u001b[0;31mTypeError\u001b[0m                                 Traceback (most recent call last)",
      "Input \u001b[0;32mIn [25]\u001b[0m, in \u001b[0;36m<cell line: 16>\u001b[0;34m()\u001b[0m\n\u001b[1;32m     14\u001b[0m         \u001b[38;5;28;01mif\u001b[39;00m book[\u001b[38;5;124m\"\u001b[39m\u001b[38;5;124mPrice\u001b[39m\u001b[38;5;124m\"\u001b[39m] \u001b[38;5;241m>\u001b[39m \u001b[38;5;241m500\u001b[39m:\n\u001b[1;32m     15\u001b[0m             \u001b[38;5;28;01mreturn\u001b[39;00m book[\u001b[38;5;124m\"\u001b[39m\u001b[38;5;124mTitle\u001b[39m\u001b[38;5;124m\"\u001b[39m]\n\u001b[0;32m---> 16\u001b[0m \u001b[43mprice_func\u001b[49m\u001b[43m(\u001b[49m\u001b[43mbooks\u001b[49m\u001b[43m)\u001b[49m\n",
      "Input \u001b[0;32mIn [25]\u001b[0m, in \u001b[0;36mprice_func\u001b[0;34m(book)\u001b[0m\n\u001b[1;32m     12\u001b[0m \u001b[38;5;28;01mdef\u001b[39;00m \u001b[38;5;21mprice_func\u001b[39m(book):\n\u001b[1;32m     13\u001b[0m     \u001b[38;5;28;01mfor\u001b[39;00m i \u001b[38;5;129;01min\u001b[39;00m \u001b[38;5;28mrange\u001b[39m(\u001b[38;5;28mlen\u001b[39m(book)):\n\u001b[0;32m---> 14\u001b[0m         \u001b[38;5;28;01mif\u001b[39;00m \u001b[43mbook\u001b[49m\u001b[43m[\u001b[49m\u001b[38;5;124;43m\"\u001b[39;49m\u001b[38;5;124;43mPrice\u001b[39;49m\u001b[38;5;124;43m\"\u001b[39;49m\u001b[43m]\u001b[49m \u001b[38;5;241m>\u001b[39m \u001b[38;5;241m500\u001b[39m:\n\u001b[1;32m     15\u001b[0m             \u001b[38;5;28;01mreturn\u001b[39;00m book[\u001b[38;5;124m\"\u001b[39m\u001b[38;5;124mTitle\u001b[39m\u001b[38;5;124m\"\u001b[39m]\n",
      "\u001b[0;31mTypeError\u001b[0m: list indices must be integers or slices, not str"
     ]
    }
   ],
   "source": [
    "books = [\n",
    "\n",
    "   {\"Title\":\"Angels and Demons\", \"Author\":\"Dan Brown\", \"Price\":500},\n",
    "\n",
    "   {\"Title\":\"Gone Girl\", \"Author\":\"Gillian Flynn\", \"Price\":730},\n",
    "\n",
    "   {\"Title\":\"The Silent Patient\", \"Author\":\"Alex Michaelidis\", \"Price\":945},\n",
    "\n",
    "   {\"Title\":\"Before I Go To Sleep\", \"Author\":\"S.J Watson\", \"Price\":400}\n",
    "\n",
    "   ]\n",
    "def price_func(book):\n",
    "    for i in range(len(book)):\n",
    "        if book[\"Price\"] > 500:\n",
    "            return book[\"Title\"]\n",
    "price_func(books)"
   ]
  },
  {
   "cell_type": "markdown",
   "id": "c5624877-3ee2-40be-8b3b-f0ef4530401b",
   "metadata": {},
   "source": [
    "**ENUMERATE()**\n",
    "\n",
    "Often, when dealing with iterators, we also get need to keep a count of iterations. Python eases the programmers’ task by providing a built-in function enumerate() for this task. Enumerate() method adds a counter to an iterable and returns it in a form of enumerating object. This enumerated object can then be used directly for loops or converted into a list of tuples using the list() method.\n",
    "\n",
    "Syntax: \n",
    "\n",
    "**enumerate(iterable, start=0)**\n",
    "\n",
    "**Parameters:**\n",
    "\n",
    "Iterable: any object that supports iteration\n",
    "Start: the index value from which the counter is to be started, by default it is 0"
   ]
  },
  {
   "cell_type": "code",
   "execution_count": 37,
   "id": "f572871e-40d6-49ad-8b5e-94fba1c915eb",
   "metadata": {},
   "outputs": [
    {
     "name": "stdout",
     "output_type": "stream",
     "text": [
      "[(0, 'ali'), (1, 'veli'), (2, 'deli')]\n"
     ]
    }
   ],
   "source": [
    "names = [\"ali\", \"veli\", \"deli\"]\n",
    "print(list(enumerate(names)))  # namesden sonra , 5 yazarsak 5ten başlara numaralandırmaya"
   ]
  },
  {
   "cell_type": "code",
   "execution_count": 35,
   "id": "42dbb358-8974-40a2-b458-9c807e76c8ac",
   "metadata": {},
   "outputs": [
    {
     "name": "stdout",
     "output_type": "stream",
     "text": [
      "[(0, 'ali'), (1, 'veli'), (2, 'deli')]\n"
     ]
    }
   ],
   "source": [
    "# bu yukardakinin klasik uzun yolu\n",
    "names = [\"ali\", \"veli\", \"deli\"]\n",
    "sayac = 0\n",
    "liste= []\n",
    "for i in names:\n",
    "    liste.append((sayac, i))\n",
    "    sayac += 1\n",
    "print(liste)\n",
    "\n"
   ]
  },
  {
   "cell_type": "code",
   "execution_count": 7,
   "id": "b5575265-9c57-4a58-9553-748d811b9144",
   "metadata": {},
   "outputs": [
    {
     "name": "stdout",
     "output_type": "stream",
     "text": [
      "Return type: <class 'enumerate'>\n",
      "[(0, 'eat'), (1, 'sleep'), (2, 'repeat')]\n",
      "[(2, 'g'), (3, 'e'), (4, 'e'), (5, 'k')]\n"
     ]
    }
   ],
   "source": [
    "l1 = [\"eat\", \"sleep\", \"repeat\"]\n",
    "s1 = \"geek\"\n",
    "  \n",
    "# creating enumerate objects\n",
    "obj1 = enumerate(l1)\n",
    "obj2 = enumerate(s1)\n",
    "  \n",
    "print (\"Return type:\", type(obj1))\n",
    "print (list(enumerate(l1)))\n",
    "  \n",
    "# changing start index to 2 from 0\n",
    "print (list(enumerate(s1, 2)))"
   ]
  },
  {
   "cell_type": "code",
   "execution_count": 8,
   "id": "b2063d3b-63b4-4d9c-835d-d827ab078024",
   "metadata": {},
   "outputs": [
    {
     "name": "stdout",
     "output_type": "stream",
     "text": [
      "(0, 'eat')\n",
      "(1, 'sleep')\n",
      "(2, 'repeat')\n",
      "100 eat\n",
      "101 sleep\n",
      "102 repeat\n",
      "0\n",
      "eat\n",
      "1\n",
      "sleep\n",
      "2\n",
      "repeat\n"
     ]
    }
   ],
   "source": [
    "l1 = [\"eat\", \"sleep\", \"repeat\"]\n",
    "  \n",
    "# printing the tuples in object directly\n",
    "for ele in enumerate(l1):\n",
    "    print (ele)\n",
    "  \n",
    "# changing index and printing separately\n",
    "for count, ele in enumerate(l1, 100):\n",
    "    print (count, ele)\n",
    "  \n",
    "# getting desired output from tuple\n",
    "for count, ele in enumerate(l1):\n",
    "    print(count)\n",
    "    print(ele)"
   ]
  },
  {
   "cell_type": "code",
   "execution_count": 2,
   "id": "88967ea4-e662-45c4-afb1-09a646c8c39f",
   "metadata": {},
   "outputs": [
    {
     "name": "stdout",
     "output_type": "stream",
     "text": [
      "{0: 'eat', 1: 'sleep', 2: 'repeat'}\n"
     ]
    }
   ],
   "source": [
    "# DİCTe DE CEVİREBİLİRİZ\n",
    "l1 = [\"eat\", \"sleep\", \"repeat\"]\n",
    "aaa = dict(enumerate(l1))\n",
    "print(aaa)"
   ]
  },
  {
   "cell_type": "code",
   "execution_count": 3,
   "id": "cea3ba7e-9824-4520-b1b3-c55b51f6e7d4",
   "metadata": {},
   "outputs": [
    {
     "name": "stdout",
     "output_type": "stream",
     "text": [
      "{0: 'zero', 1: 'one', 2: 'two', 3: 'three', 4: 'four', 5: 'five', 6: 'six', 7: 'seven', 8: 'eight', 9: 'nine'}\n"
     ]
    }
   ],
   "source": [
    "numbers_text = [\"zero\", \"one\", \"two\", \"three\", \"four\", \"five\", \"six\", \"seven\", \"eight\", \"nine\"]\n",
    "# numbers = [0,1,2,3,4,5,6,7,8,9] \n",
    "\n",
    "enum = dict(enumerate(numbers_text))\n",
    "print(enum)"
   ]
  },
  {
   "cell_type": "markdown",
   "id": "a88d561d-88d9-49c0-b025-9b6bb002f2cf",
   "metadata": {},
   "source": [
    "# MAX() VE MIN()\n",
    "Max() listedeki mx, min() min degerli valueyu verir.\n"
   ]
  },
  {
   "cell_type": "code",
   "execution_count": 51,
   "id": "2cabbcd0-dab2-49f8-9e2f-d15045d92d89",
   "metadata": {},
   "outputs": [
    {
     "name": "stdout",
     "output_type": "stream",
     "text": [
      "21\n",
      "-222\n",
      "-222\n"
     ]
    }
   ],
   "source": [
    "aaa = [16, -222, 8, 21, -14, True]\n",
    "print(max(aaa))\n",
    "print(min([16, -222, 8, 21, -14, True]))  # böyle de çalışır\n",
    "print(min(aaa))"
   ]
  },
  {
   "cell_type": "code",
   "execution_count": 50,
   "id": "ccd04ead-c35b-488d-8448-3c1ef3fb1a91",
   "metadata": {},
   "outputs": [
    {
     "name": "stdout",
     "output_type": "stream",
     "text": [
      "a\n",
      "97\n",
      "122\n",
      "z\n"
     ]
    }
   ],
   "source": [
    "print(min(\"karagoz\"))  # ascii koduna gore yapar harflerde\n",
    "print(ord(\"a\"))\n",
    "print(ord(\"z\"))\n",
    "print(max(\"karagoz\"))"
   ]
  },
  {
   "cell_type": "markdown",
   "id": "34a561be-e4a7-4123-b5ec-f1045f24ed0a",
   "metadata": {},
   "source": [
    "**SUM()**\n",
    "\n",
    "inbuilt function sum() sums up the numbers in the list. \n",
    "\n",
    "Syntax: sum(iterable, start)  \n",
    "\n",
    "iterable : iterable can be anything list , tuples or dictionaries ,but most importantly it should be numbers.\n",
    " \n",
    "start : this start is added to the sum of numbers in the iterable. If start is not given in the syntax , it is assumed to be 0.\n",
    "\n",
    "FOR LOOP ILE TOPLAMA YERINE BU COK DAHA KOLAY"
   ]
  },
  {
   "cell_type": "code",
   "execution_count": 54,
   "id": "333be1b4-880d-4c9c-9727-b2699d7c9497",
   "metadata": {},
   "outputs": [
    {
     "name": "stdout",
     "output_type": "stream",
     "text": [
      "27.5\n",
      "37.5\n"
     ]
    }
   ],
   "source": [
    "numbers = [2.5,1,2,3,4,5,1,4,5]\n",
    " \n",
    "# start parameter is not provided\n",
    "Sum = sum(numbers)\n",
    "print(Sum)\n",
    " \n",
    "# start = 10\n",
    "Sum = sum(numbers, 10)\n",
    "print(Sum)"
   ]
  },
  {
   "cell_type": "code",
   "execution_count": 64,
   "id": "0204344c-c8f8-4c5e-83c6-f8b14db23648",
   "metadata": {},
   "outputs": [
    {
     "name": "stdout",
     "output_type": "stream",
     "text": [
      "100\n",
      "100\n",
      "190\n"
     ]
    }
   ],
   "source": [
    "# 1den 20ye sayıları toplayın\n",
    "\n",
    "total = 0\n",
    "for i in range(1,20):\n",
    "    if i%2:\n",
    "        total += i\n",
    "print(total)\n",
    "\n",
    "aaa = sum([i for i in range(1,20) if i%2 == 1])\n",
    "print(aaa)\n",
    "\n",
    "bbb = sum(list(range(1,20)))\n",
    "print(bbb)"
   ]
  },
  {
   "cell_type": "code",
   "execution_count": 57,
   "id": "f91fb5a8-dcb8-497f-ae1b-0d1ac9e9f59d",
   "metadata": {},
   "outputs": [
    {
     "ename": "TypeError",
     "evalue": "sum() takes at most 2 arguments (5 given)",
     "output_type": "error",
     "traceback": [
      "\u001b[0;31m---------------------------------------------------------------------------\u001b[0m",
      "\u001b[0;31mTypeError\u001b[0m                                 Traceback (most recent call last)",
      "Input \u001b[0;32mIn [57]\u001b[0m, in \u001b[0;36m<cell line: 1>\u001b[0;34m()\u001b[0m\n\u001b[0;32m----> 1\u001b[0m \u001b[38;5;28;43msum\u001b[39;49m\u001b[43m(\u001b[49m\u001b[38;5;241;43m1\u001b[39;49m\u001b[43m,\u001b[49m\u001b[38;5;241;43m2\u001b[39;49m\u001b[43m,\u001b[49m\u001b[38;5;241;43m3\u001b[39;49m\u001b[43m,\u001b[49m\u001b[38;5;241;43m4\u001b[39;49m\u001b[43m,\u001b[49m\u001b[38;5;241;43m5\u001b[39;49m\u001b[43m)\u001b[49m\n",
      "\u001b[0;31mTypeError\u001b[0m: sum() takes at most 2 arguments (5 given)"
     ]
    }
   ],
   "source": [
    "sum(1,2,3,4,5)  # içine iterable alır, bunu toplamaz. TypeError: sum() takes at most 2 arguments (5 given)\n",
    "# 2 sayı yazınca da TypeError: 'int' object is not iterable\n",
    "# ama bunları liste icinde alırsak toplar"
   ]
  },
  {
   "cell_type": "markdown",
   "id": "51a10f94-8d35-4272-8a49-f183240ce298",
   "metadata": {},
   "source": [
    "# **ROUND(numbers, ndigits)*\n",
    "\n",
    "numaraları yuvarlar. optional olarak ndigits, yani decimalden sonra kac basamak istedigimizi yazabiliriz."
   ]
  },
  {
   "cell_type": "code",
   "execution_count": 60,
   "id": "73e05c37-5c77-4422-9144-217d1a938988",
   "metadata": {},
   "outputs": [
    {
     "name": "stdout",
     "output_type": "stream",
     "text": [
      "12\n",
      "11\n",
      "3.67\n",
      "3.67\n"
     ]
    }
   ],
   "source": [
    "print(round(12))\n",
    "print(round(10.8))\n",
    "print(round(3.665, 2))\n",
    "print(round(3.675, 2))  # aslinda bu 3.674999 oldugu icin 67ye yuvarlar."
   ]
  },
  {
   "cell_type": "markdown",
   "id": "1bb653a3-d07f-4f16-a565-e2411b58e47d",
   "metadata": {},
   "source": [
    "**ABS() : ABSOLUTE VALUE FUNCTION**\n",
    "\n",
    "abs() returns the absolute value of a number."
   ]
  },
  {
   "cell_type": "code",
   "execution_count": 1,
   "id": "81e948b9-b563-4b95-af02-af31be030fa6",
   "metadata": {},
   "outputs": [
    {
     "name": "stdout",
     "output_type": "stream",
     "text": [
      "7.25\n"
     ]
    }
   ],
   "source": [
    "x = abs(-7.25)\n",
    "print(x)"
   ]
  },
  {
   "cell_type": "code",
   "execution_count": 2,
   "id": "e36f6a03-105e-457d-9c52-b3060e8704dd",
   "metadata": {},
   "outputs": [
    {
     "name": "stdout",
     "output_type": "stream",
     "text": [
      "3.3\n",
      "4\n"
     ]
    }
   ],
   "source": [
    "def absolute_value(a):\n",
    "    return abs(a)\n",
    "print(absolute_value(3.3))\n",
    "print(absolute_value(-4))"
   ]
  },
  {
   "cell_type": "code",
   "execution_count": null,
   "id": "427a2988-6a92-40b1-819f-b6b8949bda1a",
   "metadata": {},
   "outputs": [],
   "source": []
  },
  {
   "cell_type": "markdown",
   "id": "6535db65-6f0f-412d-bc46-97fc4a91d97c",
   "metadata": {},
   "source": [
    "**GENERATOR COMPREHENSION**\n",
    "\n",
    "Iterator oluşturmanın basit bir yoludur. Orn range(). Generators, icindeki degerler cagrildikca ortaya çıkarıyorlar. \n",
    "\n",
    "bie generatoru cagirmanin 3 yolu : list, *, for loop"
   ]
  },
  {
   "cell_type": "code",
   "execution_count": 9,
   "id": "fd527c28-1b28-4d89-b025-840b8de4d9ad",
   "metadata": {},
   "outputs": [
    {
     "data": {
      "text/plain": [
       "[0, 1, 4, 9, 16, 25]"
      ]
     },
     "execution_count": 9,
     "metadata": {},
     "output_type": "execute_result"
    }
   ],
   "source": [
    "[i**2 for i in range(6)]  # list comp yontemi ile list oluşturma"
   ]
  },
  {
   "cell_type": "code",
   "execution_count": 11,
   "id": "2934ed07-03a9-421c-b59b-0a8777f511a9",
   "metadata": {},
   "outputs": [
    {
     "data": {
      "text/plain": [
       "[0, 1, 4, 9, 16, 25]"
      ]
     },
     "execution_count": 11,
     "metadata": {},
     "output_type": "execute_result"
    }
   ],
   "source": [
    "(i**2 for i in range(6))  #tuple comprehensionda generator objectin adresini verir. gorunur yapmak icin yollar var.\n",
    "# generator variable yapip list ile * ile vb gorunur yapabiliriz.\n",
    "generator = (i**2 for i in range(6))\n",
    "list(generator)"
   ]
  },
  {
   "cell_type": "code",
   "execution_count": 14,
   "id": "4784af8a-e6ad-4396-b49a-9011c6b48849",
   "metadata": {},
   "outputs": [
    {
     "name": "stdout",
     "output_type": "stream",
     "text": [
      "\n",
      "0 1 4 9 16 25 "
     ]
    }
   ],
   "source": [
    "print(*generator)  # birşey cikmaz burdan. cunku bir üstte icini bosalttik. yine yükleyelim:\n",
    "generator = (i**2 for i in range(6))  # bu sefer for döngüsüne sokalım\n",
    "for i in generator:\n",
    "    print(i, end=\" \")"
   ]
  },
  {
   "cell_type": "code",
   "execution_count": 15,
   "id": "19aa3ea7-31f1-476b-bb18-6bd5bda74c67",
   "metadata": {},
   "outputs": [
    {
     "data": {
      "text/plain": [
       "<generator object <genexpr> at 0x7f974dd76820>"
      ]
     },
     "execution_count": 15,
     "metadata": {},
     "output_type": "execute_result"
    }
   ],
   "source": [
    "# yine doldurmamız lazım simdi\n",
    "generator = (i**2 for i in range(6))\n",
    "generator"
   ]
  },
  {
   "cell_type": "code",
   "execution_count": 16,
   "id": "0849c07f-5b22-4459-9e12-4299b6986011",
   "metadata": {},
   "outputs": [
    {
     "name": "stdout",
     "output_type": "stream",
     "text": [
      "0\n"
     ]
    }
   ],
   "source": [
    "# next() ile bakalım nasıl çalıştığına\n",
    "print(next(generator))  # ilk tiklama ilk elemanı döndürür. tıkladıkça sırayla dğerler döner. Loopların çalışma mantığı bu, arka planda next()"
   ]
  },
  {
   "cell_type": "code",
   "execution_count": 17,
   "id": "c0da7cd4-6368-4eaa-9ecf-6022b484ad5f",
   "metadata": {},
   "outputs": [
    {
     "data": {
      "text/plain": [
       "[]"
      ]
     },
     "execution_count": 18,
     "metadata": {},
     "output_type": "execute_result"
    }
   ],
   "source": [
    "list(generator)  # yukarıda sıfırı zaten çalıştırdığı için burda açınca 0 hariç diğerleri gelr. ben tekrar çalıştırınca 1,2,3,4,5 gitti.\n",
    "# stop iteratoru çalıştı ve boş liste çıktı"
   ]
  },
  {
   "cell_type": "code",
   "execution_count": 27,
   "id": "0060ce25-66b9-4620-b438-60170286866d",
   "metadata": {},
   "outputs": [
    {
     "data": {
      "text/plain": [
       "<generator object <genexpr> at 0x7f974dd80200>"
      ]
     },
     "execution_count": 27,
     "metadata": {},
     "output_type": "execute_result"
    }
   ],
   "source": [
    "aaa = ((i, i**2, i**3)  for i in range(10))  #for döngüsünün her iterayonunda bir tuple üretecek\n",
    "aaa"
   ]
  },
  {
   "cell_type": "code",
   "execution_count": 28,
   "id": "40329fb0-d237-4154-b70f-af19bdfe3595",
   "metadata": {},
   "outputs": [
    {
     "name": "stdout",
     "output_type": "stream",
     "text": [
      "(0, 0, 0)\n",
      "(1, 1, 1)\n",
      "(2, 4, 8)\n",
      "(3, 9, 27)\n",
      "(4, 16, 64)\n",
      "(5, 25, 125)\n",
      "(6, 36, 216)\n",
      "(7, 49, 343)\n",
      "(8, 64, 512)\n",
      "(9, 81, 729)\n"
     ]
    }
   ],
   "source": [
    "for item in aaa:\n",
    "    print(item)"
   ]
  },
  {
   "cell_type": "code",
   "execution_count": 29,
   "id": "ebb4107b-7efe-42c6-b5e0-8a54acebe995",
   "metadata": {},
   "outputs": [
    {
     "data": {
      "text/plain": [
       "<generator object <genexpr> at 0x7f974dd80350>"
      ]
     },
     "execution_count": 29,
     "metadata": {},
     "output_type": "execute_result"
    }
   ],
   "source": [
    "generate = ((\"apple\" if i < 3 else \"pie\") for i in range(6))\n",
    "generate"
   ]
  },
  {
   "cell_type": "code",
   "execution_count": 30,
   "id": "2973b901-94b1-4340-9f2c-4894fc8c8ae7",
   "metadata": {},
   "outputs": [
    {
     "name": "stdout",
     "output_type": "stream",
     "text": [
      "apple apple apple pie pie pie\n"
     ]
    }
   ],
   "source": [
    "print(* generate)"
   ]
  },
  {
   "cell_type": "code",
   "execution_count": null,
   "id": "aff99ba6-1adc-48b1-8cb2-9a0c29627858",
   "metadata": {},
   "outputs": [],
   "source": []
  },
  {
   "cell_type": "code",
   "execution_count": 3,
   "id": "ced65681-733a-43c4-b75e-5e209282695e",
   "metadata": {},
   "outputs": [
    {
     "name": "stdout",
     "output_type": "stream",
     "text": [
      "['oranges', 'and', 'loaf', 'st.', \"clement's.\", 'you', 'owe', 'me', 'three', 'farthings,', 'say', 'the', 'bells', 'of', 'st.', \"martin's\"]\n"
     ]
    },
    {
     "data": {
      "text/plain": [
       "1"
      ]
     },
     "execution_count": 3,
     "metadata": {},
     "output_type": "execute_result"
    }
   ],
   "source": [
    "# cumle stringinde a ile baslayan kelimeleri sayan bir fonk kodla.\n",
    "\n",
    "cumle = \"Oranges and loaf St. Clement's. You owe me three farthings, Say the bells of St. Martin's\"\n",
    "\n",
    "listem = cumle.lower().split()\n",
    "print(listem)\n",
    "\n",
    "\n",
    "def finder(a):\n",
    "    i=0\n",
    "    count= 0\n",
    "    while i < len(a):\n",
    "        \n",
    "        if a[i].startswith(\"a\"):\n",
    "            count = count+1\n",
    "        i += 1\n",
    "    return count\n",
    "finder(listem) "
   ]
  },
  {
   "cell_type": "code",
   "execution_count": 10,
   "id": "81ae6b27-eb5d-401a-ae3e-d295efab6b11",
   "metadata": {},
   "outputs": [
    {
     "name": "stdout",
     "output_type": "stream",
     "text": [
      "['oranges', 'and', 'loaf', 'st.', \"clement's.\", 'you', 'owe', 'me', 'three', 'farthings,', 'say', 'the', 'bells', 'of', 'st.', \"martin's\"]\n"
     ]
    },
    {
     "data": {
      "text/plain": [
       "1"
      ]
     },
     "execution_count": 10,
     "metadata": {},
     "output_type": "execute_result"
    }
   ],
   "source": [
    "cumle = \"Oranges and loaf St. Clement's. You owe me three farthings, Say the bells of St. Martin's\"\n",
    "\n",
    "listem = cumle.lower().split()\n",
    "print(listem)\n",
    "\n",
    "def lst1(a):\n",
    "    c=0\n",
    "    for i in range(len(a)):\n",
    "        if a[i].startswith(\"a\"):\n",
    "            c+=1\n",
    "        else:\n",
    "            pass\n",
    "    return c\n",
    "lst1(listem)"
   ]
  },
  {
   "cell_type": "code",
   "execution_count": null,
   "id": "d46d4443-2e01-4ca7-a8a1-6df87df53e6a",
   "metadata": {},
   "outputs": [],
   "source": []
  }
 ],
 "metadata": {
  "kernelspec": {
   "display_name": "Python 3 (ipykernel)",
   "language": "python",
   "name": "python3"
  },
  "language_info": {
   "codemirror_mode": {
    "name": "ipython",
    "version": 3
   },
   "file_extension": ".py",
   "mimetype": "text/x-python",
   "name": "python",
   "nbconvert_exporter": "python",
   "pygments_lexer": "ipython3",
   "version": "3.9.12"
  }
 },
 "nbformat": 4,
 "nbformat_minor": 5
}
