{
 "cells": [
  {
   "cell_type": "markdown",
   "metadata": {
    "id": "uZEVxLP7soEf"
   },
   "source": [
    "**COLLECTIONS**\n",
    "\n",
    "Collections in Python are **containers that are used to store collections of data**, for example, **list, dict, arrays, set, tuple** etc. These are built-in collections. They allow us to store and access values in a convenient way.\n",
    "\n",
    "There are various collection types in Python. While types such as int and str hold a single value, collection types **hold multiple values**. we use collections **to group several items to render as a single object**."
   ]
  },
  {
   "cell_type": "markdown",
   "metadata": {
    "id": "o3qEnA_5tOd4"
   },
   "source": [
    "**LISTS**\n",
    "\n",
    "**One of the most useful and most used collection type in Python is list. In Python, a list is only an ordered collection** of valid Python values. In spite of its name, a list is more like an array in some other languages (e.g. JavaScript).\n",
    "\n",
    "A list can be created by enclosing values, separated by commas, in square brackets 👉🏻[]."
   ]
  },
  {
   "cell_type": "code",
   "execution_count": null,
   "metadata": {
    "colab": {
     "base_uri": "https://localhost:8080/"
    },
    "executionInfo": {
     "elapsed": 18,
     "status": "ok",
     "timestamp": 1665949246860,
     "user": {
      "displayName": "F4033-Kadir",
      "userId": "00693449641329635795"
     },
     "user_tz": -120
    },
    "id": "KyREGyYqsiB6",
    "outputId": "e1043a32-6813-416b-975a-40439f7294c6"
   },
   "outputs": [
    {
     "name": "stdout",
     "output_type": "stream",
     "text": [
      "['USA', 'Turkey', 'Germany']\n"
     ]
    }
   ],
   "source": [
    "countries = ['USA', 'Turkey', 'Germany']\n",
    "print(countries)\n",
    "# All the country names are printed in the same order as they were stored in the list because lists are ordered."
   ]
  },
  {
   "cell_type": "markdown",
   "metadata": {
    "id": "hhxhPV6VugNE"
   },
   "source": [
    "Another way to create a list is to call the 'list()' function.\n",
    "\n",
    "You do this when you want to create a list from an **iterable object**: that is, type of object whose elements you can import individually. The lists are iterable like other collections and string types. Let's create another list using list() function and compare with 👉🏻'[]'."
   ]
  },
  {
   "cell_type": "code",
   "execution_count": null,
   "metadata": {
    "id": "Q8AW_boigC6c"
   },
   "outputs": [],
   "source": [
    "# list(1234) mesela bunu calistirsak error verir. cunku int iterable object değildir.\n",
    "# len(1234)  bu da error verir mesela. int object has no len. "
   ]
  },
  {
   "cell_type": "code",
   "execution_count": null,
   "metadata": {
    "colab": {
     "base_uri": "https://localhost:8080/"
    },
    "executionInfo": {
     "elapsed": 16,
     "status": "ok",
     "timestamp": 1665949246860,
     "user": {
      "displayName": "F4033-Kadir",
      "userId": "00693449641329635795"
     },
     "user_tz": -120
    },
    "id": "hSAfOcFguHdy",
    "outputId": "145bd2dd-fdab-4284-fde2-70daa748aae1"
   },
   "outputs": [
    {
     "name": "stdout",
     "output_type": "stream",
     "text": [
      "['I', ' ', 'l', 'e', 'a', 'r', 'n', 'e', 'd', ' ', 's', 'o', 'm', 'e', ' ', 'n', 'e', 'w', ' ', 't', 'h', 'i', 'n', 'g', 's', ' ', 'a', 'b', 'o', 'u', 't', ' ', 'P', 'y', 't', 'h', 'o', 'n']\n",
      "['I learned some new things about Python']\n"
     ]
    }
   ],
   "source": [
    "string_1 = 'I learned some new things about Python'\n",
    "new_list_1 = list(string_1)  # we created multi element list\n",
    "print(new_list_1)\n",
    "\n",
    "new_list_2 = [string_1]  # this is a single element list\n",
    "print(new_list_2)\n",
    "\n",
    "# Using list() function, all characters of string_1 including spaces was moved into a new_list_1.\n",
    "# Notice that lists can contain more than one of the same value."
   ]
  },
  {
   "cell_type": "markdown",
   "metadata": {
    "id": "Q2f1Fj5CvUto"
   },
   "source": [
    "The components of a list are not limited to a single data type, given that Python is a dynamic language: e.g.\n",
    "\n",
    "mixed_list = [11, 'Joseph', False, 3.14, None, [1, 2, 3]]\n",
    "\n",
    "As in this example above, one or more of the list elements can even be a list."
   ]
  },
  {
   "cell_type": "code",
   "execution_count": null,
   "metadata": {
    "colab": {
     "base_uri": "https://localhost:8080/"
    },
    "executionInfo": {
     "elapsed": 7,
     "status": "ok",
     "timestamp": 1666199777693,
     "user": {
      "displayName": "F4033-Kadir",
      "userId": "00693449641329635795"
     },
     "user_tz": -120
    },
    "id": "MlXXxOXpusQr",
    "outputId": "48fd2043-9130-46a0-ba1f-27e0007fffcb"
   },
   "outputs": [
    {
     "name": "stdout",
     "output_type": "stream",
     "text": [
      "['Ali', 'veli', 'mehmet', 'ahmet']\n",
      "['Ali', 'veli', 'mehmet', 'ahmet']\n",
      "['Ali', 'Veli', 'Mehmet', 'ahmet']\n",
      "['A', 'l', 'i', ',', ' ', 'V', 'e', 'l', 'i', ',', ' ', 'M', 'e', 'h', 'm', 'e', 't', ',', ' ', 'A', 'h', 'm', 'e', 't']\n",
      "['Ali, Veli, Mehmet, Ahmet']\n"
     ]
    }
   ],
   "source": [
    "list_students = [\"Ali\", \"veli\", \"mehmet\", \"ahmet\"]\n",
    "print(list_students)\n",
    "students = \"Ali\", \"Veli\", \"Mehmet\", \"ahmet\"  # hepsi ayrı ayrı stringler. harf harf ayırmaz. \n",
    "aaaa = list(list_students)  # zaten list ise ve onu list yapıyorsak elementlere ayırmaz. aynen bir list yapar.\n",
    "print(aaaa)\n",
    "students_list = list(students)\n",
    "print(students_list)\n",
    "participants = \"Ali, Veli, Mehmet, Ahmet\"\n",
    "print(list(participants))  # list() methodu tüm karakterleri ayrı ayrı listeledi\n",
    "print([participants])  # [] square brackets stringi tek bir list ögesi yaptı. single element list\n"
   ]
  },
  {
   "cell_type": "code",
   "execution_count": null,
   "metadata": {
    "colab": {
     "base_uri": "https://localhost:8080/"
    },
    "executionInfo": {
     "elapsed": 446,
     "status": "ok",
     "timestamp": 1666200191865,
     "user": {
      "displayName": "F4033-Kadir",
      "userId": "00693449641329635795"
     },
     "user_tz": -120
    },
    "id": "vpD946L_RJEu",
    "outputId": "b49219d6-5946-44cb-dba0-ea1ef655e562"
   },
   "outputs": [
    {
     "name": "stdout",
     "output_type": "stream",
     "text": [
      "['2', '0', '2', '0', \"'\", 's', ' ', 'h', 'a', 'r', 'd']\n",
      "[\"2020's hard\"]\n"
     ]
    }
   ],
   "source": [
    "aaa = \"2020's hard\"\n",
    "print(list(aaa))\n",
    "print([aaa])"
   ]
  },
  {
   "cell_type": "code",
   "execution_count": null,
   "metadata": {
    "colab": {
     "base_uri": "https://localhost:8080/"
    },
    "executionInfo": {
     "elapsed": 774,
     "status": "ok",
     "timestamp": 1666200897486,
     "user": {
      "displayName": "F4033-Kadir",
      "userId": "00693449641329635795"
     },
     "user_tz": -120
    },
    "id": "bUi86OVjS4xW",
    "outputId": "2240a3de-98ac-4172-9824-49f042f491d3"
   },
   "outputs": [
    {
     "data": {
      "text/plain": [
       "1"
      ]
     },
     "execution_count": 12,
     "metadata": {},
     "output_type": "execute_result"
    }
   ],
   "source": [
    "len([[[\" \", 2, 3]]])"
   ]
  },
  {
   "cell_type": "code",
   "execution_count": null,
   "metadata": {
    "colab": {
     "base_uri": "https://localhost:8080/"
    },
    "executionInfo": {
     "elapsed": 461,
     "status": "ok",
     "timestamp": 1666200310020,
     "user": {
      "displayName": "F4033-Kadir",
      "userId": "00693449641329635795"
     },
     "user_tz": -120
    },
    "id": "TPMIihIuRvOj",
    "outputId": "cd995b8c-32b6-452f-ec33-b84c32a89f05"
   },
   "outputs": [
    {
     "data": {
      "text/plain": [
       "NoneType"
      ]
     },
     "execution_count": 10,
     "metadata": {},
     "output_type": "execute_result"
    }
   ],
   "source": [
    "type(None)"
   ]
  },
  {
   "cell_type": "code",
   "execution_count": null,
   "metadata": {
    "colab": {
     "base_uri": "https://localhost:8080/"
    },
    "executionInfo": {
     "elapsed": 199,
     "status": "ok",
     "timestamp": 1665949247719,
     "user": {
      "displayName": "F4033-Kadir",
      "userId": "00693449641329635795"
     },
     "user_tz": -120
    },
    "id": "dzRHn2HdwEQs",
    "outputId": "1c4cd2d3-39ea-44fe-9752-3d955a97f27b"
   },
   "outputs": [
    {
     "name": "stdout",
     "output_type": "stream",
     "text": [
      "22\n",
      "['Y', 'o', 'u', ' ', 'm', 'u', 's', 't', ' ', 'q', 'u', 'i', 't', ' ', 's', 'm', 'o', 'k', 'i', 'n', 'g', '!']\n",
      "22\n"
     ]
    }
   ],
   "source": [
    "warning = 'You must quit smoking!'\n",
    "print(len(list(warning)))  # araya açtığı spaceler yeni karakter sayılmaz. len(warning) kac ise odur.\n",
    "print(list(warning))\n",
    "print(len(warning))\n"
   ]
  },
  {
   "cell_type": "markdown",
   "metadata": {
    "id": "mckQ4dkiyl1q"
   },
   "source": [
    "**Basic Operations with Lists**\n",
    "\n",
    "In most cases, we'll have to make an empty list to fill it later with the data we want (fe: empty_list1 = [ ] or empty_list2 = list() ).\n",
    "\n",
    "We can add an element into a list using .append() or .insert() methods.\n",
    "\n",
    "**.append()** : Append an object to end of a list. Using only list.append(element) syntax, returns none. If you want to see the new appended list, you have to call or print it. \n",
    "\n",
    "**.insert()** : Add a new object to list at a speciﬁc index. The syntax looks like list.insert(index, object). (Elements of a list are counted from left to right and start with zero as in string types.)"
   ]
  },
  {
   "cell_type": "code",
   "execution_count": null,
   "metadata": {
    "colab": {
     "base_uri": "https://localhost:8080/"
    },
    "executionInfo": {
     "elapsed": 8,
     "status": "ok",
     "timestamp": 1666347859488,
     "user": {
      "displayName": "F4033-Kadir",
      "userId": "00693449641329635795"
     },
     "user_tz": -120
    },
    "id": "aXj81yHxygEt",
    "outputId": "0e200a79-36ad-4cf6-eba7-b04d672caa21"
   },
   "outputs": [
    {
     "name": "stdout",
     "output_type": "stream",
     "text": [
      "0 [] 0 []\n"
     ]
    }
   ],
   "source": [
    "empty_list1 = []\n",
    "empty_list2 = list()\n",
    "print(len(empty_list1), empty_list1, len(empty_list2), empty_list2)"
   ]
  },
  {
   "cell_type": "code",
   "execution_count": null,
   "metadata": {
    "id": "OnmH8AxygDPf"
   },
   "outputs": [],
   "source": [
    "listem = []\n",
    "listem.append(11)  # tam burada print birsey return etmez. print deyince ya da asagi listem yazip call ederek"
   ]
  },
  {
   "cell_type": "code",
   "execution_count": null,
   "metadata": {
    "colab": {
     "base_uri": "https://localhost:8080/"
    },
    "executionInfo": {
     "elapsed": 373,
     "status": "ok",
     "timestamp": 1666769637065,
     "user": {
      "displayName": "F4033-Kadir",
      "userId": "00693449641329635795"
     },
     "user_tz": -120
    },
    "id": "teL5XSj_hfZI",
    "outputId": "7e32ac1d-718e-41d4-92fd-86eb696ac047"
   },
   "outputs": [
    {
     "name": "stdout",
     "output_type": "stream",
     "text": [
      "[11]\n"
     ]
    }
   ],
   "source": [
    "print(listem)  # yukarıyı bir daha calistirirsam buraya bir on bir daha ekler. olmadı???"
   ]
  },
  {
   "cell_type": "code",
   "execution_count": null,
   "metadata": {
    "colab": {
     "base_uri": "https://localhost:8080/"
    },
    "executionInfo": {
     "elapsed": 192,
     "status": "ok",
     "timestamp": 1665949247719,
     "user": {
      "displayName": "F4033-Kadir",
      "userId": "00693449641329635795"
     },
     "user_tz": -120
    },
    "id": "A61eLV132ypx",
    "outputId": "2b258ebf-4405-4508-a7dd-6df9b43450a8"
   },
   "outputs": [
    {
     "name": "stdout",
     "output_type": "stream",
     "text": [
      "['114', 'plastic-free sea']\n"
     ]
    }
   ],
   "source": [
    "empty_list1.append('114')\n",
    "empty_list1.append('plastic-free sea')\n",
    "print(empty_list1)  # append en sona ekler direkt"
   ]
  },
  {
   "cell_type": "code",
   "execution_count": null,
   "metadata": {
    "colab": {
     "base_uri": "https://localhost:8080/"
    },
    "executionInfo": {
     "elapsed": 476,
     "status": "ok",
     "timestamp": 1666010043028,
     "user": {
      "displayName": "F4033-Kadir",
      "userId": "00693449641329635795"
     },
     "user_tz": -120
    },
    "id": "0PgUJk4A28yb",
    "outputId": "d02439a8-9908-460a-f26d-eaa64c59cf4a"
   },
   "outputs": [
    {
     "name": "stdout",
     "output_type": "stream",
     "text": [
      "['New York', 'London', 'Istanbul', 'Seoul', 'Sydney', 'Addis Ababa']\n",
      "['New York', 'London', 'Stockholm', 'Istanbul', 'Seoul', 'Sydney', 'Addis Ababa']\n",
      "['New York', 'London', 'Stockholm', 'Istanbul', 'Seoul', 'Berlin', 'Sydney', 'Addis Ababa']\n",
      "['New York', 'London', 'Stockholm', 'Istanbul', 'Seoul', 'Berlin', 'Sydney', 'Addis Ababa', 'Paris']\n"
     ]
    }
   ],
   "source": [
    "city = ['New York', 'London', 'Istanbul', 'Seoul', 'Sydney']\n",
    "city.append('Addis Ababa')\n",
    "print(city)\n",
    "\n",
    "# insert ise istediğin bir indekse ekler\n",
    "\n",
    "city = ['New York', 'London', 'Istanbul', 'Seoul', 'Sydney', 'Addis Ababa']\n",
    "city.insert(2, 'Stockholm')  # let's insert it as the 2nd index in the list\n",
    "print(city)\n",
    "city.insert(5, 'Berlin')  # Berlin index 5 olur\n",
    "print(city)\n",
    "city.append(\"Paris\")\n",
    "print(city)"
   ]
  },
  {
   "cell_type": "code",
   "execution_count": null,
   "metadata": {
    "colab": {
     "base_uri": "https://localhost:8080/"
    },
    "executionInfo": {
     "elapsed": 4,
     "status": "ok",
     "timestamp": 1666349029157,
     "user": {
      "displayName": "F4033-Kadir",
      "userId": "00693449641329635795"
     },
     "user_tz": -120
    },
    "id": "TNzJip-WJCXA",
    "outputId": "1717c7eb-1e2f-4494-ef3d-d095487547e2"
   },
   "outputs": [
    {
     "name": "stdout",
     "output_type": "stream",
     "text": [
      "[10, 20, [300, 400, [5000, 6000, 7000], 500], 30, 40]\n"
     ]
    }
   ],
   "source": [
    "# task: 6000'den sonra 7000 ekle\n",
    "aaa = [10, 20, [300, 400, [5000, 6000], 500], 30, 40]\n",
    "aaa[2][2].append(7000)\n",
    "print(aaa)"
   ]
  },
  {
   "cell_type": "code",
   "execution_count": null,
   "metadata": {
    "colab": {
     "base_uri": "https://localhost:8080/"
    },
    "executionInfo": {
     "elapsed": 623,
     "status": "ok",
     "timestamp": 1666349537486,
     "user": {
      "displayName": "F4033-Kadir",
      "userId": "00693449641329635795"
     },
     "user_tz": -120
    },
    "id": "JtFRoZb6KYrT",
    "outputId": "63f0d342-2cc3-41d3-e472-5e65466571dd"
   },
   "outputs": [
    {
     "name": "stdout",
     "output_type": "stream",
     "text": [
      "[10, 20, [300, 400, (5000, 6000, 7000), 500], 30, 40]\n"
     ]
    }
   ],
   "source": [
    "aaa = [10, 20, [300, 400, [5000, 6000], 500], 30, 40]\n",
    "aaa[2][2] = 5000, 6000, 7000  # bu tuple unpacking. tuple olarak ekler.\n",
    "print(aaa)"
   ]
  },
  {
   "cell_type": "markdown",
   "metadata": {
    "id": "BLW0C_ae4Dni"
   },
   "source": [
    "We can remove the elements in lists using **list.remove()** method or sort the elements using **list.sort()** method. (farklı veri tipleri aynı listedeyse onlar sort edilemez, error verir: The items to be sorted in a list should be the same type)"
   ]
  },
  {
   "cell_type": "code",
   "execution_count": null,
   "metadata": {
    "colab": {
     "base_uri": "https://localhost:8080/"
    },
    "executionInfo": {
     "elapsed": 3,
     "status": "ok",
     "timestamp": 1666175069534,
     "user": {
      "displayName": "F4033-Kadir",
      "userId": "00693449641329635795"
     },
     "user_tz": -120
    },
    "id": "eVPGlGg44RJx",
    "outputId": "c0c7cba0-cb1f-4163-f4d3-4e98dac9a04c"
   },
   "outputs": [
    {
     "name": "stdout",
     "output_type": "stream",
     "text": [
      "['New York', 'London', 'Stockholm', 'Istanbul', 'Berlin', 'Sydney', 'Addis Ababa', 'Paris']\n"
     ]
    }
   ],
   "source": [
    "city = ['New York', 'London', 'Stockholm', 'Istanbul', 'Seoul', 'Berlin', 'Sydney', 'Addis Ababa', 'Paris']\n",
    "city.remove('Seoul')\n",
    "print(city)"
   ]
  },
  {
   "cell_type": "markdown",
   "metadata": {
    "id": "7E3eawyDyL-d"
   },
   "source": [
    "print(city.remove(3)) **error** verir. Yani index numarasını yazıp bir elementi remove edemeyiz. bunu yapabilemek için remove değil **list.pop()** methodu kullanılır. (ya da del keywordu ile. aşağıda detaylı)"
   ]
  },
  {
   "cell_type": "code",
   "execution_count": null,
   "metadata": {
    "colab": {
     "base_uri": "https://localhost:8080/"
    },
    "executionInfo": {
     "elapsed": 929,
     "status": "ok",
     "timestamp": 1666175189825,
     "user": {
      "displayName": "F4033-Kadir",
      "userId": "00693449641329635795"
     },
     "user_tz": -120
    },
    "id": "Ly41qn6-x3Hy",
    "outputId": "e7638bae-55d0-4272-9d70-9c087e2d06d3"
   },
   "outputs": [
    {
     "name": "stdout",
     "output_type": "stream",
     "text": [
      "['New York', 'London', 'Stockholm', 'Berlin', 'Sydney', 'Addis Ababa', 'Paris']\n"
     ]
    }
   ],
   "source": [
    "city.pop(3)  # mesela yukarıdaki list'ten İstanbul'u çıkaralım.\n",
    "print(city)"
   ]
  },
  {
   "cell_type": "code",
   "execution_count": null,
   "metadata": {
    "colab": {
     "base_uri": "https://localhost:8080/"
    },
    "executionInfo": {
     "elapsed": 1037,
     "status": "ok",
     "timestamp": 1666175219310,
     "user": {
      "displayName": "F4033-Kadir",
      "userId": "00693449641329635795"
     },
     "user_tz": -120
    },
    "id": "XD_4kclM5L4E",
    "outputId": "32205d85-6cb0-4f57-b43c-b08a63654abb"
   },
   "outputs": [
    {
     "name": "stdout",
     "output_type": "stream",
     "text": [
      "['Addis Ababa', 'Berlin', 'Istanbul', 'London', 'New York', 'Paris', 'Seoul', 'Stockholm', 'Sydney']\n"
     ]
    }
   ],
   "source": [
    "city = ['New York', 'London', 'Stockholm', 'Istanbul', 'Seoul', 'Berlin', 'Sydney', 'Addis Ababa', 'Paris']\n",
    "city.sort()\n",
    "print(city)  # lists the items in alphabetical order"
   ]
  },
  {
   "cell_type": "code",
   "execution_count": null,
   "metadata": {
    "colab": {
     "base_uri": "https://localhost:8080/"
    },
    "executionInfo": {
     "elapsed": 332,
     "status": "ok",
     "timestamp": 1666208139402,
     "user": {
      "displayName": "F4033-Kadir",
      "userId": "00693449641329635795"
     },
     "user_tz": -120
    },
    "id": "2ykLZgNLvcsV",
    "outputId": "e750215f-1873-4ad5-d165-3bba9a482575"
   },
   "outputs": [
    {
     "name": "stdout",
     "output_type": "stream",
     "text": [
      "[3, 3, 4, 5, 7, 9]\n"
     ]
    }
   ],
   "source": [
    "yeni = [3,5,3,4,7,9]\n",
    "yeni.sort()  # bu aşamada print(yeni.sort()) dersek none return eder. hafızaya alıyor. asagidaki gibi yapmalı.\n",
    "print(yeni)"
   ]
  },
  {
   "cell_type": "markdown",
   "metadata": {
    "id": "lQMoODnaxLYs"
   },
   "source": [
    "**reverse değeri var bir de. default olarak false o. eger true yaparsak o zaman tersten verir**."
   ]
  },
  {
   "cell_type": "code",
   "execution_count": null,
   "metadata": {
    "colab": {
     "base_uri": "https://localhost:8080/"
    },
    "executionInfo": {
     "elapsed": 322,
     "status": "ok",
     "timestamp": 1666208524712,
     "user": {
      "displayName": "F4033-Kadir",
      "userId": "00693449641329635795"
     },
     "user_tz": -120
    },
    "id": "kwkCH6R4w9TZ",
    "outputId": "6212bd07-b005-42b8-a2e0-081c2dbc7ebf"
   },
   "outputs": [
    {
     "name": "stdout",
     "output_type": "stream",
     "text": [
      "[9, 7, 5, 4, 3, 3]\n"
     ]
    }
   ],
   "source": [
    "yeni.sort(reverse = True)\n",
    "print(yeni)"
   ]
  },
  {
   "cell_type": "code",
   "execution_count": null,
   "metadata": {
    "colab": {
     "base_uri": "https://localhost:8080/"
    },
    "executionInfo": {
     "elapsed": 170,
     "status": "ok",
     "timestamp": 1665949247721,
     "user": {
      "displayName": "F4033-Kadir",
      "userId": "00693449641329635795"
     },
     "user_tz": -120
    },
    "id": "Gf6Dj6NPLqpb",
    "outputId": "70ceec54-679a-472d-e3d2-f2bb2db27a43"
   },
   "outputs": [
    {
     "name": "stdout",
     "output_type": "stream",
     "text": [
      "[10, 9, 8, 7, 6, 5, 4, 3, 2, 1]\n"
     ]
    }
   ],
   "source": [
    "# Q: Create a list which consists of int numbers from 1 to 10 using range() function. \n",
    "# Sort the numbers of the list in descending order and print the result.\n",
    "my_list = list(range(1,11))\n",
    "my_list.sort(reverse = True)\n",
    "print(my_list) "
   ]
  },
  {
   "cell_type": "code",
   "execution_count": null,
   "metadata": {
    "colab": {
     "base_uri": "https://localhost:8080/"
    },
    "executionInfo": {
     "elapsed": 8,
     "status": "ok",
     "timestamp": 1666348391386,
     "user": {
      "displayName": "F4033-Kadir",
      "userId": "00693449641329635795"
     },
     "user_tz": -120
    },
    "id": "B8U60pjeycFe",
    "outputId": "0b54dc1c-6c8e-4a1f-9b28-0aef769d0cda"
   },
   "outputs": [
    {
     "name": "stdout",
     "output_type": "stream",
     "text": [
      "3\n",
      "[False, True, True]\n"
     ]
    }
   ],
   "source": [
    "list3 = [True, False, not False]\n",
    "print(len(list3))\n",
    "list3.sort()  # False 0 True 1 ona göre sıralar.\n",
    "print(list3)"
   ]
  },
  {
   "cell_type": "code",
   "execution_count": null,
   "metadata": {
    "colab": {
     "base_uri": "https://localhost:8080/"
    },
    "executionInfo": {
     "elapsed": 319,
     "status": "ok",
     "timestamp": 1666209054412,
     "user": {
      "displayName": "F4033-Kadir",
      "userId": "00693449641329635795"
     },
     "user_tz": -120
    },
    "id": "hE9bLLx3ywT2",
    "outputId": "a1948a96-748b-4bce-95ea-00695add1c9b"
   },
   "outputs": [
    {
     "name": "stdout",
     "output_type": "stream",
     "text": [
      "[[-12], [3], [44]]\n",
      "[[-12, 1], [1, 3], [44, -40]]\n"
     ]
    }
   ],
   "source": [
    "list4 = [[3], [44], [-12]]  # sayı doğrusunda negatif sayılar daha öndedir\n",
    "list4.sort()\n",
    "print(list4)\n",
    "\n",
    "list5 = [[1, 3], [44, -40], [-12, 1]]  # ilk elemanlara göre yapar sıralamayı.\n",
    "list5.sort()\n",
    "print(list5)"
   ]
  },
  {
   "cell_type": "markdown",
   "metadata": {
    "id": "0zojZIZK5dVx"
   },
   "source": [
    "The length of the list elements can be calculated with the **len()** function."
   ]
  },
  {
   "cell_type": "code",
   "execution_count": null,
   "metadata": {
    "colab": {
     "base_uri": "https://localhost:8080/"
    },
    "executionInfo": {
     "elapsed": 164,
     "status": "ok",
     "timestamp": 1665949247721,
     "user": {
      "displayName": "F4033-Kadir",
      "userId": "00693449641329635795"
     },
     "user_tz": -120
    },
    "id": "ni7MwcSq5OpS",
    "outputId": "ccab51d7-5282-4079-f422-178fd9c17ad5"
   },
   "outputs": [
    {
     "name": "stdout",
     "output_type": "stream",
     "text": [
      "8\n"
     ]
    }
   ],
   "source": [
    "print(len(city))"
   ]
  },
  {
   "cell_type": "code",
   "execution_count": null,
   "metadata": {
    "colab": {
     "base_uri": "https://localhost:8080/"
    },
    "executionInfo": {
     "elapsed": 160,
     "status": "ok",
     "timestamp": 1665949247722,
     "user": {
      "displayName": "F4033-Kadir",
      "userId": "00693449641329635795"
     },
     "user_tz": -120
    },
    "id": "g2bbMgze5omb",
    "outputId": "2ea29bbc-d8ad-4459-a7e9-8cf8c6c26d9e"
   },
   "outputs": [
    {
     "name": "stdout",
     "output_type": "stream",
     "text": [
      "[1, 3, 5, 7, 1, 3, 5, 7, 1, 3, 5, 7]\n"
     ]
    }
   ],
   "source": [
    "my_list = [1, 3, 5, 7]\n",
    "print(my_list * 3)"
   ]
  },
  {
   "cell_type": "markdown",
   "metadata": {
    "id": "W4l2kWXLYelC"
   },
   "source": [
    "**!!!**: len fonksiyonunu sadece index no ile kullanmak zorunda değiliz. Variable ile de kullanabiliriz."
   ]
  },
  {
   "cell_type": "code",
   "execution_count": null,
   "metadata": {
    "colab": {
     "base_uri": "https://localhost:8080/"
    },
    "executionInfo": {
     "elapsed": 3017,
     "status": "ok",
     "timestamp": 1666604817476,
     "user": {
      "displayName": "F4033-Kadir",
      "userId": "00693449641329635795"
     },
     "user_tz": -120
    },
    "id": "sVJ2t_-SYrYF",
    "outputId": "2e961800-7ba1-40b0-c03d-859f5b13c3a7"
   },
   "outputs": [
    {
     "name": "stdout",
     "output_type": "stream",
     "text": [
      "Enter a number for rotation: 3\n",
      "[4, 5, 6]\n",
      "[1, 2, 3]\n",
      "[4, 5, 6, 1, 2, 3]\n"
     ]
    }
   ],
   "source": [
    "# Task: kullanıcının gireceği rakam kadar sondan element başa alınsın\n",
    "liste = [1, 2, 3, 4, 5, 6]\n",
    "rotate_no = int(input('Enter a number for rotation: '))\n",
    "print(liste[(len(liste)-rotate_no)::])\n",
    "print(liste[:(len(liste)-rotate_no)])\n",
    "print((liste[(len(liste)-rotate_no)::]) + (liste[:(len(liste)-rotate_no)]))"
   ]
  },
  {
   "cell_type": "markdown",
   "metadata": {
    "id": "XmaXmEOm5xEO"
   },
   "source": [
    "One of the important operations of the lists is **assigning an element to the specific index number**.\n",
    "\n",
    "UNUTMA: **Eger indexleme varsa hep köşeli parantez kullanılır.** **Sadece iterablelar indexlenebilir.**"
   ]
  },
  {
   "cell_type": "code",
   "execution_count": null,
   "metadata": {
    "colab": {
     "base_uri": "https://localhost:8080/"
    },
    "executionInfo": {
     "elapsed": 8,
     "status": "ok",
     "timestamp": 1666286219631,
     "user": {
      "displayName": "F4033-Kadir",
      "userId": "00693449641329635795"
     },
     "user_tz": -120
    },
    "id": "tGt6RuRz5uSg",
    "outputId": "8f3db2e1-51e9-4790-c67c-5a3c05e38a1b"
   },
   "outputs": [
    {
     "name": "stdout",
     "output_type": "stream",
     "text": [
      "['New York', 'Melbourne', 'Istanbul', 'Seoul', 'Sydney', 'Addis Ababa']\n"
     ]
    }
   ],
   "source": [
    "city = ['New York', 'Stockholm', 'Istanbul', 'Seoul', 'Sydney', 'Addis Ababa']\n",
    "city[1] = 'Melbourne'  # we assign 'Melbourne' to index 1. Stockholm'u kaldırıp onu koyar yerine\n",
    "print(city) "
   ]
  },
  {
   "cell_type": "code",
   "execution_count": null,
   "metadata": {
    "colab": {
     "base_uri": "https://localhost:8080/"
    },
    "executionInfo": {
     "elapsed": 367,
     "status": "ok",
     "timestamp": 1666175456327,
     "user": {
      "displayName": "F4033-Kadir",
      "userId": "00693449641329635795"
     },
     "user_tz": -120
    },
    "id": "G0IgbOCgRJqH",
    "outputId": "a9844979-0a6f-4d47-aba8-0bbb061f6e7c"
   },
   "outputs": [
    {
     "name": "stdout",
     "output_type": "stream",
     "text": [
      "['New York', 'Sydney', 'Istanbul', 'Seoul', 'Sydney', 'Addis Ababa']\n"
     ]
    }
   ],
   "source": [
    "city = ['New York', 'Stockholm', 'Istanbul', 'Seoul', 'Sydney', 'Addis Ababa']\n",
    "city[1] = 'Sydney'  # 4 numaradaki sydney de kalır. aynı value list'te birden fazla olabilir.\n",
    "print(city) "
   ]
  },
  {
   "cell_type": "markdown",
   "metadata": {
    "id": "ZqTeRmIW55xc"
   },
   "source": [
    "**del keyword, pop(), remove() and index() methods**\n",
    "\n",
    "The del keyword delete any variable, list of values from a list. Syntax:\n",
    "\n",
    "**del list_name[index]** : To delete single value\n",
    "\n",
    "**del list_name**       : To delete whole list\n",
    "\n",
    "The remove() method **removes the first matching value** from the list. Syntax: list_name.remove(value)\n",
    "\n",
    "The pop() method like del deletes value at a particular index. But pop() method returns deleted value from the list. Syntax: \n",
    "list_name.pop(index). Eğer bir değer yazmazsak default olarak -1i yani son indexi cikarir ve return eder.\n"
   ]
  },
  {
   "cell_type": "code",
   "execution_count": null,
   "metadata": {
    "colab": {
     "base_uri": "https://localhost:8080/"
    },
    "executionInfo": {
     "elapsed": 347,
     "status": "ok",
     "timestamp": 1666770478700,
     "user": {
      "displayName": "F4033-Kadir",
      "userId": "00693449641329635795"
     },
     "user_tz": -120
    },
    "id": "NZUm8-XX51TV",
    "outputId": "d5769d59-2c16-41c6-d052-6284889b1721"
   },
   "outputs": [
    {
     "name": "stdout",
     "output_type": "stream",
     "text": [
      "[1, 2, 2, 3, 4, 5]\n",
      "[2, 3, 4, 5]\n",
      "[2, 3, 4]\n"
     ]
    }
   ],
   "source": [
    "numbers = [1, 2, 3, 2, 3, 4, 5]\n",
    "del numbers[2]  # index2'yi yani 3ü (single value del) siler\n",
    "print(numbers)\n",
    "del numbers[0:2]  # ilk ikisini siler (3 zaten bir üstteki işlemde listeden çıktı) \n",
    "print(numbers)\n",
    "del numbers[-1]  # sonuncuyu siler\n",
    "print(numbers)\n",
    "del numbers  # bunu yaptıktan sonra aşağıda tekrar print(numbers) dersek numbers\n",
    "# variable nor defined der, silindi çünkü."
   ]
  },
  {
   "cell_type": "code",
   "execution_count": null,
   "metadata": {
    "colab": {
     "base_uri": "https://localhost:8080/"
    },
    "executionInfo": {
     "elapsed": 5,
     "status": "ok",
     "timestamp": 1666175782515,
     "user": {
      "displayName": "F4033-Kadir",
      "userId": "00693449641329635795"
     },
     "user_tz": -120
    },
    "id": "oVhltG6g7aGG",
    "outputId": "70dde16d-0344-40e4-8408-73c4828915bc"
   },
   "outputs": [
    {
     "name": "stdout",
     "output_type": "stream",
     "text": [
      "3\n",
      "[1, 2, 2, 3, 4, 5]\n"
     ]
    }
   ],
   "source": [
    "numbers = [1, 2, 3, 2, 3, 4, 5] \n",
    "print(numbers.pop(2))  # print edersek sildiği valueyu return eder.\n",
    "print(numbers)  # del gibi.index 2deki 3ü sildi.\n",
    "# del bir keyword, [] ile; pop bir method, () ile kullanılır."
   ]
  },
  {
   "cell_type": "code",
   "execution_count": null,
   "metadata": {
    "colab": {
     "base_uri": "https://localhost:8080/"
    },
    "executionInfo": {
     "elapsed": 268,
     "status": "ok",
     "timestamp": 1666286766967,
     "user": {
      "displayName": "F4033-Kadir",
      "userId": "00693449641329635795"
     },
     "user_tz": -120
    },
    "id": "_fyaaJ1qbeMm",
    "outputId": "75d2129d-d0a0-4474-b674-96542f7e06ae"
   },
   "outputs": [
    {
     "data": {
      "text/plain": [
       "2"
      ]
     },
     "execution_count": 3,
     "metadata": {},
     "output_type": "execute_result"
    }
   ],
   "source": [
    "[1, 2, 3, 2, 3, 4, 5][3]  # böyle de index getirebiliriz. list name yerine listeyi yazarak direkt."
   ]
  },
  {
   "cell_type": "markdown",
   "metadata": {
    "id": "NGaEX-hy8rTX"
   },
   "source": [
    "**list_name[x] = y komutu listedeki xleri y ile değiştirir.**"
   ]
  },
  {
   "cell_type": "code",
   "execution_count": null,
   "metadata": {
    "colab": {
     "base_uri": "https://localhost:8080/"
    },
    "executionInfo": {
     "elapsed": 292,
     "status": "ok",
     "timestamp": 1666286574538,
     "user": {
      "displayName": "F4033-Kadir",
      "userId": "00693449641329635795"
     },
     "user_tz": -120
    },
    "id": "pU5zrjIG7QYv",
    "outputId": "e0523ab6-e791-492f-9bbb-b5f8a5e3fcba"
   },
   "outputs": [
    {
     "name": "stdout",
     "output_type": "stream",
     "text": [
      "[1, 2, 3, 2, 13, 5]\n",
      "[1, 13, 3, 2, 13, 5]\n"
     ]
    }
   ],
   "source": [
    "numbers = [1, 2, 3, 2, 4, 5] \n",
    "numbers[4] = 13  # mesela 4 leri 13 ile değiştirelim. 4ü siler yerine 13 atar\n",
    "print(numbers)\n",
    "numbers[1] = 13  # 2yi siler yerine 13 atar\n",
    "print(numbers)"
   ]
  },
  {
   "cell_type": "markdown",
   "metadata": {
    "id": "TyWppDL39b31"
   },
   "source": [
    "**list_name.reverse() reverses the items of list in place**\n",
    "\n"
   ]
  },
  {
   "cell_type": "markdown",
   "metadata": {
    "id": "tzhhzln8Xfog"
   },
   "source": [
    "**Task**: string = \"bu.akşam.python.dersi.var\" stringini ['var', 'dersi', 'python', 'akşam', 'bu'] haline getirelim:"
   ]
  },
  {
   "cell_type": "code",
   "execution_count": null,
   "metadata": {
    "colab": {
     "base_uri": "https://localhost:8080/"
    },
    "executionInfo": {
     "elapsed": 5,
     "status": "ok",
     "timestamp": 1666604689145,
     "user": {
      "displayName": "F4033-Kadir",
      "userId": "00693449641329635795"
     },
     "user_tz": -120
    },
    "id": "SV2yfq4KXuBI",
    "outputId": "eebc5204-3621-41f4-aae4-ee361f24b844"
   },
   "outputs": [
    {
     "name": "stdout",
     "output_type": "stream",
     "text": [
      "['var', 'dersi', 'python', 'akşam', 'bu']\n",
      "var.dersi.python.akşam.bu\n",
      "<class 'str'> <class 'list'> <class 'str'>\n"
     ]
    }
   ],
   "source": [
    "string = \"bu.akşam.python.dersi.var\"\n",
    "list_string = string.split(\".\")  # noktalardan elementler split et. (Split lste cevirir)\n",
    "list_string.reverse()  \n",
    "print(list_string)\n",
    "# geri string haline getibiliriz:\n",
    "re_string = \".\".join(list_string)  # Join fonksiyonu list'i belirtilen elementle birleştirip string yapar\n",
    "print(re_string)\n",
    "print(type(string), type(list_string), type(re_string))"
   ]
  },
  {
   "cell_type": "code",
   "execution_count": null,
   "metadata": {
    "colab": {
     "base_uri": "https://localhost:8080/"
    },
    "executionInfo": {
     "elapsed": 7,
     "status": "ok",
     "timestamp": 1666688177340,
     "user": {
      "displayName": "F4033-Kadir",
      "userId": "00693449641329635795"
     },
     "user_tz": -120
    },
    "id": "09RO--8q29Gw",
    "outputId": "f994d19c-f251-4501-9105-43f8a874b02f"
   },
   "outputs": [
    {
     "name": "stdout",
     "output_type": "stream",
     "text": [
      "[5, 4, 3, 2, 1] [9, 8, 7, 6] [13, 12, 11, 10] [17, 16, 15, 14]\n"
     ]
    }
   ],
   "source": [
    "# Aşağıdaki liste içerisindeki her bir listeyi tersine çevirecek bir program yazınız.\n",
    "liste = [[1, 2, 3, 4, 5], [6, 7, 8, 9], [10, 11, 12, 13], [14, 15, 16, 17]]\n",
    "print(liste[0][::-1], liste[1][::-1],liste[2][::-1],liste[3][::-1])  # her birinin başına liste yazmaya dikkat"
   ]
  },
  {
   "cell_type": "code",
   "execution_count": null,
   "metadata": {
    "colab": {
     "base_uri": "https://localhost:8080/"
    },
    "executionInfo": {
     "elapsed": 314,
     "status": "ok",
     "timestamp": 1666688272384,
     "user": {
      "displayName": "F4033-Kadir",
      "userId": "00693449641329635795"
     },
     "user_tz": -120
    },
    "id": "-flDk74sW5mJ",
    "outputId": "addc7ee0-56ff-4368-9878-301a0c9a6265"
   },
   "outputs": [
    {
     "name": "stdout",
     "output_type": "stream",
     "text": [
      "[[5, 4, 3, 2, 1], [9, 8, 7, 6], [13, 12, 11, 10], [17, 16, 15, 14]]\n"
     ]
    }
   ],
   "source": [
    "liste = [[1, 2, 3, 4, 5], [6, 7, 8, 9], [10, 11, 12, 13], [14, 15, 16, 17]]\n",
    "liste[0].reverse()  # bunun yerine liste[0].sort(reverse = True) yazarsak da aynı sonuç\n",
    "liste[1].reverse()\n",
    "liste[2].reverse()\n",
    "liste[3].reverse()\n",
    "print(liste)"
   ]
  },
  {
   "cell_type": "code",
   "execution_count": null,
   "metadata": {
    "colab": {
     "base_uri": "https://localhost:8080/"
    },
    "executionInfo": {
     "elapsed": 4,
     "status": "ok",
     "timestamp": 1666802245348,
     "user": {
      "displayName": "F4033-Kadir",
      "userId": "00693449641329635795"
     },
     "user_tz": -120
    },
    "id": "EwAnXwKXJ1bk",
    "outputId": "30965928-1db4-481f-f705-0e849a384438"
   },
   "outputs": [
    {
     "name": "stdout",
     "output_type": "stream",
     "text": [
      "[[5, 4, 3, 2, 1], [9, 8, 7, 6], [13, 12, 11, 10], [17, 16, 15, 14]]\n"
     ]
    }
   ],
   "source": [
    "liste = [[1, 2, 3, 4, 5], [6, 7, 8, 9], [10, 11, 12, 13], [14, 15, 16, 17]]\n",
    "for i in liste:\n",
    "  i.reverse()\n",
    "print(liste)"
   ]
  },
  {
   "cell_type": "code",
   "execution_count": null,
   "metadata": {
    "colab": {
     "base_uri": "https://localhost:8080/"
    },
    "executionInfo": {
     "elapsed": 634,
     "status": "ok",
     "timestamp": 1666802200074,
     "user": {
      "displayName": "F4033-Kadir",
      "userId": "00693449641329635795"
     },
     "user_tz": -120
    },
    "id": "KzWF_e30Jxs-",
    "outputId": "2d3a65b5-ae6c-4ba0-db1a-1fb6e8ca8dac"
   },
   "outputs": [
    {
     "name": "stdout",
     "output_type": "stream",
     "text": [
      "[[5, 4, 3, 2, 1], [6, 7, 8, 9], [10, 11, 12, 13], [14, 15, 16, 17]]\n",
      "[[5, 4, 3, 2, 1], [9, 8, 7, 6], [10, 11, 12, 13], [14, 15, 16, 17]]\n",
      "[[5, 4, 3, 2, 1], [9, 8, 7, 6], [13, 12, 11, 10], [14, 15, 16, 17]]\n",
      "[[5, 4, 3, 2, 1], [9, 8, 7, 6], [13, 12, 11, 10], [17, 16, 15, 14]]\n"
     ]
    }
   ],
   "source": [
    "liste = [[1, 2, 3, 4, 5], [6, 7, 8, 9], [10, 11, 12, 13], [14, 15, 16, 17]]\n",
    "for i in liste:\n",
    "  i.reverse()\n",
    "  print(liste)"
   ]
  },
  {
   "cell_type": "markdown",
   "metadata": {
    "id": "bbSjp3129um0"
   },
   "source": [
    "**list_name.clear()** removes all items from the list (same as del s[:])"
   ]
  },
  {
   "cell_type": "code",
   "execution_count": null,
   "metadata": {
    "colab": {
     "base_uri": "https://localhost:8080/"
    },
    "executionInfo": {
     "elapsed": 121,
     "status": "ok",
     "timestamp": 1665949247724,
     "user": {
      "displayName": "F4033-Kadir",
      "userId": "00693449641329635795"
     },
     "user_tz": -120
    },
    "id": "74JzEL249nFr",
    "outputId": "70d9f32c-c2ee-4459-be5c-c536f9406a18"
   },
   "outputs": [
    {
     "name": "stdout",
     "output_type": "stream",
     "text": [
      "[]\n"
     ]
    }
   ],
   "source": [
    "# del list_name tüm listeyi yok ederi bunun yerine liste kalsın ama içi temizlensin diyorsak list_name.clear[]\n",
    "numbers = [1, 2, 3, 2, 3, 4, 5]  \n",
    "numbers.clear()\n",
    "print(numbers)  # hepsini temizledi"
   ]
  },
  {
   "cell_type": "markdown",
   "metadata": {
    "id": "F5WVLE4H-J1D"
   },
   "source": [
    "**list_name1.extend(list_name2) or list_name1 += list_name2** extends list_name1 with the contents of list_name2"
   ]
  },
  {
   "cell_type": "code",
   "execution_count": null,
   "metadata": {
    "colab": {
     "base_uri": "https://localhost:8080/"
    },
    "executionInfo": {
     "elapsed": 116,
     "status": "ok",
     "timestamp": 1665949247724,
     "user": {
      "displayName": "F4033-Kadir",
      "userId": "00693449641329635795"
     },
     "user_tz": -120
    },
    "id": "sKAj9oDa93f2",
    "outputId": "42257cdd-8dc8-4df0-d738-ea7c7f9f576d"
   },
   "outputs": [
    {
     "name": "stdout",
     "output_type": "stream",
     "text": [
      "[1, 2, 3, 2, 3, 4, 5, 10, 20, 30, 40]\n",
      "[1, 2, 3, 2, 3, 4, 5, 10, 20, 30, 40, 10, 20, 30, 40]\n"
     ]
    }
   ],
   "source": [
    "numbers = [1, 2, 3, 2, 3, 4, 5]\n",
    "amounts = [10, 20, 30, 40]\n",
    "numbers.extend(amounts)\n",
    "print(numbers)\n",
    "\n",
    "numbers += amounts\n",
    "print(numbers)\n"
   ]
  },
  {
   "cell_type": "code",
   "execution_count": null,
   "metadata": {
    "colab": {
     "base_uri": "https://localhost:8080/"
    },
    "executionInfo": {
     "elapsed": 270,
     "status": "ok",
     "timestamp": 1666729328598,
     "user": {
      "displayName": "F4033-Kadir",
      "userId": "00693449641329635795"
     },
     "user_tz": -120
    },
    "id": "bk8lrTK7ztEJ",
    "outputId": "2b66d452-31f8-4af9-987c-047f8a12f4ef"
   },
   "outputs": [
    {
     "name": "stdout",
     "output_type": "stream",
     "text": [
      "[[1, [2, 3], 4]]\n",
      "[[1, [2, 3], 4], 7, 8, 9]\n",
      "11\n"
     ]
    }
   ],
   "source": [
    "L1 = []\n",
    "L1.append([1, [2, 3], 4])\n",
    "print(L1)\n",
    "L1.extend([7, 8, 9])\n",
    "print(L1)\n",
    "print(L1[0][1][1] + L1[2])"
   ]
  },
  {
   "cell_type": "code",
   "execution_count": null,
   "metadata": {
    "colab": {
     "base_uri": "https://localhost:8080/"
    },
    "executionInfo": {
     "elapsed": 326,
     "status": "ok",
     "timestamp": 1666729615605,
     "user": {
      "displayName": "F4033-Kadir",
      "userId": "00693449641329635795"
     },
     "user_tz": -120
    },
    "id": "lmS7hzOn0ctx",
    "outputId": "f8235c4b-fd8c-4b75-d20e-5befc9f430fc"
   },
   "outputs": [
    {
     "name": "stdout",
     "output_type": "stream",
     "text": [
      "5 8\n"
     ]
    }
   ],
   "source": [
    "T = (1, 2, 3, 4, 5, 6, 7, 8)\n",
    "print(T[T.index(5)], end = \" \")  # 5 rakamının hangi idndexte oldugunu getirir index().4te o. T'nin 4ü de5\n",
    "print(T[T[T[6]-3]-6])"
   ]
  },
  {
   "cell_type": "code",
   "execution_count": null,
   "metadata": {
    "colab": {
     "base_uri": "https://localhost:8080/"
    },
    "executionInfo": {
     "elapsed": 251,
     "status": "ok",
     "timestamp": 1666729674809,
     "user": {
      "displayName": "F4033-Kadir",
      "userId": "00693449641329635795"
     },
     "user_tz": -120
    },
    "id": "WzmAZV3-1HnM",
    "outputId": "7749574c-eea2-44ae-e7dc-5ec4ca68b972"
   },
   "outputs": [
    {
     "name": "stdout",
     "output_type": "stream",
     "text": [
      "3\n"
     ]
    }
   ],
   "source": [
    "D = {1 : 1, 2 : '2', '1' : 1, '2' : 3}\n",
    "D['1'] = 2\n",
    "print(D[D[D[str(D[1])]]])"
   ]
  },
  {
   "cell_type": "markdown",
   "metadata": {
    "id": "H_3uOTQm3_o0"
   },
   "source": [
    "**ACCESSING LISTS**\n",
    "\n",
    "Each item or element in a list, as well as every character in a string, has an index corresponding to their location. Using indexes, we can access elements within a sequence.\n",
    "\n",
    "**Indexing a list**\n",
    "\n",
    "If we want to access or use the elements of a list, we can do that using index numbers of the list enclosed by square brackets."
   ]
  },
  {
   "cell_type": "code",
   "execution_count": null,
   "metadata": {
    "colab": {
     "base_uri": "https://localhost:8080/"
    },
    "executionInfo": {
     "elapsed": 344,
     "status": "ok",
     "timestamp": 1666778013530,
     "user": {
      "displayName": "F4033-Kadir",
      "userId": "00693449641329635795"
     },
     "user_tz": -120
    },
    "id": "X3WxbB94B_ft",
    "outputId": "c4eb5f98-fb8e-4c92-c138-bf0d9ab15f88"
   },
   "outputs": [
    {
     "name": "stdout",
     "output_type": "stream",
     "text": [
      "Dennis\n",
      "J\n",
      "[['John', 'Jason', 'Jim', 'Dennis', 'Julian', 'Jan']]\n",
      "1\n",
      "['John', 'Jason', 'Jim', 'Dennis', 'Julian', 'Jan']\n"
     ]
    }
   ],
   "source": [
    "participants = [\"John\", \"Jason\", \"Jim\", \"Dennis\", \"Julian\", \"Jan\"]\n",
    "print(participants[3])  # index 3'ü getirir\n",
    "print(participants[0] [0])  # 0. indexin sıfırıncı indexi\n",
    "\n",
    "attendants = []  # böyle bir boş list oluşturduk. bunu participants list ile append edelim\n",
    "attendants.append(participants)  # new list has 2 [[]].. this means we created a nested (içiçe yuvalanmış) list\n",
    "print(attendants) # How many elements does attendants list have? A: only 1. it's the participants list.\n",
    "print(len(attendants)) \n",
    "print(attendants[0])"
   ]
  },
  {
   "cell_type": "code",
   "execution_count": null,
   "metadata": {
    "colab": {
     "base_uri": "https://localhost:8080/"
    },
    "executionInfo": {
     "elapsed": 6,
     "status": "ok",
     "timestamp": 1666778185874,
     "user": {
      "displayName": "F4033-Kadir",
      "userId": "00693449641329635795"
     },
     "user_tz": -120
    },
    "id": "GntKvWWwBY9O",
    "outputId": "b1a43dbd-4471-4437-fd9f-c76b583d6f79"
   },
   "outputs": [
    {
     "name": "stdout",
     "output_type": "stream",
     "text": [
      "2\n",
      "[12]\n",
      "[[12, 34, 56], [0, 1]]\n"
     ]
    }
   ],
   "source": [
    "print(len([[12, 34, 56],[0]]))\n",
    "aaaaa = [[12, 34, 56][0]]\n",
    "print(aaaaa)  # ilk listenin 0. indexini getirir. cünkü arada virgül yok.\n",
    "aaaaa = [[12, 34, 56],[0,1]]  # virgül olunca onu da bir list olarak alır\n",
    "print(aaaaa)"
   ]
  },
  {
   "cell_type": "code",
   "execution_count": null,
   "metadata": {
    "colab": {
     "base_uri": "https://localhost:8080/"
    },
    "executionInfo": {
     "elapsed": 635,
     "status": "ok",
     "timestamp": 1666290808620,
     "user": {
      "displayName": "F4033-Kadir",
      "userId": "00693449641329635795"
     },
     "user_tz": -120
    },
    "id": "n8hWLPjYq4L7",
    "outputId": "cb75f649-2761-4b79-9769-6142836f539b"
   },
   "outputs": [
    {
     "name": "stdout",
     "output_type": "stream",
     "text": [
      "3\n"
     ]
    }
   ],
   "source": [
    "print(len([[1, 2, 3]] [0]))  \n",
    "# arada comma olmamasına dikkat. bu indexin sifirinci elemaninin uzunluğunu soruyor, 3 elementli o da. "
   ]
  },
  {
   "cell_type": "code",
   "execution_count": null,
   "metadata": {
    "colab": {
     "base_uri": "https://localhost:8080/"
    },
    "executionInfo": {
     "elapsed": 7,
     "status": "ok",
     "timestamp": 1666119055343,
     "user": {
      "displayName": "F4033-Kadir",
      "userId": "00693449641329635795"
     },
     "user_tz": -120
    },
    "id": "zsx1yjXDbxA6",
    "outputId": "823b2298-873d-4691-a215-57af6995f440"
   },
   "outputs": [
    {
     "name": "stdout",
     "output_type": "stream",
     "text": [
      "['a', 'n', 'a', 'd', 'o', 'l', 'u']\n",
      "7\n",
      "[1, 2, 3, [1, 2], [1, 2, 3], [123], '[1,2,3]', ['1,2,3'], ['a', 'n', 'a', 'd', 'o', 'l', 'u']]\n",
      "9\n"
     ]
    }
   ],
   "source": [
    "x = \"anadolu\"\n",
    "list(x)\n",
    "print(list(x))\n",
    "print(len(list(x)))\n",
    "y = [1, 2, 3, [1,2], [1,2,3], [123], \"[1,2,3]\", [\"1,2,3\"]]\n",
    "y.append(list(x))\n",
    "print(y)\n",
    "print(len(y))"
   ]
  },
  {
   "cell_type": "code",
   "execution_count": null,
   "metadata": {
    "colab": {
     "base_uri": "https://localhost:8080/"
    },
    "executionInfo": {
     "elapsed": 238,
     "status": "ok",
     "timestamp": 1666287462597,
     "user": {
      "displayName": "F4033-Kadir",
      "userId": "00693449641329635795"
     },
     "user_tz": -120
    },
    "id": "u2OMtIE_4-fV",
    "outputId": "2631d99e-ca87-461b-d194-a7cc7a3202ca"
   },
   "outputs": [
    {
     "name": "stdout",
     "output_type": "stream",
     "text": [
      "Jim\n",
      "Dennis\n",
      "Den\n",
      "Dennis\n",
      "J\n"
     ]
    }
   ],
   "source": [
    "attendants = [['John', 'Jason', 'Jim', 'Dennis', 'Julian', 'Jan']]\n",
    "print(attendants[0][2]) # Attendants is a list type data. So that, we can still access its elements via indexing.\n",
    "# Eğer sadece print(attendants[2] deseydim error verirdi. ama bu o nolu indexin 2. elementini getir demek)\n",
    "print(attendants[0][3])\n",
    "print(attendants[0][3][0:3])\n",
    "# bir başka örnek:\n",
    "participants = [\"John\", \"Jason\", \"Jim\", \"Dennis\", \"Julian\", \"Jan\"]\n",
    "print(participants[3])  # index 3'ü getirir\n",
    "print(participants[0] [0])  # ilk indexin ilk indexini getirir. bu outputtak harf stringdir unutma."
   ]
  },
  {
   "cell_type": "code",
   "execution_count": null,
   "metadata": {
    "colab": {
     "base_uri": "https://localhost:8080/"
    },
    "executionInfo": {
     "elapsed": 6,
     "status": "ok",
     "timestamp": 1666010852225,
     "user": {
      "displayName": "F4033-Kadir",
      "userId": "00693449641329635795"
     },
     "user_tz": -120
    },
    "id": "tML99VJK7C67",
    "outputId": "b8e5038a-bd4b-4cfe-d444-3c3f2ce99a46"
   },
   "outputs": [
    {
     "name": "stdout",
     "output_type": "stream",
     "text": [
      "[['apple', 'banana', 'watermelon', 'orange', 'mango', 'avocado']]\n",
      "l\n"
     ]
    }
   ],
   "source": [
    "fruits = ['apple', 'banana', 'watermelon', 'orange', 'mango', 'avocado']\n",
    "fruit_list = []\n",
    "fruit_list.insert(0, fruits)\n",
    "print(fruit_list)\n",
    "print(fruit_list[0][2][7])  # 0. fruits, onun 2si watermelon ve onun 7si l"
   ]
  },
  {
   "cell_type": "code",
   "execution_count": null,
   "metadata": {
    "colab": {
     "base_uri": "https://localhost:8080/"
    },
    "executionInfo": {
     "elapsed": 85,
     "status": "ok",
     "timestamp": 1665949247725,
     "user": {
      "displayName": "F4033-Kadir",
      "userId": "00693449641329635795"
     },
     "user_tz": -120
    },
    "id": "zGsyTVzfMl4F",
    "outputId": "88a455d0-96e9-4a00-c3c8-7b02814cb279"
   },
   "outputs": [
    {
     "name": "stdout",
     "output_type": "stream",
     "text": [
      "['eggplant', 'spinach', 'leek']\n"
     ]
    }
   ],
   "source": [
    "# Select and print the vegetables from the following list using indexing and slicing methods. \n",
    "# Note that, except from the given list (grocer), your program must consist of a single line of code. \n",
    "grocer = [\"banana\", [\"orange\", [\"apple\", \"eggplant\", \"melon\", \"spinach\", \"cheese\", \"leek\" ], \"water\"], \"mandarin\"]\n",
    "print(grocer[1][1][1::2])"
   ]
  },
  {
   "cell_type": "code",
   "execution_count": null,
   "metadata": {
    "colab": {
     "base_uri": "https://localhost:8080/"
    },
    "executionInfo": {
     "elapsed": 450,
     "status": "ok",
     "timestamp": 1666176662957,
     "user": {
      "displayName": "F4033-Kadir",
      "userId": "00693449641329635795"
     },
     "user_tz": -120
    },
    "id": "vo1uKSKYOP88",
    "outputId": "843035ae-415f-438f-986e-73fdd454ea97"
   },
   "outputs": [
    {
     "name": "stdout",
     "output_type": "stream",
     "text": [
      "tulip\n",
      "rose\n",
      "blue\n",
      "green\n",
      "My two favorite flowers are tulip and rose, two favorite colors are blue and green.\n"
     ]
    }
   ],
   "source": [
    "# Considering the following flowers and colors lists, write the program using .format() \n",
    "# and list indexing methods that will print out the text below. \n",
    "# text = \"My two favorite flowers are tulip and rose, two favorite colors are blue and green.\"\n",
    "flowers = [[\"jasmine\", [\"lavender\", \"rose\"], \"tulip\"]]\n",
    "colors = [\"red\", (\"blue\", [\"yellow\", \"green\"]), \"pink\"]\n",
    "print(flowers[0][2])\n",
    "print(flowers[0][1][1])\n",
    "print(colors[1][0])\n",
    "print(colors[1][1][1])\n",
    "text = \"My two favorite flowers are {0} and {1}, two favorite colors are {2} and {3}.\".format(flowers[0][2], flowers[0][1][1], colors[1][0], colors[1][1][1])\n",
    "print(text)"
   ]
  },
  {
   "cell_type": "markdown",
   "metadata": {
    "id": "qFxmmtEx9DtX"
   },
   "source": [
    "**Slicing a List**\n",
    "\n",
    "We can access individual elements of a list, as well as part of those items. We use index numbers again for slicing. Slicing is just similar to indexing. The **difference is adding colon or colons in square brackets.**Formula syntax for slicing:\n",
    "\n",
    "**The formula syntax is** : sequence[start:stop:step]\n",
    "\n",
    "This formula produces a slice of the sequence where start is an index of the first element required (the element is included in the slice) and stop is an index of the end element (the element is not included in the slice), step is an interval between elements to be chosen.\n",
    "\n",
    "hangi tip veriyi slicelıyorsan elde ettiğin slice da o tip olur. Str ise str, list ise list, tuple ise tuple..."
   ]
  },
  {
   "cell_type": "code",
   "execution_count": null,
   "metadata": {
    "colab": {
     "base_uri": "https://localhost:8080/"
    },
    "executionInfo": {
     "elapsed": 362,
     "status": "ok",
     "timestamp": 1666290292408,
     "user": {
      "displayName": "F4033-Kadir",
      "userId": "00693449641329635795"
     },
     "user_tz": -120
    },
    "id": "kD_3CUdz8tmC",
    "outputId": "be598ed8-03cc-4f3a-b79a-fae8386e8320"
   },
   "outputs": [
    {
     "name": "stdout",
     "output_type": "stream",
     "text": [
      "[0, 1, 2, 3, 4, 5, 6, 7, 8, 9, 10]\n",
      "[0, 2, 4, 6, 8, 10]\n",
      "[0, 2, 4, 6, 8, 10]\n"
     ]
    }
   ],
   "source": [
    "# create a list from 0 to 10 and print the even numbers.\n",
    "count = list(range(11)) # range liste oluşturur. () içindeki sayı kadar index oluştrurur.\n",
    "# range() function returns an object that produces a sequence of integers \n",
    "# from start (including) to stop (excluding) by step.\n",
    "# The formula syntax is : range(start, stop[, step])\n",
    "print(count)\n",
    "print(count[0:11:2])\n",
    "# bu soyle de yapilabilir\n",
    "print(list(range(0,11,2)))"
   ]
  },
  {
   "cell_type": "code",
   "execution_count": null,
   "metadata": {
    "colab": {
     "base_uri": "https://localhost:8080/"
    },
    "executionInfo": {
     "elapsed": 389,
     "status": "ok",
     "timestamp": 1666290414493,
     "user": {
      "displayName": "F4033-Kadir",
      "userId": "00693449641329635795"
     },
     "user_tz": -120
    },
    "id": "QWR93Ob1oATC",
    "outputId": "5e3b7db4-6857-4f29-9699-14b56c5f5e46"
   },
   "outputs": [
    {
     "name": "stdout",
     "output_type": "stream",
     "text": [
      "[1, 4, 7, 10, 13, 16, 19, 22, 25, 28, 31, 34, 37, 40, 43, 46, 49, 52, 55, 58, 61, 64, 67, 70, 73, 76, 79, 82, 85, 88, 91, 94, 97]\n",
      "[4, 10, 16, 22, 28, 34, 40, 46, 52, 58, 64, 70, 76, 82, 88, 94]\n",
      "[11, 10, 9, 8, 7, 6, 5, 4, 3, 2, 1]\n"
     ]
    }
   ],
   "source": [
    "# range ile ilgili bir örnek:\n",
    "od=list(range(1,100,3))\n",
    "print(od)\n",
    "print(od[1::2])\n",
    "\n",
    "print(list(range(11, 0, -1)))  # ters gideceği için start stopta 11 ve 0 yer değiştirmeli."
   ]
  },
  {
   "cell_type": "markdown",
   "metadata": {
    "id": "r01D8Di7-qvK"
   },
   "source": [
    "Each part of the slice has a default value, so they are optional. If we don't assign a value to the start index, it is considered to be 0; if we don't assign a value to the stop index, it will be the same as the length of the sequence.\n",
    "\n",
    "my_list[:]: returns the full copy of the sequence\n",
    "\n",
    "my_list[start:] : returns elements from start to the end element\n",
    "\n",
    "my_list[:stop] : returns element from the 1st element to stop-1\n",
    "\n",
    "my_list[::step] : returns each element with a given step"
   ]
  },
  {
   "cell_type": "code",
   "execution_count": null,
   "metadata": {
    "colab": {
     "base_uri": "https://localhost:8080/"
    },
    "executionInfo": {
     "elapsed": 51,
     "status": "ok",
     "timestamp": 1665949247727,
     "user": {
      "displayName": "F4033-Kadir",
      "userId": "00693449641329635795"
     },
     "user_tz": -120
    },
    "id": "WwWcUYSY9ptZ",
    "outputId": "f68c6263-05f8-4ad4-9889-d6d488c32ce7"
   },
   "outputs": [
    {
     "name": "stdout",
     "output_type": "stream",
     "text": [
      "['elephant', 'bear', 'fox', 'wolf', 'rabbit', 'deer', 'giraffe']\n",
      "['wolf', 'rabbit', 'deer', 'giraffe']\n",
      "['elephant', 'bear', 'fox', 'wolf', 'rabbit']\n",
      "['elephant', 'fox', 'rabbit', 'giraffe']\n"
     ]
    }
   ],
   "source": [
    "animals = ['elephant', 'bear', 'fox', 'wolf', 'rabbit', 'deer', 'giraffe']\n",
    "print(animals[:])  # all elements of the list\n",
    "print(animals[3:])  # this slices the list from 3rd element to the end(stop -1)\n",
    "print(animals[:5])  # slices the list from index=0 to the index=4\n",
    "print(animals[::2])  # slices the list from index 0 to the end with 2 step"
   ]
  },
  {
   "cell_type": "code",
   "execution_count": null,
   "metadata": {
    "colab": {
     "base_uri": "https://localhost:8080/"
    },
    "executionInfo": {
     "elapsed": 45,
     "status": "ok",
     "timestamp": 1665949247727,
     "user": {
      "displayName": "F4033-Kadir",
      "userId": "00693449641329635795"
     },
     "user_tz": -120
    },
    "id": "oqzmQ_4-_azt",
    "outputId": "8e46a6f2-bf27-4dd4-eeb0-17286d20e762"
   },
   "outputs": [
    {
     "name": "stdout",
     "output_type": "stream",
     "text": [
      "[10, 12, 14, 16, 18]\n"
     ]
    }
   ],
   "source": [
    "even_numbers = [2, 4, 6, 8, 10, 12, 14, 16, 18, 20]  # soyle de verir bunu: print(list(range(2, 21, 2)))\n",
    "print(even_numbers[4:9])"
   ]
  },
  {
   "cell_type": "code",
   "execution_count": null,
   "metadata": {
    "colab": {
     "base_uri": "https://localhost:8080/"
    },
    "executionInfo": {
     "elapsed": 401,
     "status": "ok",
     "timestamp": 1666291259409,
     "user": {
      "displayName": "F4033-Kadir",
      "userId": "00693449641329635795"
     },
     "user_tz": -120
    },
    "id": "C11vzK51sgLr",
    "outputId": "1f004fb5-a9e4-4780-bad4-3fee790d9e28"
   },
   "outputs": [
    {
     "name": "stdout",
     "output_type": "stream",
     "text": [
      "['one', 'two', 'three']\n"
     ]
    }
   ],
   "source": [
    "# aş. listede stringlileri slicela\n",
    "mix_list = [1, [1, \"one\", 2, \"two\", 3, \"three\"], 4]\n",
    "print(mix_list[1][1::2])"
   ]
  },
  {
   "cell_type": "markdown",
   "metadata": {
    "id": "Wd94mAl2B7fD"
   },
   "source": [
    "**Negative Indexing & Slicing**\n",
    "\n",
    "The negative indexing works in reverse. We can reach the last element of a list as list_name[-1]."
   ]
  },
  {
   "cell_type": "code",
   "execution_count": null,
   "metadata": {
    "colab": {
     "base_uri": "https://localhost:8080/"
    },
    "executionInfo": {
     "elapsed": 39,
     "status": "ok",
     "timestamp": 1665949247727,
     "user": {
      "displayName": "F4033-Kadir",
      "userId": "00693449641329635795"
     },
     "user_tz": -120
    },
    "id": "AI1Bp1zZAy1u",
    "outputId": "c6ba026f-e0ca-41cb-9c99-998efd62c41d"
   },
   "outputs": [
    {
     "name": "stdout",
     "output_type": "stream",
     "text": [
      "London\n"
     ]
    }
   ],
   "source": [
    "city = ['New York', 'London', 'Istanbul', 'Seoul', 'Sydney']\n",
    "print(city[-4])"
   ]
  },
  {
   "cell_type": "code",
   "execution_count": null,
   "metadata": {
    "colab": {
     "base_uri": "https://localhost:8080/"
    },
    "executionInfo": {
     "elapsed": 33,
     "status": "ok",
     "timestamp": 1665949247727,
     "user": {
      "displayName": "F4033-Kadir",
      "userId": "00693449641329635795"
     },
     "user_tz": -120
    },
    "id": "bUlpNAGcDUel",
    "outputId": "dad7d5bb-b7af-49fc-856d-a35b9ce05445"
   },
   "outputs": [
    {
     "name": "stdout",
     "output_type": "stream",
     "text": [
      "['lobster', 'squid', 'octopus']\n",
      "['swordfish', 'shark', 'whale', 'jellyfish']\n",
      "['octopus', 'squid', 'lobster', 'jellyfish', 'whale', 'shark', 'swordfish']\n",
      "['octopus', 'lobster', 'whale', 'swordfish']\n"
     ]
    }
   ],
   "source": [
    "reef = ['swordfish', 'shark', 'whale', 'jellyfish', 'lobster', 'squid', 'octopus']\n",
    "print(reef[-3:])  # from index -3 to the end\n",
    "print(reef[:-3])  # from the begining to the index -3\n",
    "print(reef[::-1])  # the reverse of the list\n",
    "print(reef[::-2])  # from the end to the beginning with 2 steps "
   ]
  },
  {
   "cell_type": "code",
   "execution_count": null,
   "metadata": {
    "colab": {
     "base_uri": "https://localhost:8080/"
    },
    "executionInfo": {
     "elapsed": 28,
     "status": "ok",
     "timestamp": 1665949247728,
     "user": {
      "displayName": "F4033-Kadir",
      "userId": "00693449641329635795"
     },
     "user_tz": -120
    },
    "id": "F5Vpz_1SD_-u",
    "outputId": "aaf0969e-3b4b-4c22-e2ca-f9055de5dcff"
   },
   "outputs": [
    {
     "name": "stdout",
     "output_type": "stream",
     "text": [
      "[8, 7, 6, 5]\n",
      "[]\n"
     ]
    }
   ],
   "source": [
    "odd_no = [1, 2, 3, 4, 5, 6, 7, 8, 9, 10]\n",
    "print(odd_no[7:3:-1])\n",
    "print(odd_no[2:6:-1])  # none return etti. - gidebilmesi için ilerdeki indexten baslayip basa gitmesi lazim."
   ]
  },
  {
   "cell_type": "markdown",
   "metadata": {
    "id": "cpoMn2mcaJLt"
   },
   "source": [
    "**Hatırlatma**:\n",
    "\n",
    "**splt() fonksiyonu** bir stringi belirtilen elementten böler ve listeye cevirir.\n",
    "**().join(list_name)** ise list'i belirtilen elementle birleştirip string'e geri cevirir."
   ]
  },
  {
   "cell_type": "code",
   "execution_count": null,
   "metadata": {
    "colab": {
     "base_uri": "https://localhost:8080/"
    },
    "executionInfo": {
     "elapsed": 316,
     "status": "ok",
     "timestamp": 1666605373282,
     "user": {
      "displayName": "F4033-Kadir",
      "userId": "00693449641329635795"
     },
     "user_tz": -120
    },
    "id": "UOqlCLnnaqMb",
    "outputId": "86ded020-8455-46db-9913-5ca8b5ab2608"
   },
   "outputs": [
    {
     "name": "stdout",
     "output_type": "stream",
     "text": [
      "Her _gün,# _her _hafta,# _bilgime _yeni _bilgiler _katıyorum,# _bu _beni _çok _motive _ediyor.\n"
     ]
    }
   ],
   "source": [
    "# Task: \"Her gün, her hafta, bilgime yeni bilgiler katıyorum, bu beni çok motive ediyor.\" \n",
    "# textinde her virgülden sonra \"#\" karakteri, her boşluktan sonra da \"_\" karakteri gelsin istiyoruz.\n",
    "text = \"Her gün, her hafta, bilgime yeni bilgiler katıyorum, bu beni çok motive ediyor.\"\n",
    "text2 = text.split()  # liste yapar. parantez içi default olarak boşluklardan ayırır.\n",
    "text3 = \" _\".join(text2)  # listeyi geri string yapar\n",
    "text4 = text3.split(\",\")  \n",
    "print(\",#\".join(text4))"
   ]
  },
  {
   "cell_type": "code",
   "execution_count": null,
   "metadata": {
    "colab": {
     "base_uri": "https://localhost:8080/"
    },
    "executionInfo": {
     "elapsed": 5,
     "status": "ok",
     "timestamp": 1666778992726,
     "user": {
      "displayName": "F4033-Kadir",
      "userId": "00693449641329635795"
     },
     "user_tz": -120
    },
    "id": "yz9rTD2RbL7b",
    "outputId": "c9c97856-9089-44dd-b6a5-d53af0e7a88e"
   },
   "outputs": [
    {
     "name": "stdout",
     "output_type": "stream",
     "text": [
      "['mailto: Clarusway admission', 'clarusway.com, 21 Eki 2022 Cuma, 21:08 tarihinde şunu yazdı:']\n",
      "clarusway.com\n",
      "\n",
      "clarusway.com\n",
      "\n",
      "clarusway.com\n"
     ]
    }
   ],
   "source": [
    "# Task: asagidaki string'den sadece \"clarusway.com\"u print edelim.\n",
    "mail = \"mailto: Clarusway admission@clarusway.com, 21 Eki 2022 Cuma, 21:08 tarihinde şunu yazdı:\"\n",
    "aaa = mail.split('@')  # @ işaretinden ayırdı ve list' iki elemente böldü.\n",
    "print(aaa)\n",
    "print(aaa[1][:13])  # 1. index icinde baştan basla 13e kadar getir.\n",
    "print()\n",
    "# peki eğer getirecegimiz kismin len'ini bilmiyorsak?:\n",
    "mail = \"mailto: Clarusway admission@clarusway.com, 21 Eki 2022 Cuma, 21:08 tarihinde şunu yazdı:\"\n",
    "aaa = mail.index('clarusway.com')  # bunun ciktisi 28  # ilk bulduğunun index nosunu verir.\n",
    "bbb = len('clarusway.com')  # bunun ciktisi 13 \n",
    "print(mail[aaa:aaa+bbb])  # mail[28:28+13]: 28den 41e kadar getir demek.\n",
    "print()\n",
    "# index yerine find fonksiyonu da aynı işlevi görür:\n",
    "mail = \"mailto: Clarusway admission@clarusway.com, 21 Eki 2022 Cuma, 21:08 tarihinde şunu yazdı:\"\n",
    "aaa = mail.find('clarusway.com')  # bunun ciktisi 28\n",
    "bbb = len('clarusway.com')  # bunun ciktisi 13 \n",
    "print(mail[aaa:aaa+bbb])  # mail[28:28+13]"
   ]
  },
  {
   "cell_type": "markdown",
   "metadata": {
    "id": "-OLBBmx1cerm"
   },
   "source": [
    "**Enumerate method**\n",
    "\n",
    "Enumerate() method adds a counter to an **iterable **and returns it in a form of enumerating object. Eğer değer girmezsek default olarak 0'dan başlayarak numaralandırır."
   ]
  },
  {
   "cell_type": "code",
   "execution_count": null,
   "metadata": {
    "colab": {
     "base_uri": "https://localhost:8080/"
    },
    "executionInfo": {
     "elapsed": 6,
     "status": "ok",
     "timestamp": 1666779346383,
     "user": {
      "displayName": "F4033-Kadir",
      "userId": "00693449641329635795"
     },
     "user_tz": -120
    },
    "id": "CkgcgeF4dHgT",
    "outputId": "76938791-fa60-4b35-9edd-9a67409f033f"
   },
   "outputs": [
    {
     "name": "stdout",
     "output_type": "stream",
     "text": [
      "[(756, 'Jason'), (757, 'Julia'), (758, 'John'), (759, 'Jack'), (760, 'Jim')]\n",
      "[(756, 'John'), (757, 'Jack')]\n",
      "[(0, 'g'), (1, 'a'), (2, 'l'), (3, 'a'), (4, 't'), (5, 'a'), (6, 's'), (7, 'a'), (8, 'r'), (9, 'a'), (10, 'y')]\n",
      "{1: 'g', 2: 'a', 3: 'l', 4: 'a', 5: 't', 6: 'a', 7: 's', 8: 'a', 9: 'r', 10: 'a', 11: 'y'}\n"
     ]
    }
   ],
   "source": [
    "members = [\"Jason\", \"Julia\", \"John\", \"Jack\", \"Jim\"]\n",
    "# mesela üyeleri üye noları ile listeleyelim. İlk üye nosu 756 olsun\n",
    "# kendimiz numara vermezsek default olarak 0'dan başlar\n",
    "print(list(enumerate(members, 756)))\n",
    "print(list(enumerate(members[2:4], 756)))  # istersek sadece belli bir slice'ı da numaralandırabiliriz\n",
    "aaa = \"galatasaray\"\n",
    "print(list(enumerate(aaa)))  # str ile denedim calismadi, list ile calisiyor. list'siz de calismiyor\n",
    "# bunu dict yapabilir miyiz:\n",
    "bbb = dict(list(enumerate(aaa, 1)))\n",
    "print(bbb)  # yapabiliyoruz."
   ]
  },
  {
   "cell_type": "markdown",
   "metadata": {
    "id": "CGtDNQX0Z96j"
   },
   "source": [
    "**Assignment, Quiz and Tasks**"
   ]
  },
  {
   "cell_type": "code",
   "execution_count": 1,
   "metadata": {},
   "outputs": [
    {
     "name": "stdout",
     "output_type": "stream",
     "text": [
      "4\n"
     ]
    }
   ],
   "source": [
    "# Task: arraydeki eksik sayıyı bulunuz. eger 0,1,3 ise 2 dir, 0,1 ise 2 dir\n",
    "\n",
    "numbers = [9,1,6,3,8,0,7,5,2]\n",
    "def missing_number(array):\n",
    "    x = max(array)\n",
    "    total = x*(x+1)/2\n",
    "    i = total-sum(array)\n",
    "    if i != 0:\n",
    "        print(int(i))\n",
    "    else:\n",
    "        print(x+1)\n",
    "              \n",
    "missing_number(numbers)\n"
   ]
  },
  {
   "cell_type": "code",
   "execution_count": 2,
   "metadata": {},
   "outputs": [
    {
     "name": "stdout",
     "output_type": "stream",
     "text": [
      "[4]\n"
     ]
    }
   ],
   "source": [
    "# ya da:\n",
    "\n",
    "numbers = [9,1,6,3,8,0,7,5,2]\n",
    "\n",
    "sorted_num = sorted(numbers)\n",
    "range_sorted_num= (list(range(sorted_num[0], sorted_num[-1]+1)))\n",
    "\n",
    "if len(range_sorted_num)!= len(sorted_num):\n",
    "    if len(range_sorted_num) > len(sorted_num):\n",
    "        print(list(set(range_sorted_num) - set(sorted_num)))\n",
    "    else:\n",
    "        print(set(sorted_num) - set(range_sorted_num))\n",
    "elif len(sorted_num) == 2 and sorted_num[1] == sorted_num[0]+1:\n",
    "    print(sorted_num[1]+1)"
   ]
  },
  {
   "cell_type": "code",
   "execution_count": 1,
   "metadata": {},
   "outputs": [
    {
     "data": {
      "text/plain": [
       "[5, 6]"
      ]
     },
     "execution_count": 1,
     "metadata": {},
     "output_type": "execute_result"
    }
   ],
   "source": [
    "# find the missing numbers in an array such as [4,3,2,7,8,3,2,1]\n",
    "\n",
    "numbers = [4,3,2,7,8,3,2,1]\n",
    "sorted_num = sorted(numbers)\n",
    "\n",
    "def missing_num(n):\n",
    "    return list(set(range(n[0], n[-1])) - set(n))\n",
    "\n",
    "missing_num(sorted_num)"
   ]
  },
  {
   "cell_type": "code",
   "execution_count": null,
   "metadata": {
    "colab": {
     "base_uri": "https://localhost:8080/"
    },
    "executionInfo": {
     "elapsed": 6,
     "status": "ok",
     "timestamp": 1665949833693,
     "user": {
      "displayName": "F4033-Kadir",
      "userId": "00693449641329635795"
     },
     "user_tz": -120
    },
    "id": "z0k4SKusMVQy",
    "outputId": "3da6e1d9-9f10-40e2-c41f-ed0ae88d247c"
   },
   "outputs": [
    {
     "name": "stdout",
     "output_type": "stream",
     "text": [
      "Data Science is my IT domain.\n"
     ]
    }
   ],
   "source": [
    "# Re-arrange the sentence using the escape sequences from the list using .format() and \n",
    "# list indexing methods to get the following output.\n",
    "sentence = \"I am 40 years old. I have two children. Data Science is my IT domain.\"\n",
    "# I am 40 years old.\n",
    "   # I have two children.\n",
    "       # Data Science is my IT domain.\n",
    "# escapes = [\"\\n\\t\", (\"\\t\", \"\\t\\t\"), [\"\\n\", \"\\n\\t\\t\"]]\n",
    "escapes = [\"\\n\\t\", (\"\\t\", \"\\t\\t\"), [\"\\n\", \"\\n\\t\\t\"]]\n",
    "seq1 = escapes[0]\n",
    "seq2 = escapes [2][1]\n",
    "sentence = [sentence]\n",
    "part1 = (sentence[0][0:18])\n",
    "part2 = (sentence[0][18:39])\n",
    "part3 = (sentence[0][-29:])"
   ]
  },
  {
   "cell_type": "code",
   "execution_count": null,
   "metadata": {
    "colab": {
     "base_uri": "https://localhost:8080/"
    },
    "executionInfo": {
     "elapsed": 316,
     "status": "ok",
     "timestamp": 1665950919350,
     "user": {
      "displayName": "F4033-Kadir",
      "userId": "00693449641329635795"
     },
     "user_tz": -120
    },
    "id": "z-WMo6tYZNcL",
    "outputId": "f0f78bfd-1d01-4709-fb49-b10fd22e8f5e"
   },
   "outputs": [
    {
     "name": "stdout",
     "output_type": "stream",
     "text": [
      "I am 40 years old.\n",
      "\t I have two children.\n",
      "\t\tData Science is my IT domain.\n"
     ]
    }
   ],
   "source": [
    "sentence = \"{}{}{}{}{}\".format(part1, seq1, part2, seq2, part3)\n",
    "print(sentence)"
   ]
  },
  {
   "cell_type": "code",
   "execution_count": null,
   "metadata": {
    "colab": {
     "base_uri": "https://localhost:8080/"
    },
    "executionInfo": {
     "elapsed": 9,
     "status": "ok",
     "timestamp": 1666091040799,
     "user": {
      "displayName": "F4033-Kadir",
      "userId": "00693449641329635795"
     },
     "user_tz": -120
    },
    "id": "q9jC2TwSXLAo",
    "outputId": "56903478-47ea-4860-c7b4-97dbe5b2ec24"
   },
   "outputs": [
    {
     "name": "stdout",
     "output_type": "stream",
     "text": [
      " the most frequent number is 4 and it was 5 times repeated\n"
     ]
    }
   ],
   "source": [
    "# TASK : Write a program that;\n",
    "# Finds out the most frequent number in the given list.\n",
    "# Calculates its frequency.\n",
    "# Prints out the result such as : the most frequent number is x and it was y times repeated\n",
    "\n",
    "numbers = [1, 2, 3, 4, 7, 9, 5, 4, 9, 4, 3, 5, 6, 6, 8, 2, 4, 5, 8, 8, 5, 4, 3, 7, 6]\n",
    "from collections import Counter\n",
    "def most_frequent(numbers):\n",
    "    occurrence_count = Counter(numbers)\n",
    "    return occurrence_count.most_common (1) [0] [0]\n",
    "count_most_freq = numbers.count(most_frequent(numbers))  # Use .count() to Count Number of Occurrences in a Python List\n",
    "                              \n",
    "print(f\" the most frequent number is {most_frequent(numbers)} and it was {count_most_freq} times repeated\")"
   ]
  },
  {
   "cell_type": "code",
   "execution_count": null,
   "metadata": {
    "colab": {
     "base_uri": "https://localhost:8080/"
    },
    "executionInfo": {
     "elapsed": 237,
     "status": "ok",
     "timestamp": 1666720080468,
     "user": {
      "displayName": "F4033-Kadir",
      "userId": "00693449641329635795"
     },
     "user_tz": -120
    },
    "id": "flyu2olrIip5",
    "outputId": "3ed0f4e1-59bd-4d4b-d49d-d811f3ec23f6"
   },
   "outputs": [
    {
     "name": "stdout",
     "output_type": "stream",
     "text": [
      "7\n",
      "y\n",
      "3\n",
      "4\n",
      "The most frequent number is 3 and it was 4 times repeated.\n"
     ]
    }
   ],
   "source": [
    "numbers = [1,3,7,4,3,6,0,3,6,3,7,6,6]\n",
    "print(max(numbers))  # max bir iterable objectteki en büyük valueyu return eder(örn max(11, 1, 35) 35 i return eder.)\n",
    "print(max('clarusway'))  # en büyük ascii code y'de burda.\n",
    "numbers.count(max(numbers))\n",
    "# max fonsiyonunun default key. fonksiyonunu değiştireceğiz simdi.\n",
    "print(max(numbers, key = numbers.count))  # key değişti, artik elementleri sayip max olarak en cok count edeni aliyor.\n",
    "# listemizde 2 tane var 4 kere olan. bu fonksiyon ilkini alir.\n",
    "print(numbers.count(3))\n",
    "print(f\"The most frequent number is {max(numbers, key = numbers.count)} and it was \\\n",
    "{numbers.count(max(numbers, key = numbers.count))} times repeated.\")"
   ]
  },
  {
   "cell_type": "code",
   "execution_count": null,
   "metadata": {
    "id": "PzmNuHaNcfC6"
   },
   "outputs": [],
   "source": []
  }
 ],
 "metadata": {
  "accelerator": "GPU",
  "colab": {
   "authorship_tag": "ABX9TyNnacoR7Aomwk/2Qv2Aqm2H",
   "collapsed_sections": [],
   "provenance": []
  },
  "kernelspec": {
   "display_name": "Python 3 (ipykernel)",
   "language": "python",
   "name": "python3"
  },
  "language_info": {
   "codemirror_mode": {
    "name": "ipython",
    "version": 3
   },
   "file_extension": ".py",
   "mimetype": "text/x-python",
   "name": "python",
   "nbconvert_exporter": "python",
   "pygments_lexer": "ipython3",
   "version": "3.9.12"
  }
 },
 "nbformat": 4,
 "nbformat_minor": 4
}
