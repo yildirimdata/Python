{
 "cells": [
  {
   "cell_type": "markdown",
   "id": "58a5480f-e36d-44ec-b982-defbe5f7823b",
   "metadata": {},
   "source": [
    "# Errors and Exceptions\n",
    "\n",
    "In Python, there are two types of errors: syntax error and exceptions.\n",
    "\n",
    "**Syntax Error**: It is also known as parsing errors. Errors are issues in a program which may cause it to exit abnormally. When an error is detected, the parser repeats the offending line and then displays an arrow which points at the earliest point in the line.\n",
    "\n",
    "**Exceptions**: Exceptions take place in a program when the normal flow of the program is interrupted due to the occurrence of an external event. Even if the syntax of the program is correct, there are chances of detecting an error during execution, this error is nothing but an exception. Some of the examples of exceptions are - ZeroDivisionError, TypeError and NameError."
   ]
  },
  {
   "cell_type": "markdown",
   "id": "4300d9c3-6cbb-484f-b4e0-a65e3108aa3e",
   "metadata": {},
   "source": [
    "**Some examples of standard errors that occour in Python.**\n",
    "\n",
    "\n",
    "**TypeError**- It occurs when the expected type does not match with the given type of a variable.\n",
    "\n",
    "**ValueError**- It occurs when an expected value is not given, suppose you are expecting 6 elements in a list and you gave 2.\n",
    "\n",
    "**NameError**- It occurs when you are trying to access an undefined variable or a function.\n",
    "\n",
    "**IOError**- It occurs when you are trying to access a file that does not exist.\n",
    "\n",
    "**IndexError**- It occurs when you are trying to access an invalid index of a sequence.\n",
    "\n",
    "**KeyError**- It occurs when you use an invalid key to access a value in the dictionary."
   ]
  },
  {
   "cell_type": "markdown",
   "id": "c47e1926-421e-4ab1-88ca-6506bd03b535",
   "metadata": {},
   "source": [
    "**Try-Except Statement as a way to handle the errors**\n",
    "\n",
    "We can ensure that our program continues without hesitation by using the try-except statement. The basic structure of try-except statement looks like :\n",
    "\n",
    "try:\n",
    "\n",
    "-------code block to be normally executed\n",
    "\n",
    "except:\n",
    "\n",
    "-------code block to be exceptionally executed"
   ]
  },
  {
   "cell_type": "code",
   "execution_count": 19,
   "id": "121268f0-9962-4032-8eff-52c04c0f17e2",
   "metadata": {},
   "outputs": [
    {
     "name": "stdout",
     "output_type": "stream",
     "text": [
      "hello\n",
      "hello\n",
      "hello\n",
      "hello\n"
     ]
    },
    {
     "ename": "ZeroDivisionError",
     "evalue": "division by zero",
     "output_type": "error",
     "traceback": [
      "\u001b[0;31m---------------------------------------------------------------------------\u001b[0m",
      "\u001b[0;31mZeroDivisionError\u001b[0m                         Traceback (most recent call last)",
      "Input \u001b[0;32mIn [19]\u001b[0m, in \u001b[0;36m<cell line: 5>\u001b[0;34m()\u001b[0m\n\u001b[1;32m      3\u001b[0m \u001b[38;5;28mprint\u001b[39m(\u001b[38;5;124m\"\u001b[39m\u001b[38;5;124mhello\u001b[39m\u001b[38;5;124m\"\u001b[39m)\n\u001b[1;32m      4\u001b[0m \u001b[38;5;28mprint\u001b[39m(\u001b[38;5;124m\"\u001b[39m\u001b[38;5;124mhello\u001b[39m\u001b[38;5;124m\"\u001b[39m)\n\u001b[0;32m----> 5\u001b[0m \u001b[38;5;241;43m2\u001b[39;49m\u001b[38;5;241;43m/\u001b[39;49m\u001b[38;5;241;43m0\u001b[39;49m\n\u001b[1;32m      6\u001b[0m \u001b[38;5;28mprint\u001b[39m(\u001b[38;5;124m\"\u001b[39m\u001b[38;5;124mhello\u001b[39m\u001b[38;5;124m\"\u001b[39m)\n\u001b[1;32m      7\u001b[0m \u001b[38;5;28mprint\u001b[39m(\u001b[38;5;124m\"\u001b[39m\u001b[38;5;124mhello\u001b[39m\u001b[38;5;124m\"\u001b[39m)\n",
      "\u001b[0;31mZeroDivisionError\u001b[0m: division by zero"
     ]
    }
   ],
   "source": [
    "print(\"hello\")\n",
    "print(\"hello\")\n",
    "print(\"hello\")\n",
    "print(\"hello\")\n",
    "2/0  # buraya kadar calisip erroru burada verecek.\n",
    "print(\"hello\")\n",
    "print(\"hello\")  # eğer bu satir (\"hello diye yanlis bitseydi o zaman hicbiri calismadan error verirdi. "
   ]
  },
  {
   "cell_type": "code",
   "execution_count": null,
   "id": "268bab6f-d854-4a3e-9ebe-4e9296454097",
   "metadata": {},
   "outputs": [],
   "source": [
    "print(\"hello\")\n",
    "print(hello)"
   ]
  },
  {
   "cell_type": "code",
   "execution_count": 23,
   "id": "bbdef02c-cdf4-4eda-8ef3-05e1bbe00d9e",
   "metadata": {},
   "outputs": [
    {
     "name": "stdout",
     "output_type": "stream",
     "text": [
      "0.5\n",
      "1.0\n",
      "2.0\n",
      "nooo\n"
     ]
    }
   ],
   "source": [
    "a = [1,2,4,\"bes\"]\n",
    "for i in a:\n",
    "    try:\n",
    "        print(i/2)\n",
    "        \n",
    "    except: \n",
    "        print(\"nooo\")"
   ]
  },
  {
   "cell_type": "code",
   "execution_count": null,
   "id": "7dbd276d-d3dd-4393-93f4-a5f09384f02e",
   "metadata": {},
   "outputs": [],
   "source": []
  },
  {
   "cell_type": "code",
   "execution_count": 1,
   "id": "8ebcfbfe-9b5f-4c91-a6ee-e308768dd065",
   "metadata": {},
   "outputs": [
    {
     "name": "stdin",
     "output_type": "stream",
     "text": [
      "The first number please :  10\n",
      "The second number please :  0\n"
     ]
    },
    {
     "ename": "ZeroDivisionError",
     "evalue": "division by zero",
     "output_type": "error",
     "traceback": [
      "\u001b[0;31m---------------------------------------------------------------------------\u001b[0m",
      "\u001b[0;31mZeroDivisionError\u001b[0m                         Traceback (most recent call last)",
      "Input \u001b[0;32mIn [1]\u001b[0m, in \u001b[0;36m<cell line: 2>\u001b[0;34m()\u001b[0m\n\u001b[1;32m      2\u001b[0m no_one \u001b[38;5;241m=\u001b[39m \u001b[38;5;28mint\u001b[39m(\u001b[38;5;28minput\u001b[39m(\u001b[38;5;124m\"\u001b[39m\u001b[38;5;124mThe first number please : \u001b[39m\u001b[38;5;124m\"\u001b[39m))\n\u001b[1;32m      3\u001b[0m no_two \u001b[38;5;241m=\u001b[39m \u001b[38;5;28mint\u001b[39m(\u001b[38;5;28minput\u001b[39m(\u001b[38;5;124m\"\u001b[39m\u001b[38;5;124mThe second number please : \u001b[39m\u001b[38;5;124m\"\u001b[39m))\n\u001b[0;32m----> 4\u001b[0m division \u001b[38;5;241m=\u001b[39m \u001b[43mno_one\u001b[49m\u001b[43m \u001b[49m\u001b[38;5;241;43m/\u001b[39;49m\u001b[43m \u001b[49m\u001b[43mno_two\u001b[49m\n\u001b[1;32m      5\u001b[0m \u001b[38;5;28mprint\u001b[39m(\u001b[38;5;124m\"\u001b[39m\u001b[38;5;124mThe result of the division is : \u001b[39m\u001b[38;5;124m\"\u001b[39m, division)\n\u001b[1;32m      6\u001b[0m \u001b[38;5;28;01mbreak\u001b[39;00m\n",
      "\u001b[0;31mZeroDivisionError\u001b[0m: division by zero"
     ]
    }
   ],
   "source": [
    "while True:\n",
    "    no_one = int(input(\"The first number please : \"))\n",
    "    no_two = int(input(\"The second number please : \"))\n",
    "    division = no_one / no_two\n",
    "    print(\"The result of the division is : \", division)\n",
    "    break  # diyelim iki kere denedik 5-2 ve 15- 3 ile. 3.de de sıfırla bölmeye calisalim\n",
    "# sıfırla bölmeye calisinca error: ZeroDivisionError: division by zero"
   ]
  },
  {
   "cell_type": "code",
   "execution_count": 2,
   "id": "7ee56023-156f-4a78-b00b-ad62ad034bd6",
   "metadata": {},
   "outputs": [
    {
     "name": "stdin",
     "output_type": "stream",
     "text": [
      "The first number please :  10\n",
      "The second number please :  0\n"
     ]
    },
    {
     "name": "stdout",
     "output_type": "stream",
     "text": [
      "Something went wrong...Try again.\n"
     ]
    },
    {
     "name": "stdin",
     "output_type": "stream",
     "text": [
      "The first number please :  4\n",
      "The second number please :  2\n"
     ]
    },
    {
     "name": "stdout",
     "output_type": "stream",
     "text": [
      "The result of the division is :  2.0\n"
     ]
    }
   ],
   "source": [
    "# bunu try-except statement ile cözebiliriz. 0 girince tekrar basa aldirip yeniden girdirdi.\n",
    "while True:\n",
    "    no_one = int(input(\"The first number please : \"))\n",
    "    no_two = int(input(\"The second number please : \"))\n",
    "    try:\n",
    "        division = no_one / no_two\n",
    "        print(\"The result of the division is : \", division)\n",
    "        break\n",
    "    except:\n",
    "        print(\"Something went wrong...Try again.\")"
   ]
  },
  {
   "cell_type": "code",
   "execution_count": 28,
   "id": "1e1824e7-2e83-4bc9-b95f-9686093309ee",
   "metadata": {},
   "outputs": [
    {
     "name": "stdin",
     "output_type": "stream",
     "text": [
      "The first number please :  6\n",
      "The second number please :  0\n"
     ]
    },
    {
     "name": "stdout",
     "output_type": "stream",
     "text": [
      "Something went wrong...Try again.\n"
     ]
    }
   ],
   "source": [
    "no_one = int(input(\"The first number please : \"))\n",
    "no_two = int(input(\"The second number please : \"))\n",
    "try:\n",
    "    division = no_one / no_two\n",
    "    print(\"The result of the division is : \", division)  # bunu yazdirmadigina gore demekki tam ust satirda exception\n",
    "    # raised ve asagida excepti yazdirdi\n",
    "    \n",
    "except:\n",
    "    print(\"Something went wrong...Try again.\")"
   ]
  },
  {
   "cell_type": "code",
   "execution_count": 1,
   "id": "cdf11b69-80bc-4920-9607-0dbd04aafaac",
   "metadata": {},
   "outputs": [
    {
     "name": "stdout",
     "output_type": "stream",
     "text": [
      "satir 1\n",
      "sth wrong\n"
     ]
    }
   ],
   "source": [
    "try:\n",
    "    print(\"satir 1\")\n",
    "    x = 2/0\n",
    "    print(\"Satir 2\")\n",
    "except:\n",
    "    print(\"sth wrong\")  "
   ]
  },
  {
   "cell_type": "code",
   "execution_count": 1,
   "id": "b404b073-bcc1-4aef-ac78-1a9262746183",
   "metadata": {},
   "outputs": [
    {
     "name": "stdout",
     "output_type": "stream",
     "text": [
      "satir 1\n",
      "Satir 2\n",
      "1.0\n"
     ]
    }
   ],
   "source": [
    "try:  # try blogu tamamen calisirsa excepte hic gecmez\n",
    "    print(\"satir 1\")\n",
    "    x = 2/2\n",
    "    print(\"Satir 2\")\n",
    "    print(x)\n",
    "except:\n",
    "    print(\"sth wrong\")"
   ]
  },
  {
   "cell_type": "markdown",
   "id": "93aabc2a-0649-4d73-a595-e19d49d4b82d",
   "metadata": {},
   "source": [
    "**Full 'Exception Handling Block'**\n",
    "\n",
    "try:\n",
    "\n",
    "-----statements\n",
    "\n",
    "except:\n",
    "\n",
    "-----statements\n",
    "\n",
    "else:\n",
    "\n",
    "------statements\n",
    "\n",
    "finally:\n",
    "\n",
    "------statements\n",
    "\n",
    "Let's make some explanations about the process described above :\n",
    "\n",
    "First, Python executes all statements between try and except.\n",
    "If there is no exception, then the try block is successfully executed and finished.\n",
    "If an exception raises, the rest of the try block is ignored. After that, Python interpreter checks if the type of exception matches the exception specified after the except keyword, it executes the except block and resumes executing the program after the try-except block.\n",
    "If an exception doesn’t match the exception named in the except syntax, it is known an unhandled exception and execution of your program stops with a traceback error message.\n",
    "The else-block is only executed if there raised no exceptions.\n",
    "We can use a finally syntax at the end of the block. A finally syntax is always executed before leaving the try-except block, whether an exception was raised or not."
   ]
  },
  {
   "cell_type": "code",
   "execution_count": 2,
   "id": "c3f116fb-d80f-423d-af4d-9da915b0bc8e",
   "metadata": {},
   "outputs": [
    {
     "name": "stdin",
     "output_type": "stream",
     "text": [
      "The first number please :  8\n",
      "The second number please :  4\n"
     ]
    },
    {
     "name": "stdout",
     "output_type": "stream",
     "text": [
      "2.0\n",
      "Thanks for using our mini divison calculator! Come again!\n"
     ]
    }
   ],
   "source": [
    "while True:\n",
    "    no_one = int(input(\"The first number please : \"))\n",
    "    no_two = int(input(\"The second number please : \"))\n",
    "    try:\n",
    "        division = no_one / no_two  # normal part of the program\n",
    "        print(division)\n",
    "        break  # yanlis girilirse bu break calismaz -- break olmazsa else de yazdırır\n",
    "    except ZeroDivisionError:  # burası except blogundaki key wordsler. eger bu except yukselirse asagi calistir demek\n",
    "        print(\"You can't divide by zero! Try again.\")  # executes when division by zero\n",
    "    else: \n",
    "        print(\"The result of the division is : \", division)  # executes if there is no exception\n",
    "    finally:  # finally her haluykarda calisir\n",
    "        print(\"Thanks for using our mini divison calculator! Come again!\")\n",
    "        break  # exits the while loop"
   ]
  },
  {
   "cell_type": "code",
   "execution_count": 4,
   "id": "37161023-52e6-42d6-9a7f-a15d4a136b45",
   "metadata": {},
   "outputs": [
    {
     "name": "stdin",
     "output_type": "stream",
     "text": [
      "The first number please :  4\n",
      "The second number please :  2\n"
     ]
    },
    {
     "name": "stdout",
     "output_type": "stream",
     "text": [
      "2.0\n",
      "The result of the division is :  2.0\n",
      "Thanks for using our mini divison calculator! Come again!\n"
     ]
    }
   ],
   "source": [
    "while True:\n",
    "    no_one = int(input(\"The first number please : \"))\n",
    "    no_two = int(input(\"The second number please : \"))\n",
    "    try:\n",
    "        division = no_one / no_two  # normal part of the program\n",
    "        print(division)\n",
    "        # break  break calissaydi else yazmayacakti finallye gececekti\n",
    "    except ZeroDivisionError:  # burası except blogundaki key wordsler. eger bu except yukselirse asagi calistir demek\n",
    "        print(\"You can't divide by zero! Try again.\")  # executes when division by zero\n",
    "    else: \n",
    "        print(\"The result of the division is : \", division)  # executes if there is no exception\n",
    "    finally:  # finally her haluykarda calisir\n",
    "        print(\"Thanks for using our mini divison calculator! Come again!\")\n",
    "        break  # exits the while loop"
   ]
  },
  {
   "cell_type": "code",
   "execution_count": 12,
   "id": "2234f3e6-e373-4d7b-bfeb-ae748702fbb2",
   "metadata": {},
   "outputs": [
    {
     "name": "stdin",
     "output_type": "stream",
     "text": [
      "The first number please :  6\n",
      "The second number please :  3\n"
     ]
    },
    {
     "name": "stdout",
     "output_type": "stream",
     "text": [
      "The result of the division is :  2.0\n",
      "Thanks for using our mini divison calculator! Come again!\n"
     ]
    }
   ],
   "source": [
    "while True:\n",
    "    no_one = int(input(\"The first number please : \"))\n",
    "    no_two = int(input(\"The second number please : \"))\n",
    "    try:\n",
    "        division = no_one / no_two  # normal part of the program\n",
    "        \n",
    "        # break  # break calissa finallye gececekti\n",
    "    except ZeroDivisionError:  \n",
    "        print(\"You can't divide by zero! Try again.\") \n",
    "    else: \n",
    "        print(\"The result of the division is : \", division) \n",
    "    finally:  \n",
    "        print(\"Thanks for using our mini divison calculator! Come again!\")\n",
    "        break  # exits the while loop, burada mutlaka bir break olmalı"
   ]
  },
  {
   "cell_type": "code",
   "execution_count": 5,
   "id": "e7d558a4-77d5-427c-8e55-bea360ed8ce5",
   "metadata": {},
   "outputs": [
    {
     "name": "stdin",
     "output_type": "stream",
     "text": [
      "The first number please :  5\n",
      "The second number please :  0\n"
     ]
    },
    {
     "name": "stdout",
     "output_type": "stream",
     "text": [
      "Something went wrong...Try again.\n",
      "Probably it is because of 'division by zero' error\n"
     ]
    }
   ],
   "source": [
    "#IMPORTANT: by using the keyword Exception, we can display the name of the exception type. \n",
    "\n",
    "while True:\n",
    "    no_one = int(input(\"The first number please : \"))\n",
    "    no_two = int(input(\"The second number please : \"))\n",
    "    try:\n",
    "        division = no_one / no_two\n",
    "        print(\"The result of the division is : \", division)\n",
    "        break\n",
    "    except Exception as e:  # Exception keyword matters!!\n",
    "        print(\"Something went wrong...Try again.\")\n",
    "        print(\"Probably it is because of '{}' error\".format(e))\n",
    "        break"
   ]
  },
  {
   "cell_type": "code",
   "execution_count": 15,
   "id": "b797735f-3867-4fdb-9b15-4658af8a2ad7",
   "metadata": {},
   "outputs": [
    {
     "name": "stdin",
     "output_type": "stream",
     "text": [
      "The first number please :  5\n",
      "The second number please :  bes\n"
     ]
    },
    {
     "name": "stdout",
     "output_type": "stream",
     "text": [
      "You can't divide by zero! Try again.\n",
      "Thanks for using our mini divison calculator! Come again!\n"
     ]
    }
   ],
   "source": [
    "while True:\n",
    "\n",
    "    try:\n",
    "        no_one = int(input(\"The first number please : \"))  # bunlar yukarda olunca ValueError olurdu. Ama bu halde\n",
    "        # try'da hata var. else de calismaz o zaman, excepte baktı o Zerodivision oldugu icin onu da calistirmadi\n",
    "        # ve en son finally'i yazdırdı. Yani programımız exceptionu yakalayamadi. Exceptte Zero.. yazmasa calisirdi\n",
    "        no_two = int(input(\"The second number please : \"))\n",
    "        division = no_one / no_two  # normal part of the program\n",
    "        \n",
    "    except ZeroDivisionError:  # burası except blogundaki key wordsler. eger bu except yukselirse asagi calistir demek\n",
    "        print(\"You can't divide by zero! Try again.\")  # executes when division by zero\n",
    "    else: \n",
    "        print(\"The result of the division is : \", division)  # executes if there is no exception. executed.\n",
    "    finally:  # finally her haluykarda calisir\n",
    "        print(\"Thanks for using our mini divison calculator! Come again!\")\n",
    "        break  # exits the while loop, burada mutlaka bir break olmalı"
   ]
  },
  {
   "cell_type": "code",
   "execution_count": 6,
   "id": "6a3951d4-8368-467b-94e1-29420b31402b",
   "metadata": {},
   "outputs": [
    {
     "name": "stdout",
     "output_type": "stream",
     "text": [
      "The error message is :  name 'c' is not defined\n"
     ]
    }
   ],
   "source": [
    "try :\n",
    "    a = 10\n",
    "    b = 2\n",
    "    print(\"The result of division is :\", c)\n",
    "except Exception as e:\n",
    "    print(\"The error message is : \", e)"
   ]
  },
  {
   "cell_type": "code",
   "execution_count": 17,
   "id": "8ec3f322-4ca7-4add-978f-ae83b32ed1fa",
   "metadata": {},
   "outputs": [
    {
     "name": "stdout",
     "output_type": "stream",
     "text": [
      "The error message is :  unsupported operand type(s) for +: 'int' and 'str'\n"
     ]
    }
   ],
   "source": [
    "try:\n",
    "    a = 4\n",
    "    b = \"bes\"\n",
    "    print(\"sum of them are: \", a+b)\n",
    "except Exception as e:\n",
    "    print(\"The error message is : \", e)"
   ]
  },
  {
   "cell_type": "markdown",
   "id": "f28898a4-3e01-4117-b5c7-ec47ad8fb69b",
   "metadata": {},
   "source": [
    "The try…except block has an optional **else** clause. The else clause is executed only if no exceptions are raised:"
   ]
  },
  {
   "cell_type": "code",
   "execution_count": 9,
   "id": "d9483ff5-f7cf-4abb-b941-a7e0b82c4fd6",
   "metadata": {},
   "outputs": [
    {
     "name": "stdout",
     "output_type": "stream",
     "text": [
      "Nothing went wrong\n"
     ]
    }
   ],
   "source": [
    "try:\n",
    "    x = 4 / 1\n",
    "except:\n",
    "    print('Something went wrong')\n",
    "else:\n",
    "    print('Nothing went wrong')"
   ]
  },
  {
   "cell_type": "markdown",
   "id": "c758daed-86f7-4c72-89af-442f9cf3b6a2",
   "metadata": {},
   "source": [
    "The try…except block has another optional **finally** clause. The finally clause is always executed, whether an exception has occurred or not:"
   ]
  },
  {
   "cell_type": "code",
   "execution_count": 10,
   "id": "8bc99bc6-a6eb-4e85-b18c-f6ca6406ac76",
   "metadata": {},
   "outputs": [
    {
     "name": "stdout",
     "output_type": "stream",
     "text": [
      "Something went wrong\n",
      "Always execute this\n"
     ]
    }
   ],
   "source": [
    "try:\n",
    "\tx = 3 / 0\n",
    "except:\n",
    "\tprint('Something went wrong')\n",
    "finally:\n",
    "\tprint('Always execute this')"
   ]
  },
  {
   "cell_type": "markdown",
   "id": "4f601170-ad1c-4f09-bbdb-d54351c50c02",
   "metadata": {},
   "source": [
    "Use finally clause to define **clean-up actions** that must be executed under all circumstances e.g. closing a file. :"
   ]
  },
  {
   "cell_type": "code",
   "execution_count": 11,
   "id": "585c2e0a-9014-49cd-b6b9-1e625d888e04",
   "metadata": {},
   "outputs": [
    {
     "name": "stdout",
     "output_type": "stream",
     "text": [
      "Something went wrong\n"
     ]
    },
    {
     "ename": "NameError",
     "evalue": "name 'f' is not defined",
     "output_type": "error",
     "traceback": [
      "\u001b[0;31m---------------------------------------------------------------------------\u001b[0m",
      "\u001b[0;31mNameError\u001b[0m                                 Traceback (most recent call last)",
      "Input \u001b[0;32mIn [11]\u001b[0m, in \u001b[0;36m<cell line: 1>\u001b[0;34m()\u001b[0m\n\u001b[1;32m      5\u001b[0m     \u001b[38;5;28mprint\u001b[39m(\u001b[38;5;124m\"\u001b[39m\u001b[38;5;124mSomething went wrong\u001b[39m\u001b[38;5;124m\"\u001b[39m)\n\u001b[1;32m      6\u001b[0m \u001b[38;5;28;01mfinally\u001b[39;00m:\n\u001b[0;32m----> 7\u001b[0m     \u001b[43mf\u001b[49m\u001b[38;5;241m.\u001b[39m close()\n",
      "\u001b[0;31mNameError\u001b[0m: name 'f' is not defined"
     ]
    }
   ],
   "source": [
    "try:\n",
    "    f = open('myfile.txt')\n",
    "    print(f.read())\n",
    "except:\n",
    "    print(\"Something went wrong\")\n",
    "finally:\n",
    "    f. close()"
   ]
  },
  {
   "cell_type": "markdown",
   "id": "fae9966a-6d34-4683-ae55-ed30b9d474e8",
   "metadata": {},
   "source": [
    "# Several Handling Scenarios"
   ]
  },
  {
   "cell_type": "code",
   "execution_count": 20,
   "id": "191d5ac4-ed0d-4955-9523-33d296bba837",
   "metadata": {},
   "outputs": [
    {
     "name": "stdout",
     "output_type": "stream",
     "text": [
      "Attempt to divide by zero\n"
     ]
    }
   ],
   "source": [
    "try:\n",
    "    x = 2/0\n",
    "except ZeroDivisionError:\n",
    "    print('Attempt to divide by zero')  # ZeroDivisionErrorexceptionu yakaladigi icin ilki calisti ve tekrar alttakine gecmedi\n",
    "except :\n",
    "    print('Something else went wrong')"
   ]
  },
  {
   "cell_type": "code",
   "execution_count": 21,
   "id": "cc26efda-1256-4f52-a5f1-9f9b002c98db",
   "metadata": {},
   "outputs": [
    {
     "name": "stdout",
     "output_type": "stream",
     "text": [
      "Attempt to divide by zero\n"
     ]
    }
   ],
   "source": [
    "try:\n",
    "    x = 2/0\n",
    "except ValueError:\n",
    "    print(\"Enter a valid value\")  # ValueError olmadigi icin sonraki excepte gecti\n",
    "except ZeroDivisionError:\n",
    "    print('Attempt to divide by zero')"
   ]
  },
  {
   "cell_type": "code",
   "execution_count": 2,
   "id": "548ce0da-f8b0-4958-826a-8d5dafdbb39f",
   "metadata": {},
   "outputs": [
    {
     "name": "stdout",
     "output_type": "stream",
     "text": [
      "smt is wroooonnnggg\n"
     ]
    }
   ],
   "source": [
    "try:\n",
    "    x = 2/\"bes\"\n",
    "    \n",
    "except ZeroDivisionError:\n",
    "    print('Attempt to divide by zero')\n",
    "except NameError:\n",
    "    print(\"wrong is related to name error\")  \n",
    "except :\n",
    "    print(\"smt is wroooonnnggg\")  # burada value error var cunku\n"
   ]
  },
  {
   "cell_type": "markdown",
   "id": "f28c42b6-253d-4476-bfe8-2d2a17579e57",
   "metadata": {},
   "source": [
    "# https://docs.python.org/3/library/exceptions.html#exception-hierarchy \n",
    "hierarchye gore yazilabilir. arithmetic error yazarak zerodivision, float vs hepsi kapsama alınabilir ornegin"
   ]
  },
  {
   "cell_type": "code",
   "execution_count": 32,
   "id": "836a84c1-14a8-4bb0-b75e-58cd9cb2de9f",
   "metadata": {},
   "outputs": [
    {
     "name": "stdout",
     "output_type": "stream",
     "text": [
      "Attempt to divide by zero\n"
     ]
    }
   ],
   "source": [
    "try:\n",
    "    4/0\n",
    "    \n",
    "except ArithmeticError:\n",
    "    print('Attempt to divide by zero')\n",
    "except NameError:\n",
    "    print(\"wrong is related to name error\")  \n",
    "except :\n",
    "    print(\"smt is wroooonnnggg\")"
   ]
  },
  {
   "cell_type": "code",
   "execution_count": 31,
   "id": "03a3e28e-2959-4436-9afc-d8de74a778d6",
   "metadata": {},
   "outputs": [
    {
     "name": "stdout",
     "output_type": "stream",
     "text": [
      "wrong is related to value or type error\n"
     ]
    }
   ],
   "source": [
    "try:\n",
    "    int(\"on\")\n",
    "    \n",
    "except ZeroDivisionError:\n",
    "    print('Attempt to divide by zero')\n",
    "except NameError:\n",
    "    print(\"wrong is related to name error\")  \n",
    "except (TypeError, ValueError):  # birden fazla error aynı except blogunda olabilir. ama () olmlaı yoksa error\n",
    "    print(\"wrong is related to value or type error\")  \n",
    "except:\n",
    "    print(\"smt is wroooonnnggg, probably \")"
   ]
  },
  {
   "cell_type": "markdown",
   "id": "655f9a15-9828-4e38-b972-dcc5afdaae31",
   "metadata": {},
   "source": [
    "Since all the built-in exceptions are formed a hierarchical structure, you can use the following exception syntaxes. To catch several possibilities, it’d be better to use two or more except blocks for different exceptions.\n",
    "\n",
    "input-1: you can identify no specific exception :"
   ]
  },
  {
   "cell_type": "markdown",
   "id": "a47e551f-e5ca-42e9-8de0-8fd1c982f384",
   "metadata": {},
   "source": [
    "# try bloğu altındaki blok tüm exceptler içinndir\n",
    "# bir try bloğu bir den fazla except kullanılabilir.\n",
    "# try bloğu için aynı hata için ikinci bir exceot bloğu çalışmaz."
   ]
  },
  {
   "cell_type": "code",
   "execution_count": null,
   "id": "2db53e2d-2c38-4449-a26c-f79bad2ae5d4",
   "metadata": {},
   "outputs": [],
   "source": [
    "....\n",
    "except:\n",
    "    print(\"Unknown exception error occured. Try again please.\")"
   ]
  },
  {
   "cell_type": "markdown",
   "id": "2d4d8a8c-daa8-4772-a28c-becc6b4dc88b",
   "metadata": {},
   "source": [
    "input-2: different exception blocks :"
   ]
  },
  {
   "cell_type": "code",
   "execution_count": null,
   "id": "d95156b0-750e-46b3-8cd7-017b07f64eda",
   "metadata": {},
   "outputs": [],
   "source": [
    "....\n",
    "except ZeroDivisionError:\n",
    "   print(\"You can't divide by zero!!\")\n",
    "except ValueError:\n",
    "   print(\"You can only enter numbers consisting of digits, not text!!\")"
   ]
  },
  {
   "cell_type": "markdown",
   "id": "f5b31ec2-e5e6-4994-8a4a-d4838c5988af",
   "metadata": {},
   "source": [
    "input-3: an except syntax also may contain multiple exceptions separated by commas and enclosed by parenthesis."
   ]
  },
  {
   "cell_type": "code",
   "execution_count": null,
   "id": "69eab976-9509-4052-8f00-6daad74a2923",
   "metadata": {},
   "outputs": [],
   "source": [
    "....\n",
    "except (ValueError, TypeError):\n",
    "    print(\"You can only enter numbers consisting of digits, not text!!\")"
   ]
  },
  {
   "cell_type": "markdown",
   "id": "13c76fe8-7382-41fb-9a60-ea905f8dfe87",
   "metadata": {},
   "source": [
    "input-4: because of the hierarchical structure, one exception can actually catch various exceptions."
   ]
  },
  {
   "cell_type": "code",
   "execution_count": null,
   "id": "600f1d6a-985d-4903-841a-4781997169f9",
   "metadata": {},
   "outputs": [],
   "source": [
    "....\n",
    "except ArithmeticError:\n",
    "    print(\"I will also catch OverflowError, FloatingPointError and ZeroDivisionError\")"
   ]
  },
  {
   "cell_type": "code",
   "execution_count": 33,
   "id": "0089de76-63b9-4696-b91d-895138fd8fc4",
   "metadata": {},
   "outputs": [
    {
     "name": "stdin",
     "output_type": "stream",
     "text": [
      "pick an index number 9\n"
     ]
    },
    {
     "name": "stdout",
     "output_type": "stream",
     "text": [
      "There is no such index. Try again\n"
     ]
    },
    {
     "name": "stdin",
     "output_type": "stream",
     "text": [
      "pick an index number 7\n"
     ]
    },
    {
     "name": "stdout",
     "output_type": "stream",
     "text": [
      "There is no such index. Try again\n"
     ]
    },
    {
     "name": "stdin",
     "output_type": "stream",
     "text": [
      "pick an index number bes\n"
     ]
    },
    {
     "name": "stdout",
     "output_type": "stream",
     "text": [
      "you should enter enteger. try again\n"
     ]
    },
    {
     "name": "stdin",
     "output_type": "stream",
     "text": [
      "pick an index number 2\n"
     ]
    },
    {
     "name": "stdout",
     "output_type": "stream",
     "text": [
      "Your favourite fruit is pear\n"
     ]
    }
   ],
   "source": [
    "#TASK: to select the favourite fruit from the fruits list, write a program that \n",
    "# requests an index number from the user and prints the selected fruit (eg: \"my favoruite fruit is mango\")\n",
    "# considering the possible exceptions caused by the user's entry, display warnin messages, and continue \n",
    "# to ask for an index number from the user until valid input is taken\n",
    "\n",
    "fruits = [\"banana\", \"mango\", \"pear\", \"apple\", \"kiwi\", \"grape\"]\n",
    "\n",
    "while True:\n",
    "    try:\n",
    "        index = int(input(\"pick an index number\"))\n",
    "        print(\"Your favourite fruit is\", fruits[index])\n",
    "        break\n",
    "    except IndexError:\n",
    "        print(\"There is no such index. Try again\")  # burada break demiyoruz ki sorsun yine loop\n",
    "    except ValueError:\n",
    "        print(\"you should enter enteger. try again\")\n",
    "        "
   ]
  },
  {
   "cell_type": "code",
   "execution_count": 7,
   "id": "114781e8-60bb-4b14-984e-ce9a3235f0c6",
   "metadata": {},
   "outputs": [
    {
     "name": "stdout",
     "output_type": "stream",
     "text": [
      "Your have 3 right\n"
     ]
    },
    {
     "name": "stdin",
     "output_type": "stream",
     "text": [
      "pick an index number 9\n"
     ]
    },
    {
     "name": "stdout",
     "output_type": "stream",
     "text": [
      "Index error raised. You have 2 right left. Try again\n",
      "Your have 2 right\n"
     ]
    },
    {
     "name": "stdin",
     "output_type": "stream",
     "text": [
      "pick an index number 8\n"
     ]
    },
    {
     "name": "stdout",
     "output_type": "stream",
     "text": [
      "Index error raised. You have 1 right left. Try again\n",
      "Your have 1 right\n"
     ]
    },
    {
     "name": "stdin",
     "output_type": "stream",
     "text": [
      "pick an index number 9\n"
     ]
    },
    {
     "name": "stdout",
     "output_type": "stream",
     "text": [
      "Index error. You have no right left\n"
     ]
    }
   ],
   "source": [
    "# Task: In addition to the task above, give the user 3 chances to enter an input, and whenver \n",
    "# the user raises an exception, decrease the counter by 1 displayin that:\n",
    "# (<warning message> you have n right left. Try again!). If no exception raises, display a message : \"Cograts! You've \n",
    "# entered a valid input.\". In all circumstances display a message \"Our fruits are always fresh!\"\n",
    "\n",
    "fruits = [\"banana\", \"mango\", \"pear\", \"apple\", \"kiwi\", \"grape\"]\n",
    "counter = 3\n",
    "\n",
    "while counter>0:\n",
    "    \n",
    "    try:\n",
    "        print(f\"You have {counter} right\")\n",
    "        index = int(input(\"pick an index number\"))\n",
    "        print(\"Your favourite fruit is\", fruits[index])\n",
    "    \n",
    "    except IndexError:\n",
    "        counter -= 1\n",
    "        if counter != 0:\n",
    "              print(f\"Index error raised. You have {counter} right left. Try again\")\n",
    "        else:\n",
    "              print(f\"Index error. You have no right left\")\n",
    "              \n",
    "    except ValueError:\n",
    "        counter -= 1\n",
    "        if counter != 0:\n",
    "              print(f\"Value error raised. You have {counter} right left. Try again\")\n",
    "        else:\n",
    "              print(f\"Value error. You have no right left\")\n",
    "    else :   # dogru girdiginde try ile birlikte calisacak bu. else varsa break try'a degil else'in sonuna.\n",
    "        print(\"Congrats! You have entered valid input\")\n",
    "        break\n",
    "        \n",
    "    finally:\n",
    "        \"Our fruits are always fresh!\""
   ]
  },
  {
   "cell_type": "code",
   "execution_count": null,
   "id": "f8a8e768-4fc0-4839-b2cc-c37178991ce1",
   "metadata": {},
   "outputs": [],
   "source": []
  }
 ],
 "metadata": {
  "kernelspec": {
   "display_name": "Python 3 (ipykernel)",
   "language": "python",
   "name": "python3"
  },
  "language_info": {
   "codemirror_mode": {
    "name": "ipython",
    "version": 3
   },
   "file_extension": ".py",
   "mimetype": "text/x-python",
   "name": "python",
   "nbconvert_exporter": "python",
   "pygments_lexer": "ipython3",
   "version": "3.9.12"
  }
 },
 "nbformat": 4,
 "nbformat_minor": 5
}
