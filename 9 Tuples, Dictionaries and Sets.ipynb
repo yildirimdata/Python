{
 "cells": [
  {
   "cell_type": "markdown",
   "metadata": {
    "id": "oNV0xQ1RxdBQ"
   },
   "source": [
    "**Before starting: Mutability and order**\n",
    "\n",
    "The data structures differ based on mutability and order. **Mutability refers to the ability to change an object after its creation**. Mutable objects can be modified, added, or deleted after they’ve been created, while **immutable** objects cannot be modified after their creation. **Order, in this context, relates to whether the position of an element can be used to access the element**."
   ]
  },
  {
   "cell_type": "markdown",
   "metadata": {
    "id": "prgwPyoT6DNv"
   },
   "source": [
    "**TUPLES**\n",
    "\n",
    "The most important difference of tuple from the list is that the tuple is **immutable**. Therefore, methods like append() or remove() do not exist in the operations of this type. Tuples are lists which can't be edited. \n",
    "\n",
    "Tuples are commonly **used for small collections of values **that will not need to change, such as an IP address and port. If we have **unchanged data**, we should choose tuples because it is much **faster than lists**.\n",
    "\n",
    "We used square brackets 👉🏻'[]' to define the lists. In the tuple, normal **parentheses 👉🏻'()'** are used.\n",
    "\n",
    "The same indexing rules for lists also apply to tuples. Tuples can also be nested and the values can be any valid Python values.\n",
    "\n",
    "**Creating a Tuple**\n",
    "\n",
    "There are 2 ways of creating a tuple:\n",
    "1. A tuple can be created by enclosing values, separated by commas, in parentheses.\n",
    "2. tuple()\n",
    "\n",
    "If your tuple contains more than one element, separating elements with commas will be enough."
   ]
  },
  {
   "cell_type": "code",
   "execution_count": null,
   "metadata": {
    "colab": {
     "base_uri": "https://localhost:8080/"
    },
    "executionInfo": {
     "elapsed": 10,
     "status": "ok",
     "timestamp": 1666178242549,
     "user": {
      "displayName": "F4033-Kadir",
      "userId": "00693449641329635795"
     },
     "user_tz": -120
    },
    "id": "ZTMiv8RI6wzx",
    "outputId": "3e8668ef-7657-4ece-93ba-c8ae8829b803"
   },
   "outputs": [
    {
     "name": "stdout",
     "output_type": "stream",
     "text": [
      "<class 'tuple'>\n"
     ]
    }
   ],
   "source": [
    "empty_tuple = ()\n",
    "print(type(empty_tuple))"
   ]
  },
  {
   "cell_type": "code",
   "execution_count": null,
   "metadata": {
    "id": "aV5uRJd57FJK"
   },
   "outputs": [],
   "source": [
    "import sys  # sys — System-specific parameters and functions"
   ]
  },
  {
   "cell_type": "code",
   "execution_count": null,
   "metadata": {
    "colab": {
     "base_uri": "https://localhost:8080/"
    },
    "executionInfo": {
     "elapsed": 239,
     "status": "ok",
     "timestamp": 1666295153127,
     "user": {
      "displayName": "F4033-Kadir",
      "userId": "00693449641329635795"
     },
     "user_tz": -120
    },
    "id": "AU-qWb0U7K5z",
    "outputId": "b05539c6-1575-43fc-bb52-420758dfc30a"
   },
   "outputs": [
    {
     "name": "stdout",
     "output_type": "stream",
     "text": [
      "96\n",
      "80\n"
     ]
    }
   ],
   "source": [
    "x = [1,2,3]\n",
    "y = (1,2,3)\n",
    "print(sys.getsizeof(x))  # getsizeof boyutunu getir demek. sys ile kullanılır. tuples are smaller than lists\n",
    "print(sys.getsizeof(y))"
   ]
  },
  {
   "cell_type": "code",
   "execution_count": null,
   "metadata": {
    "colab": {
     "base_uri": "https://localhost:8080/"
    },
    "executionInfo": {
     "elapsed": 7,
     "status": "ok",
     "timestamp": 1666427039926,
     "user": {
      "displayName": "F4033-Kadir",
      "userId": "00693449641329635795"
     },
     "user_tz": -120
    },
    "id": "QGGcTyhy9gpY",
    "outputId": "dd332775-a975-4f94-f366-069e2f77b819"
   },
   "outputs": [
    {
     "name": "stdout",
     "output_type": "stream",
     "text": [
      "love\n",
      "<class 'str'>\n",
      "('love',)\n",
      "<class 'tuple'>\n",
      "(1,) <class 'tuple'>\n"
     ]
    }
   ],
   "source": [
    "# If you want to create a single element tuple, you should use a comma.\n",
    "try_tuple = ('love')\n",
    "print(try_tuple)\n",
    "print(type(try_tuple))  # This is not tuple type.\n",
    "try_tuple = ('love',)\n",
    "print(try_tuple)\n",
    "print(type(try_tuple)) # it's a tuple type.\n",
    "y= 1,\n",
    "print(y, type(y))"
   ]
  },
  {
   "cell_type": "code",
   "execution_count": null,
   "metadata": {
    "colab": {
     "base_uri": "https://localhost:8080/"
    },
    "executionInfo": {
     "elapsed": 879,
     "status": "ok",
     "timestamp": 1666684331583,
     "user": {
      "displayName": "F4033-Kadir",
      "userId": "00693449641329635795"
     },
     "user_tz": -120
    },
    "id": "VRNm105MBSM-",
    "outputId": "aca47264-37d9-4c91-fa67-5f05234045b4"
   },
   "outputs": [
    {
     "name": "stdout",
     "output_type": "stream",
     "text": [
      "12345\n",
      "(12345, 54321, 'hello!')\n",
      "((12345, 54321, 'hello!'), (1, 2, 3, 4, 5))\n"
     ]
    }
   ],
   "source": [
    "t = 12345, 54321, 'hello!'\n",
    "print(t[0])\n",
    "print(t)\n",
    "# Tuples can be nested:\n",
    "u = t, (1, 2, 3, 4, 5) \n",
    "print(u)"
   ]
  },
  {
   "cell_type": "code",
   "execution_count": null,
   "metadata": {
    "colab": {
     "base_uri": "https://localhost:8080/"
    },
    "executionInfo": {
     "elapsed": 4,
     "status": "ok",
     "timestamp": 1666427106334,
     "user": {
      "displayName": "F4033-Kadir",
      "userId": "00693449641329635795"
     },
     "user_tz": -120
    },
    "id": "Q_z0K58GyR3v",
    "outputId": "7e9999a3-4802-4501-9d46-aeb26a2e9764"
   },
   "outputs": [
    {
     "name": "stdout",
     "output_type": "stream",
     "text": [
      "5 (12345, 54321, 'hello!', (12345, 54321, 'hello!'), (1, 2, 3, 4, 5))\n",
      "(12345, 54321, 'hello!', (12345, 54321, 'hello!'), (1, 2, 3, 4, 5), 12345, 54321, 'hello!', (12345, 54321, 'hello!'), (1, 2, 3, 4, 5))\n"
     ]
    }
   ],
   "source": [
    "t = 12345, 54321, 'hello!'  # toplayabiliriz tuple'ları\n",
    "u = ((12345, 54321, 'hello!'), (1, 2, 3, 4, 5))\n",
    "aaa = t + u\n",
    "print(len(aaa), aaa)\n",
    "print (aaa * 2)  # çarpabiliriz"
   ]
  },
  {
   "cell_type": "markdown",
   "metadata": {
    "id": "siHp4I_M-CZB"
   },
   "source": [
    "Another way to create a tuple is to call the **tuple() function**. You do this when you want **to create a tuple from an iterable object**: that is, a type of object whose elements you can import individually.\n",
    "\n",
    "**The tuple is also iterable like other collections and string types. **"
   ]
  },
  {
   "cell_type": "code",
   "execution_count": null,
   "metadata": {
    "colab": {
     "base_uri": "https://localhost:8080/"
    },
    "executionInfo": {
     "elapsed": 312,
     "status": "ok",
     "timestamp": 1666178429927,
     "user": {
      "displayName": "F4033-Kadir",
      "userId": "00693449641329635795"
     },
     "user_tz": -120
    },
    "id": "mdP_Avnw-NGJ",
    "outputId": "9bb74ac0-2740-4a98-af1e-9d568ed809f2"
   },
   "outputs": [
    {
     "name": "stdout",
     "output_type": "stream",
     "text": [
      "()\n",
      "<class 'tuple'>\n"
     ]
    }
   ],
   "source": [
    "empty_tuple_1 = tuple()\n",
    "print(empty_tuple_1)\n",
    "print(type(empty_tuple_1))"
   ]
  },
  {
   "cell_type": "code",
   "execution_count": null,
   "metadata": {
    "colab": {
     "base_uri": "https://localhost:8080/"
    },
    "executionInfo": {
     "elapsed": 628,
     "status": "ok",
     "timestamp": 1666684538479,
     "user": {
      "displayName": "F4033-Kadir",
      "userId": "00693449641329635795"
     },
     "user_tz": -120
    },
    "id": "Wlehp32y9zOK",
    "outputId": "c7db4feb-06bf-49aa-c953-13cbb93cb390"
   },
   "outputs": [
    {
     "name": "stdout",
     "output_type": "stream",
     "text": [
      "('mercury', 'jupiter', 'saturn')\n",
      "<class 'tuple'>\n",
      "('m', 'e', 'r', 'c', 'u', 'r', 'y', ',', ' ', 'j', 'u', 'p', 'i', 't', 'e', 'r', ',', ' ', 's', 'a', 't', 'u', 'r', 'n')\n"
     ]
    }
   ],
   "source": [
    "planets = 'mercury', 'jupiter', 'saturn'\n",
    "print(tuple(planets))\n",
    "print(type(planets))\n",
    "planets = 'mercury, jupiter, saturn'\n",
    "print(tuple(planets))"
   ]
  },
  {
   "cell_type": "markdown",
   "metadata": {
    "id": "f9prfLSm-YAF"
   },
   "source": [
    "**We can convert from list to tuple and vice versa.** "
   ]
  },
  {
   "cell_type": "code",
   "execution_count": null,
   "metadata": {
    "colab": {
     "base_uri": "https://localhost:8080/"
    },
    "executionInfo": {
     "elapsed": 6,
     "status": "ok",
     "timestamp": 1666178485531,
     "user": {
      "displayName": "F4033-Kadir",
      "userId": "00693449641329635795"
     },
     "user_tz": -120
    },
    "id": "-uTWm4qW-TAH",
    "outputId": "b1f8a2fc-3979-4e4b-bb4a-7ea4591fd2cc"
   },
   "outputs": [
    {
     "name": "stdout",
     "output_type": "stream",
     "text": [
      "<class 'list'> [1, 4, 3, 4, 5, 6, 7, 4]\n"
     ]
    }
   ],
   "source": [
    "my_tuple=(1, 4, 3, 4, 5, 6, 7, 4)\n",
    "my_list = list(my_tuple)\n",
    "print(type(my_list), my_list)"
   ]
  },
  {
   "cell_type": "code",
   "execution_count": null,
   "metadata": {
    "colab": {
     "base_uri": "https://localhost:8080/"
    },
    "executionInfo": {
     "elapsed": 229,
     "status": "ok",
     "timestamp": 1666178502729,
     "user": {
      "displayName": "F4033-Kadir",
      "userId": "00693449641329635795"
     },
     "user_tz": -120
    },
    "id": "Kdgcd7Ns-gfm",
    "outputId": "5dbb9c8d-4578-40b2-c611-bb60c32b0c64"
   },
   "outputs": [
    {
     "name": "stdout",
     "output_type": "stream",
     "text": [
      "<class 'tuple'> (1, 4, 3, 4, 5, 6, 7, 4)\n"
     ]
    }
   ],
   "source": [
    "my_list = [1, 4, 3, 4, 5, 6, 7, 4]\n",
    "my_tuple = tuple(my_list)\n",
    "print(type(my_tuple), my_tuple)"
   ]
  },
  {
   "cell_type": "code",
   "execution_count": null,
   "metadata": {
    "colab": {
     "base_uri": "https://localhost:8080/"
    },
    "executionInfo": {
     "elapsed": 6,
     "status": "ok",
     "timestamp": 1666257695002,
     "user": {
      "displayName": "F4033-Kadir",
      "userId": "00693449641329635795"
     },
     "user_tz": -120
    },
    "id": "txYc-H4mrDmp",
    "outputId": "61cb5500-13c1-49d2-8144-e5cf2ef66c60"
   },
   "outputs": [
    {
     "name": "stdout",
     "output_type": "stream",
     "text": [
      "[1, 4, 9, 3, 4, 5, 6, 7, 4, 8]\n",
      "(1, 4, 9, 3, 4, 5, 6, 7, 4, 8)\n"
     ]
    }
   ],
   "source": [
    "# mesela tuple'a append veya insert yapamıyoruz. dolayısıyla list'e convert edip \n",
    "# bunlari yapip sonra tekrar tuple yapabiliriz.\n",
    "my_tuple = (1, 4, 3, 4, 5, 6, 7, 4)  # bu tuple'ı önce list'e convert ederiz\n",
    "my_list = list(my_tuple)\n",
    "my_list.append(8)\n",
    "my_list.insert(2, 9)\n",
    "print(my_list)\n",
    "print(tuple(my_list))  # sonra tekrar tuple'a"
   ]
  },
  {
   "cell_type": "code",
   "execution_count": null,
   "metadata": {
    "colab": {
     "base_uri": "https://localhost:8080/"
    },
    "executionInfo": {
     "elapsed": 4718,
     "status": "ok",
     "timestamp": 1666613658979,
     "user": {
      "displayName": "F4033-Kadir",
      "userId": "00693449641329635795"
     },
     "user_tz": -120
    },
    "id": "s1R0ywsX2cHt",
    "outputId": "89cdfd02-3046-4c9e-94b3-6f57d759a5d3"
   },
   "outputs": [
    {
     "name": "stdout",
     "output_type": "stream",
     "text": [
      "Enter your password : 656545\n",
      "(656545, 1234, 56789, 11234)\n"
     ]
    }
   ],
   "source": [
    "# Daha önce 3 müşterinin girdiği şifreleri depoladığınız bir veriniz var (passwords = 1234, 56789, 11234).\n",
    "# Yeni bir müşterinin girdiği şifreyi bu koleksiyonda ilk sıraya alacak bir kod yazınız.\n",
    "# Veri güvenliği ve verilerin depolama alanınızda az yer kaplamasına dikkat ediniz.\n",
    "passwords = 1234, 56789, 11234  # bu bir tuple.\n",
    "new_entry = int(input(\"Enter your password : \"))\n",
    "passwords2 = list(passwords)\n",
    "passwords2.insert(0, new_entry)\n",
    "passwords3 = tuple(passwords2)\n",
    "print(passwords3)"
   ]
  },
  {
   "cell_type": "markdown",
   "metadata": {
    "id": "7AHvvYil-ppy"
   },
   "source": [
    "**An iterable string can be converted to a tuple.** "
   ]
  },
  {
   "cell_type": "code",
   "execution_count": null,
   "metadata": {
    "colab": {
     "base_uri": "https://localhost:8080/"
    },
    "executionInfo": {
     "elapsed": 413,
     "status": "ok",
     "timestamp": 1666614172831,
     "user": {
      "displayName": "F4033-Kadir",
      "userId": "00693449641329635795"
     },
     "user_tz": -120
    },
    "id": "7PH2R6Cd-kzm",
    "outputId": "819ac01e-4b11-4812-b666-70ae6b4f4073"
   },
   "outputs": [
    {
     "name": "stdout",
     "output_type": "stream",
     "text": [
      "('A', 'l', 'p', 's')\n"
     ]
    }
   ],
   "source": [
    "mountain = tuple('Alps')\n",
    "print(mountain) \n",
    "# aaa = tuple(123)  TypeError: 'int' object is not iterable"
   ]
  },
  {
   "cell_type": "code",
   "execution_count": null,
   "metadata": {
    "colab": {
     "base_uri": "https://localhost:8080/"
    },
    "executionInfo": {
     "elapsed": 7,
     "status": "ok",
     "timestamp": 1666427342319,
     "user": {
      "displayName": "F4033-Kadir",
      "userId": "00693449641329635795"
     },
     "user_tz": -120
    },
    "id": "IAWkPvJIxb5b",
    "outputId": "690898df-47e2-4c1d-8abe-1483637c99c3"
   },
   "outputs": [
    {
     "name": "stdout",
     "output_type": "stream",
     "text": [
      "<class 'range'>\n",
      "(1, 2, 3, 4, 5, 6, 7, 8, 9, 10)\n"
     ]
    }
   ],
   "source": [
    "aaa = range(1, 11)\n",
    "print(type(aaa))  # range de kendine özgü bir type.\n",
    "print(tuple(aaa))"
   ]
  },
  {
   "cell_type": "markdown",
   "metadata": {
    "id": "5c7Q83sK-ztu"
   },
   "source": [
    "**How can We Use a Tuple ?**\n",
    "\n",
    "Both lists and tuples are **ordered**. It means that when storing elements to these containers, you can be sure that their order will remain the same. You can also duplicate values or mix different data types in tuples.\n",
    "\n",
    "Same as lists, **tuples support indexing**."
   ]
  },
  {
   "cell_type": "code",
   "execution_count": null,
   "metadata": {
    "colab": {
     "base_uri": "https://localhost:8080/"
    },
    "executionInfo": {
     "elapsed": 249,
     "status": "ok",
     "timestamp": 1666178623191,
     "user": {
      "displayName": "F4033-Kadir",
      "userId": "00693449641329635795"
     },
     "user_tz": -120
    },
    "id": "n6IK9ir7-uRn",
    "outputId": "f91590ef-b876-43e7-e477-a05ef7ffc05d"
   },
   "outputs": [
    {
     "name": "stdout",
     "output_type": "stream",
     "text": [
      "4\n"
     ]
    }
   ],
   "source": [
    "mix_value_tuple = (0, 'bird', 3.14, True)\n",
    "print(len(mix_value_tuple))"
   ]
  },
  {
   "cell_type": "code",
   "execution_count": null,
   "metadata": {
    "colab": {
     "base_uri": "https://localhost:8080/"
    },
    "executionInfo": {
     "elapsed": 310,
     "status": "ok",
     "timestamp": 1666178729547,
     "user": {
      "displayName": "F4033-Kadir",
      "userId": "00693449641329635795"
     },
     "user_tz": -120
    },
    "id": "Kvu0ju7x_CGQ",
    "outputId": "d8fd6fe9-470c-427e-ccff-b8f24ef01c07"
   },
   "outputs": [
    {
     "name": "stdout",
     "output_type": "stream",
     "text": [
      "0\n",
      "2\n",
      "4\n"
     ]
    }
   ],
   "source": [
    "# indexing a tuple\n",
    "even_no = (0, 2, 4)\n",
    "print(even_no[0])    \n",
    "print(even_no[1])    \n",
    "print(even_no[2])  # print(even_no[3]) dersem error verir: tuple index out of range  "
   ]
  },
  {
   "cell_type": "markdown",
   "metadata": {
    "id": "lWR_5wmY_gTx"
   },
   "source": [
    " One of the most important differences of tuples from lists is that '**tuple' object does not support item assignment**. Because tuple is **immutable**."
   ]
  },
  {
   "cell_type": "code",
   "execution_count": null,
   "metadata": {
    "colab": {
     "base_uri": "https://localhost:8080/"
    },
    "executionInfo": {
     "elapsed": 229,
     "status": "ok",
     "timestamp": 1666178787218,
     "user": {
      "displayName": "F4033-Kadir",
      "userId": "00693449641329635795"
     },
     "user_tz": -120
    },
    "id": "f6tP7MqM_Ri1",
    "outputId": "0a3af92b-0bb0-4687-c759-b71ea7141220"
   },
   "outputs": [
    {
     "name": "stdout",
     "output_type": "stream",
     "text": [
      "['Athens', 'Cairo', 'Moskow', 'Dublin']\n"
     ]
    }
   ],
   "source": [
    "city_list = ['Tokyo', 'Istanbul', 'Moskow', 'Dublin']\n",
    "city_list[0] = 'Athens'\n",
    "city_list[1] = 'Cairo'\n",
    "print(city_list)"
   ]
  },
  {
   "cell_type": "code",
   "execution_count": null,
   "metadata": {
    "colab": {
     "base_uri": "https://localhost:8080/",
     "height": 198
    },
    "executionInfo": {
     "elapsed": 372,
     "status": "error",
     "timestamp": 1666178830934,
     "user": {
      "displayName": "F4033-Kadir",
      "userId": "00693449641329635795"
     },
     "user_tz": -120
    },
    "id": "tRrIkCfu_qQl",
    "outputId": "53d3f252-bab2-4607-c28f-c66cdf193cd2"
   },
   "outputs": [
    {
     "ename": "TypeError",
     "evalue": "ignored",
     "output_type": "error",
     "traceback": [
      "\u001b[0;31m---------------------------------------------------------------------------\u001b[0m",
      "\u001b[0;31mTypeError\u001b[0m                                 Traceback (most recent call last)",
      "\u001b[0;32m<ipython-input-12-536545813430>\u001b[0m in \u001b[0;36m<module>\u001b[0;34m\u001b[0m\n\u001b[1;32m      1\u001b[0m \u001b[0mcity_list\u001b[0m \u001b[0;34m=\u001b[0m \u001b[0;34m[\u001b[0m\u001b[0;34m'Tokyo'\u001b[0m\u001b[0;34m,\u001b[0m \u001b[0;34m'Istanbul'\u001b[0m\u001b[0;34m,\u001b[0m \u001b[0;34m'Moskow'\u001b[0m\u001b[0;34m,\u001b[0m \u001b[0;34m'Dublin'\u001b[0m\u001b[0;34m]\u001b[0m\u001b[0;34m\u001b[0m\u001b[0;34m\u001b[0m\u001b[0m\n\u001b[1;32m      2\u001b[0m \u001b[0mcity_tuple\u001b[0m \u001b[0;34m=\u001b[0m \u001b[0mtuple\u001b[0m\u001b[0;34m(\u001b[0m\u001b[0mcity_list\u001b[0m\u001b[0;34m)\u001b[0m\u001b[0;34m\u001b[0m\u001b[0;34m\u001b[0m\u001b[0m\n\u001b[0;32m----> 3\u001b[0;31m \u001b[0mcity_tuple\u001b[0m\u001b[0;34m[\u001b[0m\u001b[0;36m0\u001b[0m\u001b[0;34m]\u001b[0m \u001b[0;34m=\u001b[0m \u001b[0;34m'New York'\u001b[0m  \u001b[0;31m# you can't assign a value\u001b[0m\u001b[0;34m\u001b[0m\u001b[0;34m\u001b[0m\u001b[0m\n\u001b[0m",
      "\u001b[0;31mTypeError\u001b[0m: 'tuple' object does not support item assignment"
     ]
    }
   ],
   "source": [
    "city_list = ['Tokyo', 'Istanbul', 'Moskow', 'Dublin']\n",
    "city_tuple = tuple(city_list)\n",
    "city_tuple[0] = 'New York'  # you can't assign a value: 'tuple' object does not support item assignment"
   ]
  },
  {
   "cell_type": "code",
   "execution_count": null,
   "metadata": {
    "colab": {
     "base_uri": "https://localhost:8080/"
    },
    "executionInfo": {
     "elapsed": 4,
     "status": "ok",
     "timestamp": 1666614397080,
     "user": {
      "displayName": "F4033-Kadir",
      "userId": "00693449641329635795"
     },
     "user_tz": -120
    },
    "id": "3uYrYrNaAQOc",
    "outputId": "580d9baf-483f-4035-a9f4-0bdad2500cdc"
   },
   "outputs": [
    {
     "name": "stdout",
     "output_type": "stream",
     "text": [
      "([1, 2, 3], [3, 2, 1])\n",
      "([1, 2, 3, 4], [3, 2, 1])\n"
     ]
    }
   ],
   "source": [
    "# 'tuple' object does not support item assignment; but they can contain mutable objects:\n",
    "v = ([1, 2, 3], [3, 2, 1])\n",
    "print(v)\n",
    "v[0].append(4)  # tuple içindeki bir list'e new item assignmenti.\n",
    "print(v)"
   ]
  },
  {
   "cell_type": "markdown",
   "metadata": {
    "id": "rPysmcuguTHT"
   },
   "source": [
    "**Index and Count methods in Tuple**\n",
    "\n",
    "**tuple_name.index()** returns the index number of the element.\n",
    "\n",
    "**tuple_name.count()** returns how many of a certain element there are in a given tuple."
   ]
  },
  {
   "cell_type": "code",
   "execution_count": null,
   "metadata": {
    "colab": {
     "base_uri": "https://localhost:8080/"
    },
    "executionInfo": {
     "elapsed": 460,
     "status": "ok",
     "timestamp": 1666685001774,
     "user": {
      "displayName": "F4033-Kadir",
      "userId": "00693449641329635795"
     },
     "user_tz": -120
    },
    "id": "B_PHtlgfB3ve",
    "outputId": "85c253c5-0e5a-4c32-8276-fd30f1a7f5f4"
   },
   "outputs": [
    {
     "name": "stdout",
     "output_type": "stream",
     "text": [
      "1\n",
      "0\n",
      "1\n"
     ]
    }
   ],
   "source": [
    "vowels = ('a', 'e', 'o', 'i', 'u')\n",
    "print(vowels.count('a'))\n",
    "print(vowels.count('c'))  # olmayan birsey count ettigimizde error vermez 0 der\n",
    "print(vowels[2:].count('i')) # belli bir indexten itibaren veya index aralığında aratabiliriz\n",
    "# index noyu tuple_name sonrası yazmaya dikkat. eğer ('i', 2) vb yazarsak error."
   ]
  },
  {
   "cell_type": "code",
   "execution_count": null,
   "metadata": {
    "colab": {
     "base_uri": "https://localhost:8080/"
    },
    "executionInfo": {
     "elapsed": 294,
     "status": "ok",
     "timestamp": 1666685188827,
     "user": {
      "displayName": "F4033-Kadir",
      "userId": "00693449641329635795"
     },
     "user_tz": -120
    },
    "id": "JrN14QpKLxYH",
    "outputId": "7cdb53ab-ad4c-4da6-ffc1-261a53e99ff5"
   },
   "outputs": [
    {
     "name": "stdout",
     "output_type": "stream",
     "text": [
      "2\n",
      "2\n",
      "2\n",
      "0\n"
     ]
    }
   ],
   "source": [
    "vowels = ('a', 'e', 'o', 'i', 'u')\n",
    "print(vowels.index('o'))\n",
    "# print(vowels.index('c'))  olmayan birsey verdiğimizde error verir\n",
    "# Aramaya kacinci indexten baslamasini ayarlayabiliriz.\n",
    "print(vowels.index('o', 2))  # 2'den başlatınca buldu. eger 3ten baslatsam error verirdi.\n",
    "print(vowels.index('o', 2, 3))  # arama aralığını daraltabiliriz. o'yu 2. indexten başlayıp 3. indexe kadarki arada ara .\n",
    "print(vowels[2:3].index('o'))  # benzer sekilde arama indexini daraltabiliriz. bu slice'ta 0 nolu index oluyor."
   ]
  },
  {
   "cell_type": "code",
   "execution_count": null,
   "metadata": {
    "colab": {
     "base_uri": "https://localhost:8080/"
    },
    "executionInfo": {
     "elapsed": 945,
     "status": "ok",
     "timestamp": 1666429029706,
     "user": {
      "displayName": "F4033-Kadir",
      "userId": "00693449641329635795"
     },
     "user_tz": -120
    },
    "id": "VwJvY4eg5OFq",
    "outputId": "30121040-f063-415a-8743-c94962aa55d0"
   },
   "outputs": [
    {
     "name": "stdout",
     "output_type": "stream",
     "text": [
      "[2, 'two', ('six', 6)]\n",
      "('six', 6)\n",
      "six\n",
      "('11', '', [2, 'two', ('six', 6), False], (5, 'fair'))\n"
     ]
    }
   ],
   "source": [
    "aaa = (\"11\", \"\", [2, \"two\", (\"six\", 6)], (5, \"fair\"))\n",
    "# task: six'i getir cevap aaa[2][2][0]. Mantığı:\n",
    "print(aaa[2])  # ilk önce ikinci indexe ulastik. o bir list\n",
    "print(aaa[2][2])  # 2nin 2si sonra. br tuple\n",
    "print(aaa[2][2][0])\n",
    "\n",
    "# ÖNEMLİ\n",
    "# TUPLE'A APPEND, İNSERT YAPILAMAZ AMA İCİNDEKİ BİR LİST'E YAPILABİLİR. ÖRN.\n",
    "aaa[2].append(False)  # index 2 bir list'ti, ona böyle append yaparız. veya diğer liste fonskyonalrı işletilebilir\n",
    "print(aaa)"
   ]
  },
  {
   "cell_type": "markdown",
   "metadata": {
    "id": "dGkeyxGCkDk8"
   },
   "source": [
    "**Tuple packing** refers to assigning multiple values into a tuple. **Tuple unpacking** refers to assigning a tuple into multiple variables."
   ]
  },
  {
   "cell_type": "code",
   "execution_count": null,
   "metadata": {
    "id": "K3XpPz-66YB3"
   },
   "outputs": [],
   "source": []
  },
  {
   "cell_type": "markdown",
   "metadata": {
    "id": "S0K4XU6-xixs"
   },
   "source": [
    "**DICTIONARIES**\n",
    "\n",
    "Dictionaries are the collection types which store **items (item pairs)**.\n",
    "\n",
    "Dictionaries are similar to real dictionaries which contain words and their meanings. In Python, you can accept the words as **key** and the meaning of the words as **value**.\n",
    "\n",
    "**A dictionary in Python is a collection of key-value pairs called items of a dictionary.** It is an **unordered collection of elements**. Dictionaries are indexed by keys. The dictionary is **enclosed by curly braces 👉🏻{}.** Each pair (item) is separated by a **comma** and the key and value are separated by a **colon**.\n",
    "\n",
    "Dictionaries are sometimes found in other languages as “associative memories” or “associative arrays”. Unlike sequences, which are indexed by a range of numbers, dictionaries are indexed by keys, which can be any immutable type; strings and numbers can always be keys."
   ]
  },
  {
   "cell_type": "markdown",
   "metadata": {
    "id": "tzVo2B4S0O03"
   },
   "source": [
    "**Creating a Dictionary**\n",
    "\n",
    "There are two methods two create a dictionary:\n",
    "\n",
    "1. A dictionary **can be created by enclosing pairs, separated by commas, in curly-braces**. \n",
    "\n",
    "2. We can use a function to create a dictionary : 'dict()' function."
   ]
  },
  {
   "cell_type": "code",
   "execution_count": null,
   "metadata": {
    "colab": {
     "base_uri": "https://localhost:8080/"
    },
    "executionInfo": {
     "elapsed": 564,
     "status": "ok",
     "timestamp": 1666259924143,
     "user": {
      "displayName": "F4033-Kadir",
      "userId": "00693449641329635795"
     },
     "user_tz": -120
    },
    "id": "aDMKiOMyvUAw",
    "outputId": "bdbcc108-4a68-4148-f62f-bd3941bdd03b"
   },
   "outputs": [
    {
     "name": "stdout",
     "output_type": "stream",
     "text": [
      "<class 'dict'>\n"
     ]
    }
   ],
   "source": [
    "empty_dict_1 = {}\n",
    "empty_dict_2 = dict()\n",
    "print(type(empty_dict_1))"
   ]
  },
  {
   "cell_type": "code",
   "execution_count": null,
   "metadata": {
    "colab": {
     "base_uri": "https://localhost:8080/"
    },
    "executionInfo": {
     "elapsed": 2772,
     "status": "ok",
     "timestamp": 1666259986815,
     "user": {
      "displayName": "F4033-Kadir",
      "userId": "00693449641329635795"
     },
     "user_tz": -120
    },
    "id": "bSAMclBc0_VC",
    "outputId": "7010e700-789e-4e60-a2e0-5e1b4a48136e"
   },
   "outputs": [
    {
     "name": "stdout",
     "output_type": "stream",
     "text": [
      "{'key1': 'value1', 'key2': 'value2', 'key3': 'value3'}\n"
     ]
    }
   ],
   "source": [
    "my_dict = {'key1': 'value1', 'key2': 'value2','key3': 'value3'}\n",
    "print(my_dict)"
   ]
  },
  {
   "cell_type": "markdown",
   "metadata": {
    "id": "uUUzIRBGarL2"
   },
   "source": [
    "Performing **list(dict_name)** on a dictionary returns a list of all the keys used in the dictionary in insertion order (if you want it sorted, just use **sorted(d)** instead)."
   ]
  },
  {
   "cell_type": "code",
   "execution_count": null,
   "metadata": {
    "colab": {
     "base_uri": "https://localhost:8080/"
    },
    "executionInfo": {
     "elapsed": 241,
     "status": "ok",
     "timestamp": 1666269929904,
     "user": {
      "displayName": "F4033-Kadir",
      "userId": "00693449641329635795"
     },
     "user_tz": -120
    },
    "id": "QSYhNFSAaabX",
    "outputId": "28260143-98a0-47dc-b311-7325f2e90d2c"
   },
   "outputs": [
    {
     "name": "stdout",
     "output_type": "stream",
     "text": [
      "['key1', 'key2', 'key3']\n",
      "['jack', 'guido', 'irv']\n",
      "['guido', 'irv', 'jack']\n"
     ]
    }
   ],
   "source": [
    "my_dict = {'key1': 'value1', 'key2': 'value2','key3': 'value3'}\n",
    "print(list(my_dict))\n",
    "tel = {'jack': 4098, 'guido': 4127, 'irv': 4127}\n",
    "print(list(tel))\n",
    "print(sorted(tel))"
   ]
  },
  {
   "cell_type": "markdown",
   "metadata": {
    "id": "iBqRa6wb1k42"
   },
   "source": [
    "The syntax for **accessing an item** is very simple. We write a key that we want to access **in square brackets** and it gives its value. This method works both for **adding items** to a dict and for reading them from there.\n",
    "\n",
    "**Eklemek istediğimizi de access etmek istediğimizi de [ ] ile vermeliyiz.**"
   ]
  },
  {
   "cell_type": "code",
   "execution_count": null,
   "metadata": {
    "colab": {
     "base_uri": "https://localhost:8080/"
    },
    "executionInfo": {
     "elapsed": 700,
     "status": "ok",
     "timestamp": 1666260090428,
     "user": {
      "displayName": "F4033-Kadir",
      "userId": "00693449641329635795"
     },
     "user_tz": -120
    },
    "id": "XOzY9oX11XVl",
    "outputId": "3bb068b2-39d5-4e3a-b632-18f150c74ffa"
   },
   "outputs": [
    {
     "name": "stdout",
     "output_type": "stream",
     "text": [
      "Denver\n"
     ]
    }
   ],
   "source": [
    "state_capitals = {'Arkansas': 'Little Rock', 'Colorado': 'Denver',\n",
    "                  'California': 'Sacramento', 'Georgia': 'Atlanta'}\n",
    "print(state_capitals['Colorado']) # accessing method. it returns the value of the given key"
   ]
  },
  {
   "cell_type": "code",
   "execution_count": null,
   "metadata": {
    "colab": {
     "base_uri": "https://localhost:8080/"
    },
    "executionInfo": {
     "elapsed": 8,
     "status": "ok",
     "timestamp": 1666431191774,
     "user": {
      "displayName": "F4033-Kadir",
      "userId": "00693449641329635795"
     },
     "user_tz": -120
    },
    "id": "8ttGB46J1zQy",
    "outputId": "542b8f48-fadb-41c5-a744-1b2504469a9e"
   },
   "outputs": [
    {
     "name": "stdout",
     "output_type": "stream",
     "text": [
      "{'Arkansas': 'Little Rock', 'Colorado': 'Denver', 'California': 'Sacramento', 'Georgia': 'Atlanta', 'Virginia': 'Richmond'}\n",
      "{'Arkansas': 'Little Rock', 'Colorado': 'Denver', 'California': 'Sacramento', 'Georgia': 'Atlanta', 'Virginia': 'Richmond', 'Texas': 'Austin'}\n"
     ]
    }
   ],
   "source": [
    "state_capitals = {'Arkansas': 'Little Rock','Colorado': 'Denver',\n",
    "                  'California': 'Sacramento','Georgia': 'Atlanta'}\n",
    "state_capitals['Virginia'] = 'Richmond' # adding a new item to the dict\n",
    "print(state_capitals)\n",
    "state_capitals['Texas'] = 'Austin'\n",
    "print(state_capitals)"
   ]
  },
  {
   "cell_type": "markdown",
   "metadata": {
    "id": "aNIs4t_kK6Hg"
   },
   "source": [
    "**We can also access a key by using get() method** "
   ]
  },
  {
   "cell_type": "code",
   "execution_count": null,
   "metadata": {
    "id": "C4-UyfEWLFL_"
   },
   "outputs": [],
   "source": [
    "# get vs [] for retrieving elements\n",
    "my_dict = {'name': 'Jack', 'age': 26}\n",
    "print(my_dict['name'])\n",
    "print(my_dict.get('age'))\n",
    "print(my_dict.get('address'))\n",
    "# Trying to access keys which doesn't exist by using [] throws error; get() returns None.\n",
    "# get()'da defaul value none getirmesi, ama bunu değiştireibliriz\n",
    "print(my_dict.get('address', [\"address can't be found\"]))  # None değil de address can't be found return eder burda.\n",
    "# bu sonuncu özellikle conditional statementsda kullanılıyor."
   ]
  },
  {
   "cell_type": "markdown",
   "metadata": {
    "id": "oVM0HE0sK1pc"
   },
   "source": [
    "**Main Features of keys** "
   ]
  },
  {
   "cell_type": "code",
   "execution_count": null,
   "metadata": {
    "colab": {
     "base_uri": "https://localhost:8080/"
    },
    "executionInfo": {
     "elapsed": 520,
     "status": "ok",
     "timestamp": 1666685869578,
     "user": {
      "displayName": "F4033-Kadir",
      "userId": "00693449641329635795"
     },
     "user_tz": -120
    },
    "id": "olkdtsKJC-A5",
    "outputId": "22036faa-50f5-4460-e479-745fbfe379d0"
   },
   "outputs": [
    {
     "name": "stdout",
     "output_type": "stream",
     "text": [
      "{1: 'one', 'two': 2, False: [1, 2, 3], 1.5: ('one', 'two'), (1, 2): 'Atlanta'}\n"
     ]
    }
   ],
   "source": [
    "aaa = {1: 'one','two': 2, False : [1,2,3], 1.5: (\"one\", \"two\"), (1,2) : 'Atlanta'}\n",
    "print(aaa)  # farklı data types ile dict oluşturulabilir. hem key'ler hem value'lar farklı datay types olabilir.\n",
    "# AMA: key'ler list gibi unhashable type'lar olamaz. mutable'lar key olamaz. Bec keys are unique. örnek aşağıda:\n",
    "# print(sorted(aaa)) bu dic sort edilemez ama: Error: not supported between instances of 'str' and 'int'"
   ]
  },
  {
   "cell_type": "code",
   "execution_count": null,
   "metadata": {
    "colab": {
     "base_uri": "https://localhost:8080/",
     "height": 181
    },
    "executionInfo": {
     "elapsed": 7,
     "status": "error",
     "timestamp": 1666431730376,
     "user": {
      "displayName": "F4033-Kadir",
      "userId": "00693449641329635795"
     },
     "user_tz": -120
    },
    "id": "tVch6R6WEiPo",
    "outputId": "83d8d3c2-2019-41e4-95f9-04d0db633143"
   },
   "outputs": [
    {
     "ename": "TypeError",
     "evalue": "ignored",
     "output_type": "error",
     "traceback": [
      "\u001b[0;31m---------------------------------------------------------------------------\u001b[0m",
      "\u001b[0;31mTypeError\u001b[0m                                 Traceback (most recent call last)",
      "\u001b[0;32m<ipython-input-24-5bd280691370>\u001b[0m in \u001b[0;36m<module>\u001b[0;34m\u001b[0m\n\u001b[0;32m----> 1\u001b[0;31m \u001b[0mbbb\u001b[0m \u001b[0;34m=\u001b[0m \u001b[0;34m{\u001b[0m\u001b[0;34m[\u001b[0m\u001b[0;36m1\u001b[0m\u001b[0;34m,\u001b[0m\u001b[0;36m2\u001b[0m\u001b[0;34m]\u001b[0m\u001b[0;34m:\u001b[0m \u001b[0;34m'one'\u001b[0m\u001b[0;34m,\u001b[0m\u001b[0;34m'two'\u001b[0m\u001b[0;34m:\u001b[0m \u001b[0;36m2\u001b[0m\u001b[0;34m,\u001b[0m \u001b[0;32mFalse\u001b[0m \u001b[0;34m:\u001b[0m \u001b[0;34m[\u001b[0m\u001b[0;36m1\u001b[0m\u001b[0;34m,\u001b[0m\u001b[0;36m2\u001b[0m\u001b[0;34m,\u001b[0m\u001b[0;36m3\u001b[0m\u001b[0;34m]\u001b[0m\u001b[0;34m,\u001b[0m \u001b[0;36m1.5\u001b[0m\u001b[0;34m:\u001b[0m \u001b[0;34m(\u001b[0m\u001b[0;34m\"one\"\u001b[0m\u001b[0;34m,\u001b[0m \u001b[0;34m\"two\"\u001b[0m\u001b[0;34m)\u001b[0m\u001b[0;34m,\u001b[0m \u001b[0;34m(\u001b[0m\u001b[0;36m1\u001b[0m\u001b[0;34m,\u001b[0m\u001b[0;36m2\u001b[0m\u001b[0;34m)\u001b[0m \u001b[0;34m:\u001b[0m \u001b[0;34m'Atlanta'\u001b[0m\u001b[0;34m}\u001b[0m\u001b[0;34m\u001b[0m\u001b[0;34m\u001b[0m\u001b[0m\n\u001b[0m\u001b[1;32m      2\u001b[0m \u001b[0mprint\u001b[0m\u001b[0;34m(\u001b[0m\u001b[0mbbb\u001b[0m\u001b[0;34m)\u001b[0m\u001b[0;34m\u001b[0m\u001b[0;34m\u001b[0m\u001b[0m\n",
      "\u001b[0;31mTypeError\u001b[0m: unhashable type: 'list'"
     ]
    }
   ],
   "source": [
    "bbb = {[1,2]: 'one','two': 2, False : [1,2,3], 1.5: (\"one\", \"two\"), (1,2) : 'Atlanta'}\n",
    "print(bbb)  # mesela bu error verir. TypeError: unhashable type : 'list'"
   ]
  },
  {
   "cell_type": "markdown",
   "metadata": {
    "id": "cRK-YRCmF7h1"
   },
   "source": [
    "Restrictions;\n",
    "-\ta given key can appear in a dictionary only once. Duplicate keys are not allowed. \n",
    "-\ta dictionary key must be of a type that is immutable. \n",
    "- If you specify a key a second time during the initial creation of a dictionary, then the second occurrence will OVERRIDE the first."
   ]
  },
  {
   "cell_type": "code",
   "execution_count": null,
   "metadata": {
    "colab": {
     "base_uri": "https://localhost:8080/",
     "height": 198
    },
    "executionInfo": {
     "elapsed": 357,
     "status": "error",
     "timestamp": 1666431930227,
     "user": {
      "displayName": "F4033-Kadir",
      "userId": "00693449641329635795"
     },
     "user_tz": -120
    },
    "id": "SMndq6D1FIPr",
    "outputId": "d933208f-7423-4d31-fd2e-d1dd51a1f903"
   },
   "outputs": [
    {
     "ename": "TypeError",
     "evalue": "ignored",
     "output_type": "error",
     "traceback": [
      "\u001b[0;31m---------------------------------------------------------------------------\u001b[0m",
      "\u001b[0;31mTypeError\u001b[0m                                 Traceback (most recent call last)",
      "\u001b[0;32m<ipython-input-26-a39a91c3841d>\u001b[0m in \u001b[0;36m<module>\u001b[0;34m\u001b[0m\n\u001b[1;32m      1\u001b[0m \u001b[0;31m# key olarak dict olur\u001b[0m\u001b[0;34m\u001b[0m\u001b[0;34m\u001b[0m\u001b[0;34m\u001b[0m\u001b[0m\n\u001b[0;32m----> 2\u001b[0;31m \u001b[0mccc\u001b[0m \u001b[0;34m=\u001b[0m \u001b[0;34m{\u001b[0m\u001b[0;34m{\u001b[0m\u001b[0;36m1\u001b[0m \u001b[0;34m:\u001b[0m \u001b[0;36m2\u001b[0m\u001b[0;34m}\u001b[0m \u001b[0;34m:\u001b[0m \u001b[0;34m'one'\u001b[0m\u001b[0;34m,\u001b[0m\u001b[0;34m'two'\u001b[0m\u001b[0;34m:\u001b[0m \u001b[0;36m2\u001b[0m\u001b[0;34m,\u001b[0m \u001b[0;32mFalse\u001b[0m \u001b[0;34m:\u001b[0m \u001b[0;34m[\u001b[0m\u001b[0;36m1\u001b[0m\u001b[0;34m,\u001b[0m\u001b[0;36m2\u001b[0m\u001b[0;34m,\u001b[0m\u001b[0;36m3\u001b[0m\u001b[0;34m]\u001b[0m\u001b[0;34m,\u001b[0m \u001b[0;36m1.5\u001b[0m\u001b[0;34m:\u001b[0m \u001b[0;34m(\u001b[0m\u001b[0;34m\"one\"\u001b[0m\u001b[0;34m,\u001b[0m \u001b[0;34m\"two\"\u001b[0m\u001b[0;34m)\u001b[0m\u001b[0;34m,\u001b[0m \u001b[0;34m(\u001b[0m\u001b[0;36m1\u001b[0m\u001b[0;34m,\u001b[0m\u001b[0;36m2\u001b[0m\u001b[0;34m)\u001b[0m \u001b[0;34m:\u001b[0m \u001b[0;34m'Atlanta'\u001b[0m\u001b[0;34m}\u001b[0m\u001b[0;34m\u001b[0m\u001b[0;34m\u001b[0m\u001b[0m\n\u001b[0m\u001b[1;32m      3\u001b[0m \u001b[0mprint\u001b[0m\u001b[0;34m(\u001b[0m\u001b[0mccc\u001b[0m\u001b[0;34m)\u001b[0m\u001b[0;34m\u001b[0m\u001b[0;34m\u001b[0m\u001b[0m\n",
      "\u001b[0;31mTypeError\u001b[0m: unhashable type: 'dict'"
     ]
    }
   ],
   "source": [
    "# key olarak dict olur mu:\n",
    "ccc = {{1 : 2} : 'one','two': 2, False : [1,2,3], 1.5: (\"one\", \"two\"), (1,2) : 'Atlanta'}\n",
    "print(ccc)  # bu da olmaz. çünkü dict'ler de değiştirilebilir, mutable. immutable olmalı. \n",
    "# ama tuple immutable olduğu için key olabilir."
   ]
  },
  {
   "cell_type": "markdown",
   "metadata": {
    "id": "h9-n9-Ss2nJI"
   },
   "source": [
    "Önemli: **Do not use quotes for keys when using the dict() function to create a dictionary**.\n",
    "\n",
    "You cannot use **iterables as keys** to create a dictionary.\n",
    "\n",
    "dict = {'key1':'value1', 'key2':'value2'}\n",
    "\n",
    "dict_by_dict = dict(key1 = 'value1', key2 = 'value2')\n",
    "\n",
    "Her iki metotta colonlara, key value eşitliğni sağlayan sembollere, parantezlere dikkat. "
   ]
  },
  {
   "cell_type": "code",
   "execution_count": null,
   "metadata": {
    "colab": {
     "base_uri": "https://localhost:8080/"
    },
    "executionInfo": {
     "elapsed": 546,
     "status": "ok",
     "timestamp": 1666260911082,
     "user": {
      "displayName": "F4033-Kadir",
      "userId": "00693449641329635795"
     },
     "user_tz": -120
    },
    "id": "pX5sZ-dg2CU-",
    "outputId": "148adedc-c103-40be-82bf-1135d4167516"
   },
   "outputs": [
    {
     "name": "stdout",
     "output_type": "stream",
     "text": [
      "{'animal': 'dog', 'planet': 'neptun', 'number': 40, 'pi': 3.14, 'is_good': True}\n"
     ]
    }
   ],
   "source": [
    "dict_by_dict = dict(animal='dog', planet='neptun', number=40, pi=3.14, is_good=True)\n",
    "# dict metodu ile yeni bir dict yapiyoruz burada. key'leri quotes icinde verirsek error.\n",
    "# denedim, su erroru verdi: keyword can't be an expression\n",
    "# {} METODU İLE DİCT YAPARKEN KEY'LER DE QUOTES'A ALINIR. EN USTE BILGIYE BAK TEKRAR. \n",
    "print(dict_by_dict)\n",
    "\n",
    "# ÖNEMLİ: dict ile oluştururken key ve value arasındakinin colon değil de\n",
    "# = olmasına dikkat et. yoksa hata verir. {} metodunda ise normal key : value"
   ]
  },
  {
   "cell_type": "code",
   "execution_count": null,
   "metadata": {
    "colab": {
     "base_uri": "https://localhost:8080/",
     "height": 130
    },
    "executionInfo": {
     "elapsed": 6,
     "status": "error",
     "timestamp": 1666432386193,
     "user": {
      "displayName": "F4033-Kadir",
      "userId": "00693449641329635795"
     },
     "user_tz": -120
    },
    "id": "kojMJ0YgG9mt",
    "outputId": "38af955f-e271-4955-c03d-76b7f68bd2b2"
   },
   "outputs": [
    {
     "ename": "SyntaxError",
     "evalue": "ignored",
     "output_type": "error",
     "traceback": [
      "\u001b[0;36m  File \u001b[0;32m\"<ipython-input-27-e0f5050c2427>\"\u001b[0;36m, line \u001b[0;32m1\u001b[0m\n\u001b[0;31m    dict(isim = \"ali\", isim = \"veli\")\u001b[0m\n\u001b[0m                      ^\u001b[0m\n\u001b[0;31mSyntaxError\u001b[0m\u001b[0;31m:\u001b[0m keyword argument repeated\n"
     ]
    }
   ],
   "source": [
    "dict(isim = \"ali\", isim = \"veli\")  # normalde sonuncuyu alır {} ile dict oluştururken.\n",
    "# SyntaxError: keyword argument repeated. dict fonksiyonunda aynı isimde 2 key kabul etmez.\n",
    "# sunu kabul eder: aaa = {'isim' : \"ali\", 'isim' : \"veli\"}"
   ]
  },
  {
   "cell_type": "markdown",
   "metadata": {
    "id": "7flfLVccbyIw"
   },
   "source": [
    "The **dict()** constructor builds dictionaries directly from sequences of key-value pairs:"
   ]
  },
  {
   "cell_type": "code",
   "execution_count": null,
   "metadata": {
    "colab": {
     "base_uri": "https://localhost:8080/"
    },
    "executionInfo": {
     "elapsed": 299,
     "status": "ok",
     "timestamp": 1666270070872,
     "user": {
      "displayName": "F4033-Kadir",
      "userId": "00693449641329635795"
     },
     "user_tz": -120
    },
    "id": "lAKF1Mblb1UP",
    "outputId": "88545434-c04b-4431-c85f-1ca85eb57ff2"
   },
   "outputs": [
    {
     "data": {
      "text/plain": [
       "{'sape': 4139, 'guido': 4127, 'jack': 4098}"
      ]
     },
     "execution_count": 7,
     "metadata": {},
     "output_type": "execute_result"
    }
   ],
   "source": [
    "dict([('sape', 4139), ('guido', 4127), ('jack', 4098)])"
   ]
  },
  {
   "cell_type": "code",
   "execution_count": null,
   "metadata": {
    "colab": {
     "base_uri": "https://localhost:8080/"
    },
    "executionInfo": {
     "elapsed": 7,
     "status": "ok",
     "timestamp": 1666722579580,
     "user": {
      "displayName": "F4033-Kadir",
      "userId": "00693449641329635795"
     },
     "user_tz": -120
    },
    "id": "d3fPN8ykZ6j5",
    "outputId": "42d00a59-a5a2-4ca6-ca08-aa9352d029e9"
   },
   "outputs": [
    {
     "name": "stdout",
     "output_type": "stream",
     "text": [
      "{'sape': 4139, 'guido': 4127, 'jack': 4098}\n"
     ]
    }
   ],
   "source": [
    "listoftuple = [('sape', 4139), ('guido', 4127), ('jack', 4098)]\n",
    "tuples_dict = dict(listoftuple)\n",
    "print(tuples_dict)"
   ]
  },
  {
   "cell_type": "code",
   "execution_count": null,
   "metadata": {
    "colab": {
     "base_uri": "https://localhost:8080/"
    },
    "executionInfo": {
     "elapsed": 10,
     "status": "ok",
     "timestamp": 1666722715895,
     "user": {
      "displayName": "F4033-Kadir",
      "userId": "00693449641329635795"
     },
     "user_tz": -120
    },
    "id": "FajregaTaGPo",
    "outputId": "0e1262d6-7c68-457f-a235-296946a0a8df"
   },
   "outputs": [
    {
     "data": {
      "text/plain": [
       "[(1, 6), (2, 7), (3, 8), (4, 9), (5, 10)]"
      ]
     },
     "execution_count": 11,
     "metadata": {},
     "output_type": "execute_result"
    }
   ],
   "source": [
    "# mesela düz bir listemiz olsun ve onu dict yapalım\n",
    "düzlistem = [1,2,3,4,5]\n",
    "aaalistem = [6,7,8,9,10]\n",
    "# zip(düzlistem, aaalistem) direkt böyle olmaz\n",
    "zip_list = zip(düzlistem, aaalistem)\n",
    "list(zip_list)  # pairli hale geldi. artik bunu dict yapabiliriz."
   ]
  },
  {
   "cell_type": "code",
   "execution_count": null,
   "metadata": {
    "colab": {
     "base_uri": "https://localhost:8080/"
    },
    "executionInfo": {
     "elapsed": 342,
     "status": "ok",
     "timestamp": 1666722804476,
     "user": {
      "displayName": "F4033-Kadir",
      "userId": "00693449641329635795"
     },
     "user_tz": -120
    },
    "id": "hso5dNPta3Zs",
    "outputId": "f6a19639-6e49-4b79-a335-a47e48e2b112"
   },
   "outputs": [
    {
     "name": "stdout",
     "output_type": "stream",
     "text": [
      "(1, 6) (2, 7) (3, 8) (4, 9) (5, 10)\n"
     ]
    }
   ],
   "source": [
    "zip_list = zip(düzlistem, aaalistem)\n",
    "print(* zip_list)  # bu da diğer yöntemi"
   ]
  },
  {
   "cell_type": "code",
   "execution_count": null,
   "metadata": {
    "colab": {
     "base_uri": "https://localhost:8080/"
    },
    "executionInfo": {
     "elapsed": 379,
     "status": "ok",
     "timestamp": 1666722846253,
     "user": {
      "displayName": "F4033-Kadir",
      "userId": "00693449641329635795"
     },
     "user_tz": -120
    },
    "id": "U9IiS1Ooa_AB",
    "outputId": "428aba0b-7232-4105-effa-b0954499a4dd"
   },
   "outputs": [
    {
     "data": {
      "text/plain": [
       "{1: 6, 2: 7, 3: 8, 4: 9, 5: 10}"
      ]
     },
     "execution_count": 13,
     "metadata": {},
     "output_type": "execute_result"
    }
   ],
   "source": [
    "zip_list = zip(düzlistem, aaalistem)\n",
    "dict(list(zip_list))"
   ]
  },
  {
   "cell_type": "code",
   "execution_count": null,
   "metadata": {
    "id": "23ka0Fj7bX-C"
   },
   "outputs": [],
   "source": [
    "basitliste2 = list(range(1000))  # bin keylik liste yapalım\n",
    "dict(list(zip(basitliste2, basitliste2)))  # ziple elemanlarını karşılıklı pair yapıp list haline getirip onu da dict yaparız. \n",
    "# böylece hızlıca 1000 item'lik bir dict oluşturmuş oluruz."
   ]
  },
  {
   "cell_type": "code",
   "execution_count": null,
   "metadata": {
    "id": "sqrWAMd5AGYU"
   },
   "outputs": [],
   "source": [
    "ayakkabi = {'ali' : 1,\n",
    "            'deli' : 1,\n",
    "            'veli' : 1\n",
    "            }\n",
    "ayakkabi['ali'] += 1  # Dict'lerde value int ise arith ope lerle value'lar degistirilebilir."
   ]
  },
  {
   "cell_type": "code",
   "execution_count": null,
   "metadata": {
    "colab": {
     "base_uri": "https://localhost:8080/"
    },
    "executionInfo": {
     "elapsed": 232,
     "status": "ok",
     "timestamp": 1666632264037,
     "user": {
      "displayName": "F4033-Kadir",
      "userId": "00693449641329635795"
     },
     "user_tz": -120
    },
    "id": "o7QaQXdqBen9",
    "outputId": "6106db52-218d-4fce-f19e-815355516ae3"
   },
   "outputs": [
    {
     "name": "stdout",
     "output_type": "stream",
     "text": [
      "{'ali': 2, 'deli': 1, 'veli': 1}\n"
     ]
    }
   ],
   "source": [
    "print(ayakkabi)"
   ]
  },
  {
   "cell_type": "code",
   "execution_count": null,
   "metadata": {
    "colab": {
     "base_uri": "https://localhost:8080/"
    },
    "executionInfo": {
     "elapsed": 333,
     "status": "ok",
     "timestamp": 1666632648893,
     "user": {
      "displayName": "F4033-Kadir",
      "userId": "00693449641329635795"
     },
     "user_tz": -120
    },
    "id": "u4Y-uHPWBwgM",
    "outputId": "285e3db5-95ed-4180-e6b0-dfabc2126b38"
   },
   "outputs": [
    {
     "name": "stdout",
     "output_type": "stream",
     "text": [
      "True <class 'bool'>\n"
     ]
    }
   ],
   "source": [
    "dict_by_dict = dict(animal='dog', planet='neptun', number=40, pi=3.14, is_good=True)\n",
    "print(dict_by_dict['is_good'], type(dict_by_dict['is_good']))  \n",
    "# eger [is_good] yazarsak quotesuz error verir. (is_good is not defined)\n",
    "# is_good class type bool, dikkat."
   ]
  },
  {
   "cell_type": "markdown",
   "metadata": {
    "id": "WDCAePnA5gtN"
   },
   "source": [
    "**Main Operations with Dictionaries**\n",
    "\n",
    "There are several methods that allow us to **access items, keys, and values**. Y**ou can access all items using the .items() method, all keys using the .keys() method, and all values using the .values() method**."
   ]
  },
  {
   "cell_type": "code",
   "execution_count": null,
   "metadata": {
    "colab": {
     "base_uri": "https://localhost:8080/"
    },
    "executionInfo": {
     "elapsed": 240,
     "status": "ok",
     "timestamp": 1666634655266,
     "user": {
      "displayName": "F4033-Kadir",
      "userId": "00693449641329635795"
     },
     "user_tz": -120
    },
    "id": "p-ntudqB2v2G",
    "outputId": "acbb183a-7b38-42d0-e1ae-b28d5c0180e4"
   },
   "outputs": [
    {
     "name": "stdout",
     "output_type": "stream",
     "text": [
      "dict_items([('animal', 'dog'), ('planet', 'neptun'), ('number', 40), ('pi', 3.14), ('is_good', True)])\n",
      "dict_keys(['animal', 'planet', 'number', 'pi', 'is_good'])\n",
      "dict_values(['dog', 'neptun', 40, 3.14, True])\n",
      "[('animal', 'dog'), ('planet', 'neptun'), ('number', 40), ('pi', 3.14), ('is_good', True)]\n",
      "['animal', 'planet', 'number', 'pi', 'is_good']\n",
      "['dog', 'neptun', 40, 3.14, True]\n"
     ]
    }
   ],
   "source": [
    "dict_by_dict = {'animal': 'dog','planet': 'neptun','number': 40,'pi': 3.14,'is_good': True}\n",
    "print(dict_by_dict.items())  #bu içinde tuplelar olan list gibi return eder. ama items formati bu, list değil typei\n",
    "print(dict_by_dict.keys()) \n",
    "print(dict_by_dict.values())\n",
    "print(list(dict_by_dict.items()))  #bunlari liste de convert edebiliriz. boylece list methodları uygulayabiliriz\n",
    "print(list(dict_by_dict.keys())) \n",
    "print(list(dict_by_dict.values()))"
   ]
  },
  {
   "cell_type": "code",
   "execution_count": null,
   "metadata": {
    "colab": {
     "base_uri": "https://localhost:8080/"
    },
    "executionInfo": {
     "elapsed": 4,
     "status": "ok",
     "timestamp": 1666635047826,
     "user": {
      "displayName": "F4033-Kadir",
      "userId": "00693449641329635795"
     },
     "user_tz": -120
    },
    "id": "D2d168xOLE5o",
    "outputId": "e5779c50-275c-4874-c184-56517ef62168"
   },
   "outputs": [
    {
     "name": "stdout",
     "output_type": "stream",
     "text": [
      "dict_items([('animal', 'dog'), ('planet', 'neptun'), ('number', 40), ('pi', 3.14), ('is_good', True)])\n",
      "<class 'dict_items'>\n",
      "5\n",
      "[('animal', 'dog'), ('planet', 'neptun'), ('number', 40), ('pi', 3.14), ('is_good', True)]\n",
      "5\n"
     ]
    }
   ],
   "source": [
    "print(dict_by_dict.items())\n",
    "print(type(dict_by_dict.items()))  # kendine has bir type'ı olur bunun.\n",
    "print(len(dict_by_dict.items()))  # bunu listeye cevirebiliriz. her elemanı bir tuple olan list\n",
    "print(list(dict_by_dict.items()))\n",
    "print(len(list(dict_by_dict.items())))"
   ]
  },
  {
   "cell_type": "code",
   "execution_count": null,
   "metadata": {
    "colab": {
     "base_uri": "https://localhost:8080/"
    },
    "executionInfo": {
     "elapsed": 4,
     "status": "ok",
     "timestamp": 1666635850768,
     "user": {
      "displayName": "F4033-Kadir",
      "userId": "00693449641329635795"
     },
     "user_tz": -120
    },
    "id": "VuJAiNB2OtbK",
    "outputId": "249fb483-88e2-4589-f401-29d8011642c4"
   },
   "outputs": [
    {
     "name": "stdout",
     "output_type": "stream",
     "text": [
      "[('animal', 'dog'), ('planet', 'neptun'), ('number', 40), ('pi', 3.14), ('is_good', True)]\n",
      "('animal', 'dog')\n",
      "animal\n",
      "dog\n"
     ]
    }
   ],
   "source": [
    "items = list(dict_by_dict.items())\n",
    "print(items)\n",
    "print(items[0])  \n",
    "# bunu tuple unpacking ile farklı variablesa atayablir miyiz?\n",
    "x, y = items[0]\n",
    "print(x)\n",
    "print(y)"
   ]
  },
  {
   "cell_type": "code",
   "execution_count": null,
   "metadata": {
    "colab": {
     "base_uri": "https://localhost:8080/"
    },
    "executionInfo": {
     "elapsed": 248,
     "status": "ok",
     "timestamp": 1666635222233,
     "user": {
      "displayName": "F4033-Kadir",
      "userId": "00693449641329635795"
     },
     "user_tz": -120
    },
    "id": "4Lp7bdpGMQ7N",
    "outputId": "107225a1-4517-4d0f-8246-cc8155043831"
   },
   "outputs": [
    {
     "name": "stdout",
     "output_type": "stream",
     "text": [
      "<class 'dict_keys'>\n",
      "dict_keys(['animal', 'planet', 'number', 'pi', 'is_good'])\n",
      "('animal', 'planet', 'number', 'pi', 'is_good')\n"
     ]
    }
   ],
   "source": [
    "print(type(dict_by_dict.keys())) \n",
    "print(dict_by_dict.keys())\n",
    "# istersek bunu tuple da yapabliriz\n",
    "print(tuple(dict_by_dict.keys())) "
   ]
  },
  {
   "cell_type": "code",
   "execution_count": null,
   "metadata": {
    "colab": {
     "base_uri": "https://localhost:8080/"
    },
    "executionInfo": {
     "elapsed": 225,
     "status": "ok",
     "timestamp": 1666636114588,
     "user": {
      "displayName": "F4033-Kadir",
      "userId": "00693449641329635795"
     },
     "user_tz": -120
    },
    "id": "saiOYsvIP-tv",
    "outputId": "c4fd0e9e-f3a8-40bc-e039-31f9821428b7"
   },
   "outputs": [
    {
     "name": "stdout",
     "output_type": "stream",
     "text": [
      "dict_values(['dog', 'neptun', 40, 3.14, True])\n",
      "{True, 3.14, 40, 'neptun', 'dog'}\n"
     ]
    }
   ],
   "source": [
    "print(dict_by_dict.values())\n",
    "print(set(dict_by_dict.values()))"
   ]
  },
  {
   "cell_type": "code",
   "execution_count": null,
   "metadata": {
    "colab": {
     "base_uri": "https://localhost:8080/"
    },
    "executionInfo": {
     "elapsed": 274,
     "status": "ok",
     "timestamp": 1666636261120,
     "user": {
      "displayName": "F4033-Kadir",
      "userId": "00693449641329635795"
     },
     "user_tz": -120
    },
    "id": "vD2ju6pBQqtP",
    "outputId": "21847b0c-2287-44e8-bc14-18784506b64b"
   },
   "outputs": [
    {
     "name": "stdout",
     "output_type": "stream",
     "text": [
      "[135.75, 98.5, 103.38]\n",
      "$135.75 \n",
      "$98.50 \n",
      "$103.38\n"
     ]
    }
   ],
   "source": [
    "#Departmanındaki işçilerin kazançlarını dollar olarak aldıktan sonra payrollarını\n",
    "# $xx.yy formatında göster\n",
    "amount_dollar = { 'Jason' : 135.75, 'Julia' : 98.5, 'John' : 103.38}\n",
    "payrolls_dollar = amount_dollar.values()\n",
    "bbb = list(amount_dollar.values())\n",
    "print(bbb)\n",
    "print(\"${:.2f} \\n${:.2f} \\n${:.2f}\".format(list(amount_dollar.values())[0], \n",
    "                                           list(amount_dollar.values())[1], list(amount_dollar.values())[2] ))"
   ]
  },
  {
   "cell_type": "markdown",
   "metadata": {
    "id": "UxUVeuxu6qaz"
   },
   "source": [
    "We can add a new item by assigning value to a key that is not in the dictionary. **Likewise, we can add new items using the .update() method**."
   ]
  },
  {
   "cell_type": "code",
   "execution_count": null,
   "metadata": {
    "colab": {
     "base_uri": "https://localhost:8080/"
    },
    "executionInfo": {
     "elapsed": 252,
     "status": "ok",
     "timestamp": 1666636468970,
     "user": {
      "displayName": "F4033-Kadir",
      "userId": "00693449641329635795"
     },
     "user_tz": -120
    },
    "id": "GTX8IoEU6VCX",
    "outputId": "461e61af-0c27-4781-864c-b99f40715725"
   },
   "outputs": [
    {
     "name": "stdout",
     "output_type": "stream",
     "text": [
      "{'animal': 'dog', 'planet': 'neptun', 'number': 40, 'pi': 3.14, 'is_good': True, 'is_bad': False}\n",
      "{'animal': 'dog', 'planet': 'neptun', 'number': 40, 'pi': 3.14, 'is_good': True, 'is_bad': False, 'aaaaa': 134, 153: 'bir_sayi'}\n",
      "{'animal': 'dog', 'planet': 'neptun', 'number': 40, 'pi': 3.14, 'is_good': True, 'is_bad': False, 'aaaaa': 135, 153: 'bir_sayi'}\n"
     ]
    }
   ],
   "source": [
    "dict_by_dict = {'animal': 'dog','planet': 'neptun','number': 40,'pi': 3.14,'is_good': True}\n",
    "dict_by_dict.update({'is_bad': False})  # () içinde {} içinde yazmayı unutma\n",
    "print(dict_by_dict)\n",
    "dict_by_dict.update({'aaaaa': 134, 153: 'bir_sayi'})  # update ile 2 tane birden de eklenebilir.\n",
    "print(dict_by_dict) \n",
    "# peki olan bir key yazarsak\n",
    "dict_by_dict.update({'aaaaa': 135})\n",
    "print(dict_by_dict)   # o key zaten varsa mevcudu gunceller."
   ]
  },
  {
   "cell_type": "code",
   "execution_count": null,
   "metadata": {
    "colab": {
     "base_uri": "https://localhost:8080/"
    },
    "executionInfo": {
     "elapsed": 4,
     "status": "ok",
     "timestamp": 1666614920776,
     "user": {
      "displayName": "F4033-Kadir",
      "userId": "00693449641329635795"
     },
     "user_tz": -120
    },
    "id": "GrKhe6-YJN2Y",
    "outputId": "8daaa129-44a8-480a-88d9-6e731160779e"
   },
   "outputs": [
    {
     "name": "stdout",
     "output_type": "stream",
     "text": [
      "200\n",
      "dogdogdogdogdog\n",
      "dog is a nice animal.\n"
     ]
    }
   ],
   "source": [
    "dict_by_dict = {'animal': 'dog','planet': 'neptun','number': 40,'pi': 3.14,'is_good': True}\n",
    "print(dict_by_dict['number'] * 5)  # sadece key ile yapılır bu işlemler. key name yerine index no yazarsak error verir\n",
    "print(dict_by_dict['animal'] * 5)\n",
    "print(dict_by_dict['animal'] + \" is a nice animal.\")\n",
    "# işlem yapacağımız key'in value'su int ise diğer matematik işlemleri yapılabilir."
   ]
  },
  {
   "cell_type": "markdown",
   "metadata": {
    "id": "0zunyrtX7ERA"
   },
   "source": [
    "You can also **remove** an item by using **the del function**:\n",
    "\n",
    "**The formula syntax is : del dictionary_name['key'].**"
   ]
  },
  {
   "cell_type": "code",
   "execution_count": null,
   "metadata": {
    "colab": {
     "base_uri": "https://localhost:8080/"
    },
    "executionInfo": {
     "elapsed": 235,
     "status": "ok",
     "timestamp": 1666636660756,
     "user": {
      "displayName": "F4033-Kadir",
      "userId": "00693449641329635795"
     },
     "user_tz": -120
    },
    "id": "YBgKmweB64CV",
    "outputId": "f58419f3-fcb5-41fd-a0f4-b60e59412ef6"
   },
   "outputs": [
    {
     "name": "stdout",
     "output_type": "stream",
     "text": [
      "{'planet': 'neptun', 'number': 40, 'pi': 3.14, 'is_good': True, 'is_bad': False}\n",
      "{'pi': 3.14, 'is_good': True, 'is_bad': False}\n"
     ]
    }
   ],
   "source": [
    "dict_by_dict = {'animal': 'dog', 'planet': 'neptun', 'number': 40, 'pi': 3.14, 'is_good': True, 'is_bad': False}\n",
    "del dict_by_dict['animal']  # del dict_name['key_name'].. value değil key name ile.\n",
    "print(dict_by_dict) \n",
    "del dict_by_dict['planet'], dict_by_dict['number']  # iki tane key'i birlikte de silebiliriz\n",
    "print(dict_by_dict) "
   ]
  },
  {
   "cell_type": "markdown",
   "metadata": {
    "id": "oMey0ueq7iXP"
   },
   "source": [
    "Using the **in** and the **not in operator**, **you can check if the key is in the dictionary**.\n",
    "\n",
    "**When we use the in operator;** if the key is in the dictionary, the result will be **True** otherwise **False**.\n",
    "\n",
    "**When we use the not in**; if the key is not in the dictionary, the result will be **True **otherwise **False**."
   ]
  },
  {
   "cell_type": "code",
   "execution_count": null,
   "metadata": {
    "colab": {
     "base_uri": "https://localhost:8080/"
    },
    "executionInfo": {
     "elapsed": 296,
     "status": "ok",
     "timestamp": 1666637858343,
     "user": {
      "displayName": "F4033-Kadir",
      "userId": "00693449641329635795"
     },
     "user_tz": -120
    },
    "id": "8VsCr9uL7da9",
    "outputId": "8ab2a73c-068e-4b00-8c54-e12f2d03853d"
   },
   "outputs": [
    {
     "name": "stdout",
     "output_type": "stream",
     "text": [
      "True\n",
      "True\n",
      "True\n",
      "False\n",
      "True\n",
      "False\n",
      "True\n",
      "True\n"
     ]
    }
   ],
   "source": [
    "dict_by_dict = {'planet': 'neptun', 'number': 40, 'pi': 3.14, 'is_good': True, 'is_bad': False}\n",
    "print('pi' in dict_by_dict) \n",
    "print('animal' not in dict_by_dict)  # remember, we have deleted 'animal'\n",
    "print('number' in dict_by_dict)\n",
    "print('participant' in dict_by_dict)\n",
    "print('participant' not in dict_by_dict)\n",
    "print('dog' in dict_by_dict.values())  # Values icinde böyle arama yapabiliriz ama.\n",
    "print(True in dict_by_dict.values())\n",
    "print(('number', 40) in dict_by_dict.items())  # item aramasında 'number' :40 seklinde colonla degil de, arada , ile aramaya dikkat."
   ]
  },
  {
   "cell_type": "code",
   "execution_count": null,
   "metadata": {
    "colab": {
     "base_uri": "https://localhost:8080/"
    },
    "executionInfo": {
     "elapsed": 615,
     "status": "ok",
     "timestamp": 1666687132880,
     "user": {
      "displayName": "F4033-Kadir",
      "userId": "00693449641329635795"
     },
     "user_tz": -120
    },
    "id": "zwmGrEMV76kg",
    "outputId": "cd403a8e-49cb-4989-be0e-726986ae8066"
   },
   "outputs": [
    {
     "name": "stdout",
     "output_type": "stream",
     "text": [
      "{'rose': 'pink', 'tulip': 'yellow', 'lily': 'white', 'orchid': 'purple', 'daisy': 'yellow-white'}\n",
      "pink\n",
      "dict_items([('rose', 'pink'), ('tulip', 'yellow'), ('lily', 'white'), ('orchid', 'purple'), ('daisy', 'yellow-white')])\n",
      "dict_keys(['rose', 'tulip', 'lily', 'orchid', 'daisy'])\n",
      "dict_values(['pink', 'yellow', 'white', 'purple', 'yellow-white'])\n",
      "{'rose': 'pink', 'tulip': 'yellow', 'lily': 'white', 'orchid': 'purple', 'daisy': 'yellow-white', 'hyacinth': 'deep purple'}\n",
      "\n",
      "{'rose': 'pink', 'tulip': 'yellow', 'lily': 'white', 'orchid': 'purple', 'hyacinth': 'deep purple'}\n",
      "False\n",
      "True\n",
      "True\n"
     ]
    }
   ],
   "source": [
    "# Summary so far\n",
    "flower_colors = {'rose':'pink', 'tulip': 'yellow', 'lily': 'white', 'orchid': 'purple'}\n",
    "flower_colors['daisy'] = 'yellow-white'\n",
    "print(flower_colors)\n",
    "print(flower_colors['rose'])\n",
    "print(flower_colors.items())  # flower_colors[2].items() olmaz. index no degil key olmalı.\n",
    "print(flower_colors.keys())\n",
    "print(flower_colors.values())\n",
    "flower_colors.update({'hyacinth': 'deep purple'})\n",
    "print(flower_colors)\n",
    "flower_colors = {'rose': 'pink', 'tulip': 'yellow', 'lily': 'white', \n",
    "                 'orchid': 'purple', 'daisy': 'yellow-white', 'hyacinth': 'deep purple'}\n",
    "del flower_colors['daisy']  # square box ile yazmaya dikkat. round parantheses yazdım syntax error verdi\n",
    "print()\n",
    "print(flower_colors)\n",
    "print('daisy' in flower_colors)\n",
    "print('hyacinth' in flower_colors)\n",
    "print('daisy' not in flower_colors)\n"
   ]
  },
  {
   "cell_type": "code",
   "execution_count": null,
   "metadata": {
    "colab": {
     "base_uri": "https://localhost:8080/"
    },
    "executionInfo": {
     "elapsed": 6,
     "status": "ok",
     "timestamp": 1666425260449,
     "user": {
      "displayName": "F4033-Kadir",
      "userId": "00693449641329635795"
     },
     "user_tz": -120
    },
    "id": "Np5olDihrh0X",
    "outputId": "9b5daa68-195d-4514-ce9e-4e569c267bf3"
   },
   "outputs": [
    {
     "name": "stdout",
     "output_type": "stream",
     "text": [
      "{'rose': {'yellow', 'pink'}}\n",
      "dict_values([{'yellow', 'pink'}])\n"
     ]
    }
   ],
   "source": [
    "flower_colors = {'rose': {'pink', 'yellow'}}\n",
    "print(flower_colors)\n",
    "print(flower_colors.values())  # dicts are unordered. That's why it returned yellow and pink.\n"
   ]
  },
  {
   "cell_type": "markdown",
   "metadata": {
    "id": "PdIzJME-ATc4"
   },
   "source": [
    "**Nested Dictionaries**\n",
    "\n",
    "We can use **square brackets to access internal dicts**"
   ]
  },
  {
   "cell_type": "code",
   "execution_count": null,
   "metadata": {
    "id": "EoHGzXLx-Zl1"
   },
   "outputs": [],
   "source": [
    "school_records={\n",
    "    \"personal_info\":  # buradan sonraki kısım grades_infoya kadar bir value. valuelar dict olabilir. bu dict de key ve valuelara sahip\n",
    "        {\"kid\":{\"tom\": {\"class\": \"intermediate\", \"age\": 10},  # her {} sonrası virgülle ayırmaya dikkat\n",
    "                \"sue\": {\"class\": \"elementary\", \"age\": 8}\n",
    "               },\n",
    "         \"teen\":{\"joseph\":{\"class\": \"college\", \"age\": 19},\n",
    "                 \"marry\":{\"class\": \"high school\", \"age\": 16}\n",
    "               },               \n",
    "        },\n",
    "        \n",
    "    \"grades_info\":\n",
    "        {\"kid\":{\"tom\": {\"math\": 88, \"speech\": 69},\n",
    "                \"sue\": {\"math\": 90, \"speech\": 81}\n",
    "               },\n",
    "         \"teen\":{\"joseph\":{\"coding\": 80, \"math\": 89},\n",
    "                 \"marry\":{\"coding\": 70, \"math\": 96}\n",
    "               },               \n",
    "        },        \n",
    "}"
   ]
  },
  {
   "cell_type": "code",
   "execution_count": null,
   "metadata": {
    "colab": {
     "base_uri": "https://localhost:8080/"
    },
    "executionInfo": {
     "elapsed": 240,
     "status": "ok",
     "timestamp": 1666640566572,
     "user": {
      "displayName": "F4033-Kadir",
      "userId": "00693449641329635795"
     },
     "user_tz": -120
    },
    "id": "_d2JCkRTgZQw",
    "outputId": "3d4403e9-1594-4947-c4b3-c1a8aca0dc62"
   },
   "outputs": [
    {
     "name": "stdout",
     "output_type": "stream",
     "text": [
      "{'kid': {'tom': {'class': 'intermediate', 'age': 10}, 'sue': {'class': 'elementary', 'age': 8}}, 'teen': {'joseph': {'class': 'college', 'age': 19}, 'marry': {'class': 'high school', 'age': 16}}}\n",
      "<class 'dict'>\n",
      "2\n",
      "{'kid': {'tom': {'math': 88, 'speech': 69}, 'sue': {'math': 90, 'speech': 81}}, 'teen': {'joseph': {'coding': 80, 'math': 89}, 'marry': {'coding': 70, 'math': 96}}}\n"
     ]
    }
   ],
   "source": [
    "print(school_records[\"personal_info\"])\n",
    "print(type(school_records))\n",
    "print(len(school_records[\"personal_info\"]))  # içinde 2 ayrı dict var\n",
    "\n",
    "print(school_records[\"grades_info\"])"
   ]
  },
  {
   "cell_type": "code",
   "execution_count": null,
   "metadata": {
    "colab": {
     "base_uri": "https://localhost:8080/"
    },
    "executionInfo": {
     "elapsed": 6,
     "status": "ok",
     "timestamp": 1666641973681,
     "user": {
      "displayName": "F4033-Kadir",
      "userId": "00693449641329635795"
     },
     "user_tz": -120
    },
    "id": "4saKgOCElXqG",
    "outputId": "ae84eb61-933b-47b9-a9dd-dbec846c156d"
   },
   "outputs": [
    {
     "name": "stdout",
     "output_type": "stream",
     "text": [
      "{'coding': 80, 'math': 89}\n",
      "[('coding', 80), ('math', 89)]\n"
     ]
    }
   ],
   "source": [
    "print(school_records[\"grades_info\"]['teen']['joseph'])\n",
    "print(list(school_records[\"grades_info\"]['teen']['joseph'].items()))"
   ]
  },
  {
   "cell_type": "code",
   "execution_count": null,
   "metadata": {
    "colab": {
     "base_uri": "https://localhost:8080/"
    },
    "executionInfo": {
     "elapsed": 5,
     "status": "ok",
     "timestamp": 1666640875323,
     "user": {
      "displayName": "F4033-Kadir",
      "userId": "00693449641329635795"
     },
     "user_tz": -120
    },
    "id": "BKAmShEZBRk7",
    "outputId": "4b76a8f8-7b80-4833-9778-ec79d01a44b2"
   },
   "outputs": [
    {
     "name": "stdout",
     "output_type": "stream",
     "text": [
      "16\n",
      "<class 'int'>\n",
      "69\n"
     ]
    }
   ],
   "source": [
    "print(school_records['personal_info']['teen']['marry']['age'])\n",
    "print(type(school_records['personal_info']['teen']['marry']['age']))\n",
    "print(school_records['grades_info'] ['kid'] ['tom'] ['speech'])"
   ]
  },
  {
   "cell_type": "markdown",
   "metadata": {
    "id": "Ztx4YimoKXC_"
   },
   "source": [
    "Dictionaries strongly resemble **JSON syntax**. The native json module in the Python standard library can be used to convert between JSON and dictionaries. **It's a standardized format commonly used to transfer data.** It's frequently used in APIs and databases. It's readable by both humans and machines."
   ]
  },
  {
   "cell_type": "code",
   "execution_count": null,
   "metadata": {
    "colab": {
     "base_uri": "https://localhost:8080/"
    },
    "executionInfo": {
     "elapsed": 5,
     "status": "ok",
     "timestamp": 1666615232058,
     "user": {
      "displayName": "F4033-Kadir",
      "userId": "00693449641329635795"
     },
     "user_tz": -120
    },
    "id": "dnIgZlFtBlfh",
    "outputId": "144deb9f-5f50-4881-8c10-0f83c34194fe"
   },
   "outputs": [
    {
     "name": "stdout",
     "output_type": "stream",
     "text": [
      "{'name': 'İskender Çınar', 'occupation': 'Taxi driver', 'hobbies': ['talking', 'car fixing', 'cooking'], 'kid': {'mecnun': {'occupation': 'unemployed', 'age': 40}}}\n",
      "['talking', 'car fixing', 'cooking']\n",
      "40\n",
      "Erdal Bakkal\n",
      "1\n"
     ]
    }
   ],
   "source": [
    "clients = {\n",
    "    'client1':\n",
    "    {'name' : 'İskender Çınar',\n",
    "    'occupation' : 'Taxi driver',\n",
    "    'hobbies' : ['talking', 'car fixing', 'cooking'],\n",
    "    'kid' : {'mecnun' : {'occupation':'unemployed', 'age' : 40}}},\n",
    "    'client2' :\n",
    "    {'name' : 'Erdal Bakkal',\n",
    "     'Occupation': 'Grocery',\n",
    "     'hobbies' : ['counting money', 'serving tea'],\n",
    "     'kid' : { 'yavrim': {'occupation' : 'not available', 'age' : 1}},\n",
    "     },\n",
    "}\n",
    "print(clients['client1'])\n",
    "print(clients['client1']['hobbies'])\n",
    "print(clients['client1']['kid']['mecnun']['age'])\n",
    "print(clients['client2'] ['name'])\n",
    "print(clients['client2']['kid']['yavrim']['age'])"
   ]
  },
  {
   "cell_type": "markdown",
   "metadata": {},
   "source": [
    "**Building a Calculator by using \"Dictionary\"**"
   ]
  },
  {
   "cell_type": "code",
   "execution_count": null,
   "metadata": {},
   "outputs": [],
   "source": [
    "# key'leri 4 işlemin operatoruneden olusan bir dict olusturalim\n"
   ]
  },
  {
   "cell_type": "code",
   "execution_count": 1,
   "metadata": {},
   "outputs": [],
   "source": [
    "calculator = {\"+\" : lambda x,y: x+y,\n",
    "              \"-\" : lambda x,y: x-y,\n",
    "              \"*\": lambda x,y: x*y,\n",
    "              \"/\": lambda x,y: x/y} \n",
    "\n",
    "# dict'in valuesunu birsey return eden bir fonksiyon da yapabiliriz\n",
    "# simdi 4 islem yapacagiz ama daire alani alan, abs value alan, istedigimizi yapan fonksiyonlar atayabiliriz.\n",
    "# ya da nested dict yaparız, aynı key hem sinus alir, hem alan hesabı yapar, hem farklı işlemler yapar."
   ]
  },
  {
   "cell_type": "code",
   "execution_count": 2,
   "metadata": {},
   "outputs": [
    {
     "data": {
      "text/plain": [
       "<function __main__.<lambda>(x, y)>"
      ]
     },
     "execution_count": 2,
     "metadata": {},
     "output_type": "execute_result"
    }
   ],
   "source": [
    "calculator[\"/\"]"
   ]
  },
  {
   "cell_type": "code",
   "execution_count": 4,
   "metadata": {},
   "outputs": [
    {
     "name": "stdout",
     "output_type": "stream",
     "text": [
      "3.0\n",
      "6\n"
     ]
    }
   ],
   "source": [
    "print(calculator[\"/\"](9,3))\n",
    "print(calculator[\"-\"](9,3))"
   ]
  },
  {
   "cell_type": "markdown",
   "metadata": {
    "id": "gkDZUeCK8BGv"
   },
   "source": [
    "ANAGRAM BULMA"
   ]
  },
  {
   "cell_type": "code",
   "execution_count": 1,
   "metadata": {
    "colab": {
     "base_uri": "https://localhost:8080/"
    },
    "executionInfo": {
     "elapsed": 332,
     "status": "ok",
     "timestamp": 1667563596466,
     "user": {
      "displayName": "F4033-Kadir",
      "userId": "00693449641329635795"
     },
     "user_tz": -60
    },
    "id": "PUnGeUnG8Aw0",
    "outputId": "cc60fb54-4726-4bf8-d05e-48da58c18af2"
   },
   "outputs": [
    {
     "name": "stdout",
     "output_type": "stream",
     "text": [
      "['a', 'e', 't']\n",
      "['a', 'e', 't']\n",
      "['a', 'n', 't']\n",
      "['a', 'e', 't']\n",
      "['a', 'n', 't']\n",
      "['a', 'b', 't']\n",
      "[['eat', 'tea', 'ate'], ['tan', 'nat'], ['bat']]\n"
     ]
    }
   ],
   "source": [
    "strs = [\"eat\", \"tea\", \"tan\", \"ate\", \"nat\", \"bat\"]\n",
    "# boş bir dict oluşturalım\n",
    "grouped_anagrams = {}\n",
    "# listedeki tüm stringleri tek tek itere edip sort edelim\n",
    "for string in strs:\n",
    "  \n",
    "    sorted_string = str(sorted(string))\n",
    "    print(sorted_string)\n",
    "   # anagram olup olmamalarına göre listelere append edelim\n",
    "    if sorted_string in grouped_anagrams:\n",
    "        grouped_anagrams[sorted_string].append(string)\n",
    "    else:\n",
    "        \n",
    "        grouped_anagrams[sorted_string] = [string]\n",
    "\n",
    "print(list(grouped_anagrams.values()))"
   ]
  },
  {
   "cell_type": "code",
   "execution_count": 6,
   "metadata": {
    "colab": {
     "base_uri": "https://localhost:8080/"
    },
    "executionInfo": {
     "elapsed": 7,
     "status": "ok",
     "timestamp": 1667553853947,
     "user": {
      "displayName": "F4033-Kadir",
      "userId": "00693449641329635795"
     },
     "user_tz": -60
    },
    "id": "iU-7kO0Q8boO",
    "outputId": "b8ed7b3e-c723-4e29-c736-ce377f8a933d"
   },
   "outputs": [
    {
     "data": {
      "text/plain": [
       "True"
      ]
     },
     "execution_count": 6,
     "metadata": {},
     "output_type": "execute_result"
    }
   ],
   "source": [
    "# iki stringin anagram olup olmadığını kontrol etme\n",
    "strs = [\"eat\", \"tea\", \"tan\", \"ate\", \"nat\", \"bat\"]\n",
    "\n",
    "from collections import Counter\n",
    "\n",
    "def anagrammi(s1,s2):\n",
    "    \"\"\"\n",
    "    As seen in method 2, we first check if both strings have the \n",
    "    same length because if they're not it's impossible for them\n",
    "    to be anagrams.\n",
    "    \"\"\"\n",
    "    if len(s1) != len(s2):\n",
    "        return False\n",
    "\n",
    "    #comparing dictionaries with equality operator\n",
    "    return Counter(s1) == Counter(s2)\n",
    "anagrammi(strs[1], strs[2])  # bu false verdi\n",
    "anagrammi(strs[0], strs[1])"
   ]
  },
  {
   "cell_type": "markdown",
   "metadata": {
    "id": "doGpNg0zZVzy"
   },
   "source": [
    "**SETS**\n",
    "\n",
    "As built-in data type in Python, sets are used to store multiple items in a single variable. A set is a collection which is **unordered, unchangeable, and unindexed**. **Every set element is unique (no duplicates) and must be immutable (cannot be changed)**. However, a set itself is mutable. We can add or remove items from it.\n",
    "\n",
    "Basic uses include membership testing and eliminating duplicate entries. Set objects also support mathematical operations like union, intersection, difference, and symmetric difference.\n",
    "\n",
    "How to create a set:\n",
    "\n",
    "**Curly braces '{}' or the set() function** can be used to create sets. But the only way to create an empty set is: use of the set() function.\n",
    "(Do not use {} to create an empty set. Otherwise, you will create an empty dictionary.)"
   ]
  },
  {
   "cell_type": "code",
   "execution_count": null,
   "metadata": {
    "colab": {
     "base_uri": "https://localhost:8080/"
    },
    "executionInfo": {
     "elapsed": 8,
     "status": "ok",
     "timestamp": 1666983016694,
     "user": {
      "displayName": "F4033-Kadir",
      "userId": "00693449641329635795"
     },
     "user_tz": -120
    },
    "id": "b5PyaoyYW2uS",
    "outputId": "168c5e55-66b1-499d-b336-7ee29f9d21fd"
   },
   "outputs": [
    {
     "name": "stdout",
     "output_type": "stream",
     "text": [
      "<class 'set'>\n",
      "False\n"
     ]
    }
   ],
   "source": [
    "empty_set = set()\n",
    "print(type(empty_set))\n",
    "print(bool(set()))"
   ]
  },
  {
   "cell_type": "markdown",
   "metadata": {
    "id": "vWMud8c-ZnsG"
   },
   "source": [
    "1. Sets are **unordered**. For ex:"
   ]
  },
  {
   "cell_type": "code",
   "execution_count": null,
   "metadata": {
    "colab": {
     "base_uri": "https://localhost:8080/"
    },
    "executionInfo": {
     "elapsed": 4,
     "status": "ok",
     "timestamp": 1666353626575,
     "user": {
      "displayName": "F4033-Kadir",
      "userId": "00693449641329635795"
     },
     "user_tz": -120
    },
    "id": "WaHVQj93Zk5_",
    "outputId": "a78b564d-9a33-4c8d-b153-d8605f42351e"
   },
   "outputs": [
    {
     "name": "stdout",
     "output_type": "stream",
     "text": [
      "{'purple', 11, 'yellow', 'orange', 'darkblue', 'red', 25}\n"
     ]
    }
   ],
   "source": [
    "colorset = {'purple', 11, 'orange', 'red', 11, 'darkblue', 25, 'yellow', 'red'}\n",
    "print(colorset)  # return ettiginde icinde birden fazla olan valueları teke indirir\n",
    "# Every set element is unique (no duplicates)"
   ]
  },
  {
   "cell_type": "code",
   "execution_count": null,
   "metadata": {
    "colab": {
     "base_uri": "https://localhost:8080/"
    },
    "executionInfo": {
     "elapsed": 404,
     "status": "ok",
     "timestamp": 1666353630705,
     "user": {
      "displayName": "F4033-Kadir",
      "userId": "00693449641329635795"
     },
     "user_tz": -120
    },
    "id": "f-C4OjuBZvpH",
    "outputId": "a9328eb0-4346-4ec6-be59-b651f3f3524f"
   },
   "outputs": [
    {
     "name": "stdout",
     "output_type": "stream",
     "text": [
      "{'purple', 'yellow', 'orange', 'darkblue', 'red'}\n"
     ]
    }
   ],
   "source": [
    "print({'purple', 'orange', 'red', 'darkblue', 'yellow', 'red'})\n",
    "# bende aynı çıktı ama normalde aynı set'i iki kere print etsen sıralama farklı çıkabilir. Normal bu. \n",
    "# Unordered: every time you print the set, the order of the objects in the set changes."
   ]
  },
  {
   "cell_type": "code",
   "execution_count": null,
   "metadata": {
    "colab": {
     "base_uri": "https://localhost:8080/"
    },
    "executionInfo": {
     "elapsed": 4,
     "status": "ok",
     "timestamp": 1666425856318,
     "user": {
      "displayName": "F4033-Kadir",
      "userId": "00693449641329635795"
     },
     "user_tz": -120
    },
    "id": "RkeODu3oZyad",
    "outputId": "bf4b4e91-72cc-4f87-eba7-638a1a780825"
   },
   "outputs": [
    {
     "name": "stdout",
     "output_type": "stream",
     "text": [
      "{'f', 'n', 'h', 's', 'e', 'i', 'u', 'l'}\n",
      "{'a', ' ', 'c', 'o', 'n', 'v', 'i'}\n"
     ]
    }
   ],
   "source": [
    "s = set('unselfishness')\n",
    "print(s) \n",
    "print(set('ivan ivanov ivanovic'))"
   ]
  },
  {
   "cell_type": "markdown",
   "metadata": {
    "id": "8fHo4rPxZ0lc"
   },
   "source": [
    "2. Using sets can help you **avoid repetitions**."
   ]
  },
  {
   "cell_type": "code",
   "execution_count": null,
   "metadata": {
    "colab": {
     "base_uri": "https://localhost:8080/"
    },
    "executionInfo": {
     "elapsed": 3,
     "status": "ok",
     "timestamp": 1666353637367,
     "user": {
      "displayName": "F4033-Kadir",
      "userId": "00693449641329635795"
     },
     "user_tz": -120
    },
    "id": "dcPSf8pXZ5CA",
    "outputId": "019f03c0-8086-4a6d-a9fe-acf314ed0861"
   },
   "outputs": [
    {
     "name": "stdout",
     "output_type": "stream",
     "text": [
      "{'orchid', 'violet', 'rose', 'carnation'}\n",
      "['orchid', 'violet', 'rose', 'carnation']\n"
     ]
    }
   ],
   "source": [
    "flower_list = ['rose', 'violet', 'carnation', 'rose', 'orchid', 'rose', 'orchid']\n",
    "flowerset = set(flower_list)  # list'i set'e convert edelim. Dikkat: repetitions\n",
    "flowerlist = list(flowerset)  # sonra tekrar lis'e convert edelim\n",
    "print(flowerset) \n",
    "print(flowerlist)"
   ]
  },
  {
   "cell_type": "code",
   "execution_count": null,
   "metadata": {
    "colab": {
     "base_uri": "https://localhost:8080/"
    },
    "executionInfo": {
     "elapsed": 6,
     "status": "ok",
     "timestamp": 1666808176101,
     "user": {
      "displayName": "F4033-Kadir",
      "userId": "00693449641329635795"
     },
     "user_tz": -120
    },
    "id": "AI7X9Xo4fHGA",
    "outputId": "667bdb2d-e566-43f0-9e24-bd0da2596027"
   },
   "outputs": [
    {
     "name": "stdout",
     "output_type": "stream",
     "text": [
      "{'a', 3.14, 6, (1, 2, 3)}\n"
     ]
    }
   ],
   "source": [
    "listem = [[1,2,3], 'a', 3.14, 6]\n",
    "# setim = set(listem)  error verir bu. TypeError: unhashable type: 'list' List küme elemanı olamaz.\n",
    "# dict de olmaz aynı şeklde. mutable/değiştirilebilir çünkü\n",
    "# kümenin elemanı da küme olmaz. o da hashable.\n",
    "# tuple olur ama. immutable o\n",
    "print({(1,2,3), 'a', 3.14, 6})"
   ]
  },
  {
   "cell_type": "markdown",
   "metadata": {
    "id": "ywJRpPUDaAOr"
   },
   "source": [
    "**Main Operations with Sets**\n",
    "\n",
    "There are several methods that allow us to add and remove items to/from sets. Some of them are:\n",
    "\n",
    "set_name.**add()** : Adds a new item to the set.\n",
    "\n",
    "set_name.**remove()** : Allows us to delete an item.\n",
    "\n",
    "set_name.**intersection()** : Returns the intersection of two sets.\n",
    "\n",
    "set_name.**union()** : Returns the unification of two sets.\n",
    "\n",
    "set_name.**difference()** : Gets the difference of two sets.\n",
    "\n",
    "set_name.**len()** :Get the number of set’s elements \n",
    "\n",
    "**in /not in operators**: to check if an element belongs to a specific set(in / not in operators). They return the boolean value."
   ]
  },
  {
   "cell_type": "code",
   "execution_count": null,
   "metadata": {
    "colab": {
     "base_uri": "https://localhost:8080/"
    },
    "executionInfo": {
     "elapsed": 259,
     "status": "ok",
     "timestamp": 1666804452577,
     "user": {
      "displayName": "F4033-Kadir",
      "userId": "00693449641329635795"
     },
     "user_tz": -120
    },
    "id": "umcyn7JfZ7j4",
    "outputId": "ec462650-d88b-4eba-e124-a0b9b3be8d7c"
   },
   "outputs": [
    {
     "name": "stdout",
     "output_type": "stream",
     "text": [
      "{'b', 'r', 'd', 'a', 'c'}\n",
      "{'b', 'r', 'd', 'a', 'x', 'c'}\n",
      "{'b', 'r', 'd', 'a', 'c'}\n",
      "5\n"
     ]
    }
   ],
   "source": [
    "a = set('abracadabra')\n",
    "print(a)  \n",
    "a.add('x')\n",
    "print(a)\n",
    "a.remove('x')\n",
    "print(a)\n",
    "print(len(a))"
   ]
  },
  {
   "cell_type": "code",
   "execution_count": null,
   "metadata": {
    "colab": {
     "base_uri": "https://localhost:8080/"
    },
    "executionInfo": {
     "elapsed": 6,
     "status": "ok",
     "timestamp": 1666353645416,
     "user": {
      "displayName": "F4033-Kadir",
      "userId": "00693449641329635795"
     },
     "user_tz": -120
    },
    "id": "IffuIhcoaLdX",
    "outputId": "847112b2-be3d-4b8c-9e42-a3edaf595a8e"
   },
   "outputs": [
    {
     "name": "stdout",
     "output_type": "stream",
     "text": [
      "{'r', 'd', 'b'}\n",
      "{'r', 'd', 'b'}\n",
      "\n",
      "{'a', 'b', 'c', 'z', 'm', 'r', 'd', 'l'}\n",
      "{'a', 'b', 'c', 'z', 'm', 'r', 'd', 'l'}\n",
      "\n",
      "{'c', 'a'}\n",
      "{'c', 'a'}\n",
      "5 True\n"
     ]
    }
   ],
   "source": [
    "b = set('alacazam')\n",
    "print(a - b)  # same as '.difference()' method\n",
    "print(a.difference(b)) # a difference from b\n",
    "print()\n",
    "print(a | b)  # same as '.union()' method\n",
    "print(a.union(b)) # unification of a with b\n",
    "print()\n",
    "print(a & b)  # same as '.intersection()' method\n",
    "print(a.intersection(b)) # intersection of a and b\n",
    "print(len(a), 'd' in a)\n"
   ]
  },
  {
   "cell_type": "code",
   "execution_count": null,
   "metadata": {
    "colab": {
     "base_uri": "https://localhost:8080/"
    },
    "executionInfo": {
     "elapsed": 325,
     "status": "ok",
     "timestamp": 1666353649632,
     "user": {
      "displayName": "F4033-Kadir",
      "userId": "00693449641329635795"
     },
     "user_tz": -120
    },
    "id": "4dhlYg90aNwt",
    "outputId": "e834c86d-f3d1-462c-81d5-4031b7635f3c"
   },
   "outputs": [
    {
     "name": "stdout",
     "output_type": "stream",
     "text": [
      "{'b', 'a', 'r', 'd'}\n",
      "{'b', 'a', 'c', 'r', 'd'}\n"
     ]
    }
   ],
   "source": [
    "a = set('abracadabra')\n",
    "a.remove('c') # we delete 'c' from the set\n",
    "print(a)\n",
    "a.add('c') # we add 'c' again into the set\n",
    "print(a)"
   ]
  },
  {
   "cell_type": "code",
   "execution_count": null,
   "metadata": {
    "colab": {
     "base_uri": "https://localhost:8080/"
    },
    "executionInfo": {
     "elapsed": 282,
     "status": "ok",
     "timestamp": 1666809112835,
     "user": {
      "displayName": "F4033-Kadir",
      "userId": "00693449641329635795"
     },
     "user_tz": -120
    },
    "id": "C9g2Gb12jIra",
    "outputId": "b9b203f2-cf84-48df-a416-c39a72855bc6"
   },
   "outputs": [
    {
     "name": "stdout",
     "output_type": "stream",
     "text": [
      "{'.', '6', '1', '0', '2'}\n",
      "{'10.26.2022'} <class 'set'>\n"
     ]
    }
   ],
   "source": [
    "aa = '10.26.2022'\n",
    "print(set(aa))  # set fonksiyonu içine aldığı iterable'ı elemanlarına ayırıp küme yapar\n",
    "bb = {'10.26.2022'}  \n",
    "print(bb, type(bb))  # {} tek elemanlı bir küme yapar."
   ]
  },
  {
   "cell_type": "code",
   "execution_count": null,
   "metadata": {
    "colab": {
     "base_uri": "https://localhost:8080/"
    },
    "executionInfo": {
     "elapsed": 257,
     "status": "ok",
     "timestamp": 1666809379337,
     "user": {
      "displayName": "F4033-Kadir",
      "userId": "00693449641329635795"
     },
     "user_tz": -120
    },
    "id": "7ocWPEdCk_Qu",
    "outputId": "5b234994-dea9-4917-a6eb-aa4c3d63378f"
   },
   "outputs": [
    {
     "name": "stdout",
     "output_type": "stream",
     "text": [
      "[1, 2, 3, 34, 4, 5, 6, 7]\n"
     ]
    }
   ],
   "source": [
    "aaa = [1,2,3,1,2,34,1,2,3,4,5,6,7,1,2,3,]\n",
    "setaaa= set(aaa)  # setaaa = {aaa} olmaz. cunku list unhashable der.\n",
    "listaaa= list(setaaa)\n",
    "print(listaaa)"
   ]
  },
  {
   "cell_type": "code",
   "execution_count": null,
   "metadata": {
    "colab": {
     "base_uri": "https://localhost:8080/"
    },
    "executionInfo": {
     "elapsed": 6,
     "status": "ok",
     "timestamp": 1666809883773,
     "user": {
      "displayName": "F4033-Kadir",
      "userId": "00693449641329635795"
     },
     "user_tz": -120
    },
    "id": "blbLt_LUmODy",
    "outputId": "27fb5024-7071-44f5-d694-7cc7868ef464"
   },
   "outputs": [
    {
     "name": "stdout",
     "output_type": "stream",
     "text": [
      "{'W', 'o', 'g', 't', 'i', 'n'}\n",
      "{'W', 'o', 'g', 'e', 't', 'a', 'i', 's', 'h', 'l', 'n'}\n",
      "{'h', 's', 'a'}\n",
      "{'e', 'l'}\n"
     ]
    }
   ],
   "source": [
    "aaa = \"Washington\"\n",
    "bbb = \"Wellington\"\n",
    "aaa1= set(aaa)\n",
    "bbb1= set(bbb)\n",
    "print(aaa1 & bbb1)\n",
    "print(aaa1.union(bbb1))\n",
    "print(aaa1 - bbb1)\n",
    "print(bbb1 - aaa1)"
   ]
  },
  {
   "cell_type": "code",
   "execution_count": null,
   "metadata": {
    "colab": {
     "base_uri": "https://localhost:8080/"
    },
    "executionInfo": {
     "elapsed": 267,
     "status": "ok",
     "timestamp": 1666811269568,
     "user": {
      "displayName": "F4033-Kadir",
      "userId": "00693449641329635795"
     },
     "user_tz": -120
    },
    "id": "xEVVfiI1r7JR",
    "outputId": "703eedcc-d1fb-4675-86b6-58ce8450472b"
   },
   "outputs": [
    {
     "name": "stdout",
     "output_type": "stream",
     "text": [
      "{2}\n"
     ]
    }
   ],
   "source": [
    "k1 = set([1,2,3])\n",
    "k2 = set([1,3,5])\n",
    "k1.difference_update(k2)  # k1 kümesini k1in k2den farkıyla update etti\n",
    "print(k1)"
   ]
  },
  {
   "cell_type": "code",
   "execution_count": null,
   "metadata": {
    "colab": {
     "base_uri": "https://localhost:8080/"
    },
    "executionInfo": {
     "elapsed": 5,
     "status": "ok",
     "timestamp": 1666811446766,
     "user": {
      "displayName": "F4033-Kadir",
      "userId": "00693449641329635795"
     },
     "user_tz": -120
    },
    "id": "OV8q5icKsflL",
    "outputId": "34e0bc7b-af03-4127-cdf9-c8bdfc10fd4f"
   },
   "outputs": [
    {
     "name": "stdout",
     "output_type": "stream",
     "text": [
      "{'inek', 'köpek'}\n",
      "{'inek'}\n",
      "{'inek'}\n"
     ]
    }
   ],
   "source": [
    "hayvanlar = set(['kedi', 'köpek', 'inek'])\n",
    "hayvanlar.discard('kedi')  # kediyi dscard eder\n",
    "print(hayvanlar)\n",
    "hayvanlar.remove('köpek')\n",
    "print(hayvanlar)\n",
    "# eğer içinde o eleman yoksa remove error verir, ama dscard vermez. \n",
    "hayvanlar.discard('ördek')\n",
    "print(hayvanlar)  # yne inek yazdırdı normal"
   ]
  },
  {
   "cell_type": "markdown",
   "metadata": {
    "id": "VxSYi7xVQOea"
   },
   "source": [
    "**Setlerde sorgulamalar** "
   ]
  },
  {
   "cell_type": "code",
   "execution_count": null,
   "metadata": {
    "colab": {
     "base_uri": "https://localhost:8080/"
    },
    "executionInfo": {
     "elapsed": 4,
     "status": "ok",
     "timestamp": 1666803796154,
     "user": {
      "displayName": "F4033-Kadir",
      "userId": "00693449641329635795"
     },
     "user_tz": -120
    },
    "id": "F9UOgOEBPZ0m",
    "outputId": "39182ff6-0edf-42d9-991a-4c12d8c84980"
   },
   "outputs": [
    {
     "name": "stdout",
     "output_type": "stream",
     "text": [
      "False\n",
      "False\n",
      "False\n"
     ]
    }
   ],
   "source": [
    "a = set('abracadabra')\n",
    "b = set('alacazam')\n",
    "print(a.isdisjoint(b))  # iki kümenin kesişimi boş mu?\n",
    "print(a.issubset(b))  # a b'nin alt kümes midir?\n",
    "print(a.issuperset(b))  # a b'yi kapsar mı?"
   ]
  },
  {
   "cell_type": "code",
   "execution_count": null,
   "metadata": {
    "colab": {
     "base_uri": "https://localhost:8080/"
    },
    "executionInfo": {
     "elapsed": 483,
     "status": "ok",
     "timestamp": 1666806681700,
     "user": {
      "displayName": "F4033-Kadir",
      "userId": "00693449641329635795"
     },
     "user_tz": -120
    },
    "id": "0Ci2NT2mYZD4",
    "outputId": "63fcd2b3-af7b-48df-bf61-265916efd23d"
   },
   "outputs": [
    {
     "name": "stdout",
     "output_type": "stream",
     "text": [
      "{1, 3}\n",
      "{1, 3}\n"
     ]
    }
   ],
   "source": [
    "set1 = set([1,3,5])\n",
    "set2 = set([1,2,3])\n",
    "set1.intersection_update(set2)  # kesişimi set1'e assign eder. yeni bir set 1 oluşur.\n",
    "print(set1)\n",
    "set2.intersection_update(set1)  # kesişimi set1'e assign eder. yeni bir set 1 oluşur.\n",
    "print(set2)"
   ]
  },
  {
   "cell_type": "code",
   "execution_count": null,
   "metadata": {
    "colab": {
     "base_uri": "https://localhost:8080/"
    },
    "executionInfo": {
     "elapsed": 827,
     "status": "ok",
     "timestamp": 1666888902708,
     "user": {
      "displayName": "F4033-Kadir",
      "userId": "00693449641329635795"
     },
     "user_tz": -120
    },
    "id": "-KOBfobaScQj",
    "outputId": "5d205926-1740-48af-af1b-2eee954ebae4"
   },
   "outputs": [
    {
     "name": "stdout",
     "output_type": "stream",
     "text": [
      "26 26\n",
      "True\n",
      "True\n",
      "True\n",
      "True\n"
     ]
    }
   ],
   "source": [
    "# Task: user sentence pangram mıdır?\n",
    "user_sentence = set(\"the quick brown fox jumps over a lazy dog\")\n",
    "letters = set(\"abcdefghijklmnopqrstuwxvyz\")\n",
    "# ilk yöntem\n",
    "ispangram = user_sentence.intersection(letters)\n",
    "print(len(ispangram), len(letters))  # if ispangram == letters: der cevabı buluruz\n",
    "if user_sentence.intersection(letters) == letters:\n",
    "      print(True)\n",
    "else :\n",
    "    print(False)\n",
    "# ikinci yöntem\n",
    "print(letters.issubset(user_sentence))  # letters user sentın alt kümesi midir\n",
    "# ücüncü yöntem\n",
    "print(user_sentence.issuperset(letters))  # user sent lettersı kaplar mı\n",
    "if letters.issubset(user_sentence) :\n",
    "    print(True)\n",
    "else :\n",
    "    print(False)"
   ]
  },
  {
   "cell_type": "code",
   "execution_count": null,
   "metadata": {
    "colab": {
     "base_uri": "https://localhost:8080/"
    },
    "executionInfo": {
     "elapsed": 374,
     "status": "ok",
     "timestamp": 1666803848308,
     "user": {
      "displayName": "F4033-Kadir",
      "userId": "00693449641329635795"
     },
     "user_tz": -120
    },
    "id": "v6x2X-ohaQWU",
    "outputId": "2e1cdd5f-f757-4e97-932d-9b3704c4c348"
   },
   "outputs": [
    {
     "name": "stdout",
     "output_type": "stream",
     "text": [
      "{1, 3, 5, 7, 9}\n",
      "{1, 2, 3, 4, 5, 6, 7, 8, 9, 10, 11, 12, 13, 14, 15, 16, 17, 18, 19}\n",
      "{2, 4, 6, 8, 10, 11, 12, 13, 14, 15, 16, 17, 18, 19}\n",
      "{2, 4, 6, 8, 10, 11, 12, 13, 14, 15, 16, 17, 18, 19}\n",
      "set()\n",
      "\n",
      "{1, 2, 3, 4, 5, 6, 7, 8, 9, 10, 11, 12, 13, 14, 15, 16, 17, 18, 19}\n",
      "{1, 2, 3, 4, 5, 6, 7, 8, 9, 10, 11, 12, 13, 14, 15, 16, 17, 18, 19}\n",
      "\n",
      "{1, 3, 5, 7, 9}\n",
      "{1, 3, 5, 7, 9}\n",
      "{1, 2, 3, 4, 5, 6, 7, 8, 9, 10, 11, 12, 13, 15, 16, 17, 18, 19}\n",
      "{1, 3, 5, 7, 9, 11}\n",
      "6 18\n",
      "True\n",
      "False\n",
      "\n",
      "False\n",
      "True\n",
      "False\n"
     ]
    }
   ],
   "source": [
    "aaa = set(range(1,11,2))\n",
    "bbb = set(range(1,20))\n",
    "print(aaa)\n",
    "print(bbb)\n",
    "print(bbb-aaa)\n",
    "print(bbb.difference(aaa))\n",
    "print(aaa.difference(bbb))  # aaa, bbb'nin tamamen alt kümesi olduğu için fark yok, boş küme verir.\n",
    "print()\n",
    "print(aaa | bbb)  # | symbolu option + +'da. \n",
    "print(aaa.union(bbb))\n",
    "print()\n",
    "print(aaa & bbb)\n",
    "print(bbb.intersection(aaa))\n",
    "\n",
    "bbb.remove(14)  # buraya 2 element yazınca error: remove() takes exactly one argument (2 given)\n",
    "print(bbb)\n",
    "aaa.add(11)  # aynı anda 2 tane eklemek istersen error: add() takes exactly one argument (2 given)\n",
    "print(aaa)\n",
    "print(len(aaa), len(bbb))\n",
    "print(1 in aaa)\n",
    "print(2 in aaa)\n",
    "print()\n",
    "print(aaa.isdisjoint(bbb))  # iki kümenin kesişimi boş mu?\n",
    "print(aaa.issubset(bbb))  # a b'nin alt kümes midir?\n",
    "print(aaa.issuperset(bbb))  # a b'yi kapsar mı?"
   ]
  },
  {
   "cell_type": "code",
   "execution_count": null,
   "metadata": {
    "colab": {
     "base_uri": "https://localhost:8080/"
    },
    "executionInfo": {
     "elapsed": 322,
     "status": "ok",
     "timestamp": 1666353658540,
     "user": {
      "displayName": "F4033-Kadir",
      "userId": "00693449641329635795"
     },
     "user_tz": -120
    },
    "id": "nxoD0aC5aXCb",
    "outputId": "59abaceb-994a-4984-e079-01d59a4d908f"
   },
   "outputs": [
    {
     "name": "stdout",
     "output_type": "stream",
     "text": [
      "13\n"
     ]
    }
   ],
   "source": [
    "print(len(set('listen to the voice of enlisted')))"
   ]
  },
  {
   "cell_type": "code",
   "execution_count": null,
   "metadata": {
    "colab": {
     "base_uri": "https://localhost:8080/"
    },
    "executionInfo": {
     "elapsed": 6,
     "status": "ok",
     "timestamp": 1667127085464,
     "user": {
      "displayName": "F4033-Kadir",
      "userId": "00693449641329635795"
     },
     "user_tz": -60
    },
    "id": "Muk48Z8efr3n",
    "outputId": "51614135-76c2-4e0e-eebd-475f40642ec9"
   },
   "outputs": [
    {
     "name": "stdout",
     "output_type": "stream",
     "text": [
      "{'t', 'e', 'z', 'p', 'c', 'm', 'j', 'w', 'g', 'k', 'a', 'i', 'v', 'b', 'o', 'f', 'x', 's', 'q', 'r', 'l', 'y', 'h', 'd', 'n', 'u'} 26\n",
      "\n",
      "['t', 'e', 'z', 'p', 'c', 'm', 'j', 'w', 'g', 'k', 'a', 'i', 'v', 'b', 'o', 'f', 'x', 's', 'q', 'r', 'l', 'y', 'h', 'd', 'n', 'u']\n",
      "\n",
      "['a', 'b', 'c', 'd', 'e', 'f', 'g', 'h', 'i', 'j', 'k', 'l', 'm', 'n', 'o', 'p', 'q', 'r', 's', 't', 'u', 'v', 'w', 'x', 'y', 'z']\n",
      "\n",
      "True\n",
      "True\n",
      "True\n"
     ]
    }
   ],
   "source": [
    "# Task: kelime comfortable word mu degil mi bul.\n",
    "\n",
    "left = set(\"qwertasdfgzxcvb\")\n",
    "right = set(\"yuiophjklmn\")\n",
    "print(left | right, len(left | right))  # ikisinin unificationu alfabe, emin olmak icin len ctrl\n",
    "# ya da sıralı liste haline getirelim. tuplelarda yapamadigimiz sort islemi icin.\n",
    "print()\n",
    "sıralı_alfabe = list(left | right)\n",
    "print(sıralı_alfabe)\n",
    "print()\n",
    "sıralı_alfabe.sort()\n",
    "print(sıralı_alfabe)\n",
    "len(sıralı_alfabe)\n",
    "# kelimemiz clarusway olsun\n",
    "print()\n",
    "word = set(\"clarusway\")\n",
    "# sag sol elle kontrol edelim\n",
    "leftcheck = bool(word.difference(left))\n",
    "print(leftcheck)\n",
    "rightcheck = bool(word.difference(right))\n",
    "print(rightcheck)  # T verdigine gore ikisi de dolu. yani tamamen subset degil.\n",
    "# sonucu bulmak icin\n",
    "print(leftcheck and rightcheck)  # ikisinden de varsa bu comf worddur."
   ]
  },
  {
   "cell_type": "code",
   "execution_count": null,
   "metadata": {
    "colab": {
     "base_uri": "https://localhost:8080/"
    },
    "executionInfo": {
     "elapsed": 4,
     "status": "ok",
     "timestamp": 1667127208049,
     "user": {
      "displayName": "F4033-Kadir",
      "userId": "00693449641329635795"
     },
     "user_tz": -60
    },
    "id": "rfbl9219hYpF",
    "outputId": "6036c8d4-d99a-410b-d364-668fdcfa94ea"
   },
   "outputs": [
    {
     "name": "stdout",
     "output_type": "stream",
     "text": [
      "False\n",
      "False\n",
      "True\n"
     ]
    }
   ],
   "source": [
    "word1 = \"tester\"\n",
    "word2 = \"polk\"\n",
    "word3 = \"mathematics\"\n",
    "left = set(\"qwertasdfgzxcvb\")\n",
    "right = set(\"yuiophjklmn\")\n",
    "print(bool(set(word1).intersection(left) and set(word1).intersection(right)))\n",
    "print(bool(set(word2).intersection(left) and set(word2).intersection(right)))\n",
    "print(bool(set(word3).intersection(left) and set(word3).intersection(right)))"
   ]
  },
  {
   "cell_type": "markdown",
   "metadata": {
    "id": "2aK0a62tUsuI"
   },
   "source": [
    "**mutable & immutable**\n",
    "\n",
    "**mutable değiştirilebilenler**: list, dict, set, user-defined classes\n",
    "\n",
    "**immutable**: int, float, decimal, bool, string, tuple, range\n",
    "\n",
    "immutable verilerin hash degeri vardir ve degistirilemezler. hash() nesnenşn hash degerini getirir. Hash degeri her runtime'a özel. Runtime resetlendiginde, ya da yeni bir runtime acildiginda aynı value'nun hash degeri degisir.\n",
    "\n"
   ]
  },
  {
   "cell_type": "code",
   "execution_count": null,
   "metadata": {
    "colab": {
     "base_uri": "https://localhost:8080/"
    },
    "executionInfo": {
     "elapsed": 11,
     "status": "ok",
     "timestamp": 1666721326165,
     "user": {
      "displayName": "F4033-Kadir",
      "userId": "00693449641329635795"
     },
     "user_tz": -120
    },
    "id": "GfgLYsSdhjlp",
    "outputId": "f4353ffb-b265-437d-c96e-60221cfcfd55"
   },
   "outputs": [
    {
     "data": {
      "text/plain": [
       "10"
      ]
     },
     "execution_count": 1,
     "metadata": {},
     "output_type": "execute_result"
    }
   ],
   "source": [
    "sayı = 10\n",
    "hash(sayı)"
   ]
  },
  {
   "cell_type": "code",
   "execution_count": null,
   "metadata": {
    "colab": {
     "base_uri": "https://localhost:8080/"
    },
    "executionInfo": {
     "elapsed": 4,
     "status": "ok",
     "timestamp": 1666721328281,
     "user": {
      "displayName": "F4033-Kadir",
      "userId": "00693449641329635795"
     },
     "user_tz": -120
    },
    "id": "WazFbHPtVPcP",
    "outputId": "7f45cae9-8b4e-4e76-e3e1-a1b69a6d8fea"
   },
   "outputs": [
    {
     "data": {
      "text/plain": [
       "-8230790163719710082"
      ]
     },
     "execution_count": 2,
     "metadata": {},
     "output_type": "execute_result"
    }
   ],
   "source": [
    "hash('10')"
   ]
  },
  {
   "cell_type": "code",
   "execution_count": null,
   "metadata": {
    "colab": {
     "base_uri": "https://localhost:8080/"
    },
    "executionInfo": {
     "elapsed": 8,
     "status": "ok",
     "timestamp": 1666721352790,
     "user": {
      "displayName": "F4033-Kadir",
      "userId": "00693449641329635795"
     },
     "user_tz": -120
    },
    "id": "rf9euAIjVSel",
    "outputId": "3e8e726a-27c8-46df-a9bc-3d7a33a721c8"
   },
   "outputs": [
    {
     "data": {
      "text/plain": [
       "4028187736005383086"
      ]
     },
     "execution_count": 3,
     "metadata": {},
     "output_type": "execute_result"
    }
   ],
   "source": [
    "hash('c')"
   ]
  },
  {
   "cell_type": "code",
   "execution_count": null,
   "metadata": {
    "id": "8ecdLb_8VYWD"
   },
   "outputs": [],
   "source": [
    "listem = [10,20,30]  #listler mutable olduğu için hash degeri yoktur. Error verir.\n",
    "# hash(listem) return edildiginde error verir. TypeError: unhashable type: 'list'"
   ]
  },
  {
   "cell_type": "code",
   "execution_count": null,
   "metadata": {
    "colab": {
     "base_uri": "https://localhost:8080/"
    },
    "executionInfo": {
     "elapsed": 375,
     "status": "ok",
     "timestamp": 1666721497373,
     "user": {
      "displayName": "F4033-Kadir",
      "userId": "00693449641329635795"
     },
     "user_tz": -120
    },
    "id": "kygHYUKKVamL",
    "outputId": "04e76cd0-f014-4ad0-c924-b89a55d53fbc"
   },
   "outputs": [
    {
     "name": "stdout",
     "output_type": "stream",
     "text": [
      "8315274433719620810\n"
     ]
    }
   ],
   "source": [
    "mytuple = (1,2,3,4,5)\n",
    "mylist = [1,2,3,4,5]\n",
    "\n",
    "print(hash(mytuple))  # listemin hash degerini print et desek error verir. cunku mutable."
   ]
  },
  {
   "cell_type": "code",
   "execution_count": null,
   "metadata": {
    "id": "VutM0pV0V7xQ"
   },
   "outputs": [],
   "source": [
    "# has degeri genellikle dictlerde key degerini karsilastirmak icin kullanılıyor."
   ]
  },
  {
   "cell_type": "code",
   "execution_count": null,
   "metadata": {
    "id": "KWEZ7qrcZOXn"
   },
   "outputs": [],
   "source": []
  }
 ],
 "metadata": {
  "accelerator": "GPU",
  "colab": {
   "authorship_tag": "ABX9TyM3DKuRP98HRPncfOt0Hphr",
   "collapsed_sections": [],
   "provenance": []
  },
  "kernelspec": {
   "display_name": "Python 3 (ipykernel)",
   "language": "python",
   "name": "python3"
  },
  "language_info": {
   "codemirror_mode": {
    "name": "ipython",
    "version": 3
   },
   "file_extension": ".py",
   "mimetype": "text/x-python",
   "name": "python",
   "nbconvert_exporter": "python",
   "pygments_lexer": "ipython3",
   "version": "3.9.12"
  }
 },
 "nbformat": 4,
 "nbformat_minor": 4
}
