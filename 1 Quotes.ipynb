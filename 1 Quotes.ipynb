{
 "cells": [
  {
   "cell_type": "code",
   "execution_count": null,
   "metadata": {
    "colab": {
     "base_uri": "https://localhost:8080/"
    },
    "executionInfo": {
     "elapsed": 264,
     "status": "ok",
     "timestamp": 1664993785567,
     "user": {
      "displayName": "F4033-Kadir",
      "userId": "00693449641329635795"
     },
     "user_tz": -120
    },
    "id": "zmMCRG3QU8ok",
    "outputId": "1510ebbb-4cb9-4b80-f2ea-9df5706f26ae"
   },
   "outputs": [
    {
     "name": "stdout",
     "output_type": "stream",
     "text": [
      "Hello World!\n",
      "I'm happy to start a new task and to learn Python.\n",
      " eger uzun cümleler yazzmak istiyorsak uc nokta kullanırız. \n",
      "Otherwise we generally use only single or double quotes.\n",
      "But if you have long strings then you should use triple quotes.\n"
     ]
    }
   ],
   "source": [
    "print('Hello World!')  # tek tırnak tekle, cift ciftle bitmeli. String her zaman quotes icinde olur\n",
    "\n",
    "print(\"I'm happy to start a new task and to learn Python.\")\n",
    "print(\"\"\" eger uzun cümleler yazzmak istiyorsak uc nokta kullanırız. \n",
    "Otherwise we generally use only single or double quotes.\n",
    "But if you have long strings then you should use triple quotes.\"\"\")"
   ]
  },
  {
   "cell_type": "code",
   "execution_count": 1,
   "metadata": {
    "colab": {
     "base_uri": "https://localhost:8080/"
    },
    "executionInfo": {
     "elapsed": 7,
     "status": "ok",
     "timestamp": 1665338395896,
     "user": {
      "displayName": "F4033-Kadir",
      "userId": "00693449641329635795"
     },
     "user_tz": -120
    },
    "id": "LsCH7Y5p5UG1",
    "outputId": "a15e4213-57cf-494e-b091-dcb467c9d68c"
   },
   "outputs": [
    {
     "name": "stdout",
     "output_type": "stream",
     "text": [
      " Sometimes you forget how to do sth in special way. So\n",
      "it is very important to rework your previous notebooks to recall\n",
      "the things that you have forgotten. For example, if I remembered \n",
      "this tree quotes and long strings feature well, I could submit\n",
      "a better assignment on the profit calculation \n"
     ]
    }
   ],
   "source": [
    "print( \"\"\" Sometimes you forget how to do sth in special way. So\n",
    "it is very important to rework your previous notebooks to recall\n",
    "the things that you have forgotten. For example, if I remembered \n",
    "this tree quotes and long strings feature well, I could submit\n",
    "a better assignment on the profit calculation \"\"\")"
   ]
  },
  {
   "cell_type": "code",
   "execution_count": null,
   "metadata": {
    "colab": {
     "base_uri": "https://localhost:8080/",
     "height": 54
    },
    "executionInfo": {
     "elapsed": 267,
     "status": "ok",
     "timestamp": 1664994153822,
     "user": {
      "displayName": "F4033-Kadir",
      "userId": "00693449641329635795"
     },
     "user_tz": -120
    },
    "id": "duY9Qcu1XVc1",
    "outputId": "3bccc461-158f-4076-9c6b-0ac4ec253938"
   },
   "outputs": [
    {
     "data": {
      "application/vnd.google.colaboratory.intrinsic+json": {
       "type": "string"
      },
      "text/plain": [
       "' eger uzun cümleler yazzmak istiyorsak uc nokta kullanırız. \\n  Otherwise we generally use only single or double quotes.\\n  But if you have long strings then you should use triple quotes.'"
      ]
     },
     "execution_count": 9,
     "metadata": {},
     "output_type": "execute_result"
    }
   ],
   "source": [
    "\"\"\" eger uzun cümleler yazzmak istiyorsak uc nokta kullanırız. \n",
    "  Otherwise we generally use only single or double quotes.\n",
    "  But if you have long strings then you should use triple quotes.\"\"\"  # çift tırnakla bir kaç satır olmuyor. thus triple quotes."
   ]
  },
  {
   "cell_type": "code",
   "execution_count": null,
   "metadata": {
    "colab": {
     "base_uri": "https://localhost:8080/"
    },
    "executionInfo": {
     "elapsed": 308,
     "status": "ok",
     "timestamp": 1664994083298,
     "user": {
      "displayName": "F4033-Kadir",
      "userId": "00693449641329635795"
     },
     "user_tz": -120
    },
    "id": "-bmXGG08YKM5",
    "outputId": "8f242cd4-ee8c-4e74-88b2-922ee506696b"
   },
   "outputs": [
    {
     "name": "stdout",
     "output_type": "stream",
     "text": [
      "triple quotes can also be used as three single quotes\n"
     ]
    }
   ],
   "source": [
    "print('''triple quotes can also be used as three single quotes''')"
   ]
  },
  {
   "cell_type": "code",
   "execution_count": null,
   "metadata": {
    "colab": {
     "base_uri": "https://localhost:8080/"
    },
    "executionInfo": {
     "elapsed": 252,
     "status": "ok",
     "timestamp": 1664994392254,
     "user": {
      "displayName": "F4033-Kadir",
      "userId": "00693449641329635795"
     },
     "user_tz": -120
    },
    "id": "RVTGwxasWllo",
    "outputId": "53cc062a-12f1-44f2-943e-aa4afc3d8326"
   },
   "outputs": [
    {
     "name": "stdout",
     "output_type": "stream",
     "text": [
      "niye 3 tırnak var düşündünüz mü?\n",
      " ...\n",
      "  birden fazla satırın veya uzun metinlerin içinde her şey olabilir.\n",
      "   içinde tek veya çift tırnak olabilir. kesme olabilir. üst virgül olabilir.\n",
      "    rakam sayı sembol vesaire de olabilir. ornegin: 1 2 3 3 +/ * gibi.\n"
     ]
    }
   ],
   "source": [
    "print(\"\"\"niye 3 tırnak var düşündünüz mü?\n",
    " ...\n",
    "  birden fazla satırın veya uzun metinlerin içinde her şey olabilir.\n",
    "   içinde tek veya çift tırnak olabilir. kesme olabilir. üst virgül olabilir.\n",
    "    rakam sayı sembol vesaire de olabilir. ornegin: 1 2 3 3 +/ * gibi.\"\"\")  # limit the code lines with 79 characters"
   ]
  },
  {
   "cell_type": "code",
   "execution_count": null,
   "metadata": {
    "colab": {
     "base_uri": "https://localhost:8080/"
    },
    "executionInfo": {
     "elapsed": 259,
     "status": "ok",
     "timestamp": 1664994897715,
     "user": {
      "displayName": "F4033-Kadir",
      "userId": "00693449641329635795"
     },
     "user_tz": -120
    },
    "id": "bcoIL-EvaXsh",
    "outputId": "b1b19736-4f7f-40b3-9cd3-c4294583579f"
   },
   "outputs": [
    {
     "name": "stdout",
     "output_type": "stream",
     "text": [
      "'enough time\"\n"
     ]
    }
   ],
   "source": [
    "print(''''enough time\"''')  # bastaki fazla tirnagi ve sondaki fazla cift tirnagi asagida verdi."
   ]
  },
  {
   "cell_type": "code",
   "execution_count": null,
   "metadata": {
    "colab": {
     "base_uri": "https://localhost:8080/"
    },
    "executionInfo": {
     "elapsed": 262,
     "status": "ok",
     "timestamp": 1664995642119,
     "user": {
      "displayName": "F4033-Kadir",
      "userId": "00693449641329635795"
     },
     "user_tz": -120
    },
    "id": "3DbmdHe2cVBc",
    "outputId": "bfd619f5-8a74-4d5d-b913-bb0be85305e7"
   },
   "outputs": [
    {
     "name": "stdout",
     "output_type": "stream",
     "text": [
      "first line\n",
      "\n",
      "third line\n",
      "\n",
      "fifth line\n",
      "\n",
      "seventh line\n"
     ]
    }
   ],
   "source": [
    "print('first line')\n",
    "print()  # print() leaves an empty line \n",
    "print(\"third line\")\n",
    "print('')  # this also leaves an empty line \n",
    "print('fifth line')\n",
    "print(\"\")  # this also leaves an empty line\n",
    "print(\"seventh line\")"
   ]
  },
  {
   "cell_type": "code",
   "execution_count": null,
   "metadata": {
    "colab": {
     "base_uri": "https://localhost:8080/"
    },
    "executionInfo": {
     "elapsed": 246,
     "status": "ok",
     "timestamp": 1664997858355,
     "user": {
      "displayName": "F4033-Kadir",
      "userId": "00693449641329635795"
     },
     "user_tz": -120
    },
    "id": "SwxCO2szlUKP",
    "outputId": "bde3bb8b-4725-45d3-e0f4-aab26308b396"
   },
   "outputs": [
    {
     "name": "stdout",
     "output_type": "stream",
     "text": [
      "# symbol is used for comments\n",
      "hello\n"
     ]
    }
   ],
   "source": [
    "print('# symbol is used for comments')  \n",
    "# parantez içi hemen parantez sonrası boşluk olmamalı.  \n",
    "# virgül sonrası hemen parantez varsa boşluk olmamalı. Yanlis: print(2, ). \n",
    "# immediately before a comma, colon, semicolon or after print and before pranatheses no space. \n",
    "# = == kücüktür büyüktür vs işaretlerinden once ve sonra birer bosluk olur\n",
    "print('hello')  # before hash mark 2 space after it 1 space"
   ]
  },
  {
   "cell_type": "code",
   "execution_count": null,
   "metadata": {
    "colab": {
     "base_uri": "https://localhost:8080/"
    },
    "executionInfo": {
     "elapsed": 264,
     "status": "ok",
     "timestamp": 1664997919815,
     "user": {
      "displayName": "F4033-Kadir",
      "userId": "00693449641329635795"
     },
     "user_tz": -120
    },
    "id": "XeaWKxlLm46V",
    "outputId": "ed9ee340-743e-4d17-c135-ccdb3113fa2f"
   },
   "outputs": [
    {
     "name": "stdout",
     "output_type": "stream",
     "text": [
      "hello\n"
     ]
    }
   ],
   "source": [
    "print('hello')\n",
    "# First multi-line\n",
    "# Second multi-line\n",
    "# Third multi-line  Commentler sufficient, necessary and updated olmalı."
   ]
  },
  {
   "cell_type": "code",
   "execution_count": null,
   "metadata": {
    "colab": {
     "base_uri": "https://localhost:8080/"
    },
    "executionInfo": {
     "elapsed": 242,
     "status": "ok",
     "timestamp": 1664998059976,
     "user": {
      "displayName": "F4033-Kadir",
      "userId": "00693449641329635795"
     },
     "user_tz": -120
    },
    "id": "lBw7XbTdnFGF",
    "outputId": "95678034-15ff-42ca-e668-f512f09ce03b"
   },
   "outputs": [
    {
     "data": {
      "text/plain": [
       "8"
      ]
     },
     "execution_count": 27,
     "metadata": {},
     "output_type": "execute_result"
    }
   ],
   "source": [
    "\"\"\"bu ozellik pythonda var. 3 tırnak içinde de comment gibi gorunmuyor\"\"\"\n",
    "3 + 5  # arti isaretinin oncesi ve sonrasinda birer bosluk\n"
   ]
  },
  {
   "cell_type": "code",
   "execution_count": null,
   "metadata": {
    "colab": {
     "base_uri": "https://localhost:8080/"
    },
    "executionInfo": {
     "elapsed": 200,
     "status": "ok",
     "timestamp": 1665040884993,
     "user": {
      "displayName": "F4033-Kadir",
      "userId": "00693449641329635795"
     },
     "user_tz": -120
    },
    "id": "JbNqMgfgn4dd",
    "outputId": "63933ad9-7cef-4ead-aa3f-ecc20cf3d825"
   },
   "outputs": [
    {
     "name": "stdout",
     "output_type": "stream",
     "text": [
      "57\n"
     ]
    }
   ],
   "source": [
    "\"\"\"diyelim boyle bir satir olsun.\n",
    " yuzlerce satir.\n",
    "  zzz\n",
    "  ...\n",
    "   ....\"\"\"\n",
    "\n",
    "a = 35  # bu müşterinin ev sayısı\n",
    "b = 22  # bu da müşterinin kızının ev sayısı\n",
    "print(a+b)"
   ]
  },
  {
   "cell_type": "code",
   "execution_count": null,
   "metadata": {
    "colab": {
     "base_uri": "https://localhost:8080/"
    },
    "executionInfo": {
     "elapsed": 245,
     "status": "ok",
     "timestamp": 1664999237699,
     "user": {
      "displayName": "F4033-Kadir",
      "userId": "00693449641329635795"
     },
     "user_tz": -120
    },
    "id": "JKCGYuarrsST",
    "outputId": "85ae8bd2-b7ed-451c-ffca-dde3b526fd2f"
   },
   "outputs": [
    {
     "name": "stdout",
     "output_type": "stream",
     "text": [
      "30\n"
     ]
    }
   ],
   "source": [
    "my_age = 33  # ilk kisim variable, esitlik sonrasi value\n",
    "your_age = 30\n",
    "my_age = your_age \n",
    "print(my_age) # en son atanan deger your age oldugu icin 30 verdi"
   ]
  },
  {
   "cell_type": "code",
   "execution_count": 2,
   "metadata": {
    "executionInfo": {
     "elapsed": 334,
     "status": "ok",
     "timestamp": 1665338645357,
     "user": {
      "displayName": "F4033-Kadir",
      "userId": "00693449641329635795"
     },
     "user_tz": -120
    },
    "id": "iwNFu7LatLnk"
   },
   "outputs": [],
   "source": [
    "# \"ali\"\n",
    "# \"veli\"\n",
    "# \"mehmet\"  # macte toplu comment yapma kısayolu Command + K + C ; uncomment: CMD+K+U"
   ]
  }
 ],
 "metadata": {
  "accelerator": "GPU",
  "colab": {
   "authorship_tag": "ABX9TyMNfxOHc27LPdBHBjJfCMbT",
   "collapsed_sections": [],
   "provenance": []
  },
  "kernelspec": {
   "display_name": "Python 3 (ipykernel)",
   "language": "python",
   "name": "python3"
  },
  "language_info": {
   "codemirror_mode": {
    "name": "ipython",
    "version": 3
   },
   "file_extension": ".py",
   "mimetype": "text/x-python",
   "name": "python",
   "nbconvert_exporter": "python",
   "pygments_lexer": "ipython3",
   "version": "3.9.12"
  }
 },
 "nbformat": 4,
 "nbformat_minor": 4
}
