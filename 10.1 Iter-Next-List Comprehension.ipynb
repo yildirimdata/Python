{
 "cells": [
  {
   "cell_type": "markdown",
   "metadata": {
    "id": "PZUAgUCZf-mv"
   },
   "source": [
    "**sorted() fonskiyonunun default key fonksiyonuyla oynayalım** :"
   ]
  },
  {
   "cell_type": "code",
   "execution_count": null,
   "metadata": {
    "colab": {
     "base_uri": "https://localhost:8080/"
    },
    "executionInfo": {
     "elapsed": 341,
     "status": "ok",
     "timestamp": 1667412030785,
     "user": {
      "displayName": "F4033-Kadir",
      "userId": "00693449641329635795"
     },
     "user_tz": -60
    },
    "id": "FAATo2cudYsg",
    "outputId": "9719bc42-d33a-4931-9196-30b75948ba81"
   },
   "outputs": [
    {
     "name": "stdout",
     "output_type": "stream",
     "text": [
      "['istanbul', 'ankara', 'agri', 'van']\n"
     ]
    },
    {
     "data": {
      "text/plain": [
       "['van', 'agri', 'ankara', 'istanbul']"
      ]
     },
     "execution_count": 1,
     "metadata": {},
     "output_type": "execute_result"
    }
   ],
   "source": [
    "cities = [\"istanbul\", \"ankara\", \"agri\", \"van\"]\n",
    "sorted(cities)\n",
    "print(cities)\n",
    "# biz en uzunu getirelim, alfabetik olan once olani degil\n",
    "sorted(cities, key = len)"
   ]
  },
  {
   "cell_type": "code",
   "execution_count": null,
   "metadata": {
    "colab": {
     "base_uri": "https://localhost:8080/"
    },
    "executionInfo": {
     "elapsed": 300,
     "status": "ok",
     "timestamp": 1667412033121,
     "user": {
      "displayName": "F4033-Kadir",
      "userId": "00693449641329635795"
     },
     "user_tz": -60
    },
    "id": "QokuteQsd6Mx",
    "outputId": "03c41d11-0fe1-4358-f126-1b456f90bc5c"
   },
   "outputs": [
    {
     "data": {
      "text/plain": [
       "['istanbul', 'ankara', 'agri', 'van']"
      ]
     },
     "execution_count": 2,
     "metadata": {},
     "output_type": "execute_result"
    }
   ],
   "source": [
    "sorted(cities, key = len, reverse = True)"
   ]
  },
  {
   "cell_type": "code",
   "execution_count": 3,
   "metadata": {
    "colab": {
     "base_uri": "https://localhost:8080/"
    },
    "executionInfo": {
     "elapsed": 375,
     "status": "ok",
     "timestamp": 1668190069407,
     "user": {
      "displayName": "F4033-Kadir",
      "userId": "00693449641329635795"
     },
     "user_tz": -60
    },
    "id": "JEMe4V8kzBJf",
    "outputId": "c5945664-b7bb-4fa4-d90b-5f5765fa9789"
   },
   "outputs": [
    {
     "name": "stdout",
     "output_type": "stream",
     "text": [
      "None\n",
      "[1, 2, 3, 4]\n",
      "False\n",
      "False\n"
     ]
    }
   ],
   "source": [
    "a = [1,2,3,4]\n",
    "b = a.sort()\n",
    "print(a.sort())\n",
    "c = sorted(a)\n",
    "print(sorted(a))\n",
    "d = None\n",
    "print(b == c)\n",
    "print(c == d)"
   ]
  },
  {
   "cell_type": "code",
   "execution_count": null,
   "metadata": {
    "id": "CquhjT9W4F43"
   },
   "outputs": [],
   "source": []
  },
  {
   "cell_type": "markdown",
   "metadata": {
    "id": "xJy0-k3c4HC0"
   },
   "source": [
    "**fromkeys()**\n",
    "\n",
    "Returns a dictionary with the specified keys and value. \n",
    "\n",
    "Syntax : dict.fromkeys(keys, value)\n",
    "\n",
    "\n",
    "Parameter -----\tDescription\n",
    "\n",
    "keys---------- Required. An iterable specifying the keys of the new dict.\n",
    "\n",
    "value----------\tOptional. The value for all keys. Default value is None\n",
    "\n"
   ]
  },
  {
   "cell_type": "code",
   "execution_count": null,
   "metadata": {
    "id": "qJfaw29T4LuH"
   },
   "outputs": [],
   "source": [
    "veri = [\"a\", ]"
   ]
  },
  {
   "cell_type": "code",
   "execution_count": 2,
   "metadata": {
    "colab": {
     "base_uri": "https://localhost:8080/"
    },
    "executionInfo": {
     "elapsed": 6,
     "status": "ok",
     "timestamp": 1668192306948,
     "user": {
      "displayName": "F4033-Kadir",
      "userId": "00693449641329635795"
     },
     "user_tz": -60
    },
    "id": "yXLUVlhj4Lp4",
    "outputId": "1940953d-86bc-431f-e86b-17e9cfcab865"
   },
   "outputs": [
    {
     "name": "stdout",
     "output_type": "stream",
     "text": [
      "{'key1': 0, 'key2': 0, 'key3': 0}\n"
     ]
    }
   ],
   "source": [
    "# creat a dict with 3 keys, value is 0 for all\n",
    "x = ('key1', 'key2', 'key3')\n",
    "y = 0\n",
    "\n",
    "thisdict = dict.fromkeys(x, y)\n",
    "\n",
    "print(thisdict)"
   ]
  },
  {
   "cell_type": "code",
   "execution_count": 4,
   "metadata": {
    "colab": {
     "base_uri": "https://localhost:8080/"
    },
    "executionInfo": {
     "elapsed": 6,
     "status": "ok",
     "timestamp": 1668192402278,
     "user": {
      "displayName": "F4033-Kadir",
      "userId": "00693449641329635795"
     },
     "user_tz": -60
    },
    "id": "odbd1MLpAoJh",
    "outputId": "6ab17108-7c31-4ee4-918a-3574e1f421c5"
   },
   "outputs": [
    {
     "name": "stdout",
     "output_type": "stream",
     "text": [
      "{'key1': None, 'key2': None, 'key3': None}\n"
     ]
    }
   ],
   "source": [
    "# without a spesific value\n",
    "x = ('key1', 'key2', 'key3')\n",
    "\n",
    "thisdict = dict.fromkeys(x)\n",
    "\n",
    "print(thisdict)"
   ]
  },
  {
   "cell_type": "code",
   "execution_count": 5,
   "metadata": {
    "colab": {
     "base_uri": "https://localhost:8080/"
    },
    "executionInfo": {
     "elapsed": 7,
     "status": "ok",
     "timestamp": 1668192462959,
     "user": {
      "displayName": "F4033-Kadir",
      "userId": "00693449641329635795"
     },
     "user_tz": -60
    },
    "id": "huaDAQtaA_Re",
    "outputId": "233c3181-2002-4cd2-f9ae-de381056c267"
   },
   "outputs": [
    {
     "data": {
      "text/plain": [
       "{'int': True,\n",
       " 'str': True,\n",
       " 'bool': True,\n",
       " 'list': True,\n",
       " 'tuple': True,\n",
       " 'dict': True,\n",
       " 'set': True}"
      ]
     },
     "execution_count": 5,
     "metadata": {},
     "output_type": "execute_result"
    }
   ],
   "source": [
    "types = [\"int\", \"str\", \"bool\", \"list\", \"tuple\", \"dict\", \"set\"]\n",
    "a = {}\n",
    "a.fromkeys(types, True)"
   ]
  },
  {
   "cell_type": "markdown",
   "metadata": {
    "id": "g_754B-jgNoZ"
   },
   "source": [
    "**Tuple unpacking**"
   ]
  },
  {
   "cell_type": "code",
   "execution_count": null,
   "metadata": {
    "colab": {
     "base_uri": "https://localhost:8080/"
    },
    "executionInfo": {
     "elapsed": 268,
     "status": "ok",
     "timestamp": 1667415116704,
     "user": {
      "displayName": "F4033-Kadir",
      "userId": "00693449641329635795"
     },
     "user_tz": -60
    },
    "id": "ou7kXe-wd6Pj",
    "outputId": "d750faff-31b4-4d34-d446-542c073b3490"
   },
   "outputs": [
    {
     "name": "stdout",
     "output_type": "stream",
     "text": [
      "1 2 3 4 5 6 7\n"
     ]
    }
   ],
   "source": [
    "mon, tue, wed, thu, fri, sat, sun = tuple(range(1,8))\n",
    "print(mon, tue, wed, thu, fri, sat, sun)"
   ]
  },
  {
   "cell_type": "code",
   "execution_count": null,
   "metadata": {
    "id": "Hv9ysbi6d6Sj"
   },
   "outputs": [],
   "source": [
    "mytuple = (\"apple\", \"banana\", \"cherry\")  # bu packing. 3 elemanı paketleyip mytuple adlı bir tuple'a paketledik"
   ]
  },
  {
   "cell_type": "code",
   "execution_count": null,
   "metadata": {
    "colab": {
     "base_uri": "https://localhost:8080/"
    },
    "executionInfo": {
     "elapsed": 404,
     "status": "ok",
     "timestamp": 1667415187206,
     "user": {
      "displayName": "F4033-Kadir",
      "userId": "00693449641329635795"
     },
     "user_tz": -60
    },
    "id": "05m4m4j-d6ae",
    "outputId": "05c3a8d2-619c-4150-ca41-bdc8f19e0f93"
   },
   "outputs": [
    {
     "name": "stdout",
     "output_type": "stream",
     "text": [
      "apple banana cherry\n"
     ]
    }
   ],
   "source": [
    "green, yellow, red = mytuple  # bu da tuple unpacking\n",
    "print(green, yellow, red)"
   ]
  },
  {
   "cell_type": "code",
   "execution_count": null,
   "metadata": {
    "colab": {
     "base_uri": "https://localhost:8080/"
    },
    "executionInfo": {
     "elapsed": 275,
     "status": "ok",
     "timestamp": 1667415193455,
     "user": {
      "displayName": "F4033-Kadir",
      "userId": "00693449641329635795"
     },
     "user_tz": -60
    },
    "id": "fX-p_DUed6dd",
    "outputId": "43643d94-a9b1-45eb-dfc8-17174bef9d3c"
   },
   "outputs": [
    {
     "data": {
      "text/plain": [
       "[1, 2, 3, 'ali', 'veli', 4.0]"
      ]
     },
     "execution_count": 42,
     "metadata": {},
     "output_type": "execute_result"
    }
   ],
   "source": [
    "# iki listeyi toplayabiliriz. farklı veri tipleri olsa da toplanabilir\n",
    "[1,2,3] + [\"ali\", \"veli\"] + [4.0]"
   ]
  },
  {
   "cell_type": "code",
   "execution_count": null,
   "metadata": {
    "colab": {
     "base_uri": "https://localhost:8080/"
    },
    "executionInfo": {
     "elapsed": 248,
     "status": "ok",
     "timestamp": 1667415206522,
     "user": {
      "displayName": "F4033-Kadir",
      "userId": "00693449641329635795"
     },
     "user_tz": -60
    },
    "id": "xVDkksQqd6gR",
    "outputId": "40481261-8def-416b-d866-2018d8e2490a"
   },
   "outputs": [
    {
     "name": "stdout",
     "output_type": "stream",
     "text": [
      "10 40 30 40\n"
     ]
    }
   ],
   "source": [
    "# a, b = (10, 20, 30, 40)  # çalışmaz. ValueError: too many values to unpack (expected 2)\n",
    "# peki aya 10 bye 30u ekstra variable tanımlamadan nasıl atarız. placeholder secenegi var: yer tutucu\n",
    "\n",
    "a, _, b, _ =  (10, 20, 30, 40)  # yer tutucuyu güncelledi en sondakiyle\n",
    "print(a, _, b, _)"
   ]
  },
  {
   "cell_type": "markdown",
   "metadata": {
    "id": "9gVLynX_sVu0"
   },
   "source": [
    "**asteriks** (*) **ile toplu değer atama bir variablea**"
   ]
  },
  {
   "cell_type": "code",
   "execution_count": null,
   "metadata": {
    "colab": {
     "base_uri": "https://localhost:8080/"
    },
    "executionInfo": {
     "elapsed": 344,
     "status": "ok",
     "timestamp": 1667415285998,
     "user": {
      "displayName": "F4033-Kadir",
      "userId": "00693449641329635795"
     },
     "user_tz": -60
    },
    "id": "6nGBAwPdd6lX",
    "outputId": "ef9a1fdd-5ad7-4183-d712-9076125f5375"
   },
   "outputs": [
    {
     "name": "stdout",
     "output_type": "stream",
     "text": [
      "11 22 [33, 44, 55]\n"
     ]
    }
   ],
   "source": [
    "x, y, *z = (11, 22, 33, 44, 55)  \n",
    "# x ve y 11 ve 22 olsun. geri kalan hepsini de zye atayalim. bunu * ile yaparız\n",
    "print(x, y, z)"
   ]
  },
  {
   "cell_type": "code",
   "execution_count": null,
   "metadata": {
    "colab": {
     "base_uri": "https://localhost:8080/"
    },
    "executionInfo": {
     "elapsed": 292,
     "status": "ok",
     "timestamp": 1667415295497,
     "user": {
      "displayName": "F4033-Kadir",
      "userId": "00693449641329635795"
     },
     "user_tz": -60
    },
    "id": "AF4bJQDMd6oL",
    "outputId": "91dc3cc0-3d47-4090-b975-bc8c8b367d1a"
   },
   "outputs": [
    {
     "name": "stdout",
     "output_type": "stream",
     "text": [
      "11 22 [33, 44, 55]\n"
     ]
    }
   ],
   "source": [
    "x, y, *_ = (11, 22, 33, 44, 55) \n",
    "print(x, y, _)"
   ]
  },
  {
   "cell_type": "code",
   "execution_count": null,
   "metadata": {
    "colab": {
     "base_uri": "https://localhost:8080/"
    },
    "executionInfo": {
     "elapsed": 276,
     "status": "ok",
     "timestamp": 1667415305814,
     "user": {
      "displayName": "F4033-Kadir",
      "userId": "00693449641329635795"
     },
     "user_tz": -60
    },
    "id": "gwYCuaWzd6q_",
    "outputId": "6b174b4e-b511-4f68-eed6-efce167b0297"
   },
   "outputs": [
    {
     "name": "stdout",
     "output_type": "stream",
     "text": [
      "11 22 [33, 44, 55, 66] 77\n",
      "[33, 44, 55, 66] <class 'list'>\n"
     ]
    }
   ],
   "source": [
    "x, y, *z, t = (11, 22, 33, 44, 55, 66, 77)  # ilki x sonraki y kalanlar z ama sonuncu tye gitsin\n",
    "print(x, y, z, t)\n",
    "print(z, type(z))"
   ]
  },
  {
   "cell_type": "markdown",
   "metadata": {
    "id": "j2w2s4hUstFk"
   },
   "source": [
    "**iter fonksiyonu**\n",
    "\n",
    "returns an iterator object. icine de iterable alıyor."
   ]
  },
  {
   "cell_type": "code",
   "execution_count": null,
   "metadata": {
    "colab": {
     "base_uri": "https://localhost:8080/"
    },
    "executionInfo": {
     "elapsed": 437,
     "status": "ok",
     "timestamp": 1667415349526,
     "user": {
      "displayName": "F4033-Kadir",
      "userId": "00693449641329635795"
     },
     "user_tz": -60
    },
    "id": "t6SM1kzWd6tn",
    "outputId": "7d87efb1-0625-417d-dece-535f5171106d"
   },
   "outputs": [
    {
     "name": "stdout",
     "output_type": "stream",
     "text": [
      "<tuple_iterator object at 0x7f9ede2d37d0>\n",
      "apple banana cherry\n"
     ]
    }
   ],
   "source": [
    "mytuple = (\"apple\", \"banana\", \"cherry\")\n",
    "myiterator = iter(mytuple)\n",
    "print(myiterator)\n",
    "print(*myiterator)"
   ]
  },
  {
   "cell_type": "code",
   "execution_count": null,
   "metadata": {
    "colab": {
     "base_uri": "https://localhost:8080/",
     "height": 37
    },
    "executionInfo": {
     "elapsed": 276,
     "status": "ok",
     "timestamp": 1667415365009,
     "user": {
      "displayName": "F4033-Kadir",
      "userId": "00693449641329635795"
     },
     "user_tz": -60
    },
    "id": "Jtduljmhd6wI",
    "outputId": "d57f6320-8a20-4bbe-e837-3eecf6ba7467"
   },
   "outputs": [
    {
     "data": {
      "application/vnd.google.colaboratory.intrinsic+json": {
       "type": "string"
      },
      "text/plain": [
       "'apple'"
      ]
     },
     "execution_count": 48,
     "metadata": {},
     "output_type": "execute_result"
    }
   ],
   "source": [
    "# next(myiterator)  # yukarıda kullandığımız için boşaldı, artık on the air değil. next deyince burda birsey vermez. tekrar tanımlarız\n",
    "myiterator = iter(mytuple)\n",
    "next(myiterator)"
   ]
  },
  {
   "cell_type": "code",
   "execution_count": null,
   "metadata": {
    "colab": {
     "base_uri": "https://localhost:8080/",
     "height": 37
    },
    "executionInfo": {
     "elapsed": 297,
     "status": "ok",
     "timestamp": 1667415373374,
     "user": {
      "displayName": "F4033-Kadir",
      "userId": "00693449641329635795"
     },
     "user_tz": -60
    },
    "id": "pq1jGx6rsyk-",
    "outputId": "a61b5c01-ee2f-47f2-d803-a5a9bbb0670f"
   },
   "outputs": [
    {
     "data": {
      "application/vnd.google.colaboratory.intrinsic+json": {
       "type": "string"
      },
      "text/plain": [
       "'banana'"
      ]
     },
     "execution_count": 49,
     "metadata": {},
     "output_type": "execute_result"
    }
   ],
   "source": [
    "next(myiterator)"
   ]
  },
  {
   "cell_type": "code",
   "execution_count": null,
   "metadata": {
    "colab": {
     "base_uri": "https://localhost:8080/",
     "height": 37
    },
    "executionInfo": {
     "elapsed": 280,
     "status": "ok",
     "timestamp": 1667415382377,
     "user": {
      "displayName": "F4033-Kadir",
      "userId": "00693449641329635795"
     },
     "user_tz": -60
    },
    "id": "2E595YlFsyn1",
    "outputId": "226c8215-61c4-478f-87ba-9833fe5b89ea"
   },
   "outputs": [
    {
     "data": {
      "application/vnd.google.colaboratory.intrinsic+json": {
       "type": "string"
      },
      "text/plain": [
       "'cherry'"
      ]
     },
     "execution_count": 50,
     "metadata": {},
     "output_type": "execute_result"
    }
   ],
   "source": [
    "next(myiterator)  # 3üde getirildi. boşaldı artık. bir sonraki eleman gelmez. \n",
    "# stopiteration erroru verir. for döngüsünde de bu çalışıyor"
   ]
  },
  {
   "cell_type": "code",
   "execution_count": null,
   "metadata": {
    "id": "Cepg8iiqsyqz"
   },
   "outputs": [],
   "source": [
    "myiter = iter(\"edwin\")"
   ]
  },
  {
   "cell_type": "code",
   "execution_count": null,
   "metadata": {
    "colab": {
     "base_uri": "https://localhost:8080/",
     "height": 37
    },
    "executionInfo": {
     "elapsed": 256,
     "status": "ok",
     "timestamp": 1667415412133,
     "user": {
      "displayName": "F4033-Kadir",
      "userId": "00693449641329635795"
     },
     "user_tz": -60
    },
    "id": "Jl7ipdoIs9ez",
    "outputId": "c8752de9-9fad-4eb9-b5c4-dc878665543a"
   },
   "outputs": [
    {
     "data": {
      "application/vnd.google.colaboratory.intrinsic+json": {
       "type": "string"
      },
      "text/plain": [
       "'e'"
      ]
     },
     "execution_count": 52,
     "metadata": {},
     "output_type": "execute_result"
    }
   ],
   "source": [
    "next(myiter)"
   ]
  },
  {
   "cell_type": "code",
   "execution_count": null,
   "metadata": {
    "colab": {
     "base_uri": "https://localhost:8080/",
     "height": 37
    },
    "executionInfo": {
     "elapsed": 272,
     "status": "ok",
     "timestamp": 1667415414954,
     "user": {
      "displayName": "F4033-Kadir",
      "userId": "00693449641329635795"
     },
     "user_tz": -60
    },
    "id": "8uC1rQbus-KE",
    "outputId": "04e7b4bb-07a7-4dcd-8c01-2df9c579a244"
   },
   "outputs": [
    {
     "data": {
      "application/vnd.google.colaboratory.intrinsic+json": {
       "type": "string"
      },
      "text/plain": [
       "'d'"
      ]
     },
     "execution_count": 53,
     "metadata": {},
     "output_type": "execute_result"
    }
   ],
   "source": [
    "next(myiter)"
   ]
  },
  {
   "cell_type": "markdown",
   "metadata": {
    "id": "lf-UKx4JgSXm"
   },
   "source": [
    "**LIST COMPREHENSION**\n",
    "\n",
    "List comprehension offers a shorter syntax when you want to create a new list based on the values of an existing list.\n",
    "\n",
    "Example: Based on a list of fruits, you want a new list, containing only the fruits with the letter \"a\" in the name.\n",
    "\n",
    "Without list comprehension you will have to write a for statement with a conditional test inside:\n",
    "\n",
    "for variable in iterable:\n",
    "   \n",
    "    expression\n",
    " \n",
    "  yerine:\n",
    "\n",
    "[expression for item in iterable] yazarız"
   ]
  },
  {
   "cell_type": "code",
   "execution_count": null,
   "metadata": {
    "colab": {
     "base_uri": "https://localhost:8080/"
    },
    "executionInfo": {
     "elapsed": 267,
     "status": "ok",
     "timestamp": 1667412145554,
     "user": {
      "displayName": "F4033-Kadir",
      "userId": "00693449641329635795"
     },
     "user_tz": -60
    },
    "id": "89CMywgad6y6",
    "outputId": "8f8f01f7-fd0f-43db-c65a-555780ecacec"
   },
   "outputs": [
    {
     "name": "stdout",
     "output_type": "stream",
     "text": [
      "['apple', 'banana', 'mango']\n"
     ]
    }
   ],
   "source": [
    "fruits = [\"apple\", \"banana\", \"cherry\", \"kiwi\", \"mango\"]\n",
    "newlist = []\n",
    "for x in fruits:\n",
    "  if \"a\" in x:  # içinde a olanları\n",
    "    newlist.append(x)\n",
    "\n",
    "print(newlist)"
   ]
  },
  {
   "cell_type": "code",
   "execution_count": null,
   "metadata": {
    "colab": {
     "base_uri": "https://localhost:8080/"
    },
    "executionInfo": {
     "elapsed": 275,
     "status": "ok",
     "timestamp": 1667412155123,
     "user": {
      "displayName": "F4033-Kadir",
      "userId": "00693449641329635795"
     },
     "user_tz": -60
    },
    "id": "yrSAD-ZZgjLb",
    "outputId": "4e06d1ab-9db6-422b-a247-9f76303f73e3"
   },
   "outputs": [
    {
     "name": "stdout",
     "output_type": "stream",
     "text": [
      "['apple', 'banana', 'mango']\n"
     ]
    }
   ],
   "source": [
    "fruits = [\"apple\", \"banana\", \"cherry\", \"kiwi\", \"mango\"]\n",
    "\n",
    "newlist = [x for x in fruits if \"a\" in x]\n",
    "\n",
    "print(newlist)"
   ]
  },
  {
   "cell_type": "code",
   "execution_count": null,
   "metadata": {
    "colab": {
     "base_uri": "https://localhost:8080/"
    },
    "executionInfo": {
     "elapsed": 282,
     "status": "ok",
     "timestamp": 1667413022130,
     "user": {
      "displayName": "F4033-Kadir",
      "userId": "00693449641329635795"
     },
     "user_tz": -60
    },
    "id": "d6hhVy4Tj2Uj",
    "outputId": "22874239-4c03-46ff-da5c-9572789202a9"
   },
   "outputs": [
    {
     "name": "stdout",
     "output_type": "stream",
     "text": [
      "['banana', 'cherry', 'kiwi', 'mango']\n"
     ]
    }
   ],
   "source": [
    "newlist = [x for x in fruits if x != \"apple\"]\n",
    "print(newlist)"
   ]
  },
  {
   "cell_type": "code",
   "execution_count": null,
   "metadata": {
    "colab": {
     "base_uri": "https://localhost:8080/"
    },
    "executionInfo": {
     "elapsed": 286,
     "status": "ok",
     "timestamp": 1667412600510,
     "user": {
      "displayName": "F4033-Kadir",
      "userId": "00693449641329635795"
     },
     "user_tz": -60
    },
    "id": "7uLGyNypglhT",
    "outputId": "c7b28db6-d08e-4c85-ce98-d07bcf9ecc28"
   },
   "outputs": [
    {
     "name": "stdout",
     "output_type": "stream",
     "text": [
      "[0]\n",
      "[0, 1]\n",
      "[0, 1, 2]\n",
      "[0, 1, 2, 3]\n",
      "[0, 1, 2, 3, 4]\n",
      "..........\n",
      "[0, 1, 2, 3, 4]\n"
     ]
    }
   ],
   "source": [
    "sayılar = []\n",
    "\n",
    "for n in range(5):\n",
    "\n",
    "  sayılar.append(n)\n",
    "  print(sayılar)  # burası her iterasyonda çalışacak. görünsün nasıl işlediği diye bu satır\n",
    "print(\"..........\")\n",
    "print(sayılar)"
   ]
  },
  {
   "cell_type": "code",
   "execution_count": null,
   "metadata": {
    "colab": {
     "base_uri": "https://localhost:8080/"
    },
    "executionInfo": {
     "elapsed": 297,
     "status": "ok",
     "timestamp": 1667412677727,
     "user": {
      "displayName": "F4033-Kadir",
      "userId": "00693449641329635795"
     },
     "user_tz": -60
    },
    "id": "Vf4rAXkOhyZM",
    "outputId": "3b256abb-0a67-4c88-eef9-791d4661a168"
   },
   "outputs": [
    {
     "data": {
      "text/plain": [
       "[0, 1, 2, 3, 4]"
      ]
     },
     "execution_count": 10,
     "metadata": {},
     "output_type": "execute_result"
    }
   ],
   "source": [
    "[n for n in range(5)]  # square bracletsa dikkat. burada append kullanmaya gerek kalmıyor\n"
   ]
  },
  {
   "cell_type": "code",
   "execution_count": null,
   "metadata": {
    "colab": {
     "base_uri": "https://localhost:8080/"
    },
    "executionInfo": {
     "elapsed": 264,
     "status": "ok",
     "timestamp": 1667412770884,
     "user": {
      "displayName": "F4033-Kadir",
      "userId": "00693449641329635795"
     },
     "user_tz": -60
    },
    "id": "TmamSBsTit7r",
    "outputId": "a4ec2e26-dd47-4d11-ea74-25b963e18a02"
   },
   "outputs": [
    {
     "data": {
      "text/plain": [
       "[0, 1, 4, 9, 16]"
      ]
     },
     "execution_count": 14,
     "metadata": {},
     "output_type": "execute_result"
    }
   ],
   "source": [
    "# kareleri olsun\n",
    "[n**2 for n in range(5)]"
   ]
  },
  {
   "cell_type": "code",
   "execution_count": null,
   "metadata": {
    "colab": {
     "base_uri": "https://localhost:8080/"
    },
    "executionInfo": {
     "elapsed": 442,
     "status": "ok",
     "timestamp": 1667413232151,
     "user": {
      "displayName": "F4033-Kadir",
      "userId": "00693449641329635795"
     },
     "user_tz": -60
    },
    "id": "snzPIdAUi34q",
    "outputId": "8d743a49-3183-48a0-cecb-2d2a1791172f"
   },
   "outputs": [
    {
     "name": "stdout",
     "output_type": "stream",
     "text": [
      "['Jane Austin', 'George Orwell', 'James Clear', 'Call Newport']\n"
     ]
    }
   ],
   "source": [
    "yazarlar = [\"jane austin\", \"george orwell\", \"james clear\", \"call newport\"]\n",
    "\n",
    "# yazarların ilk harflerini büyük yapmak istiyorum\n",
    "\n",
    "yazar_listesi = [i.title() for i in yazarlar]\n",
    "print(yazar_listesi)"
   ]
  },
  {
   "cell_type": "code",
   "execution_count": null,
   "metadata": {
    "colab": {
     "base_uri": "https://localhost:8080/"
    },
    "executionInfo": {
     "elapsed": 254,
     "status": "ok",
     "timestamp": 1667413351783,
     "user": {
      "displayName": "F4033-Kadir",
      "userId": "00693449641329635795"
     },
     "user_tz": -60
    },
    "id": "bdWijBGpksa8",
    "outputId": "e54fbfe3-c597-44cc-c2b7-64d976f2f21b"
   },
   "outputs": [
    {
     "data": {
      "text/plain": [
       "[(4, 8), (5, 9), (6, 10), (7, 11)]"
      ]
     },
     "execution_count": 18,
     "metadata": {},
     "output_type": "execute_result"
    }
   ],
   "source": [
    "a = [4,5,6,7]\n",
    "b = [8,9,10,11]\n",
    "# 4 rectangle olsun. ilk listede kisa ikincide uzun kenarları var sırasıyla. alanlarını bulalım:\n",
    "\n",
    "liste = list(zip(a,b))"
   ]
  },
  {
   "cell_type": "code",
   "execution_count": null,
   "metadata": {
    "colab": {
     "base_uri": "https://localhost:8080/"
    },
    "executionInfo": {
     "elapsed": 273,
     "status": "ok",
     "timestamp": 1667413738801,
     "user": {
      "displayName": "F4033-Kadir",
      "userId": "00693449641329635795"
     },
     "user_tz": -60
    },
    "id": "3qZJxU06mEwz",
    "outputId": "9c7b9017-711e-40b3-82f4-496dc0e3972b"
   },
   "outputs": [
    {
     "data": {
      "text/plain": [
       "[32, 45, 60, 77]"
      ]
     },
     "execution_count": 22,
     "metadata": {},
     "output_type": "execute_result"
    }
   ],
   "source": [
    "liste = list(zip(a,b))\n",
    "alan = []\n",
    "for i in range(len(liste)):\n",
    "  j, k = liste[i]\n",
    "  alan.append(j * k)\n",
    "alan"
   ]
  },
  {
   "cell_type": "code",
   "execution_count": null,
   "metadata": {
    "id": "SeWMQuErl7Np"
   },
   "outputs": [],
   "source": [
    "# bunun yerine daha kısa bir yontem\n",
    "liste = list(zip(a,b))\n",
    "alan = []\n",
    "for i, j in liste :  # tupplelardan oluşan bir liste bu. i,j dersek her tupledaki ikiliyi alır.\n",
    "  alan.append(i * j)"
   ]
  },
  {
   "cell_type": "code",
   "execution_count": null,
   "metadata": {
    "colab": {
     "base_uri": "https://localhost:8080/"
    },
    "executionInfo": {
     "elapsed": 323,
     "status": "ok",
     "timestamp": 1667414121807,
     "user": {
      "displayName": "F4033-Kadir",
      "userId": "00693449641329635795"
     },
     "user_tz": -60
    },
    "id": "xEX7qpWBnXbJ",
    "outputId": "5913d97c-49d3-41bb-809e-5f74636479af"
   },
   "outputs": [
    {
     "name": "stdout",
     "output_type": "stream",
     "text": [
      "[32, 45, 60, 77]\n",
      "[32, 45, 60, 77]\n"
     ]
    }
   ],
   "source": [
    "# simdi de list comp yontemi\n",
    "area = [i*j for i, j in liste]\n",
    "print(area)\n",
    "\n",
    "# burada liste yerine\n",
    "a = [4,5,6,7]\n",
    "b = [8,9,10,11]\n",
    "area = [i*j for i, j in zip(a,b)]\n",
    "print(area)"
   ]
  },
  {
   "cell_type": "markdown",
   "metadata": {
    "id": "CUHKr6uLoHlt"
   },
   "source": [
    "# **Ternary Boolean Operators**\n",
    "\n",
    "**Value 1  if condition else value 2**\n",
    "\n",
    "**execute body 1 if condition else execute body 2**\n",
    "\n",
    "eger True ise Value 1 getir, False ise Value 2 getir"
   ]
  },
  {
   "cell_type": "code",
   "execution_count": null,
   "metadata": {
    "colab": {
     "base_uri": "https://localhost:8080/"
    },
    "executionInfo": {
     "elapsed": 298,
     "status": "ok",
     "timestamp": 1667414565869,
     "user": {
      "displayName": "F4033-Kadir",
      "userId": "00693449641329635795"
     },
     "user_tz": -60
    },
    "id": "F5juQk7znf1h",
    "outputId": "e2e82c63-5d17-4360-8655-b1649b5f686f"
   },
   "outputs": [
    {
     "data": {
      "text/plain": [
       "27"
      ]
     },
     "execution_count": 7,
     "metadata": {},
     "output_type": "execute_result"
    }
   ],
   "source": [
    "a = 2\n",
    "b = 3\n",
    "if a>b:\n",
    "  print(\"a bden büyüktür\")\n",
    "else:\n",
    "  print(\"b adan büyüktür\")"
   ]
  },
  {
   "cell_type": "code",
   "execution_count": null,
   "metadata": {
    "colab": {
     "base_uri": "https://localhost:8080/",
     "height": 37
    },
    "executionInfo": {
     "elapsed": 400,
     "status": "ok",
     "timestamp": 1667414575305,
     "user": {
      "displayName": "F4033-Kadir",
      "userId": "00693449641329635795"
     },
     "user_tz": -60
    },
    "id": "FhEzO0B2pbGy",
    "outputId": "7758650d-c7ed-4674-92de-b1b101f671d4"
   },
   "outputs": [
    {
     "data": {
      "application/vnd.google.colaboratory.intrinsic+json": {
       "type": "string"
      },
      "text/plain": [
       "'b adan büyüktür'"
      ]
     },
     "execution_count": 29,
     "metadata": {},
     "output_type": "execute_result"
    }
   ],
   "source": [
    "\"a bden büyüktür\" if a>b else \"b adan büyüktür\""
   ]
  },
  {
   "cell_type": "code",
   "execution_count": null,
   "metadata": {
    "colab": {
     "base_uri": "https://localhost:8080/"
    },
    "executionInfo": {
     "elapsed": 290,
     "status": "ok",
     "timestamp": 1667414605632,
     "user": {
      "displayName": "F4033-Kadir",
      "userId": "00693449641329635795"
     },
     "user_tz": -60
    },
    "id": "IBasef09pm3W",
    "outputId": "ab7f4c94-493b-4d0c-cb0f-b3d4de6af943"
   },
   "outputs": [
    {
     "data": {
      "text/plain": [
       "3"
      ]
     },
     "execution_count": 31,
     "metadata": {},
     "output_type": "execute_result"
    }
   ],
   "source": [
    "z = a if a > b else b  # değişkene atayabilriiz bunu\n",
    "z"
   ]
  },
  {
   "cell_type": "code",
   "execution_count": null,
   "metadata": {
    "colab": {
     "base_uri": "https://localhost:8080/"
    },
    "executionInfo": {
     "elapsed": 327,
     "status": "ok",
     "timestamp": 1667414643399,
     "user": {
      "displayName": "F4033-Kadir",
      "userId": "00693449641329635795"
     },
     "user_tz": -60
    },
    "id": "Ih_T-niap5pK",
    "outputId": "4aeadc60-1309-4ff8-e6e6-b3f62587d65f"
   },
   "outputs": [
    {
     "data": {
      "text/plain": [
       "8"
      ]
     },
     "execution_count": 32,
     "metadata": {},
     "output_type": "execute_result"
    }
   ],
   "source": [
    "z = a**2 if a > b else a **3  # a beden büyükse karesini kücükse küpünü al\n",
    "z"
   ]
  },
  {
   "cell_type": "code",
   "execution_count": null,
   "metadata": {
    "colab": {
     "base_uri": "https://localhost:8080/"
    },
    "executionInfo": {
     "elapsed": 268,
     "status": "ok",
     "timestamp": 1667414879705,
     "user": {
      "displayName": "F4033-Kadir",
      "userId": "00693449641329635795"
     },
     "user_tz": -60
    },
    "id": "sUz7BBnMqE7X",
    "outputId": "3a12000f-f7b2-41be-ecb4-bfaf0a723329"
   },
   "outputs": [
    {
     "name": "stdout",
     "output_type": "stream",
     "text": [
      "43\n"
     ]
    }
   ],
   "source": [
    "# eşkenar ucgenin alanını hesaplayalım. domain knowledge: iç açılar 60a eşit\n",
    "# alan : (kök3 / 4) x ckare\n",
    "açı = 60\n",
    "c = 10\n",
    "alan = round(((3**(1/2) / 4) * c**2)) if açı==60 else \"bu bir eşkenar üçgen değildir\"\n",
    "print(alan)"
   ]
  },
  {
   "cell_type": "code",
   "execution_count": null,
   "metadata": {
    "colab": {
     "base_uri": "https://localhost:8080/"
    },
    "executionInfo": {
     "elapsed": 723,
     "status": "ok",
     "timestamp": 1667414983137,
     "user": {
      "displayName": "F4033-Kadir",
      "userId": "00693449641329635795"
     },
     "user_tz": -60
    },
    "id": "439Zq-fIqyuS",
    "outputId": "1aad5b3e-dd94-49b7-c89d-414f7513b775"
   },
   "outputs": [
    {
     "data": {
      "text/plain": [
       "4"
      ]
     },
     "execution_count": 36,
     "metadata": {},
     "output_type": "execute_result"
    }
   ],
   "source": [
    "a = 2\n",
    "b = 1\n",
    "# ne return edecekse onu 3 ile toplamak istiyorum\n",
    "z= 3 + (a if a<b else b)\n",
    "z"
   ]
  },
  {
   "cell_type": "code",
   "execution_count": null,
   "metadata": {
    "colab": {
     "base_uri": "https://localhost:8080/"
    },
    "executionInfo": {
     "elapsed": 17,
     "status": "ok",
     "timestamp": 1667423200117,
     "user": {
      "displayName": "F4033-Kadir",
      "userId": "00693449641329635795"
     },
     "user_tz": -60
    },
    "id": "bAZuBrcjKQmb",
    "outputId": "98d17f3a-d4e0-4770-9330-8f57f1fe2dcd"
   },
   "outputs": [
    {
     "data": {
      "text/plain": [
       "[1, 8, 9, 64, 25, 216]"
      ]
     },
     "execution_count": 1,
     "metadata": {},
     "output_type": "execute_result"
    }
   ],
   "source": [
    "# task: evenların karesini teklerin küpünü al\n",
    "my_list = [1, 2, 3, 4, 5, 6]\n",
    "[i ** 2 if i % 2 else i ** 3 for i in my_list]  # for kismi sonda olmmazsa hata"
   ]
  },
  {
   "cell_type": "code",
   "execution_count": null,
   "metadata": {
    "colab": {
     "base_uri": "https://localhost:8080/",
     "height": 37
    },
    "executionInfo": {
     "elapsed": 17,
     "status": "ok",
     "timestamp": 1667423205353,
     "user": {
      "displayName": "F4033-Kadir",
      "userId": "00693449641329635795"
     },
     "user_tz": -60
    },
    "id": "ab0EQgC-KC63",
    "outputId": "f266fed9-3fd5-403d-86ee-15a5f647ce82"
   },
   "outputs": [
    {
     "data": {
      "application/vnd.google.colaboratory.intrinsic+json": {
       "type": "string"
      },
      "text/plain": [
       "'A'"
      ]
     },
     "execution_count": 2,
     "metadata": {},
     "output_type": "execute_result"
    }
   ],
   "source": [
    "x = 90\n",
    "grade = \"A+\" if x >= 95 else \"A\" if x >= 90 else \"B+\" if x >= 85 else \"B\" if x >= 80 else \"C\" if x >= 70 else \"D\"\n",
    "grade"
   ]
  },
  {
   "cell_type": "code",
   "execution_count": null,
   "metadata": {
    "id": "0oCwKYglzWu1"
   },
   "outputs": [],
   "source": []
  },
  {
   "cell_type": "code",
   "execution_count": 1,
   "metadata": {
    "colab": {
     "base_uri": "https://localhost:8080/"
    },
    "executionInfo": {
     "elapsed": 10,
     "status": "ok",
     "timestamp": 1668188903071,
     "user": {
      "displayName": "F4033-Kadir",
      "userId": "00693449641329635795"
     },
     "user_tz": -60
    },
    "id": "evFphXhyzWrz",
    "outputId": "1e8ce69b-03b9-4628-d49d-ed82834901fe"
   },
   "outputs": [
    {
     "data": {
      "text/plain": [
       "-0.5404769890875526"
      ]
     },
     "execution_count": 1,
     "metadata": {},
     "output_type": "execute_result"
    }
   ],
   "source": [
    "import numpy as np\n",
    "np.random.randn()  # numpydaki random.randn sayıyı orta nokta alıp ondan kucuk ve buyuk degerler uretiyor.\n",
    "# her calistirdigimizda farklı deger cikarir \n"
   ]
  },
  {
   "cell_type": "code",
   "execution_count": 2,
   "metadata": {
    "colab": {
     "base_uri": "https://localhost:8080/",
     "height": 54
    },
    "executionInfo": {
     "elapsed": 6,
     "status": "ok",
     "timestamp": 1668188962910,
     "user": {
      "displayName": "F4033-Kadir",
      "userId": "00693449641329635795"
     },
     "user_tz": -60
    },
    "id": "F-6yqiLFzHSV",
    "outputId": "0f03f9cd-598f-4b05-fb8f-f3ee61a22497"
   },
   "outputs": [
    {
     "name": "stdout",
     "output_type": "stream",
     "text": [
      "0.43598300681452234\n"
     ]
    },
    {
     "data": {
      "application/vnd.google.colaboratory.intrinsic+json": {
       "type": "string"
      },
      "text/plain": [
       "'Between 0 and 1'"
      ]
     },
     "execution_count": 2,
     "metadata": {},
     "output_type": "execute_result"
    }
   ],
   "source": [
    "a = np.random.randn()\n",
    "print(a)\n",
    "\"Less than zero\" if a < 0 else \"Between 0 and 1\" if a>= 0 and a <=1 else \"Greater than 1\""
   ]
  },
  {
   "cell_type": "markdown",
   "metadata": {
    "id": "98hevNVPu7Jd"
   },
   "source": [
    "**LIST COMPREHENSION VE TERNARY OPERATIONı birleştirelim**"
   ]
  },
  {
   "cell_type": "code",
   "execution_count": null,
   "metadata": {
    "colab": {
     "base_uri": "https://localhost:8080/"
    },
    "executionInfo": {
     "elapsed": 299,
     "status": "ok",
     "timestamp": 1667416271784,
     "user": {
      "displayName": "F4033-Kadir",
      "userId": "00693449641329635795"
     },
     "user_tz": -60
    },
    "id": "QnHI_-wBrXgG",
    "outputId": "ebd4446e-24aa-487d-b194-3f02b4d38811"
   },
   "outputs": [
    {
     "name": "stdout",
     "output_type": "stream",
     "text": [
      "[1, 9, 25]\n"
     ]
    }
   ],
   "source": [
    "# listede sadece tek olan sayıların karelerini alıp toplayalım\n",
    "my_list = [1,2,3,4,5,6]\n",
    "\n",
    "# yol 1\n",
    "\n",
    "new_list = []\n",
    "\n",
    "for i in my_list:\n",
    "  if i%2:  # bu zaten True yani i%2 == 1 demek  \n",
    "    new_list.append(i**2)\n",
    "print(new_list)"
   ]
  },
  {
   "cell_type": "code",
   "execution_count": null,
   "metadata": {
    "colab": {
     "base_uri": "https://localhost:8080/"
    },
    "executionInfo": {
     "elapsed": 251,
     "status": "ok",
     "timestamp": 1667416425763,
     "user": {
      "displayName": "F4033-Kadir",
      "userId": "00693449641329635795"
     },
     "user_tz": -60
    },
    "id": "FB3YvIuYvd5K",
    "outputId": "b998197a-56e4-4018-99f5-8537b26faabd"
   },
   "outputs": [
    {
     "data": {
      "text/plain": [
       "[1, 9, 25]"
      ]
     },
     "execution_count": 58,
     "metadata": {},
     "output_type": "execute_result"
    }
   ],
   "source": [
    "# yol 2\n",
    "[i ** 2 for i in my_list if i%2]  # istersek sonuna else küpünü al deriz"
   ]
  },
  {
   "cell_type": "markdown",
   "metadata": {
    "id": "K9gxwjtgxWei"
   },
   "source": [
    "DURATION COMPARISON BETWEEN FOR LOOP AND LIST COMPREHENSION\n",
    "\n",
    "hangisi daha hızlı ölçelim"
   ]
  },
  {
   "cell_type": "code",
   "execution_count": null,
   "metadata": {
    "id": "dKgzDdWRzBKI"
   },
   "outputs": [],
   "source": [
    "# Bunun icin bir modul import edecegiz. zamanı ölçer bu\n",
    "from timeit import timeit"
   ]
  },
  {
   "cell_type": "code",
   "execution_count": null,
   "metadata": {
    "id": "DOsiAAfozBKJ",
    "outputId": "4ce1ffa7-06d9-4ae1-af98-cc3e1f967f91"
   },
   "outputs": [
    {
     "name": "stdout",
     "output_type": "stream",
     "text": [
      "list comprehension is 1.54 times faster than for loop\n"
     ]
    }
   ],
   "source": [
    "def for_loop():\n",
    "    result = []\n",
    "    for i in range(1000000):\n",
    "        result.append(i)\n",
    "    return result\n",
    "\n",
    "def list_comprehension():\n",
    "    return [i for i in range(1000000)]\n",
    "\n",
    "expSize = 100\n",
    "\n",
    "time1 = timeit(for_loop, number = expSize)\n",
    "time2 = timeit(list_comprehension, number = expSize)\n",
    "\n",
    "print(f\"list comprehension is {round(time1/time2, 2)} times faster than for loop\")"
   ]
  },
  {
   "cell_type": "markdown",
   "metadata": {
    "id": "OuJXQzRizBKK"
   },
   "source": [
    "PASSWORD GENERATOR"
   ]
  },
  {
   "cell_type": "code",
   "execution_count": 1,
   "metadata": {},
   "outputs": [],
   "source": [
    "import random"
   ]
  },
  {
   "cell_type": "code",
   "execution_count": 2,
   "metadata": {},
   "outputs": [
    {
     "data": {
      "text/plain": [
       "'h'"
      ]
     },
     "execution_count": 2,
     "metadata": {},
     "output_type": "execute_result"
    }
   ],
   "source": [
    "# random.randint() return random integer in range [a, b], including both end points \n",
    "# bz bu aralgi ascii degerlerine gore belirleyecegiz.\n",
    "# https://www.101computing.net/wp/wp-content/uploads/ASCII-Table.pdf\n",
    "\n",
    "# ord(\"A\") - chr(75)\n",
    "\n",
    "chr(random.randint(97,122))  # 97le 122 arası bir ascii value  üret ve bunu chr ile kucuk harfe cevir"
   ]
  },
  {
   "cell_type": "code",
   "execution_count": 3,
   "metadata": {},
   "outputs": [
    {
     "data": {
      "text/plain": [
       "'H'"
      ]
     },
     "execution_count": 3,
     "metadata": {},
     "output_type": "execute_result"
    }
   ],
   "source": [
    "chr(random.randint(65,90))  # 65 90 arası da büyük harfler var ascii tableda"
   ]
  },
  {
   "cell_type": "code",
   "execution_count": 4,
   "metadata": {},
   "outputs": [
    {
     "data": {
      "text/plain": [
       "'4'"
      ]
     },
     "execution_count": 4,
     "metadata": {},
     "output_type": "execute_result"
    }
   ],
   "source": [
    "chr(random.randint(48,57))  # 48-57 arası da sayılar"
   ]
  },
  {
   "cell_type": "code",
   "execution_count": 5,
   "metadata": {},
   "outputs": [
    {
     "data": {
      "text/plain": [
       "'('"
      ]
     },
     "execution_count": 5,
     "metadata": {},
     "output_type": "execute_result"
    }
   ],
   "source": [
    "chr(random.randint(33,47))  # bazı sembol ve işaretler"
   ]
  },
  {
   "cell_type": "code",
   "execution_count": 6,
   "metadata": {},
   "outputs": [
    {
     "data": {
      "text/plain": [
       "'?'"
      ]
     },
     "execution_count": 6,
     "metadata": {},
     "output_type": "execute_result"
    }
   ],
   "source": [
    "chr(random.randint(58,64))  # isaret ve sembol devamı"
   ]
  },
  {
   "cell_type": "code",
   "execution_count": 7,
   "metadata": {},
   "outputs": [
    {
     "data": {
      "text/plain": [
       "['T', 'Z', 'U']"
      ]
     },
     "execution_count": 7,
     "metadata": {},
     "output_type": "execute_result"
    }
   ],
   "source": [
    "# bunları toplayıp bir algoritmada kullanalım\n",
    "# 3 büyük 3 kücük harf 3 rakam 2 de ozel karakter iceren bir password olusturalim\n",
    "uppers = [chr(random.randint(65,90)) for i in range(3)]\n",
    "uppers"
   ]
  },
  {
   "cell_type": "code",
   "execution_count": 8,
   "metadata": {},
   "outputs": [
    {
     "data": {
      "text/plain": [
       "['h', 'f', 'j']"
      ]
     },
     "execution_count": 8,
     "metadata": {},
     "output_type": "execute_result"
    }
   ],
   "source": [
    "lowers = [chr(random.randint(97,122)) for i in range(3)]\n",
    "lowers"
   ]
  },
  {
   "cell_type": "code",
   "execution_count": 9,
   "metadata": {},
   "outputs": [
    {
     "data": {
      "text/plain": [
       "['9', '5', '2']"
      ]
     },
     "execution_count": 9,
     "metadata": {},
     "output_type": "execute_result"
    }
   ],
   "source": [
    "numbers = [chr(random.randint(48,57)) for i in range(3)]\n",
    "numbers"
   ]
  },
  {
   "cell_type": "code",
   "execution_count": 10,
   "metadata": {},
   "outputs": [
    {
     "data": {
      "text/plain": [
       "'$>'"
      ]
     },
     "execution_count": 10,
     "metadata": {},
     "output_type": "execute_result"
    }
   ],
   "source": [
    "chars = chr(random.randint(33,47))+chr(random.randint(58,64))\n",
    "chars"
   ]
  },
  {
   "cell_type": "code",
   "execution_count": 11,
   "metadata": {},
   "outputs": [
    {
     "data": {
      "text/plain": [
       "'952'"
      ]
     },
     "execution_count": 11,
     "metadata": {},
     "output_type": "execute_result"
    }
   ],
   "source": [
    "# list olan uppers, lowers, numbersi birleştirelm simdi join ile\n",
    "\"\".join(numbers)"
   ]
  },
  {
   "cell_type": "code",
   "execution_count": 12,
   "metadata": {},
   "outputs": [
    {
     "data": {
      "text/plain": [
       "'TZUhfj952$>'"
      ]
     },
     "execution_count": 12,
     "metadata": {},
     "output_type": "execute_result"
    }
   ],
   "source": [
    "password = \"\".join(uppers) + \"\".join(lowers) + \"\".join(numbers) +chars  # chars zaten str idi\n",
    "password"
   ]
  },
  {
   "cell_type": "code",
   "execution_count": 13,
   "metadata": {},
   "outputs": [
    {
     "data": {
      "text/plain": [
       "['T', 'Z', 'U', 'h', 'f', 'j', '9', '5', '2', '$', '>']"
      ]
     },
     "execution_count": 13,
     "metadata": {},
     "output_type": "execute_result"
    }
   ],
   "source": [
    "# daha güvenli yapmak icin bunları karistiralim bir de. yanyanan önce büyük sonra kucuk sonra rakam gelmesin\n",
    "# random.shuffle(). List ister shuffle: Shuffle list x in place, and return None.\n",
    "pass_list = list(password)\n",
    "pass_list"
   ]
  },
  {
   "cell_type": "code",
   "execution_count": 14,
   "metadata": {},
   "outputs": [
    {
     "data": {
      "text/plain": [
       "['U', '$', '5', 'Z', '>', 'T', 'j', 'h', 'f', '9', '2']"
      ]
     },
     "execution_count": 14,
     "metadata": {},
     "output_type": "execute_result"
    }
   ],
   "source": [
    "random.shuffle(pass_list)\n",
    "pass_list"
   ]
  },
  {
   "cell_type": "code",
   "execution_count": 15,
   "metadata": {},
   "outputs": [
    {
     "data": {
      "text/plain": [
       "'U$5Z>Tjhf92'"
      ]
     },
     "execution_count": 15,
     "metadata": {},
     "output_type": "execute_result"
    }
   ],
   "source": [
    "\"\".join(pass_list)  # tekrar str yapalım"
   ]
  },
  {
   "cell_type": "code",
   "execution_count": 16,
   "metadata": {},
   "outputs": [],
   "source": [
    "# karistirma isini fonsiyon yapalım\n",
    "\n",
    "def mix_it(password):\n",
    "    templist = list(password)\n",
    "    random.shuffle(templist)\n",
    "    return \"\".join(templist)"
   ]
  },
  {
   "cell_type": "code",
   "execution_count": 17,
   "metadata": {},
   "outputs": [
    {
     "data": {
      "text/plain": [
       "'TZUhfj952$>'"
      ]
     },
     "execution_count": 17,
     "metadata": {},
     "output_type": "execute_result"
    }
   ],
   "source": [
    "password"
   ]
  },
  {
   "cell_type": "code",
   "execution_count": 18,
   "metadata": {},
   "outputs": [
    {
     "name": "stdout",
     "output_type": "stream",
     "text": [
      "fZh9>Uj25$T\n"
     ]
    }
   ],
   "source": [
    "print(mix_it(password))"
   ]
  },
  {
   "cell_type": "code",
   "execution_count": null,
   "metadata": {},
   "outputs": [],
   "source": []
  }
 ],
 "metadata": {
  "accelerator": "GPU",
  "colab": {
   "collapsed_sections": [],
   "provenance": []
  },
  "gpuClass": "standard",
  "kernelspec": {
   "display_name": "Python 3 (ipykernel)",
   "language": "python",
   "name": "python3"
  },
  "language_info": {
   "codemirror_mode": {
    "name": "ipython",
    "version": 3
   },
   "file_extension": ".py",
   "mimetype": "text/x-python",
   "name": "python",
   "nbconvert_exporter": "python",
   "pygments_lexer": "ipython3",
   "version": "3.9.12"
  }
 },
 "nbformat": 4,
 "nbformat_minor": 4
}
